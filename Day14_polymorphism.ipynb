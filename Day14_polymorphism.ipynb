{
 "cells": [
  {
   "cell_type": "markdown",
   "id": "848f3662-da3c-43d1-8398-5fa38c728986",
   "metadata": {},
   "source": [
    "# Polymorphism"
   ]
  },
  {
   "cell_type": "code",
   "execution_count": 1,
   "id": "9b306fea-823d-488a-a845-ae9311075cb3",
   "metadata": {},
   "outputs": [],
   "source": [
    "def test(a,b):\n",
    "    return a+b"
   ]
  },
  {
   "cell_type": "code",
   "execution_count": 2,
   "id": "a46d8cdb-f2a9-48a1-984a-8837a7a69941",
   "metadata": {},
   "outputs": [
    {
     "data": {
      "text/plain": [
       "9"
      ]
     },
     "execution_count": 2,
     "metadata": {},
     "output_type": "execute_result"
    }
   ],
   "source": [
    "test(4,5) ## addition"
   ]
  },
  {
   "cell_type": "markdown",
   "id": "af08540e-b86e-4bbb-9a3c-d2bb87285143",
   "metadata": {},
   "source": [
    "test('hitesh ' , 'kumar') # concatination"
   ]
  },
  {
   "cell_type": "markdown",
   "id": "fc12c915-8ecc-4202-b3f4-1b41b2f740bc",
   "metadata": {},
   "source": [
    "one function iis having multiple characteristics iis called polymorphism\n"
   ]
  },
  {
   "cell_type": "code",
   "execution_count": 8,
   "id": "42944030-a7d8-4252-bd33-6549bc9f4699",
   "metadata": {},
   "outputs": [
    {
     "data": {
      "text/plain": [
       "[1, 2, 3, 4, 5, 6, 7, 8]"
      ]
     },
     "execution_count": 8,
     "metadata": {},
     "output_type": "execute_result"
    }
   ],
   "source": [
    "test([1,2,3,4],[5,6,7,8])"
   ]
  },
  {
   "cell_type": "code",
   "execution_count": 9,
   "id": "bfc6bd64-ecf2-4498-8b23-5bb0c141dac2",
   "metadata": {},
   "outputs": [],
   "source": [
    "class data_science:\n",
    "    def syllabus(self):\n",
    "        print('this is my method for data science syllabus')\n",
    "        \n",
    "        "
   ]
  },
  {
   "cell_type": "code",
   "execution_count": 10,
   "id": "9e8315e7-6b55-4d5a-8a9f-f42e0d9d22bb",
   "metadata": {},
   "outputs": [],
   "source": [
    "class web_dev:\n",
    "    def syllabus(self):\n",
    "        print('this is my method for web dev')"
   ]
  },
  {
   "cell_type": "code",
   "execution_count": 11,
   "id": "f30b1807-7b36-456f-82ec-ff688367e0e5",
   "metadata": {},
   "outputs": [],
   "source": [
    "def class_parcer(class_obj):\n",
    "    for i in class_obj:\n",
    "        i.syllabus()"
   ]
  },
  {
   "cell_type": "code",
   "execution_count": 12,
   "id": "0909800f-3195-48e8-a360-f3c4899f1f8d",
   "metadata": {},
   "outputs": [],
   "source": [
    "obj_data_science = data_science()"
   ]
  },
  {
   "cell_type": "code",
   "execution_count": 13,
   "id": "627a8348-d9a3-4038-b279-7d20411ac4cc",
   "metadata": {},
   "outputs": [],
   "source": [
    "obj_web_dev = web_dev()"
   ]
  },
  {
   "cell_type": "code",
   "execution_count": 14,
   "id": "9dae97f3-c139-4712-ae00-95515474bb97",
   "metadata": {},
   "outputs": [],
   "source": [
    "class_obj = [obj_data_science , obj_web_dev]"
   ]
  },
  {
   "cell_type": "code",
   "execution_count": 15,
   "id": "337e92dd-350a-4325-8ea5-f36a2b610465",
   "metadata": {},
   "outputs": [
    {
     "name": "stdout",
     "output_type": "stream",
     "text": [
      "this is my method for data science syllabus\n",
      "this is my method for web dev\n"
     ]
    }
   ],
   "source": [
    "class_parcer(class_obj)"
   ]
  },
  {
   "cell_type": "code",
   "execution_count": null,
   "id": "c5a66180-94f3-4edf-959e-3ed64085ef71",
   "metadata": {},
   "outputs": [],
   "source": []
  }
 ],
 "metadata": {
  "kernelspec": {
   "display_name": "Python 3 (ipykernel)",
   "language": "python",
   "name": "python3"
  },
  "language_info": {
   "codemirror_mode": {
    "name": "ipython",
    "version": 3
   },
   "file_extension": ".py",
   "mimetype": "text/x-python",
   "name": "python",
   "nbconvert_exporter": "python",
   "pygments_lexer": "ipython3",
   "version": "3.10.8"
  }
 },
 "nbformat": 4,
 "nbformat_minor": 5
}
