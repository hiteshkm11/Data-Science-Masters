{
 "cells": [
  {
   "cell_type": "markdown",
   "id": "69d3e221-e419-49e8-b71e-e2497b516b73",
   "metadata": {},
   "source": [
    "# Numpy"
   ]
  },
  {
   "cell_type": "code",
   "execution_count": null,
   "id": "25977ea8-045f-4af2-886a-b908e94abf35",
   "metadata": {},
   "outputs": [],
   "source": []
  },
  {
   "cell_type": "markdown",
   "id": "367fbcef-0561-4cd9-8e83-6f1a23118db6",
   "metadata": {},
   "source": [
    "Numpy is a package which is created primarily for array and matrics manipulation"
   ]
  },
  {
   "cell_type": "code",
   "execution_count": 1,
   "id": "66f0d814-2f8b-4340-9f77-6c14bef86b9c",
   "metadata": {},
   "outputs": [],
   "source": [
    "import numpy as np"
   ]
  },
  {
   "cell_type": "code",
   "execution_count": 2,
   "id": "24ea81ed-84a7-419c-8e30-abef310adf1f",
   "metadata": {},
   "outputs": [],
   "source": [
    "l = [1,2,3,4,5]"
   ]
  },
  {
   "cell_type": "code",
   "execution_count": 3,
   "id": "f261c2d7-5117-4e0f-8d12-ff66ca7a7dad",
   "metadata": {},
   "outputs": [],
   "source": [
    "#converting list into array\n",
    "arr = np.array(l)"
   ]
  },
  {
   "cell_type": "code",
   "execution_count": 4,
   "id": "076694e1-0976-4cc5-b42f-aa7b7cf61a08",
   "metadata": {},
   "outputs": [
    {
     "data": {
      "text/plain": [
       "numpy.ndarray"
      ]
     },
     "execution_count": 4,
     "metadata": {},
     "output_type": "execute_result"
    }
   ],
   "source": [
    "type(arr)"
   ]
  },
  {
   "cell_type": "code",
   "execution_count": 5,
   "id": "7def31c6-2e3e-4f37-b51d-3657f45251e2",
   "metadata": {},
   "outputs": [
    {
     "data": {
      "text/plain": [
       "array([1, 2, 3, 4, 5])"
      ]
     },
     "execution_count": 5,
     "metadata": {},
     "output_type": "execute_result"
    }
   ],
   "source": [
    "np.asarray(l)"
   ]
  },
  {
   "cell_type": "code",
   "execution_count": 6,
   "id": "9af5bd40-fa6c-47d4-b513-bbcea9b62577",
   "metadata": {},
   "outputs": [],
   "source": [
    "arr1 = np.array([[1,2,4],[3,5,6]])"
   ]
  },
  {
   "cell_type": "code",
   "execution_count": 7,
   "id": "b43c488a-72c8-410d-8dc9-9658ac4dde76",
   "metadata": {},
   "outputs": [
    {
     "data": {
      "text/plain": [
       "1"
      ]
     },
     "execution_count": 7,
     "metadata": {},
     "output_type": "execute_result"
    }
   ],
   "source": [
    "arr.ndim"
   ]
  },
  {
   "cell_type": "code",
   "execution_count": 8,
   "id": "79846ddf-3e8f-44ca-8a04-fbf4349617d4",
   "metadata": {},
   "outputs": [
    {
     "data": {
      "text/plain": [
       "2"
      ]
     },
     "execution_count": 8,
     "metadata": {},
     "output_type": "execute_result"
    }
   ],
   "source": [
    "arr1.ndim"
   ]
  },
  {
   "cell_type": "code",
   "execution_count": 9,
   "id": "cedf0a68-a6ec-47d8-b6d2-69fe785778ed",
   "metadata": {},
   "outputs": [
    {
     "data": {
      "text/plain": [
       "array([1, 2, 3, 4, 5])"
      ]
     },
     "execution_count": 9,
     "metadata": {},
     "output_type": "execute_result"
    }
   ],
   "source": [
    "arr"
   ]
  },
  {
   "cell_type": "code",
   "execution_count": 10,
   "id": "7c870846-a5a7-4e9a-b8b2-8c37d3ae1ca9",
   "metadata": {},
   "outputs": [
    {
     "data": {
      "text/plain": [
       "array([[1, 2, 4],\n",
       "       [3, 5, 6]])"
      ]
     },
     "execution_count": 10,
     "metadata": {},
     "output_type": "execute_result"
    }
   ],
   "source": [
    "arr1"
   ]
  },
  {
   "cell_type": "code",
   "execution_count": 11,
   "id": "e961ab15-fb75-4f54-856b-e620318cb583",
   "metadata": {},
   "outputs": [],
   "source": [
    "mat = np.matrix(l)"
   ]
  },
  {
   "cell_type": "code",
   "execution_count": 12,
   "id": "6b3729f7-48b6-4f01-bb30-e13e90d50975",
   "metadata": {},
   "outputs": [
    {
     "data": {
      "text/plain": [
       "array([1, 2, 3, 4, 5])"
      ]
     },
     "execution_count": 12,
     "metadata": {},
     "output_type": "execute_result"
    }
   ],
   "source": [
    "np.asanyarray(l)"
   ]
  },
  {
   "cell_type": "code",
   "execution_count": 13,
   "id": "67275661-8261-40f7-8ce3-fc39fc16ed0e",
   "metadata": {},
   "outputs": [
    {
     "data": {
      "text/plain": [
       "matrix([[1, 2, 3, 4, 5]])"
      ]
     },
     "execution_count": 13,
     "metadata": {},
     "output_type": "execute_result"
    }
   ],
   "source": [
    "np.asanyarray(mat)"
   ]
  },
  {
   "cell_type": "markdown",
   "id": "8a11c918-87a5-4428-a94a-4dedfd8d231c",
   "metadata": {},
   "source": [
    "matrix is a subclass of an array inside numpy "
   ]
  },
  {
   "cell_type": "code",
   "execution_count": 14,
   "id": "0a51ecf8-1e81-4312-90dd-f3dd3249c25d",
   "metadata": {},
   "outputs": [
    {
     "data": {
      "text/plain": [
       "array([1, 2, 3, 4, 5])"
      ]
     },
     "execution_count": 14,
     "metadata": {},
     "output_type": "execute_result"
    }
   ],
   "source": [
    "arr"
   ]
  },
  {
   "cell_type": "code",
   "execution_count": 15,
   "id": "1d9b30ac-0e3a-47cc-92fd-1a049862c506",
   "metadata": {},
   "outputs": [],
   "source": [
    "a = arr"
   ]
  },
  {
   "cell_type": "code",
   "execution_count": 16,
   "id": "2375ab1a-8524-41b9-b48d-087b0394426b",
   "metadata": {},
   "outputs": [
    {
     "data": {
      "text/plain": [
       "array([1, 2, 3, 4, 5])"
      ]
     },
     "execution_count": 16,
     "metadata": {},
     "output_type": "execute_result"
    }
   ],
   "source": [
    "a"
   ]
  },
  {
   "cell_type": "code",
   "execution_count": 17,
   "id": "0c8e98b2-5c56-4551-acd5-795bba3494ff",
   "metadata": {},
   "outputs": [
    {
     "data": {
      "text/plain": [
       "array([1, 2, 3, 4, 5])"
      ]
     },
     "execution_count": 17,
     "metadata": {},
     "output_type": "execute_result"
    }
   ],
   "source": [
    "arr"
   ]
  },
  {
   "cell_type": "code",
   "execution_count": 18,
   "id": "a60895d9-751e-4459-9c8e-1d44fcb1290c",
   "metadata": {},
   "outputs": [],
   "source": [
    "arr[0] = 100 ## reassigning values using operatorrs"
   ]
  },
  {
   "cell_type": "code",
   "execution_count": 19,
   "id": "22ee69d5-a523-4692-b3af-bc946f5392ef",
   "metadata": {},
   "outputs": [
    {
     "data": {
      "text/plain": [
       "array([100,   2,   3,   4,   5])"
      ]
     },
     "execution_count": 19,
     "metadata": {},
     "output_type": "execute_result"
    }
   ],
   "source": [
    "arr"
   ]
  },
  {
   "cell_type": "code",
   "execution_count": 20,
   "id": "ac996112-369d-4c6c-acc2-ec642d7d5499",
   "metadata": {},
   "outputs": [
    {
     "data": {
      "text/plain": [
       "array([100,   2,   3,   4,   5])"
      ]
     },
     "execution_count": 20,
     "metadata": {},
     "output_type": "execute_result"
    }
   ],
   "source": [
    "a"
   ]
  },
  {
   "cell_type": "markdown",
   "id": "66f1e710-5d31-4d75-a227-e45fe2d2c68a",
   "metadata": {},
   "source": [
    "### this is called shallow copy operation \n",
    "a shallow copy creates a duplicate of the original element (whether simple or complex ) but does not \n",
    "make copies of any elements referenced by the original element"
   ]
  },
  {
   "cell_type": "code",
   "execution_count": 21,
   "id": "1d453f80-42ca-4241-b875-a3ab931b25b7",
   "metadata": {},
   "outputs": [],
   "source": [
    "b = np.copy(arr)"
   ]
  },
  {
   "cell_type": "code",
   "execution_count": 22,
   "id": "7575538d-3b88-41b6-b809-f14500773dab",
   "metadata": {},
   "outputs": [
    {
     "data": {
      "text/plain": [
       "array([100,   2,   3,   4,   5])"
      ]
     },
     "execution_count": 22,
     "metadata": {},
     "output_type": "execute_result"
    }
   ],
   "source": [
    "b"
   ]
  },
  {
   "cell_type": "code",
   "execution_count": 23,
   "id": "8cd50c3b-b614-491a-8f83-6e0a13fa76c2",
   "metadata": {},
   "outputs": [],
   "source": [
    "b[0] = 234"
   ]
  },
  {
   "cell_type": "code",
   "execution_count": 24,
   "id": "e2844e69-89b5-4122-a3d8-f88fef043572",
   "metadata": {},
   "outputs": [
    {
     "data": {
      "text/plain": [
       "array([234,   2,   3,   4,   5])"
      ]
     },
     "execution_count": 24,
     "metadata": {},
     "output_type": "execute_result"
    }
   ],
   "source": [
    "b"
   ]
  },
  {
   "cell_type": "code",
   "execution_count": 25,
   "id": "ba99f643-ec8b-4727-b49b-dedc41ed8df4",
   "metadata": {},
   "outputs": [
    {
     "data": {
      "text/plain": [
       "array([100,   2,   3,   4,   5])"
      ]
     },
     "execution_count": 25,
     "metadata": {},
     "output_type": "execute_result"
    }
   ],
   "source": [
    "arr"
   ]
  },
  {
   "cell_type": "code",
   "execution_count": null,
   "id": "81e68ffa-f9b6-47b0-9a0a-77877243bcd6",
   "metadata": {},
   "outputs": [],
   "source": []
  },
  {
   "cell_type": "code",
   "execution_count": 26,
   "id": "ef26304c-dd71-45d3-9ad2-05c33d0477ae",
   "metadata": {},
   "outputs": [
    {
     "data": {
      "text/plain": [
       "array([[ True, False, False],\n",
       "       [False,  True, False],\n",
       "       [False, False,  True]])"
      ]
     },
     "execution_count": 26,
     "metadata": {},
     "output_type": "execute_result"
    }
   ],
   "source": [
    "np.fromfunction(lambda i,j : i==j, (3,3))"
   ]
  },
  {
   "cell_type": "code",
   "execution_count": 27,
   "id": "3de88a08-1fef-468a-be7e-70363d245996",
   "metadata": {},
   "outputs": [
    {
     "data": {
      "text/plain": [
       "array([[0., 0., 0.],\n",
       "       [0., 1., 2.],\n",
       "       [0., 2., 4.]])"
      ]
     },
     "execution_count": 27,
     "metadata": {},
     "output_type": "execute_result"
    }
   ],
   "source": [
    "np.fromfunction(lambda i,j : i*j, (3,3))"
   ]
  },
  {
   "cell_type": "code",
   "execution_count": 28,
   "id": "5625ff13-30ac-43aa-b717-0876df3f21b7",
   "metadata": {},
   "outputs": [
    {
     "data": {
      "text/plain": [
       "[0, 1, 4, 9, 16]"
      ]
     },
     "execution_count": 28,
     "metadata": {},
     "output_type": "execute_result"
    }
   ],
   "source": [
    "list(i*i for i in range(5))"
   ]
  },
  {
   "cell_type": "code",
   "execution_count": 29,
   "id": "9edd45de-11e5-4dc4-b70b-fe274c564322",
   "metadata": {},
   "outputs": [],
   "source": [
    "iterable = (i*i for i in range(5))"
   ]
  },
  {
   "cell_type": "code",
   "execution_count": 30,
   "id": "262e9467-6b55-4e39-89c7-3e37439ab9a9",
   "metadata": {},
   "outputs": [
    {
     "data": {
      "text/plain": [
       "array([ 0.,  1.,  4.,  9., 16.])"
      ]
     },
     "execution_count": 30,
     "metadata": {},
     "output_type": "execute_result"
    }
   ],
   "source": [
    "np.fromiter(iterable , float)  ## using fromiter we can able to generate the array"
   ]
  },
  {
   "cell_type": "code",
   "execution_count": 31,
   "id": "390a6d8f-8548-44e3-98f2-8fe7c0b98e06",
   "metadata": {},
   "outputs": [
    {
     "data": {
      "text/plain": [
       "array([23., 24., 25.])"
      ]
     },
     "execution_count": 31,
     "metadata": {},
     "output_type": "execute_result"
    }
   ],
   "source": [
    "np.fromstring('23 24 25' , sep =' ') # from string to array"
   ]
  },
  {
   "cell_type": "code",
   "execution_count": 32,
   "id": "9fe61c84-8007-41f5-a86c-2c039d4a37ec",
   "metadata": {},
   "outputs": [
    {
     "data": {
      "text/plain": [
       "array([23., 24., 25.])"
      ]
     },
     "execution_count": 32,
     "metadata": {},
     "output_type": "execute_result"
    }
   ],
   "source": [
    "np.fromstring('23,24, 25' , sep =',')"
   ]
  },
  {
   "cell_type": "code",
   "execution_count": 33,
   "id": "862ced8b-da11-4ebe-8b09-28bcca0918fd",
   "metadata": {},
   "outputs": [
    {
     "data": {
      "text/plain": [
       "array([100,   2,   3,   4,   5])"
      ]
     },
     "execution_count": 33,
     "metadata": {},
     "output_type": "execute_result"
    }
   ],
   "source": [
    "arr"
   ]
  },
  {
   "cell_type": "code",
   "execution_count": 34,
   "id": "706bbda1-741d-4344-982b-35bb53ab3e04",
   "metadata": {},
   "outputs": [
    {
     "data": {
      "text/plain": [
       "array([[1, 2, 4],\n",
       "       [3, 5, 6]])"
      ]
     },
     "execution_count": 34,
     "metadata": {},
     "output_type": "execute_result"
    }
   ],
   "source": [
    "arr1"
   ]
  },
  {
   "cell_type": "code",
   "execution_count": 35,
   "id": "f9179d88-f3c0-49f7-b9ed-118d3c8c7aae",
   "metadata": {},
   "outputs": [
    {
     "data": {
      "text/plain": [
       "1"
      ]
     },
     "execution_count": 35,
     "metadata": {},
     "output_type": "execute_result"
    }
   ],
   "source": [
    "arr.ndim"
   ]
  },
  {
   "cell_type": "code",
   "execution_count": 36,
   "id": "8cd60cbe-b9c3-458d-a14e-560a9c4ca2c6",
   "metadata": {},
   "outputs": [
    {
     "data": {
      "text/plain": [
       "2"
      ]
     },
     "execution_count": 36,
     "metadata": {},
     "output_type": "execute_result"
    }
   ],
   "source": [
    "arr1.ndim"
   ]
  },
  {
   "cell_type": "code",
   "execution_count": 37,
   "id": "603ab138-92a8-431f-af7c-cb407dbbf3cb",
   "metadata": {},
   "outputs": [
    {
     "data": {
      "text/plain": [
       "5"
      ]
     },
     "execution_count": 37,
     "metadata": {},
     "output_type": "execute_result"
    }
   ],
   "source": [
    "arr.size ## will give us no of elements inside arr"
   ]
  },
  {
   "cell_type": "code",
   "execution_count": 38,
   "id": "29dd9fd5-49d8-4242-93bb-5e28b647c36c",
   "metadata": {},
   "outputs": [
    {
     "data": {
      "text/plain": [
       "6"
      ]
     },
     "execution_count": 38,
     "metadata": {},
     "output_type": "execute_result"
    }
   ],
   "source": [
    "arr1.size"
   ]
  },
  {
   "cell_type": "code",
   "execution_count": 39,
   "id": "e9cb6b2d-0e56-458e-ad99-1f1db0f8d6f0",
   "metadata": {},
   "outputs": [
    {
     "data": {
      "text/plain": [
       "(2, 3)"
      ]
     },
     "execution_count": 39,
     "metadata": {},
     "output_type": "execute_result"
    }
   ],
   "source": [
    "arr1.shape"
   ]
  },
  {
   "cell_type": "code",
   "execution_count": 40,
   "id": "06f14a17-da5f-47e9-b9de-5aded01c6ff5",
   "metadata": {},
   "outputs": [
    {
     "data": {
      "text/plain": [
       "dtype('int64')"
      ]
     },
     "execution_count": 40,
     "metadata": {},
     "output_type": "execute_result"
    }
   ],
   "source": [
    "arr1.dtype"
   ]
  },
  {
   "cell_type": "code",
   "execution_count": null,
   "id": "9dd59a33-7db1-4ebf-b5fb-9b42c6975048",
   "metadata": {},
   "outputs": [],
   "source": []
  },
  {
   "cell_type": "markdown",
   "id": "8e8a18f8-6807-43bb-bdd8-7b1193cb6318",
   "metadata": {},
   "source": [
    "# Numpy functionalities"
   ]
  },
  {
   "cell_type": "code",
   "execution_count": 41,
   "id": "c9245386-7b28-4a0c-a262-b81b0bb10369",
   "metadata": {},
   "outputs": [
    {
     "data": {
      "text/plain": [
       "[0, 1, 2, 3, 4]"
      ]
     },
     "execution_count": 41,
     "metadata": {},
     "output_type": "execute_result"
    }
   ],
   "source": [
    "list(range(5)) "
   ]
  },
  {
   "cell_type": "code",
   "execution_count": 42,
   "id": "05ccde40-736f-47cd-9b75-78120ffacb02",
   "metadata": {},
   "outputs": [
    {
     "data": {
      "text/plain": [
       "[0, 1, 2, 3, 4, 5, 6, 7, 8, 9]"
      ]
     },
     "execution_count": 42,
     "metadata": {},
     "output_type": "execute_result"
    }
   ],
   "source": [
    "list(range(0,10)) "
   ]
  },
  {
   "cell_type": "markdown",
   "id": "9b03591c-2132-4fba-b186-fa1a1ff06085",
   "metadata": {},
   "source": [
    "range function always consider integer values"
   ]
  },
  {
   "cell_type": "code",
   "execution_count": 43,
   "id": "f9b3b1dc-dc32-4b4a-80b5-c8ad47c26c27",
   "metadata": {},
   "outputs": [
    {
     "ename": "TypeError",
     "evalue": "'float' object cannot be interpreted as an integer",
     "output_type": "error",
     "traceback": [
      "\u001b[0;31m---------------------------------------------------------------------------\u001b[0m",
      "\u001b[0;31mTypeError\u001b[0m                                 Traceback (most recent call last)",
      "Cell \u001b[0;32mIn[43], line 1\u001b[0m\n\u001b[0;32m----> 1\u001b[0m \u001b[38;5;28mlist\u001b[39m(\u001b[38;5;28;43mrange\u001b[39;49m\u001b[43m(\u001b[49m\u001b[38;5;241;43m0.4\u001b[39;49m\u001b[43m,\u001b[49m\u001b[38;5;241;43m10.4\u001b[39;49m\u001b[43m)\u001b[49m) \n",
      "\u001b[0;31mTypeError\u001b[0m: 'float' object cannot be interpreted as an integer"
     ]
    }
   ],
   "source": [
    "list(range(0.4,10.4)) "
   ]
  },
  {
   "cell_type": "code",
   "execution_count": null,
   "id": "bf89c945-12cc-483a-a42a-7e487cad3b1c",
   "metadata": {},
   "outputs": [],
   "source": []
  },
  {
   "cell_type": "markdown",
   "id": "a39e6e40-dfaa-4f94-b2ef-7cb796f84068",
   "metadata": {},
   "source": [
    "in numpy it can take flloat values as well with step size"
   ]
  },
  {
   "cell_type": "code",
   "execution_count": 44,
   "id": "b62ba085-3761-44b6-b494-ff621b830e4b",
   "metadata": {},
   "outputs": [
    {
     "data": {
      "text/plain": [
       "array([0.4, 1.4, 2.4, 3.4, 4.4, 5.4, 6.4, 7.4, 8.4, 9.4])"
      ]
     },
     "execution_count": 44,
     "metadata": {},
     "output_type": "execute_result"
    }
   ],
   "source": [
    "np.arange(.4,10.4) "
   ]
  },
  {
   "cell_type": "code",
   "execution_count": 45,
   "id": "907337ad-765b-40fc-9c51-cdc1bfdabf8b",
   "metadata": {},
   "outputs": [
    {
     "data": {
      "text/plain": [
       "array([ 0.4,  0.8,  1.2,  1.6,  2. ,  2.4,  2.8,  3.2,  3.6,  4. ,  4.4,\n",
       "        4.8,  5.2,  5.6,  6. ,  6.4,  6.8,  7.2,  7.6,  8. ,  8.4,  8.8,\n",
       "        9.2,  9.6, 10. ])"
      ]
     },
     "execution_count": 45,
     "metadata": {},
     "output_type": "execute_result"
    }
   ],
   "source": [
    "np.arange(.4,10.4,0.4)  # here we can give stepsize"
   ]
  },
  {
   "cell_type": "code",
   "execution_count": 46,
   "id": "4b94497e-43c8-4caa-9e10-2a50e53dc1df",
   "metadata": {},
   "outputs": [
    {
     "data": {
      "text/plain": [
       "[0.4,\n",
       " 0.8,\n",
       " 1.2000000000000002,\n",
       " 1.6,\n",
       " 2.0,\n",
       " 2.4,\n",
       " 2.8000000000000003,\n",
       " 3.2,\n",
       " 3.6,\n",
       " 4.0,\n",
       " 4.4,\n",
       " 4.800000000000001,\n",
       " 5.200000000000001,\n",
       " 5.6000000000000005,\n",
       " 6.000000000000001,\n",
       " 6.4,\n",
       " 6.800000000000001,\n",
       " 7.200000000000001,\n",
       " 7.6000000000000005,\n",
       " 8.0,\n",
       " 8.4,\n",
       " 8.8,\n",
       " 9.200000000000001,\n",
       " 9.600000000000001,\n",
       " 10.000000000000002]"
      ]
     },
     "execution_count": 46,
     "metadata": {},
     "output_type": "execute_result"
    }
   ],
   "source": [
    "list(np.arange(.4,10.4,0.4)) # converting array to list "
   ]
  },
  {
   "cell_type": "code",
   "execution_count": 47,
   "id": "f62c8ea8-b40c-4986-8d3f-e7544c775616",
   "metadata": {},
   "outputs": [
    {
     "data": {
      "text/plain": [
       "array([1.        , 1.21052632, 1.42105263, 1.63157895, 1.84210526,\n",
       "       2.05263158, 2.26315789, 2.47368421, 2.68421053, 2.89473684,\n",
       "       3.10526316, 3.31578947, 3.52631579, 3.73684211, 3.94736842,\n",
       "       4.15789474, 4.36842105, 4.57894737, 4.78947368, 5.        ])"
      ]
     },
     "execution_count": 47,
     "metadata": {},
     "output_type": "execute_result"
    }
   ],
   "source": [
    "np.linspace(1,5,20)"
   ]
  },
  {
   "cell_type": "code",
   "execution_count": 48,
   "id": "b7fb1976-0893-4916-87d1-58a4c375e110",
   "metadata": {},
   "outputs": [
    {
     "data": {
      "text/plain": [
       "array([1.00000000e+01, 2.78255940e+01, 7.74263683e+01, 2.15443469e+02,\n",
       "       5.99484250e+02, 1.66810054e+03, 4.64158883e+03, 1.29154967e+04,\n",
       "       3.59381366e+04, 1.00000000e+05])"
      ]
     },
     "execution_count": 48,
     "metadata": {},
     "output_type": "execute_result"
    }
   ],
   "source": [
    "np.logspace(1,5,10)"
   ]
  },
  {
   "cell_type": "code",
   "execution_count": 49,
   "id": "9ea10bac-31ea-40de-bb7a-7d6e9458033f",
   "metadata": {},
   "outputs": [
    {
     "data": {
      "text/plain": [
       "array([ 2.        ,  2.72158   ,  3.70349885,  5.0396842 ,  6.85795186,\n",
       "        9.33223232, 12.69920842, 17.28095582, 23.51575188, 32.        ])"
      ]
     },
     "execution_count": 49,
     "metadata": {},
     "output_type": "execute_result"
    }
   ],
   "source": [
    "np.logspace(1,5,10,base=2)"
   ]
  },
  {
   "cell_type": "code",
   "execution_count": 50,
   "id": "497c151b-1c7e-422a-bd08-03cce8d8d948",
   "metadata": {},
   "outputs": [
    {
     "data": {
      "text/plain": [
       "array([0., 0., 0., 0., 0.])"
      ]
     },
     "execution_count": 50,
     "metadata": {},
     "output_type": "execute_result"
    }
   ],
   "source": [
    "np.zeros(5)"
   ]
  },
  {
   "cell_type": "code",
   "execution_count": 51,
   "id": "9035ef4b-1cd3-4078-9229-5c6547c7393c",
   "metadata": {},
   "outputs": [
    {
     "data": {
      "text/plain": [
       "array([[0., 0., 0., 0.],\n",
       "       [0., 0., 0., 0.],\n",
       "       [0., 0., 0., 0.]])"
      ]
     },
     "execution_count": 51,
     "metadata": {},
     "output_type": "execute_result"
    }
   ],
   "source": [
    "np.zeros((3,4))"
   ]
  },
  {
   "cell_type": "code",
   "execution_count": 52,
   "id": "99379993-a970-4fb0-86ae-9ead3894b7c2",
   "metadata": {},
   "outputs": [
    {
     "data": {
      "text/plain": [
       "array([[[0., 0.],\n",
       "        [0., 0.],\n",
       "        [0., 0.],\n",
       "        [0., 0.]],\n",
       "\n",
       "       [[0., 0.],\n",
       "        [0., 0.],\n",
       "        [0., 0.],\n",
       "        [0., 0.]],\n",
       "\n",
       "       [[0., 0.],\n",
       "        [0., 0.],\n",
       "        [0., 0.],\n",
       "        [0., 0.]]])"
      ]
     },
     "execution_count": 52,
     "metadata": {},
     "output_type": "execute_result"
    }
   ],
   "source": [
    "np.zeros((3,4,2)) # 4 rows 2 colms 3 matrices"
   ]
  },
  {
   "cell_type": "code",
   "execution_count": 53,
   "id": "d6874055-7cd5-40d4-98b5-77a462e4deab",
   "metadata": {},
   "outputs": [
    {
     "data": {
      "text/plain": [
       "array([[[[0., 0., 0.],\n",
       "         [0., 0., 0.]],\n",
       "\n",
       "        [[0., 0., 0.],\n",
       "         [0., 0., 0.]],\n",
       "\n",
       "        [[0., 0., 0.],\n",
       "         [0., 0., 0.]],\n",
       "\n",
       "        [[0., 0., 0.],\n",
       "         [0., 0., 0.]]],\n",
       "\n",
       "\n",
       "       [[[0., 0., 0.],\n",
       "         [0., 0., 0.]],\n",
       "\n",
       "        [[0., 0., 0.],\n",
       "         [0., 0., 0.]],\n",
       "\n",
       "        [[0., 0., 0.],\n",
       "         [0., 0., 0.]],\n",
       "\n",
       "        [[0., 0., 0.],\n",
       "         [0., 0., 0.]]],\n",
       "\n",
       "\n",
       "       [[[0., 0., 0.],\n",
       "         [0., 0., 0.]],\n",
       "\n",
       "        [[0., 0., 0.],\n",
       "         [0., 0., 0.]],\n",
       "\n",
       "        [[0., 0., 0.],\n",
       "         [0., 0., 0.]],\n",
       "\n",
       "        [[0., 0., 0.],\n",
       "         [0., 0., 0.]]]])"
      ]
     },
     "execution_count": 53,
     "metadata": {},
     "output_type": "execute_result"
    }
   ],
   "source": [
    "np.zeros((3,4,2,3))"
   ]
  },
  {
   "cell_type": "code",
   "execution_count": 54,
   "id": "9edaff18-1309-4830-81a4-4693b3e0f496",
   "metadata": {},
   "outputs": [
    {
     "data": {
      "text/plain": [
       "array([1., 1., 1., 1., 1.])"
      ]
     },
     "execution_count": 54,
     "metadata": {},
     "output_type": "execute_result"
    }
   ],
   "source": [
    "np.ones(5)"
   ]
  },
  {
   "cell_type": "code",
   "execution_count": 55,
   "id": "644b2f52-2bbc-4b5d-b7a6-70af178b45bc",
   "metadata": {},
   "outputs": [],
   "source": [
    "arr2 = np.ones((3,4))"
   ]
  },
  {
   "cell_type": "code",
   "execution_count": 56,
   "id": "4b86bb19-512a-4307-ba4d-d09ab6d45766",
   "metadata": {},
   "outputs": [
    {
     "data": {
      "text/plain": [
       "array([[6., 6., 6., 6.],\n",
       "       [6., 6., 6., 6.],\n",
       "       [6., 6., 6., 6.]])"
      ]
     },
     "execution_count": 56,
     "metadata": {},
     "output_type": "execute_result"
    }
   ],
   "source": [
    "arr2+5"
   ]
  },
  {
   "cell_type": "code",
   "execution_count": 57,
   "id": "d01dbf50-7549-4e60-b93d-d55ba0b2bdb6",
   "metadata": {},
   "outputs": [
    {
     "data": {
      "text/plain": [
       "array([[4., 4., 4., 4.],\n",
       "       [4., 4., 4., 4.],\n",
       "       [4., 4., 4., 4.]])"
      ]
     },
     "execution_count": 57,
     "metadata": {},
     "output_type": "execute_result"
    }
   ],
   "source": [
    "arr2*4"
   ]
  },
  {
   "cell_type": "code",
   "execution_count": 58,
   "id": "5ece9a3f-13f2-4082-be1e-03dab974f043",
   "metadata": {},
   "outputs": [
    {
     "data": {
      "text/plain": [
       "array([[4., 4., 4., 4.],\n",
       "       [4., 4., 4., 4.],\n",
       "       [4., 4., 4., 4.]])"
      ]
     },
     "execution_count": 58,
     "metadata": {},
     "output_type": "execute_result"
    }
   ],
   "source": [
    "np.empty((3,4))"
   ]
  },
  {
   "cell_type": "code",
   "execution_count": 59,
   "id": "b24c1107-330e-418f-993c-4f84dd6f4eb3",
   "metadata": {},
   "outputs": [
    {
     "data": {
      "text/plain": [
       "array([[1., 0., 0., 0., 0.],\n",
       "       [0., 1., 0., 0., 0.],\n",
       "       [0., 0., 1., 0., 0.],\n",
       "       [0., 0., 0., 1., 0.],\n",
       "       [0., 0., 0., 0., 1.]])"
      ]
     },
     "execution_count": 59,
     "metadata": {},
     "output_type": "execute_result"
    }
   ],
   "source": [
    "np.eye(5)"
   ]
  },
  {
   "cell_type": "code",
   "execution_count": 60,
   "id": "78ec2772-f670-4d3f-9c8e-c419baa5e783",
   "metadata": {},
   "outputs": [],
   "source": [
    "arr3 = np.eye(5)"
   ]
  },
  {
   "cell_type": "code",
   "execution_count": 61,
   "id": "9be6289e-9c31-4d6d-a0a9-53e3f1316059",
   "metadata": {},
   "outputs": [
    {
     "data": {
      "text/plain": [
       "array([[1., 0., 0., 0., 0.],\n",
       "       [0., 1., 0., 0., 0.],\n",
       "       [0., 0., 1., 0., 0.],\n",
       "       [0., 0., 0., 1., 0.],\n",
       "       [0., 0., 0., 0., 1.]])"
      ]
     },
     "execution_count": 61,
     "metadata": {},
     "output_type": "execute_result"
    }
   ],
   "source": [
    "arr3"
   ]
  },
  {
   "cell_type": "code",
   "execution_count": 62,
   "id": "5b02b9bd-2322-48db-9270-802e199a35fd",
   "metadata": {},
   "outputs": [],
   "source": [
    "#converting matrix into data frame\n",
    "import pandas as pd"
   ]
  },
  {
   "cell_type": "code",
   "execution_count": 63,
   "id": "e7e8b064-8e5c-4dd1-9ba2-87d3036d028f",
   "metadata": {},
   "outputs": [
    {
     "data": {
      "text/html": [
       "<div>\n",
       "<style scoped>\n",
       "    .dataframe tbody tr th:only-of-type {\n",
       "        vertical-align: middle;\n",
       "    }\n",
       "\n",
       "    .dataframe tbody tr th {\n",
       "        vertical-align: top;\n",
       "    }\n",
       "\n",
       "    .dataframe thead th {\n",
       "        text-align: right;\n",
       "    }\n",
       "</style>\n",
       "<table border=\"1\" class=\"dataframe\">\n",
       "  <thead>\n",
       "    <tr style=\"text-align: right;\">\n",
       "      <th></th>\n",
       "      <th>0</th>\n",
       "      <th>1</th>\n",
       "      <th>2</th>\n",
       "      <th>3</th>\n",
       "      <th>4</th>\n",
       "    </tr>\n",
       "  </thead>\n",
       "  <tbody>\n",
       "    <tr>\n",
       "      <th>0</th>\n",
       "      <td>1.0</td>\n",
       "      <td>0.0</td>\n",
       "      <td>0.0</td>\n",
       "      <td>0.0</td>\n",
       "      <td>0.0</td>\n",
       "    </tr>\n",
       "    <tr>\n",
       "      <th>1</th>\n",
       "      <td>0.0</td>\n",
       "      <td>1.0</td>\n",
       "      <td>0.0</td>\n",
       "      <td>0.0</td>\n",
       "      <td>0.0</td>\n",
       "    </tr>\n",
       "    <tr>\n",
       "      <th>2</th>\n",
       "      <td>0.0</td>\n",
       "      <td>0.0</td>\n",
       "      <td>1.0</td>\n",
       "      <td>0.0</td>\n",
       "      <td>0.0</td>\n",
       "    </tr>\n",
       "    <tr>\n",
       "      <th>3</th>\n",
       "      <td>0.0</td>\n",
       "      <td>0.0</td>\n",
       "      <td>0.0</td>\n",
       "      <td>1.0</td>\n",
       "      <td>0.0</td>\n",
       "    </tr>\n",
       "    <tr>\n",
       "      <th>4</th>\n",
       "      <td>0.0</td>\n",
       "      <td>0.0</td>\n",
       "      <td>0.0</td>\n",
       "      <td>0.0</td>\n",
       "      <td>1.0</td>\n",
       "    </tr>\n",
       "  </tbody>\n",
       "</table>\n",
       "</div>"
      ],
      "text/plain": [
       "     0    1    2    3    4\n",
       "0  1.0  0.0  0.0  0.0  0.0\n",
       "1  0.0  1.0  0.0  0.0  0.0\n",
       "2  0.0  0.0  1.0  0.0  0.0\n",
       "3  0.0  0.0  0.0  1.0  0.0\n",
       "4  0.0  0.0  0.0  0.0  1.0"
      ]
     },
     "execution_count": 63,
     "metadata": {},
     "output_type": "execute_result"
    }
   ],
   "source": [
    "pd.DataFrame(arr3)"
   ]
  },
  {
   "cell_type": "code",
   "execution_count": 64,
   "id": "4e760655-47b1-4c8f-a635-ebf7e6689a47",
   "metadata": {},
   "outputs": [
    {
     "data": {
      "text/plain": [
       "array([[0.96291072, 0.11177337, 0.73863637],\n",
       "       [0.74475191, 0.87371036, 0.26542578]])"
      ]
     },
     "execution_count": 64,
     "metadata": {},
     "output_type": "execute_result"
    }
   ],
   "source": [
    "np.random.rand(2,3) ## here mean and std can be anything"
   ]
  },
  {
   "cell_type": "code",
   "execution_count": 65,
   "id": "d0539a3f-0a53-4c1b-83f1-496603642a2a",
   "metadata": {},
   "outputs": [
    {
     "data": {
      "text/plain": [
       "array([[ 2.21396165, -0.89801208, -1.29952862],\n",
       "       [ 0.10398259, -0.39474062,  1.32656439]])"
      ]
     },
     "execution_count": 65,
     "metadata": {},
     "output_type": "execute_result"
    }
   ],
   "source": [
    "np.random.randn(2,3) # it will gives the data in a standard normal distribuion i,e mean = 0 std=1"
   ]
  },
  {
   "cell_type": "code",
   "execution_count": 66,
   "id": "4df151ee-e412-41ce-939c-7f8a316601ab",
   "metadata": {},
   "outputs": [],
   "source": [
    "arr4 = np.random.randint(1,5 ,(3,4))"
   ]
  },
  {
   "cell_type": "code",
   "execution_count": 67,
   "id": "5152be87-613c-4b8f-91b7-d15ba307e1f3",
   "metadata": {},
   "outputs": [
    {
     "data": {
      "text/plain": [
       "array([[4, 4, 2, 4],\n",
       "       [1, 4, 4, 1],\n",
       "       [4, 1, 3, 4]])"
      ]
     },
     "execution_count": 67,
     "metadata": {},
     "output_type": "execute_result"
    }
   ],
   "source": [
    "arr4"
   ]
  },
  {
   "cell_type": "code",
   "execution_count": 68,
   "id": "f87271ac-1e7a-42e1-8070-8ee96820bd1e",
   "metadata": {},
   "outputs": [
    {
     "data": {
      "text/plain": [
       "12"
      ]
     },
     "execution_count": 68,
     "metadata": {},
     "output_type": "execute_result"
    }
   ],
   "source": [
    "arr4.size"
   ]
  },
  {
   "cell_type": "code",
   "execution_count": 69,
   "id": "956c2e77-a788-4b0e-8f87-23254471d1b7",
   "metadata": {},
   "outputs": [
    {
     "data": {
      "text/plain": [
       "(3, 4)"
      ]
     },
     "execution_count": 69,
     "metadata": {},
     "output_type": "execute_result"
    }
   ],
   "source": [
    "arr4.shape"
   ]
  },
  {
   "cell_type": "code",
   "execution_count": 70,
   "id": "6f4a9e6a-eb63-4ec0-9f90-bd5cd14d588b",
   "metadata": {},
   "outputs": [
    {
     "data": {
      "text/plain": [
       "array([[4, 4],\n",
       "       [2, 4],\n",
       "       [1, 4],\n",
       "       [4, 1],\n",
       "       [4, 1],\n",
       "       [3, 4]])"
      ]
     },
     "execution_count": 70,
     "metadata": {},
     "output_type": "execute_result"
    }
   ],
   "source": [
    "arr4.reshape(6,2)"
   ]
  },
  {
   "cell_type": "code",
   "execution_count": 71,
   "id": "c56772e3-d9d1-4bcd-9a7c-4be26b643453",
   "metadata": {},
   "outputs": [
    {
     "data": {
      "text/plain": [
       "array([[4, 4, 2, 4, 1, 4],\n",
       "       [4, 1, 4, 1, 3, 4]])"
      ]
     },
     "execution_count": 71,
     "metadata": {},
     "output_type": "execute_result"
    }
   ],
   "source": [
    "arr4.reshape(2,6)"
   ]
  },
  {
   "cell_type": "code",
   "execution_count": 72,
   "id": "09dd8755-b51b-43df-b7bd-14a4a7e49aed",
   "metadata": {},
   "outputs": [
    {
     "data": {
      "text/plain": [
       "array([[4, 4, 2],\n",
       "       [4, 1, 4],\n",
       "       [4, 1, 4],\n",
       "       [1, 3, 4]])"
      ]
     },
     "execution_count": 72,
     "metadata": {},
     "output_type": "execute_result"
    }
   ],
   "source": [
    "arr4.reshape(4,-1)"
   ]
  },
  {
   "cell_type": "code",
   "execution_count": 73,
   "id": "f0c89b11-a606-4ce9-a624-c742c63f9b22",
   "metadata": {},
   "outputs": [
    {
     "data": {
      "text/plain": [
       "array([[4, 4, 2],\n",
       "       [4, 1, 4],\n",
       "       [4, 1, 4],\n",
       "       [1, 3, 4]])"
      ]
     },
     "execution_count": 73,
     "metadata": {},
     "output_type": "execute_result"
    }
   ],
   "source": [
    "arr4.reshape(4,-1234235)"
   ]
  },
  {
   "cell_type": "code",
   "execution_count": 74,
   "id": "00f8dffb-d85e-4bf6-9127-b31101904eef",
   "metadata": {},
   "outputs": [
    {
     "data": {
      "text/plain": [
       "array([[[4, 4, 2],\n",
       "        [4, 1, 4]],\n",
       "\n",
       "       [[4, 1, 4],\n",
       "        [1, 3, 4]]])"
      ]
     },
     "execution_count": 74,
     "metadata": {},
     "output_type": "execute_result"
    }
   ],
   "source": [
    "arr4.reshape(2,2,3)"
   ]
  },
  {
   "cell_type": "code",
   "execution_count": 75,
   "id": "3983c2e3-66eb-4fb3-b9c5-949c6f723307",
   "metadata": {},
   "outputs": [
    {
     "data": {
      "text/plain": [
       "array([[[[[[4]]],\n",
       "\n",
       "\n",
       "         [[[4]]],\n",
       "\n",
       "\n",
       "         [[[2]]]],\n",
       "\n",
       "\n",
       "\n",
       "        [[[[4]]],\n",
       "\n",
       "\n",
       "         [[[1]]],\n",
       "\n",
       "\n",
       "         [[[4]]]]],\n",
       "\n",
       "\n",
       "\n",
       "\n",
       "       [[[[[4]]],\n",
       "\n",
       "\n",
       "         [[[1]]],\n",
       "\n",
       "\n",
       "         [[[4]]]],\n",
       "\n",
       "\n",
       "\n",
       "        [[[[1]]],\n",
       "\n",
       "\n",
       "         [[[3]]],\n",
       "\n",
       "\n",
       "         [[[4]]]]]])"
      ]
     },
     "execution_count": 75,
     "metadata": {},
     "output_type": "execute_result"
    }
   ],
   "source": [
    "arr4.reshape(2,2,3,1,1,1)"
   ]
  },
  {
   "cell_type": "code",
   "execution_count": 76,
   "id": "cf58da29-e03a-406b-a29f-88137f5df49e",
   "metadata": {},
   "outputs": [],
   "source": [
    "arr5 = np.random.randint(1,10,(5,6))"
   ]
  },
  {
   "cell_type": "code",
   "execution_count": 77,
   "id": "53783389-684d-4161-aaaf-b22bf07d79cb",
   "metadata": {},
   "outputs": [
    {
     "data": {
      "text/plain": [
       "array([[1, 8, 6, 8, 3, 8],\n",
       "       [9, 6, 4, 2, 1, 4],\n",
       "       [4, 1, 3, 5, 6, 3],\n",
       "       [5, 2, 8, 7, 4, 4],\n",
       "       [2, 2, 5, 1, 3, 9]])"
      ]
     },
     "execution_count": 77,
     "metadata": {},
     "output_type": "execute_result"
    }
   ],
   "source": [
    "arr5"
   ]
  },
  {
   "cell_type": "code",
   "execution_count": 78,
   "id": "6dc7a864-daf8-4888-acf3-13bed6bc03a1",
   "metadata": {},
   "outputs": [
    {
     "data": {
      "text/plain": [
       "array([[False, False, False, False, False, False],\n",
       "       [ True, False, False, False, False, False],\n",
       "       [False, False, False, False, False, False],\n",
       "       [False, False, False, False, False, False],\n",
       "       [False, False, False, False, False,  True]])"
      ]
     },
     "execution_count": 78,
     "metadata": {},
     "output_type": "execute_result"
    }
   ],
   "source": [
    "arr5 > 8"
   ]
  },
  {
   "cell_type": "code",
   "execution_count": 79,
   "id": "5a6cb5c2-2a52-4f19-8097-ab430907deeb",
   "metadata": {},
   "outputs": [
    {
     "data": {
      "text/plain": [
       "array([9, 9])"
      ]
     },
     "execution_count": 79,
     "metadata": {},
     "output_type": "execute_result"
    }
   ],
   "source": [
    "arr5[arr5 > 8]"
   ]
  },
  {
   "cell_type": "code",
   "execution_count": 80,
   "id": "a1cb6b48-584f-4e8d-aac4-2c98d9b6dfc0",
   "metadata": {},
   "outputs": [
    {
     "data": {
      "text/plain": [
       "array([[1, 8, 6, 8, 3, 8],\n",
       "       [9, 6, 4, 2, 1, 4],\n",
       "       [4, 1, 3, 5, 6, 3],\n",
       "       [5, 2, 8, 7, 4, 4],\n",
       "       [2, 2, 5, 1, 3, 9]])"
      ]
     },
     "execution_count": 80,
     "metadata": {},
     "output_type": "execute_result"
    }
   ],
   "source": [
    "arr5"
   ]
  },
  {
   "cell_type": "code",
   "execution_count": 81,
   "id": "b37bdb35-2743-47a3-8568-c717811cee24",
   "metadata": {},
   "outputs": [
    {
     "data": {
      "text/plain": [
       "array([1, 8, 6, 8, 3, 8])"
      ]
     },
     "execution_count": 81,
     "metadata": {},
     "output_type": "execute_result"
    }
   ],
   "source": [
    "#extracting data\n",
    "arr5[0]"
   ]
  },
  {
   "cell_type": "code",
   "execution_count": 82,
   "id": "455684ac-fc7f-4d3b-94c7-3ccf057da7e9",
   "metadata": {},
   "outputs": [
    {
     "data": {
      "text/plain": [
       "array([1, 8])"
      ]
     },
     "execution_count": 82,
     "metadata": {},
     "output_type": "execute_result"
    }
   ],
   "source": [
    "arr5[0,[0,1]]"
   ]
  },
  {
   "cell_type": "code",
   "execution_count": 83,
   "id": "6437bbd2-0d06-44e8-aaf1-9e770c97aa1e",
   "metadata": {},
   "outputs": [
    {
     "data": {
      "text/plain": [
       "array([[3, 5],\n",
       "       [8, 7]])"
      ]
     },
     "execution_count": 83,
     "metadata": {},
     "output_type": "execute_result"
    }
   ],
   "source": [
    "arr5[2:4, [2,3]]"
   ]
  },
  {
   "cell_type": "code",
   "execution_count": 84,
   "id": "d772489f-b036-4a8e-8d3c-bcea89306c4f",
   "metadata": {},
   "outputs": [],
   "source": [
    "# Slicing and indexing "
   ]
  },
  {
   "cell_type": "code",
   "execution_count": 85,
   "id": "37f3e979-97bf-4220-b63f-7e3d6a4aaf0f",
   "metadata": {},
   "outputs": [],
   "source": [
    "arr6 = np.random.randint(1,3, (3,3))\n",
    "arr7 = np.random.randint(1,3, (3,3))"
   ]
  },
  {
   "cell_type": "code",
   "execution_count": 86,
   "id": "dfddc961-363a-46ff-b3fc-7c962150429d",
   "metadata": {},
   "outputs": [
    {
     "data": {
      "text/plain": [
       "array([[1, 1, 1],\n",
       "       [2, 1, 1],\n",
       "       [1, 2, 2]])"
      ]
     },
     "execution_count": 86,
     "metadata": {},
     "output_type": "execute_result"
    }
   ],
   "source": [
    "arr6"
   ]
  },
  {
   "cell_type": "code",
   "execution_count": 87,
   "id": "187eaa83-6718-4117-81cb-4860b3d015ba",
   "metadata": {},
   "outputs": [
    {
     "data": {
      "text/plain": [
       "array([[2, 2, 1],\n",
       "       [1, 1, 2],\n",
       "       [2, 2, 2]])"
      ]
     },
     "execution_count": 87,
     "metadata": {},
     "output_type": "execute_result"
    }
   ],
   "source": [
    "arr7"
   ]
  },
  {
   "cell_type": "code",
   "execution_count": 88,
   "id": "05c08f9f-f4d7-4983-829b-3131b1bd63fe",
   "metadata": {},
   "outputs": [
    {
     "data": {
      "text/plain": [
       "array([[3, 3, 2],\n",
       "       [3, 2, 3],\n",
       "       [3, 4, 4]])"
      ]
     },
     "execution_count": 88,
     "metadata": {},
     "output_type": "execute_result"
    }
   ],
   "source": [
    "arr6 + arr7"
   ]
  },
  {
   "cell_type": "code",
   "execution_count": 89,
   "id": "32b94e5e-a4b4-4102-828a-b4bd729104d5",
   "metadata": {},
   "outputs": [
    {
     "data": {
      "text/plain": [
       "array([[-1, -1,  0],\n",
       "       [ 1,  0, -1],\n",
       "       [-1,  0,  0]])"
      ]
     },
     "execution_count": 89,
     "metadata": {},
     "output_type": "execute_result"
    }
   ],
   "source": [
    "arr6 - arr7"
   ]
  },
  {
   "cell_type": "code",
   "execution_count": 90,
   "id": "604322b1-3c86-4d6d-a06e-321bd4591ea9",
   "metadata": {},
   "outputs": [
    {
     "data": {
      "text/plain": [
       "array([[2, 2, 1],\n",
       "       [2, 1, 2],\n",
       "       [2, 4, 4]])"
      ]
     },
     "execution_count": 90,
     "metadata": {},
     "output_type": "execute_result"
    }
   ],
   "source": [
    "arr6 * arr7 # it was done by index wise"
   ]
  },
  {
   "cell_type": "code",
   "execution_count": 91,
   "id": "35e47fab-6b64-4a2a-ac70-73690144901d",
   "metadata": {},
   "outputs": [
    {
     "data": {
      "text/plain": [
       "array([[5, 5, 5],\n",
       "       [7, 7, 6],\n",
       "       [8, 8, 9]])"
      ]
     },
     "execution_count": 91,
     "metadata": {},
     "output_type": "execute_result"
    }
   ],
   "source": [
    "arr6@arr7 # normal matrix multiplication"
   ]
  },
  {
   "cell_type": "code",
   "execution_count": 92,
   "id": "3e5f1e54-6491-401b-935d-1e4d7c49c259",
   "metadata": {},
   "outputs": [
    {
     "data": {
      "text/plain": [
       "array([[0.5, 0.5, 1. ],\n",
       "       [2. , 1. , 0.5],\n",
       "       [0.5, 1. , 1. ]])"
      ]
     },
     "execution_count": 92,
     "metadata": {},
     "output_type": "execute_result"
    }
   ],
   "source": [
    "arr6/arr7"
   ]
  },
  {
   "cell_type": "code",
   "execution_count": 93,
   "id": "918adf9f-67db-46de-903d-0702549b9c74",
   "metadata": {},
   "outputs": [
    {
     "name": "stderr",
     "output_type": "stream",
     "text": [
      "/tmp/ipykernel_78/1351048935.py:1: RuntimeWarning: divide by zero encountered in divide\n",
      "  arr6/0\n"
     ]
    },
    {
     "data": {
      "text/plain": [
       "array([[inf, inf, inf],\n",
       "       [inf, inf, inf],\n",
       "       [inf, inf, inf]])"
      ]
     },
     "execution_count": 93,
     "metadata": {},
     "output_type": "execute_result"
    }
   ],
   "source": [
    "arr6/0"
   ]
  },
  {
   "cell_type": "markdown",
   "id": "f15a5f21-a003-430c-a4f8-cf8a9bde2d43",
   "metadata": {},
   "source": [
    "# Numpy - Broadcasting"
   ]
  },
  {
   "cell_type": "code",
   "execution_count": 94,
   "id": "a9698455-c83c-4804-9c3f-f5bbbaa99b82",
   "metadata": {},
   "outputs": [],
   "source": [
    "arr8 = np.zeros((3,4))"
   ]
  },
  {
   "cell_type": "code",
   "execution_count": 95,
   "id": "039403cd-98e6-41e2-9976-71c38ac80149",
   "metadata": {},
   "outputs": [
    {
     "data": {
      "text/plain": [
       "array([[0., 0., 0., 0.],\n",
       "       [0., 0., 0., 0.],\n",
       "       [0., 0., 0., 0.]])"
      ]
     },
     "execution_count": 95,
     "metadata": {},
     "output_type": "execute_result"
    }
   ],
   "source": [
    "arr8"
   ]
  },
  {
   "cell_type": "code",
   "execution_count": 96,
   "id": "ff211fab-f583-45de-bed6-0aa6490b2098",
   "metadata": {},
   "outputs": [
    {
     "data": {
      "text/plain": [
       "array([[5., 5., 5., 5.],\n",
       "       [5., 5., 5., 5.],\n",
       "       [5., 5., 5., 5.]])"
      ]
     },
     "execution_count": 96,
     "metadata": {},
     "output_type": "execute_result"
    }
   ],
   "source": [
    "arr8+5 # here iam broadcasting this 5 to all"
   ]
  },
  {
   "cell_type": "code",
   "execution_count": 97,
   "id": "813f549b-98ff-4830-996b-ce3248ff16d0",
   "metadata": {},
   "outputs": [],
   "source": [
    "a = np.array([1,2,3,4])"
   ]
  },
  {
   "cell_type": "code",
   "execution_count": 98,
   "id": "be425e4d-a4d5-4f76-a1be-093404eeeb93",
   "metadata": {},
   "outputs": [
    {
     "data": {
      "text/plain": [
       "array([[1., 2., 3., 4.],\n",
       "       [1., 2., 3., 4.],\n",
       "       [1., 2., 3., 4.]])"
      ]
     },
     "execution_count": 98,
     "metadata": {},
     "output_type": "execute_result"
    }
   ],
   "source": [
    "arr8+a"
   ]
  },
  {
   "cell_type": "code",
   "execution_count": 99,
   "id": "9c6d4028-8881-4a05-9528-0967a9cbba75",
   "metadata": {},
   "outputs": [],
   "source": [
    "b= np.array([3,4,5])"
   ]
  },
  {
   "cell_type": "code",
   "execution_count": 100,
   "id": "cb2df95d-95d2-4adb-83b6-6476e1109342",
   "metadata": {},
   "outputs": [
    {
     "ename": "ValueError",
     "evalue": "operands could not be broadcast together with shapes (3,4) (3,) ",
     "output_type": "error",
     "traceback": [
      "\u001b[0;31m---------------------------------------------------------------------------\u001b[0m",
      "\u001b[0;31mValueError\u001b[0m                                Traceback (most recent call last)",
      "Cell \u001b[0;32mIn[100], line 1\u001b[0m\n\u001b[0;32m----> 1\u001b[0m \u001b[43marr8\u001b[49m\u001b[38;5;241;43m+\u001b[39;49m\u001b[43mb\u001b[49m\n",
      "\u001b[0;31mValueError\u001b[0m: operands could not be broadcast together with shapes (3,4) (3,) "
     ]
    }
   ],
   "source": [
    "arr8+b"
   ]
  },
  {
   "cell_type": "code",
   "execution_count": 101,
   "id": "c8905c4b-4218-4d0a-8c49-38aab40acc1d",
   "metadata": {},
   "outputs": [],
   "source": [
    "b= np.array([[3,4,5]]) # rotating the array"
   ]
  },
  {
   "cell_type": "code",
   "execution_count": 102,
   "id": "341cb01b-6b8e-4772-9d3d-0fc2b622be56",
   "metadata": {},
   "outputs": [],
   "source": [
    "arr9 =arr8+b.T"
   ]
  },
  {
   "cell_type": "code",
   "execution_count": 103,
   "id": "d0583d61-d7d8-44c0-ad5c-ea9c679e6f66",
   "metadata": {},
   "outputs": [
    {
     "data": {
      "text/plain": [
       "array([[3],\n",
       "       [4],\n",
       "       [5]])"
      ]
     },
     "execution_count": 103,
     "metadata": {},
     "output_type": "execute_result"
    }
   ],
   "source": [
    "b.T"
   ]
  },
  {
   "cell_type": "code",
   "execution_count": 104,
   "id": "7706a662-8663-4d4b-89da-0a4c8752e8c7",
   "metadata": {},
   "outputs": [
    {
     "data": {
      "text/plain": [
       "array([[3., 3., 3., 3.],\n",
       "       [4., 4., 4., 4.],\n",
       "       [5., 5., 5., 5.]])"
      ]
     },
     "execution_count": 104,
     "metadata": {},
     "output_type": "execute_result"
    }
   ],
   "source": [
    "arr9"
   ]
  },
  {
   "cell_type": "code",
   "execution_count": 105,
   "id": "86b74150-ae24-46b5-98e5-a70a149e4b02",
   "metadata": {},
   "outputs": [
    {
     "data": {
      "text/plain": [
       "array([[1.73205081, 1.73205081, 1.73205081, 1.73205081],\n",
       "       [2.        , 2.        , 2.        , 2.        ],\n",
       "       [2.23606798, 2.23606798, 2.23606798, 2.23606798]])"
      ]
     },
     "execution_count": 105,
     "metadata": {},
     "output_type": "execute_result"
    }
   ],
   "source": [
    "np.sqrt(arr9)"
   ]
  },
  {
   "cell_type": "code",
   "execution_count": 106,
   "id": "f817becd-d0d0-4cb2-9299-b7d2427d66a2",
   "metadata": {},
   "outputs": [
    {
     "data": {
      "text/plain": [
       "array([[0.47712125, 0.47712125, 0.47712125, 0.47712125],\n",
       "       [0.60205999, 0.60205999, 0.60205999, 0.60205999],\n",
       "       [0.69897   , 0.69897   , 0.69897   , 0.69897   ]])"
      ]
     },
     "execution_count": 106,
     "metadata": {},
     "output_type": "execute_result"
    }
   ],
   "source": [
    "np.log10(arr9)"
   ]
  },
  {
   "cell_type": "code",
   "execution_count": 107,
   "id": "76afdead-6e5d-46b5-918d-a14c40c9f29e",
   "metadata": {},
   "outputs": [
    {
     "data": {
      "text/plain": [
       "array([[ 20.08553692,  20.08553692,  20.08553692,  20.08553692],\n",
       "       [ 54.59815003,  54.59815003,  54.59815003,  54.59815003],\n",
       "       [148.4131591 , 148.4131591 , 148.4131591 , 148.4131591 ]])"
      ]
     },
     "execution_count": 107,
     "metadata": {},
     "output_type": "execute_result"
    }
   ],
   "source": [
    "np.exp(arr9)"
   ]
  },
  {
   "cell_type": "code",
   "execution_count": 108,
   "id": "83887e8f-bbeb-49a0-9b70-bb94d5a93ec0",
   "metadata": {},
   "outputs": [
    {
     "data": {
      "text/plain": [
       "3.0"
      ]
     },
     "execution_count": 108,
     "metadata": {},
     "output_type": "execute_result"
    }
   ],
   "source": [
    "np.min(arr9)"
   ]
  },
  {
   "cell_type": "code",
   "execution_count": 109,
   "id": "d8094d83-48b8-45d7-8df6-8034b7352290",
   "metadata": {},
   "outputs": [
    {
     "data": {
      "text/plain": [
       "5.0"
      ]
     },
     "execution_count": 109,
     "metadata": {},
     "output_type": "execute_result"
    }
   ],
   "source": [
    "np.max(arr9)"
   ]
  },
  {
   "cell_type": "markdown",
   "id": "d69f106e-6d9c-47ff-ad25-6f24910789e8",
   "metadata": {},
   "source": [
    "# Numpy functions"
   ]
  },
  {
   "cell_type": "code",
   "execution_count": 110,
   "id": "d14cde83-0f4c-489e-b788-963964af5c49",
   "metadata": {},
   "outputs": [],
   "source": [
    "# Numpy - array manipulation\n"
   ]
  },
  {
   "cell_type": "code",
   "execution_count": 111,
   "id": "d157a589-f64b-475e-ac5a-2f2fe8d2a09c",
   "metadata": {},
   "outputs": [],
   "source": [
    "array = np.random.randint(1,10 ,(4,4))"
   ]
  },
  {
   "cell_type": "code",
   "execution_count": 112,
   "id": "b3e1e8ef-d4d3-487c-9e86-536d52cc856a",
   "metadata": {},
   "outputs": [
    {
     "data": {
      "text/plain": [
       "array([[3, 3, 8, 6],\n",
       "       [2, 1, 5, 6],\n",
       "       [1, 3, 6, 9],\n",
       "       [9, 3, 9, 4]])"
      ]
     },
     "execution_count": 112,
     "metadata": {},
     "output_type": "execute_result"
    }
   ],
   "source": [
    "array"
   ]
  },
  {
   "cell_type": "code",
   "execution_count": 113,
   "id": "f7a4445e-ba0c-4179-b1cd-e29f2abf7d8d",
   "metadata": {},
   "outputs": [
    {
     "data": {
      "text/plain": [
       "array([[3, 3],\n",
       "       [8, 6],\n",
       "       [2, 1],\n",
       "       [5, 6],\n",
       "       [1, 3],\n",
       "       [6, 9],\n",
       "       [9, 3],\n",
       "       [9, 4]])"
      ]
     },
     "execution_count": 113,
     "metadata": {},
     "output_type": "execute_result"
    }
   ],
   "source": [
    "array.reshape(8,2)"
   ]
  },
  {
   "cell_type": "code",
   "execution_count": 114,
   "id": "263ea6c8-cd00-4536-867d-b0178b46a94d",
   "metadata": {},
   "outputs": [
    {
     "data": {
      "text/plain": [
       "array([[3, 3, 8, 6],\n",
       "       [2, 1, 5, 6],\n",
       "       [1, 3, 6, 9],\n",
       "       [9, 3, 9, 4]])"
      ]
     },
     "execution_count": 114,
     "metadata": {},
     "output_type": "execute_result"
    }
   ],
   "source": [
    "array"
   ]
  },
  {
   "cell_type": "code",
   "execution_count": 115,
   "id": "4f4e2f08-d8e0-4258-89ef-d31c0beac851",
   "metadata": {},
   "outputs": [
    {
     "data": {
      "text/plain": [
       "array([[3, 2, 1, 9],\n",
       "       [3, 1, 3, 3],\n",
       "       [8, 5, 6, 9],\n",
       "       [6, 6, 9, 4]])"
      ]
     },
     "execution_count": 115,
     "metadata": {},
     "output_type": "execute_result"
    }
   ],
   "source": [
    "array.T ## matrix rotation"
   ]
  },
  {
   "cell_type": "code",
   "execution_count": 116,
   "id": "724f0815-79e3-424d-b090-20c12f84a033",
   "metadata": {},
   "outputs": [
    {
     "data": {
      "text/plain": [
       "array([3, 3, 8, 6, 2, 1, 5, 6, 1, 3, 6, 9, 9, 3, 9, 4])"
      ]
     },
     "execution_count": 116,
     "metadata": {},
     "output_type": "execute_result"
    }
   ],
   "source": [
    "array.flatten()"
   ]
  },
  {
   "cell_type": "code",
   "execution_count": 117,
   "id": "bf1448f2-e97b-48d2-8cbb-126a1d10911d",
   "metadata": {},
   "outputs": [
    {
     "data": {
      "text/plain": [
       "array([[3, 3, 8, 6],\n",
       "       [2, 1, 5, 6],\n",
       "       [1, 3, 6, 9],\n",
       "       [9, 3, 9, 4]])"
      ]
     },
     "execution_count": 117,
     "metadata": {},
     "output_type": "execute_result"
    }
   ],
   "source": [
    "array"
   ]
  },
  {
   "cell_type": "code",
   "execution_count": 118,
   "id": "10c8f685-092a-448a-a93a-df12e862871d",
   "metadata": {},
   "outputs": [
    {
     "data": {
      "text/plain": [
       "array([[[3, 3, 8, 6]],\n",
       "\n",
       "       [[2, 1, 5, 6]],\n",
       "\n",
       "       [[1, 3, 6, 9]],\n",
       "\n",
       "       [[9, 3, 9, 4]]])"
      ]
     },
     "execution_count": 118,
     "metadata": {},
     "output_type": "execute_result"
    }
   ],
   "source": [
    "np.expand_dims(array , axis=1) # expanded to 3 dimension"
   ]
  },
  {
   "cell_type": "code",
   "execution_count": 119,
   "id": "b5c39629-0609-45a2-8ea7-200f4729fe7d",
   "metadata": {},
   "outputs": [
    {
     "data": {
      "text/plain": [
       "array([[[3, 3, 8, 6],\n",
       "        [2, 1, 5, 6],\n",
       "        [1, 3, 6, 9],\n",
       "        [9, 3, 9, 4]]])"
      ]
     },
     "execution_count": 119,
     "metadata": {},
     "output_type": "execute_result"
    }
   ],
   "source": [
    "np.expand_dims(array , axis=0)"
   ]
  },
  {
   "cell_type": "code",
   "execution_count": 120,
   "id": "444c9277-f0ca-4cc6-b3d3-83da9dac4664",
   "metadata": {},
   "outputs": [],
   "source": [
    "data = np.array([[1] , [2] , [3]])"
   ]
  },
  {
   "cell_type": "code",
   "execution_count": 121,
   "id": "a64d1962-bb4d-471a-a480-307252dbe11d",
   "metadata": {},
   "outputs": [
    {
     "data": {
      "text/plain": [
       "array([1, 2, 3])"
      ]
     },
     "execution_count": 121,
     "metadata": {},
     "output_type": "execute_result"
    }
   ],
   "source": [
    "np.squeeze(data) # it will squeeze the 3 dim to 1 dim"
   ]
  },
  {
   "cell_type": "code",
   "execution_count": 122,
   "id": "0ca29e2e-cb04-4441-8f74-f1af32f3ee97",
   "metadata": {},
   "outputs": [
    {
     "data": {
      "text/plain": [
       "array([1, 1, 2, 2, 3, 3])"
      ]
     },
     "execution_count": 122,
     "metadata": {},
     "output_type": "execute_result"
    }
   ],
   "source": [
    "np.repeat(data , 2)"
   ]
  },
  {
   "cell_type": "code",
   "execution_count": 123,
   "id": "0d5f3cc9-135d-424b-ba9f-80a975d6ddc5",
   "metadata": {},
   "outputs": [
    {
     "data": {
      "text/plain": [
       "array([1, 1, 1, 1, 2, 2, 2, 2, 3, 3, 3, 3])"
      ]
     },
     "execution_count": 123,
     "metadata": {},
     "output_type": "execute_result"
    }
   ],
   "source": [
    "np.repeat(data , 4)"
   ]
  },
  {
   "cell_type": "code",
   "execution_count": 124,
   "id": "b2dccee2-91d8-4c94-ac33-90394961c8ec",
   "metadata": {},
   "outputs": [
    {
     "data": {
      "text/plain": [
       "array([[1],\n",
       "       [2],\n",
       "       [3]])"
      ]
     },
     "execution_count": 124,
     "metadata": {},
     "output_type": "execute_result"
    }
   ],
   "source": [
    "np.roll(data , 3)"
   ]
  },
  {
   "cell_type": "code",
   "execution_count": 125,
   "id": "6da7832c-07a0-45e1-8b39-2a16ef1ceb4f",
   "metadata": {},
   "outputs": [
    {
     "data": {
      "text/plain": [
       "array([[2],\n",
       "       [3],\n",
       "       [1]])"
      ]
     },
     "execution_count": 125,
     "metadata": {},
     "output_type": "execute_result"
    }
   ],
   "source": [
    "np.roll(data , 2)"
   ]
  },
  {
   "cell_type": "code",
   "execution_count": 126,
   "id": "715e7a0f-33fe-4183-9656-d08cdb8d6edb",
   "metadata": {},
   "outputs": [
    {
     "data": {
      "text/plain": [
       "array([[1, 0, 0, 0],\n",
       "       [0, 2, 0, 0],\n",
       "       [0, 0, 3, 0],\n",
       "       [0, 0, 0, 4]])"
      ]
     },
     "execution_count": 126,
     "metadata": {},
     "output_type": "execute_result"
    }
   ],
   "source": [
    "np.diag(np.array([1,2,3,4]))"
   ]
  },
  {
   "cell_type": "code",
   "execution_count": 127,
   "id": "81f7db83-0fdf-4161-a9d6-2ae0563129f2",
   "metadata": {},
   "outputs": [],
   "source": [
    "#Numpy - Binary operations."
   ]
  },
  {
   "cell_type": "code",
   "execution_count": 128,
   "id": "f93345fa-c15b-4fed-a2ed-962c5d123bfb",
   "metadata": {},
   "outputs": [],
   "source": [
    "array1 = np.random.randint(1,10 , (3,4))\n",
    "array2 = np.random.randint(1,10 , (3,4))"
   ]
  },
  {
   "cell_type": "code",
   "execution_count": 129,
   "id": "f2a2a498-7b3e-43a0-a04f-ac53abaa4c05",
   "metadata": {},
   "outputs": [
    {
     "data": {
      "text/plain": [
       "array([[9, 6, 9, 4],\n",
       "       [5, 5, 1, 3],\n",
       "       [8, 6, 5, 7]])"
      ]
     },
     "execution_count": 129,
     "metadata": {},
     "output_type": "execute_result"
    }
   ],
   "source": [
    "array1"
   ]
  },
  {
   "cell_type": "code",
   "execution_count": 130,
   "id": "a5e91042-a696-4959-86bd-52986310d595",
   "metadata": {},
   "outputs": [
    {
     "data": {
      "text/plain": [
       "array([[2, 3, 3, 5],\n",
       "       [2, 8, 2, 9],\n",
       "       [5, 6, 6, 3]])"
      ]
     },
     "execution_count": 130,
     "metadata": {},
     "output_type": "execute_result"
    }
   ],
   "source": [
    "array2"
   ]
  },
  {
   "cell_type": "code",
   "execution_count": 131,
   "id": "b2b0f0d1-a2ec-485c-bdb9-5a0a46eecf2a",
   "metadata": {},
   "outputs": [
    {
     "data": {
      "text/plain": [
       "array([[11,  9, 12,  9],\n",
       "       [ 7, 13,  3, 12],\n",
       "       [13, 12, 11, 10]])"
      ]
     },
     "execution_count": 131,
     "metadata": {},
     "output_type": "execute_result"
    }
   ],
   "source": [
    "array1 + array2"
   ]
  },
  {
   "cell_type": "code",
   "execution_count": 132,
   "id": "77114f2c-d81e-4e45-95b8-a86edf0455b5",
   "metadata": {},
   "outputs": [
    {
     "data": {
      "text/plain": [
       "array([[18, 18, 27, 20],\n",
       "       [10, 40,  2, 27],\n",
       "       [40, 36, 30, 21]])"
      ]
     },
     "execution_count": 132,
     "metadata": {},
     "output_type": "execute_result"
    }
   ],
   "source": [
    "array1 * array2"
   ]
  },
  {
   "cell_type": "code",
   "execution_count": 133,
   "id": "d9358844-fca7-4ae4-8f46-6abfeffcd161",
   "metadata": {},
   "outputs": [
    {
     "data": {
      "text/plain": [
       "array([[4.5       , 2.        , 3.        , 0.8       ],\n",
       "       [2.5       , 0.625     , 0.5       , 0.33333333],\n",
       "       [1.6       , 1.        , 0.83333333, 2.33333333]])"
      ]
     },
     "execution_count": 133,
     "metadata": {},
     "output_type": "execute_result"
    }
   ],
   "source": [
    "array1 / array2"
   ]
  },
  {
   "cell_type": "code",
   "execution_count": 134,
   "id": "d77b9a0a-ff3a-4ffd-b027-aa98ff664a6f",
   "metadata": {},
   "outputs": [
    {
     "data": {
      "text/plain": [
       "array([[ 7,  3,  6, -1],\n",
       "       [ 3, -3, -1, -6],\n",
       "       [ 3,  0, -1,  4]])"
      ]
     },
     "execution_count": 134,
     "metadata": {},
     "output_type": "execute_result"
    }
   ],
   "source": [
    "array1-array2"
   ]
  },
  {
   "cell_type": "code",
   "execution_count": 135,
   "id": "4b9638e2-0745-49b7-9e69-1a9cf9e2d910",
   "metadata": {},
   "outputs": [
    {
     "data": {
      "text/plain": [
       "array([[    81,    216,    729,   1024],\n",
       "       [    25, 390625,      1,  19683],\n",
       "       [ 32768,  46656,  15625,    343]])"
      ]
     },
     "execution_count": 135,
     "metadata": {},
     "output_type": "execute_result"
    }
   ],
   "source": [
    "array1**array2"
   ]
  },
  {
   "cell_type": "code",
   "execution_count": 136,
   "id": "dcd36f9b-29b2-4abc-aa9e-24fcbc891783",
   "metadata": {},
   "outputs": [
    {
     "data": {
      "text/plain": [
       "array([[-10,  -7, -10,  -5],\n",
       "       [ -6,  -6,  -2,  -4],\n",
       "       [ -9,  -7,  -6,  -8]])"
      ]
     },
     "execution_count": 136,
     "metadata": {},
     "output_type": "execute_result"
    }
   ],
   "source": [
    "~array1"
   ]
  },
  {
   "cell_type": "code",
   "execution_count": 137,
   "id": "19e71609-f22b-47bd-83e5-245a85a6d84c",
   "metadata": {},
   "outputs": [
    {
     "data": {
      "text/plain": [
       "array([[9, 6, 9, 4],\n",
       "       [5, 5, 1, 3],\n",
       "       [8, 6, 5, 7]])"
      ]
     },
     "execution_count": 137,
     "metadata": {},
     "output_type": "execute_result"
    }
   ],
   "source": [
    "array1"
   ]
  },
  {
   "cell_type": "code",
   "execution_count": 138,
   "id": "59ae8372-6140-4f5f-aeb9-93a46c401f5e",
   "metadata": {},
   "outputs": [
    {
     "data": {
      "text/plain": [
       "array([[ True,  True,  True, False],\n",
       "       [ True, False, False, False],\n",
       "       [ True, False, False,  True]])"
      ]
     },
     "execution_count": 138,
     "metadata": {},
     "output_type": "execute_result"
    }
   ],
   "source": [
    "array1>array2"
   ]
  },
  {
   "cell_type": "code",
   "execution_count": null,
   "id": "444f8797-747b-4211-ba1e-65ac3a7e7932",
   "metadata": {},
   "outputs": [],
   "source": []
  },
  {
   "cell_type": "code",
   "execution_count": 139,
   "id": "dab55275-c92c-4ef3-aa17-5cde0cd1c5c0",
   "metadata": {},
   "outputs": [],
   "source": [
    "#Numpy - String operations"
   ]
  },
  {
   "cell_type": "code",
   "execution_count": 140,
   "id": "c4321670-7f06-4ece-80af-78238feceab7",
   "metadata": {},
   "outputs": [],
   "source": [
    "ar = np.array([\"hitesh\" , \"kumar\"])"
   ]
  },
  {
   "cell_type": "code",
   "execution_count": 141,
   "id": "76cb5b45-faef-4597-bf02-51110ca7560a",
   "metadata": {},
   "outputs": [
    {
     "data": {
      "text/plain": [
       "array(['hitesh', 'kumar'], dtype='<U6')"
      ]
     },
     "execution_count": 141,
     "metadata": {},
     "output_type": "execute_result"
    }
   ],
   "source": [
    "ar"
   ]
  },
  {
   "cell_type": "code",
   "execution_count": 142,
   "id": "08a43f62-3e49-40e2-aa56-72a5dd8cd5d7",
   "metadata": {},
   "outputs": [
    {
     "data": {
      "text/plain": [
       "array(['HITESH', 'KUMAR'], dtype='<U6')"
      ]
     },
     "execution_count": 142,
     "metadata": {},
     "output_type": "execute_result"
    }
   ],
   "source": [
    "np.char.upper(ar)"
   ]
  },
  {
   "cell_type": "code",
   "execution_count": 143,
   "id": "7ec2fe73-b542-4776-a51d-7035bf25aa3d",
   "metadata": {},
   "outputs": [
    {
     "data": {
      "text/plain": [
       "array(['Hitesh', 'Kumar'], dtype='<U6')"
      ]
     },
     "execution_count": 143,
     "metadata": {},
     "output_type": "execute_result"
    }
   ],
   "source": [
    "np.char.capitalize(ar)"
   ]
  },
  {
   "cell_type": "code",
   "execution_count": 144,
   "id": "f400ca12-837c-4e71-a02d-5d6d702795df",
   "metadata": {},
   "outputs": [
    {
     "data": {
      "text/plain": [
       "array(['Hitesh', 'Kumar'], dtype='<U6')"
      ]
     },
     "execution_count": 144,
     "metadata": {},
     "output_type": "execute_result"
    }
   ],
   "source": [
    "np.char.title(ar)"
   ]
  },
  {
   "cell_type": "code",
   "execution_count": null,
   "id": "f158b79f-c542-4969-ae83-d0d4e2e0af4b",
   "metadata": {},
   "outputs": [],
   "source": []
  },
  {
   "cell_type": "code",
   "execution_count": 145,
   "id": "2976eb1e-4733-45b5-b78c-e431a98639d6",
   "metadata": {},
   "outputs": [],
   "source": [
    "#Numpy - Mathematical functions."
   ]
  },
  {
   "cell_type": "code",
   "execution_count": 146,
   "id": "8a0f7613-670a-4bb5-bdb6-6dd0fc331c6d",
   "metadata": {},
   "outputs": [
    {
     "data": {
      "text/plain": [
       "array([[9, 6, 9, 4],\n",
       "       [5, 5, 1, 3],\n",
       "       [8, 6, 5, 7]])"
      ]
     },
     "execution_count": 146,
     "metadata": {},
     "output_type": "execute_result"
    }
   ],
   "source": [
    "array1"
   ]
  },
  {
   "cell_type": "code",
   "execution_count": 147,
   "id": "02438e32-39b7-4e09-b470-46891a20e725",
   "metadata": {},
   "outputs": [
    {
     "data": {
      "text/plain": [
       "array([[ 0.41211849, -0.2794155 ,  0.41211849, -0.7568025 ],\n",
       "       [-0.95892427, -0.95892427,  0.84147098,  0.14112001],\n",
       "       [ 0.98935825, -0.2794155 , -0.95892427,  0.6569866 ]])"
      ]
     },
     "execution_count": 147,
     "metadata": {},
     "output_type": "execute_result"
    }
   ],
   "source": [
    "np.sin(array1)"
   ]
  },
  {
   "cell_type": "code",
   "execution_count": 148,
   "id": "1d2c02aa-5429-450c-927d-475033a98388",
   "metadata": {},
   "outputs": [
    {
     "data": {
      "text/plain": [
       "array([[-0.91113026,  0.96017029, -0.91113026, -0.65364362],\n",
       "       [ 0.28366219,  0.28366219,  0.54030231, -0.9899925 ],\n",
       "       [-0.14550003,  0.96017029,  0.28366219,  0.75390225]])"
      ]
     },
     "execution_count": 148,
     "metadata": {},
     "output_type": "execute_result"
    }
   ],
   "source": [
    "np.cos(array1)"
   ]
  },
  {
   "cell_type": "code",
   "execution_count": 149,
   "id": "0c9d8b45-db6d-4196-821a-a8d1817ea143",
   "metadata": {},
   "outputs": [
    {
     "data": {
      "text/plain": [
       "array([[-0.45231566, -0.29100619, -0.45231566,  1.15782128],\n",
       "       [-3.38051501, -3.38051501,  1.55740772, -0.14254654],\n",
       "       [-6.79971146, -0.29100619, -3.38051501,  0.87144798]])"
      ]
     },
     "execution_count": 149,
     "metadata": {},
     "output_type": "execute_result"
    }
   ],
   "source": [
    "np.tan(array1)"
   ]
  },
  {
   "cell_type": "code",
   "execution_count": 150,
   "id": "860a1298-84db-4d7c-ad8d-c56ff56a3c2e",
   "metadata": {},
   "outputs": [
    {
     "data": {
      "text/plain": [
       "array([[0.95424251, 0.77815125, 0.95424251, 0.60205999],\n",
       "       [0.69897   , 0.69897   , 0.        , 0.47712125],\n",
       "       [0.90308999, 0.77815125, 0.69897   , 0.84509804]])"
      ]
     },
     "execution_count": 150,
     "metadata": {},
     "output_type": "execute_result"
    }
   ],
   "source": [
    "np.log10(array1)"
   ]
  },
  {
   "cell_type": "code",
   "execution_count": 151,
   "id": "3cf07868-0a3e-424e-b3db-118cb045e95d",
   "metadata": {},
   "outputs": [
    {
     "data": {
      "text/plain": [
       "array([[8.10308393e+03, 4.03428793e+02, 8.10308393e+03, 5.45981500e+01],\n",
       "       [1.48413159e+02, 1.48413159e+02, 2.71828183e+00, 2.00855369e+01],\n",
       "       [2.98095799e+03, 4.03428793e+02, 1.48413159e+02, 1.09663316e+03]])"
      ]
     },
     "execution_count": 151,
     "metadata": {},
     "output_type": "execute_result"
    }
   ],
   "source": [
    "np.exp(array1)"
   ]
  },
  {
   "cell_type": "code",
   "execution_count": 152,
   "id": "f605b2a6-81b8-4ede-ae6b-cb9aa7c150eb",
   "metadata": {},
   "outputs": [
    {
     "data": {
      "text/plain": [
       "array([[81, 36, 81, 16],\n",
       "       [25, 25,  1,  9],\n",
       "       [64, 36, 25, 49]])"
      ]
     },
     "execution_count": 152,
     "metadata": {},
     "output_type": "execute_result"
    }
   ],
   "source": [
    "np.power(array1, 2)"
   ]
  },
  {
   "cell_type": "code",
   "execution_count": 153,
   "id": "b1977424-c82d-462c-af8a-4f4802f4988f",
   "metadata": {},
   "outputs": [
    {
     "data": {
      "text/plain": [
       "5.666666666666667"
      ]
     },
     "execution_count": 153,
     "metadata": {},
     "output_type": "execute_result"
    }
   ],
   "source": [
    "np.mean(array1)"
   ]
  },
  {
   "cell_type": "code",
   "execution_count": 154,
   "id": "def520a6-4d90-4b91-a1e2-0bbcf90566fc",
   "metadata": {},
   "outputs": [
    {
     "data": {
      "text/plain": [
       "5.5"
      ]
     },
     "execution_count": 154,
     "metadata": {},
     "output_type": "execute_result"
    }
   ],
   "source": [
    "np.median(array1)"
   ]
  },
  {
   "cell_type": "code",
   "execution_count": 155,
   "id": "0c239368-1ff3-42d8-9e6d-126de86c59a3",
   "metadata": {},
   "outputs": [
    {
     "ename": "AttributeError",
     "evalue": "module 'numpy' has no attribute 'mode'",
     "output_type": "error",
     "traceback": [
      "\u001b[0;31m---------------------------------------------------------------------------\u001b[0m",
      "\u001b[0;31mAttributeError\u001b[0m                            Traceback (most recent call last)",
      "Cell \u001b[0;32mIn[155], line 1\u001b[0m\n\u001b[0;32m----> 1\u001b[0m \u001b[43mnp\u001b[49m\u001b[38;5;241;43m.\u001b[39;49m\u001b[43mmode\u001b[49m(array1)\n",
      "File \u001b[0;32m/opt/conda/lib/python3.10/site-packages/numpy/__init__.py:311\u001b[0m, in \u001b[0;36m__getattr__\u001b[0;34m(attr)\u001b[0m\n\u001b[1;32m    308\u001b[0m     \u001b[38;5;28;01mfrom\u001b[39;00m \u001b[38;5;21;01m.\u001b[39;00m\u001b[38;5;21;01mtesting\u001b[39;00m \u001b[38;5;28;01mimport\u001b[39;00m Tester\n\u001b[1;32m    309\u001b[0m     \u001b[38;5;28;01mreturn\u001b[39;00m Tester\n\u001b[0;32m--> 311\u001b[0m \u001b[38;5;28;01mraise\u001b[39;00m \u001b[38;5;167;01mAttributeError\u001b[39;00m(\u001b[38;5;124m\"\u001b[39m\u001b[38;5;124mmodule \u001b[39m\u001b[38;5;132;01m{!r}\u001b[39;00m\u001b[38;5;124m has no attribute \u001b[39m\u001b[38;5;124m\"\u001b[39m\n\u001b[1;32m    312\u001b[0m                      \u001b[38;5;124m\"\u001b[39m\u001b[38;5;132;01m{!r}\u001b[39;00m\u001b[38;5;124m\"\u001b[39m\u001b[38;5;241m.\u001b[39mformat(\u001b[38;5;18m__name__\u001b[39m, attr))\n",
      "\u001b[0;31mAttributeError\u001b[0m: module 'numpy' has no attribute 'mode'"
     ]
    }
   ],
   "source": [
    "np.mode(array1)"
   ]
  },
  {
   "cell_type": "code",
   "execution_count": 156,
   "id": "12e2a92c-df05-44eb-aa74-895aa076b4ec",
   "metadata": {},
   "outputs": [
    {
     "data": {
      "text/plain": [
       "2.2852182001336816"
      ]
     },
     "execution_count": 156,
     "metadata": {},
     "output_type": "execute_result"
    }
   ],
   "source": [
    "np.std(array1)"
   ]
  },
  {
   "cell_type": "code",
   "execution_count": 157,
   "id": "ad3f9b47-2be0-41a6-aaff-c28ff8f9be23",
   "metadata": {},
   "outputs": [
    {
     "data": {
      "text/plain": [
       "5.222222222222222"
      ]
     },
     "execution_count": 157,
     "metadata": {},
     "output_type": "execute_result"
    }
   ],
   "source": [
    "np.var(array1)"
   ]
  },
  {
   "cell_type": "code",
   "execution_count": 158,
   "id": "0fb8b21b-be75-4b2f-83d0-5f6da4a5d384",
   "metadata": {},
   "outputs": [
    {
     "data": {
      "text/plain": [
       "1"
      ]
     },
     "execution_count": 158,
     "metadata": {},
     "output_type": "execute_result"
    }
   ],
   "source": [
    "np.min(array1)"
   ]
  },
  {
   "cell_type": "code",
   "execution_count": 159,
   "id": "0ff4f849-08f3-466d-98cf-94fd98185e70",
   "metadata": {},
   "outputs": [
    {
     "data": {
      "text/plain": [
       "9"
      ]
     },
     "execution_count": 159,
     "metadata": {},
     "output_type": "execute_result"
    }
   ],
   "source": [
    "np.max(array1)"
   ]
  },
  {
   "cell_type": "code",
   "execution_count": 160,
   "id": "086b08ad-b340-48d9-8cc3-6ec66e95210e",
   "metadata": {},
   "outputs": [],
   "source": [
    "# Numpy - Arithmetic operations."
   ]
  },
  {
   "cell_type": "code",
   "execution_count": 161,
   "id": "1efa083e-0fbb-4c72-8db4-19c98d79ccfb",
   "metadata": {},
   "outputs": [
    {
     "data": {
      "text/plain": [
       "array([[9, 6, 9, 4],\n",
       "       [5, 5, 1, 3],\n",
       "       [8, 6, 5, 7]])"
      ]
     },
     "execution_count": 161,
     "metadata": {},
     "output_type": "execute_result"
    }
   ],
   "source": [
    "array1"
   ]
  },
  {
   "cell_type": "code",
   "execution_count": 162,
   "id": "81386e64-e79b-48e2-9bfa-c4a3c2fb36f9",
   "metadata": {},
   "outputs": [
    {
     "data": {
      "text/plain": [
       "array([[2, 3, 3, 5],\n",
       "       [2, 8, 2, 9],\n",
       "       [5, 6, 6, 3]])"
      ]
     },
     "execution_count": 162,
     "metadata": {},
     "output_type": "execute_result"
    }
   ],
   "source": [
    "array2"
   ]
  },
  {
   "cell_type": "code",
   "execution_count": 163,
   "id": "12f8bd0d-18b2-47f2-a086-5b657b376a90",
   "metadata": {},
   "outputs": [
    {
     "data": {
      "text/plain": [
       "array([[ 7,  3,  6, -1],\n",
       "       [ 3, -3, -1, -6],\n",
       "       [ 3,  0, -1,  4]])"
      ]
     },
     "execution_count": 163,
     "metadata": {},
     "output_type": "execute_result"
    }
   ],
   "source": [
    "array1-array2"
   ]
  },
  {
   "cell_type": "code",
   "execution_count": 164,
   "id": "a0198243-7f57-45ae-bd65-030850d0166b",
   "metadata": {},
   "outputs": [
    {
     "data": {
      "text/plain": [
       "array([[ 7,  3,  6, -1],\n",
       "       [ 3, -3, -1, -6],\n",
       "       [ 3,  0, -1,  4]])"
      ]
     },
     "execution_count": 164,
     "metadata": {},
     "output_type": "execute_result"
    }
   ],
   "source": [
    "np.subtract(array1,array2)"
   ]
  },
  {
   "cell_type": "code",
   "execution_count": 165,
   "id": "cc01d9ad-807b-42df-b7a0-46a24c17ba8b",
   "metadata": {},
   "outputs": [
    {
     "data": {
      "text/plain": [
       "array([[18, 18, 27, 20],\n",
       "       [10, 40,  2, 27],\n",
       "       [40, 36, 30, 21]])"
      ]
     },
     "execution_count": 165,
     "metadata": {},
     "output_type": "execute_result"
    }
   ],
   "source": [
    "np.multiply(array1,array2)"
   ]
  },
  {
   "cell_type": "code",
   "execution_count": 166,
   "id": "91fe0c55-9236-4be3-a313-13792048089b",
   "metadata": {},
   "outputs": [
    {
     "data": {
      "text/plain": [
       "array([[1, 0, 0, 4],\n",
       "       [1, 5, 1, 3],\n",
       "       [3, 0, 5, 1]])"
      ]
     },
     "execution_count": 166,
     "metadata": {},
     "output_type": "execute_result"
    }
   ],
   "source": [
    "np.mod(array1,array2)"
   ]
  },
  {
   "cell_type": "code",
   "execution_count": 167,
   "id": "77607134-813b-4804-90eb-8f9a236e7d7a",
   "metadata": {},
   "outputs": [
    {
     "data": {
      "text/plain": [
       "array([[    81,    216,    729,   1024],\n",
       "       [    25, 390625,      1,  19683],\n",
       "       [ 32768,  46656,  15625,    343]])"
      ]
     },
     "execution_count": 167,
     "metadata": {},
     "output_type": "execute_result"
    }
   ],
   "source": [
    "np.power(array1,array2)"
   ]
  },
  {
   "cell_type": "code",
   "execution_count": 168,
   "id": "3072aa43-7968-4a3f-8bea-4738c4ae484d",
   "metadata": {},
   "outputs": [
    {
     "data": {
      "text/plain": [
       "array([[3.        , 2.44948974, 3.        , 2.        ],\n",
       "       [2.23606798, 2.23606798, 1.        , 1.73205081],\n",
       "       [2.82842712, 2.44948974, 2.23606798, 2.64575131]])"
      ]
     },
     "execution_count": 168,
     "metadata": {},
     "output_type": "execute_result"
    }
   ],
   "source": [
    "np.sqrt(array1)"
   ]
  },
  {
   "cell_type": "code",
   "execution_count": null,
   "id": "6952a912-eba3-4a48-b98d-878c7562da41",
   "metadata": {},
   "outputs": [],
   "source": []
  },
  {
   "cell_type": "code",
   "execution_count": 169,
   "id": "97b3d7c5-36fe-4a96-aac5-b46099fd23bd",
   "metadata": {},
   "outputs": [],
   "source": [
    "# Numpy - Statistical functions."
   ]
  },
  {
   "cell_type": "code",
   "execution_count": 170,
   "id": "2463491b-f44d-4dd1-8036-7133886de864",
   "metadata": {},
   "outputs": [
    {
     "data": {
      "text/plain": [
       "array([[9, 6, 9, 4],\n",
       "       [5, 5, 1, 3],\n",
       "       [8, 6, 5, 7]])"
      ]
     },
     "execution_count": 170,
     "metadata": {},
     "output_type": "execute_result"
    }
   ],
   "source": [
    "array1"
   ]
  },
  {
   "cell_type": "code",
   "execution_count": 171,
   "id": "2fe3ab6a-f4cc-4a9a-a3cd-b967b2174586",
   "metadata": {},
   "outputs": [
    {
     "data": {
      "text/plain": [
       "5.666666666666667"
      ]
     },
     "execution_count": 171,
     "metadata": {},
     "output_type": "execute_result"
    }
   ],
   "source": [
    "np.average(array1)"
   ]
  },
  {
   "cell_type": "code",
   "execution_count": 172,
   "id": "ee001ae0-c1e8-4da7-a7a2-2541ec802b65",
   "metadata": {},
   "outputs": [
    {
     "data": {
      "text/plain": [
       "5.666666666666667"
      ]
     },
     "execution_count": 172,
     "metadata": {},
     "output_type": "execute_result"
    }
   ],
   "source": [
    "np.mean(array1)"
   ]
  },
  {
   "cell_type": "code",
   "execution_count": 173,
   "id": "0e9b689d-d352-47cd-9273-405c6a5e1776",
   "metadata": {},
   "outputs": [
    {
     "data": {
      "text/plain": [
       "2.2852182001336816"
      ]
     },
     "execution_count": 173,
     "metadata": {},
     "output_type": "execute_result"
    }
   ],
   "source": [
    "np.std(array1)"
   ]
  },
  {
   "cell_type": "code",
   "execution_count": 174,
   "id": "362a52b4-3730-4849-b0cd-dd5558686e27",
   "metadata": {},
   "outputs": [
    {
     "data": {
      "text/plain": [
       "5.5"
      ]
     },
     "execution_count": 174,
     "metadata": {},
     "output_type": "execute_result"
    }
   ],
   "source": [
    "np.median(array1)"
   ]
  },
  {
   "cell_type": "code",
   "execution_count": null,
   "id": "f22c0c33-3346-49f8-94e0-966e8e9b7882",
   "metadata": {},
   "outputs": [],
   "source": []
  },
  {
   "cell_type": "code",
   "execution_count": 186,
   "id": "c6417329-6076-4a5d-8a7d-26d27f520b9e",
   "metadata": {},
   "outputs": [],
   "source": [
    "## Sort , Search & Counting  Functions."
   ]
  },
  {
   "cell_type": "code",
   "execution_count": 177,
   "id": "04d5ea36-d092-49b5-82e2-b18d046a088b",
   "metadata": {},
   "outputs": [],
   "source": [
    "aarr = np.array([6,7,3,9,2])"
   ]
  },
  {
   "cell_type": "code",
   "execution_count": 178,
   "id": "8c894606-df3c-4b1a-94e7-a9eb838a7e47",
   "metadata": {},
   "outputs": [
    {
     "data": {
      "text/plain": [
       "array([6, 7, 3, 9, 2])"
      ]
     },
     "execution_count": 178,
     "metadata": {},
     "output_type": "execute_result"
    }
   ],
   "source": [
    "aarr"
   ]
  },
  {
   "cell_type": "code",
   "execution_count": 179,
   "id": "dc71df15-6678-4422-be35-361a663a1bf9",
   "metadata": {},
   "outputs": [
    {
     "data": {
      "text/plain": [
       "array([2, 3, 6, 7, 9])"
      ]
     },
     "execution_count": 179,
     "metadata": {},
     "output_type": "execute_result"
    }
   ],
   "source": [
    "np.sort(aarr)"
   ]
  },
  {
   "cell_type": "code",
   "execution_count": 182,
   "id": "78f90ce3-d094-46e4-94ac-c286dd4715a5",
   "metadata": {},
   "outputs": [
    {
     "data": {
      "text/plain": [
       "5"
      ]
     },
     "execution_count": 182,
     "metadata": {},
     "output_type": "execute_result"
    }
   ],
   "source": [
    "np.searchsorted(aarr, 6)"
   ]
  },
  {
   "cell_type": "code",
   "execution_count": 184,
   "id": "8732ee3e-1031-464c-bc21-a5c381719770",
   "metadata": {},
   "outputs": [],
   "source": [
    "array10 = np.array([0,324,625,65,6,60,0,0,234])"
   ]
  },
  {
   "cell_type": "code",
   "execution_count": 185,
   "id": "7217b219-72bf-462e-9979-30301ed80390",
   "metadata": {},
   "outputs": [
    {
     "data": {
      "text/plain": [
       "array([  0, 324, 625,  65,   6,  60,   0,   0, 234])"
      ]
     },
     "execution_count": 185,
     "metadata": {},
     "output_type": "execute_result"
    }
   ],
   "source": [
    "array10"
   ]
  },
  {
   "cell_type": "code",
   "execution_count": 186,
   "id": "f7c688f3-9d7d-465f-9c55-bbb794106fdc",
   "metadata": {},
   "outputs": [
    {
     "data": {
      "text/plain": [
       "6"
      ]
     },
     "execution_count": 186,
     "metadata": {},
     "output_type": "execute_result"
    }
   ],
   "source": [
    "np.count_nonzero(array10)"
   ]
  },
  {
   "cell_type": "code",
   "execution_count": 187,
   "id": "3ce45ad7-55cf-4033-a327-2c0749b6eecc",
   "metadata": {},
   "outputs": [
    {
     "data": {
      "text/plain": [
       "(array([1, 2, 3, 4, 5, 8]),)"
      ]
     },
     "execution_count": 187,
     "metadata": {},
     "output_type": "execute_result"
    }
   ],
   "source": [
    "np.where(array10>0)"
   ]
  },
  {
   "cell_type": "code",
   "execution_count": 190,
   "id": "bf505fea-e0c1-4eb3-8c50-41723351486f",
   "metadata": {},
   "outputs": [
    {
     "data": {
      "text/plain": [
       "array([324, 625, 234])"
      ]
     },
     "execution_count": 190,
     "metadata": {},
     "output_type": "execute_result"
    }
   ],
   "source": [
    "np.extract(array10 > 200, array10)"
   ]
  },
  {
   "cell_type": "code",
   "execution_count": 191,
   "id": "d9aec34b-ce35-4113-a193-1df7341ff561",
   "metadata": {},
   "outputs": [],
   "source": [
    "# Numpy - Byte Swapping"
   ]
  },
  {
   "cell_type": "code",
   "execution_count": 192,
   "id": "06587063-318b-4863-ada7-b003694a9d7d",
   "metadata": {},
   "outputs": [
    {
     "data": {
      "text/plain": [
       "array([  0, 324, 625,  65,   6,  60,   0,   0, 234])"
      ]
     },
     "execution_count": 192,
     "metadata": {},
     "output_type": "execute_result"
    }
   ],
   "source": [
    "array10"
   ]
  },
  {
   "cell_type": "code",
   "execution_count": 193,
   "id": "2c107b2e-bfc7-42d8-a422-8d1db5730716",
   "metadata": {},
   "outputs": [
    {
     "data": {
      "text/plain": [
       "array([6, 7, 3, 9, 2])"
      ]
     },
     "execution_count": 193,
     "metadata": {},
     "output_type": "execute_result"
    }
   ],
   "source": [
    "aarr"
   ]
  },
  {
   "cell_type": "code",
   "execution_count": 195,
   "id": "01c57661-26b2-4771-9a2e-a7888bd70a03",
   "metadata": {},
   "outputs": [
    {
     "data": {
      "text/plain": [
       "array([432345564227567616, 504403158265495552, 216172782113783808,\n",
       "       648518346341351424, 144115188075855872])"
      ]
     },
     "execution_count": 195,
     "metadata": {},
     "output_type": "execute_result"
    }
   ],
   "source": [
    "aarr.byteswap()"
   ]
  },
  {
   "cell_type": "code",
   "execution_count": 197,
   "id": "fddbf7d1-0efd-4e9a-bb87-97e1bac53040",
   "metadata": {},
   "outputs": [
    {
     "data": {
      "text/plain": [
       "array([                   0,  4900197869555810304,  8143071076239278080,\n",
       "        4683743612465315840,   432345564227567616,  4323455642275676160,\n",
       "                          0,                    0, -1585267068834414592])"
      ]
     },
     "execution_count": 197,
     "metadata": {},
     "output_type": "execute_result"
    }
   ],
   "source": [
    "array10.byteswap(True)"
   ]
  },
  {
   "cell_type": "code",
   "execution_count": null,
   "id": "cebb6065-39b8-41c4-8e23-2654bf21d727",
   "metadata": {},
   "outputs": [],
   "source": []
  },
  {
   "cell_type": "code",
   "execution_count": 198,
   "id": "149f487b-3d28-4bb5-9006-831859caddec",
   "metadata": {},
   "outputs": [],
   "source": [
    "#Numpy - Copies & views"
   ]
  },
  {
   "cell_type": "code",
   "execution_count": 199,
   "id": "a583c396-1700-4c92-b341-0471d88fc6ff",
   "metadata": {},
   "outputs": [
    {
     "data": {
      "text/plain": [
       "array([[9, 6, 9, 4],\n",
       "       [5, 5, 1, 3],\n",
       "       [8, 6, 5, 7]])"
      ]
     },
     "execution_count": 199,
     "metadata": {},
     "output_type": "execute_result"
    }
   ],
   "source": [
    "array1"
   ]
  },
  {
   "cell_type": "code",
   "execution_count": 200,
   "id": "7cb8a630-201c-4893-88c0-e394ebbc1aef",
   "metadata": {},
   "outputs": [],
   "source": [
    "a = np.copy(array1)"
   ]
  },
  {
   "cell_type": "code",
   "execution_count": 201,
   "id": "a369c15b-c1d8-4122-9e07-42e9ad4286f8",
   "metadata": {},
   "outputs": [
    {
     "data": {
      "text/plain": [
       "array([[9, 6, 9, 4],\n",
       "       [5, 5, 1, 3],\n",
       "       [8, 6, 5, 7]])"
      ]
     },
     "execution_count": 201,
     "metadata": {},
     "output_type": "execute_result"
    }
   ],
   "source": [
    "a"
   ]
  },
  {
   "cell_type": "code",
   "execution_count": 202,
   "id": "19dc8cce-8a1b-4c3e-bdf3-7f8457e09381",
   "metadata": {},
   "outputs": [],
   "source": [
    "b = array1.view()"
   ]
  },
  {
   "cell_type": "code",
   "execution_count": 203,
   "id": "420b4afb-52a5-4085-8970-453f1b397bc0",
   "metadata": {},
   "outputs": [
    {
     "data": {
      "text/plain": [
       "array([[9, 6, 9, 4],\n",
       "       [5, 5, 1, 3],\n",
       "       [8, 6, 5, 7]])"
      ]
     },
     "execution_count": 203,
     "metadata": {},
     "output_type": "execute_result"
    }
   ],
   "source": [
    "b"
   ]
  },
  {
   "cell_type": "code",
   "execution_count": 204,
   "id": "242c5b72-380e-4b62-99f5-d9ef0d9bc725",
   "metadata": {},
   "outputs": [],
   "source": [
    "b[0] = 234"
   ]
  },
  {
   "cell_type": "code",
   "execution_count": 205,
   "id": "55c592be-c520-468c-88ff-2b01f4f0ece4",
   "metadata": {},
   "outputs": [
    {
     "data": {
      "text/plain": [
       "array([[234, 234, 234, 234],\n",
       "       [  5,   5,   1,   3],\n",
       "       [  8,   6,   5,   7]])"
      ]
     },
     "execution_count": 205,
     "metadata": {},
     "output_type": "execute_result"
    }
   ],
   "source": [
    "b"
   ]
  },
  {
   "cell_type": "code",
   "execution_count": 206,
   "id": "56d8db28-889b-4a37-868e-62c5409ce9b2",
   "metadata": {},
   "outputs": [
    {
     "data": {
      "text/plain": [
       "array([[234, 234, 234, 234],\n",
       "       [  5,   5,   1,   3],\n",
       "       [  8,   6,   5,   7]])"
      ]
     },
     "execution_count": 206,
     "metadata": {},
     "output_type": "execute_result"
    }
   ],
   "source": [
    "array1"
   ]
  },
  {
   "cell_type": "code",
   "execution_count": 207,
   "id": "3404df59-54b0-453c-a965-38aac6790f99",
   "metadata": {},
   "outputs": [],
   "source": [
    "# i.e b=array1"
   ]
  },
  {
   "cell_type": "code",
   "execution_count": 209,
   "id": "8fce3fbe-e45a-4960-bff3-3a420c065218",
   "metadata": {},
   "outputs": [],
   "source": [
    "# Numpy - Matrix Library."
   ]
  },
  {
   "cell_type": "code",
   "execution_count": 210,
   "id": "69bf5253-5653-4c2f-b850-6f4664a1c302",
   "metadata": {},
   "outputs": [],
   "source": [
    "import numpy.matlib as nm"
   ]
  },
  {
   "cell_type": "code",
   "execution_count": 211,
   "id": "aa6a69d7-51d4-4db2-88e1-f953e2981e89",
   "metadata": {},
   "outputs": [
    {
     "data": {
      "text/plain": [
       "matrix([[0., 0., 0., 0., 0.]])"
      ]
     },
     "execution_count": 211,
     "metadata": {},
     "output_type": "execute_result"
    }
   ],
   "source": [
    "nm.zeros(5)"
   ]
  },
  {
   "cell_type": "code",
   "execution_count": 212,
   "id": "3b05f101-8b85-479b-9478-b6e25544a425",
   "metadata": {},
   "outputs": [
    {
     "data": {
      "text/plain": [
       "matrix([[1., 1., 1., 1.],\n",
       "        [1., 1., 1., 1.],\n",
       "        [1., 1., 1., 1.]])"
      ]
     },
     "execution_count": 212,
     "metadata": {},
     "output_type": "execute_result"
    }
   ],
   "source": [
    "nm.ones((3,4))"
   ]
  },
  {
   "cell_type": "code",
   "execution_count": 213,
   "id": "bdead618-abaa-48b6-b113-6176523d3af8",
   "metadata": {},
   "outputs": [
    {
     "data": {
      "text/plain": [
       "matrix([[1., 0., 0., 0.],\n",
       "        [0., 1., 0., 0.],\n",
       "        [0., 0., 1., 0.],\n",
       "        [0., 0., 0., 1.]])"
      ]
     },
     "execution_count": 213,
     "metadata": {},
     "output_type": "execute_result"
    }
   ],
   "source": [
    "nm.eye(4)"
   ]
  },
  {
   "cell_type": "code",
   "execution_count": null,
   "id": "536416b9-9226-4997-8c6e-9f79839ae912",
   "metadata": {},
   "outputs": [],
   "source": []
  },
  {
   "cell_type": "code",
   "execution_count": 214,
   "id": "bc13ac34-e321-41b3-9d18-8d87db46bedf",
   "metadata": {},
   "outputs": [],
   "source": [
    "# Numpy - Linear Algebra"
   ]
  },
  {
   "cell_type": "code",
   "execution_count": 218,
   "id": "427f2bfe-1c36-4da4-905f-e4615dd10894",
   "metadata": {},
   "outputs": [],
   "source": [
    "x = np.random.randint([[2,3], [4,5]])"
   ]
  },
  {
   "cell_type": "code",
   "execution_count": 219,
   "id": "ecfb952d-6cfb-4bae-b13b-7fe0acc16b99",
   "metadata": {},
   "outputs": [],
   "source": [
    "y = np.random.randint([[5,3], [2,5]])"
   ]
  },
  {
   "cell_type": "code",
   "execution_count": 220,
   "id": "5bedfc23-f830-4600-ac5e-e7aab535d023",
   "metadata": {},
   "outputs": [
    {
     "data": {
      "text/plain": [
       "array([[0, 2],\n",
       "       [2, 1]])"
      ]
     },
     "execution_count": 220,
     "metadata": {},
     "output_type": "execute_result"
    }
   ],
   "source": [
    "x"
   ]
  },
  {
   "cell_type": "code",
   "execution_count": 221,
   "id": "d9a82389-18f2-4482-8cea-914d66b575b0",
   "metadata": {},
   "outputs": [
    {
     "data": {
      "text/plain": [
       "array([[4, 1],\n",
       "       [0, 4]])"
      ]
     },
     "execution_count": 221,
     "metadata": {},
     "output_type": "execute_result"
    }
   ],
   "source": [
    "y"
   ]
  },
  {
   "cell_type": "code",
   "execution_count": 223,
   "id": "fc6e0052-d893-4f41-b905-1b328f5105ea",
   "metadata": {},
   "outputs": [
    {
     "data": {
      "text/plain": [
       "array([[0, 8],\n",
       "       [8, 6]])"
      ]
     },
     "execution_count": 223,
     "metadata": {},
     "output_type": "execute_result"
    }
   ],
   "source": [
    "np.dot(x,y) # dot product"
   ]
  },
  {
   "cell_type": "code",
   "execution_count": 224,
   "id": "04f3c4e5-a43d-4b88-b1d5-67a24054faa6",
   "metadata": {},
   "outputs": [
    {
     "data": {
      "text/plain": [
       "array([[0, 8],\n",
       "       [8, 6]])"
      ]
     },
     "execution_count": 224,
     "metadata": {},
     "output_type": "execute_result"
    }
   ],
   "source": [
    "x@y"
   ]
  },
  {
   "cell_type": "code",
   "execution_count": null,
   "id": "61f5af0c-b6a8-4fc6-bc89-7df52ee18be4",
   "metadata": {},
   "outputs": [],
   "source": []
  }
 ],
 "metadata": {
  "kernelspec": {
   "display_name": "Python 3 (ipykernel)",
   "language": "python",
   "name": "python3"
  },
  "language_info": {
   "codemirror_mode": {
    "name": "ipython",
    "version": 3
   },
   "file_extension": ".py",
   "mimetype": "text/x-python",
   "name": "python",
   "nbconvert_exporter": "python",
   "pygments_lexer": "ipython3",
   "version": "3.10.8"
  }
 },
 "nbformat": 4,
 "nbformat_minor": 5
}
