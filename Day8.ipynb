{
 "cells": [
  {
   "cell_type": "markdown",
   "id": "405e0bc0-0b8b-4444-a0a7-50ec72494c05",
   "metadata": {},
   "source": [
    "## list"
   ]
  },
  {
   "cell_type": "code",
   "execution_count": 1,
   "id": "0275dd98-dac4-4634-b460-9169feed1985",
   "metadata": {},
   "outputs": [
    {
     "data": {
      "text/plain": [
       "list"
      ]
     },
     "execution_count": 1,
     "metadata": {},
     "output_type": "execute_result"
    }
   ],
   "source": [
    "type([])"
   ]
  },
  {
   "cell_type": "markdown",
   "id": "afed609f-5452-4982-b306-81a314f35e7a",
   "metadata": {},
   "source": [
    "BUILT-IN MUTABLE SEQUANCE"
   ]
  },
  {
   "cell_type": "markdown",
   "id": "fe9c89bf-da0c-4241-9b28-456ea018f0ab",
   "metadata": {},
   "source": [
    "mutable means iterable"
   ]
  },
  {
   "cell_type": "code",
   "execution_count": 2,
   "id": "41035daf-73ef-4aa0-9973-2b9232a3dcfd",
   "metadata": {},
   "outputs": [
    {
     "data": {
      "text/plain": [
       "['Hitesh', 'Kumar', '27', 'virat fan']"
      ]
     },
     "execution_count": 2,
     "metadata": {},
     "output_type": "execute_result"
    }
   ],
   "source": [
    "[\"Hitesh\",\"Kumar\",\"27\",\"virat fan\"]"
   ]
  },
  {
   "cell_type": "code",
   "execution_count": 3,
   "id": "5cdd2d80-05a4-41c1-b3c9-b33a4ecf5d21",
   "metadata": {},
   "outputs": [
    {
     "data": {
      "text/plain": [
       "[1, 2, 3, 4, 5]"
      ]
     },
     "execution_count": 3,
     "metadata": {},
     "output_type": "execute_result"
    }
   ],
   "source": [
    "list([1,2,3,4,5])"
   ]
  },
  {
   "cell_type": "code",
   "execution_count": 4,
   "id": "32d4abb6-28d1-47cc-af92-e6e05233e96c",
   "metadata": {},
   "outputs": [],
   "source": [
    "str1=\"Hitesh\""
   ]
  },
  {
   "cell_type": "code",
   "execution_count": 5,
   "id": "87790ab8-5c0c-4a4e-b2ab-6a20e4f847a1",
   "metadata": {},
   "outputs": [
    {
     "data": {
      "text/plain": [
       "'Hitesh'"
      ]
     },
     "execution_count": 5,
     "metadata": {},
     "output_type": "execute_result"
    }
   ],
   "source": [
    "str1"
   ]
  },
  {
   "cell_type": "code",
   "execution_count": 6,
   "id": "e4fd0502-26a0-489e-849a-3e77cd60a64c",
   "metadata": {},
   "outputs": [
    {
     "data": {
      "text/plain": [
       "['H', 'i', 't', 'e', 's', 'h']"
      ]
     },
     "execution_count": 6,
     "metadata": {},
     "output_type": "execute_result"
    }
   ],
   "source": [
    "list(str1)"
   ]
  },
  {
   "cell_type": "code",
   "execution_count": 7,
   "id": "3f57709a-0982-4db7-b4f6-5f1ccd529ef4",
   "metadata": {},
   "outputs": [],
   "source": [
    "str1=\"PW skills DataScince Master Series\""
   ]
  },
  {
   "cell_type": "code",
   "execution_count": 8,
   "id": "b2a17562-87ce-42bf-b32c-b9dff49ec747",
   "metadata": {},
   "outputs": [
    {
     "data": {
      "text/plain": [
       "['PW', 'skills', 'DataScince', 'Master', 'Series']"
      ]
     },
     "execution_count": 8,
     "metadata": {},
     "output_type": "execute_result"
    }
   ],
   "source": [
    "list(str1.split(\" \"))"
   ]
  },
  {
   "cell_type": "code",
   "execution_count": 9,
   "id": "086b7020-f9fb-43fe-a0ea-d23a0aeff9d1",
   "metadata": {},
   "outputs": [
    {
     "data": {
      "text/plain": [
       "['PW', 'skills', 'DataScince', 'Master', 'Series']"
      ]
     },
     "execution_count": 9,
     "metadata": {},
     "output_type": "execute_result"
    }
   ],
   "source": [
    "str1.split(\" \")"
   ]
  },
  {
   "cell_type": "markdown",
   "id": "d9b639ed-d41f-4616-9a9e-19f6160c0b04",
   "metadata": {},
   "source": [
    "### list is an ordered collection of elements"
   ]
  },
  {
   "cell_type": "code",
   "execution_count": 11,
   "id": "aca809b2-6495-4b56-b495-868aa1416b67",
   "metadata": {},
   "outputs": [],
   "source": [
    "lst1=str1.split(\" \")"
   ]
  },
  {
   "cell_type": "code",
   "execution_count": 50,
   "id": "6b784fcb-9e31-4151-a4b8-f0a2c6a27563",
   "metadata": {},
   "outputs": [
    {
     "data": {
      "text/plain": [
       "['PW', 'skills', 'DataScince', 'Master', 'Series']"
      ]
     },
     "execution_count": 50,
     "metadata": {},
     "output_type": "execute_result"
    }
   ],
   "source": [
    "lst1"
   ]
  },
  {
   "cell_type": "code",
   "execution_count": 14,
   "id": "5b411387-603a-40bc-a226-da91825cf45c",
   "metadata": {},
   "outputs": [
    {
     "data": {
      "text/plain": [
       "'DataScince'"
      ]
     },
     "execution_count": 14,
     "metadata": {},
     "output_type": "execute_result"
    }
   ],
   "source": [
    "lst1[2]"
   ]
  },
  {
   "cell_type": "code",
   "execution_count": 15,
   "id": "96c5a734-860e-466c-9901-50dc7d25b0b4",
   "metadata": {},
   "outputs": [
    {
     "data": {
      "text/plain": [
       "['DataScince', 'Master', 'Series']"
      ]
     },
     "execution_count": 15,
     "metadata": {},
     "output_type": "execute_result"
    }
   ],
   "source": [
    "lst1[2:]"
   ]
  },
  {
   "cell_type": "code",
   "execution_count": 16,
   "id": "28d6e260-6141-4e29-a556-28eb792a7933",
   "metadata": {},
   "outputs": [],
   "source": [
    "lst1[2]=\"Datas\" #### Mutability"
   ]
  },
  {
   "cell_type": "code",
   "execution_count": 17,
   "id": "8d5ed5c5-ad20-4cd4-8d99-06cc19a5a121",
   "metadata": {},
   "outputs": [
    {
     "data": {
      "text/plain": [
       "['PW', 'skills', 'Datas', 'Master', 'Series']"
      ]
     },
     "execution_count": 17,
     "metadata": {},
     "output_type": "execute_result"
    }
   ],
   "source": [
    "lst1"
   ]
  },
  {
   "cell_type": "code",
   "execution_count": 18,
   "id": "1d763290-f6a4-46a3-b171-9f3d1b4e083e",
   "metadata": {},
   "outputs": [
    {
     "data": {
      "text/plain": [
       "'Master'"
      ]
     },
     "execution_count": 18,
     "metadata": {},
     "output_type": "execute_result"
    }
   ],
   "source": [
    "lst1[-2]"
   ]
  },
  {
   "cell_type": "code",
   "execution_count": 20,
   "id": "27f56ca8-e806-4231-adbe-5a9e11665d5b",
   "metadata": {},
   "outputs": [
    {
     "data": {
      "text/plain": [
       "['Series', 'Datas', 'PW']"
      ]
     },
     "execution_count": 20,
     "metadata": {},
     "output_type": "execute_result"
    }
   ],
   "source": [
    "lst1[::-2] ### every second element"
   ]
  },
  {
   "cell_type": "code",
   "execution_count": 21,
   "id": "f0b6efda-b12d-436b-9ed4-8b5af2615c83",
   "metadata": {},
   "outputs": [
    {
     "data": {
      "text/plain": [
       "['PW']"
      ]
     },
     "execution_count": 21,
     "metadata": {},
     "output_type": "execute_result"
    }
   ],
   "source": [
    "lst1[-5::-2] "
   ]
  },
  {
   "cell_type": "code",
   "execution_count": 23,
   "id": "eaab94a2-e665-4668-b2cb-350f85a5024b",
   "metadata": {},
   "outputs": [
    {
     "data": {
      "text/plain": [
       "['PW', 'skills', 'Datas', 'Master', 'Series', 'New elemet', 3]"
      ]
     },
     "execution_count": 23,
     "metadata": {},
     "output_type": "execute_result"
    }
   ],
   "source": [
    "### concatination operation\n",
    "\n",
    "lst1 + [\"New elemet\", 3]"
   ]
  },
  {
   "cell_type": "code",
   "execution_count": 33,
   "id": "12c5b5b7-4f85-4edd-98fe-4ba995f81ac9",
   "metadata": {},
   "outputs": [],
   "source": [
    "lst2=lst1 + [[\"New elemet\", 3]] ##### multinested list i.e list inside list"
   ]
  },
  {
   "cell_type": "code",
   "execution_count": 26,
   "id": "64a75da7-249e-4fa8-93d5-6e5a2b08bc7b",
   "metadata": {},
   "outputs": [
    {
     "data": {
      "text/plain": [
       "['PW', 'skills', 'Datas', 'Master', 'Series', ['New elemet', 3]]"
      ]
     },
     "execution_count": 26,
     "metadata": {},
     "output_type": "execute_result"
    }
   ],
   "source": [
    "lst2"
   ]
  },
  {
   "cell_type": "code",
   "execution_count": 27,
   "id": "937dbe12-b5ea-421b-b4ab-ad3cd1e04f77",
   "metadata": {},
   "outputs": [
    {
     "data": {
      "text/plain": [
       "['New elemet', 3]"
      ]
     },
     "execution_count": 27,
     "metadata": {},
     "output_type": "execute_result"
    }
   ],
   "source": [
    "lst2[-1]"
   ]
  },
  {
   "cell_type": "code",
   "execution_count": 28,
   "id": "c03a75f8-d9ad-43ce-a291-e279b7947052",
   "metadata": {},
   "outputs": [
    {
     "data": {
      "text/plain": [
       "'New elemet'"
      ]
     },
     "execution_count": 28,
     "metadata": {},
     "output_type": "execute_result"
    }
   ],
   "source": [
    "lst2[-1][0] ## kirrak"
   ]
  },
  {
   "cell_type": "code",
   "execution_count": 29,
   "id": "09ea124c-d211-40df-9d0f-00e113708bef",
   "metadata": {},
   "outputs": [
    {
     "data": {
      "text/plain": [
       "['PW',\n",
       " 'skills',\n",
       " 'Datas',\n",
       " 'Master',\n",
       " 'Series',\n",
       " 'PW',\n",
       " 'skills',\n",
       " 'Datas',\n",
       " 'Master',\n",
       " 'Series']"
      ]
     },
     "execution_count": 29,
     "metadata": {},
     "output_type": "execute_result"
    }
   ],
   "source": [
    "lst1 * 2"
   ]
  },
  {
   "cell_type": "code",
   "execution_count": 30,
   "id": "d6e5fdae-7f72-40bf-a55f-d483dc4af764",
   "metadata": {},
   "outputs": [],
   "source": [
    "lst2[-1]=\"Hitesh\""
   ]
  },
  {
   "cell_type": "code",
   "execution_count": 31,
   "id": "498d5a3c-b0d3-4e33-9544-e390b082260b",
   "metadata": {},
   "outputs": [
    {
     "data": {
      "text/plain": [
       "['PW', 'skills', 'Datas', 'Master', 'Series', 'Hitesh']"
      ]
     },
     "execution_count": 31,
     "metadata": {},
     "output_type": "execute_result"
    }
   ],
   "source": [
    "lst2"
   ]
  },
  {
   "cell_type": "code",
   "execution_count": 34,
   "id": "536bf15f-3f0b-49ef-841b-6f1971249015",
   "metadata": {},
   "outputs": [
    {
     "data": {
      "text/plain": [
       "['PW', 'skills', 'Datas', 'Master', 'Series', ['New elemet', 3]]"
      ]
     },
     "execution_count": 34,
     "metadata": {},
     "output_type": "execute_result"
    }
   ],
   "source": [
    "lst2"
   ]
  },
  {
   "cell_type": "code",
   "execution_count": 35,
   "id": "4d4da186-a30f-4445-84a8-bf26ceff429f",
   "metadata": {},
   "outputs": [
    {
     "data": {
      "text/plain": [
       "['PW', 'skills', 'Datas', 'Master', 'Series']"
      ]
     },
     "execution_count": 35,
     "metadata": {},
     "output_type": "execute_result"
    }
   ],
   "source": [
    "lst1"
   ]
  },
  {
   "cell_type": "code",
   "execution_count": 38,
   "id": "d80f33b1-1d0b-41ee-bc02-875e09040e1f",
   "metadata": {},
   "outputs": [],
   "source": [
    "lst1[2]=\"DataScince\""
   ]
  },
  {
   "cell_type": "code",
   "execution_count": 46,
   "id": "e01fcac5-0e11-430c-a0d6-ae5e3185d8f5",
   "metadata": {},
   "outputs": [
    {
     "data": {
      "text/plain": [
       "['PW', 'skills', 'DataScince', 'Master', 'Series']"
      ]
     },
     "execution_count": 46,
     "metadata": {},
     "output_type": "execute_result"
    }
   ],
   "source": [
    "lst1"
   ]
  },
  {
   "cell_type": "code",
   "execution_count": 48,
   "id": "dbb47a5e-dea5-4e6c-b9af-07472d3f38f7",
   "metadata": {},
   "outputs": [
    {
     "name": "stdout",
     "output_type": "stream",
     "text": [
      "PW\n",
      "skills\n",
      "DataScince\n",
      "Master\n",
      "Series\n"
     ]
    }
   ],
   "source": [
    "### using for loop whether DataScince is presenting in list or not \n",
    "\n",
    "for element in lst1:\n",
    "    print(element)"
   ]
  },
  {
   "cell_type": "code",
   "execution_count": 52,
   "id": "5c230ade-273a-4fb7-bfe1-478eb67628d0",
   "metadata": {},
   "outputs": [],
   "source": [
    "if \"DataScience\" in lst1:\n",
    "    print(\"present\")"
   ]
  },
  {
   "cell_type": "code",
   "execution_count": 51,
   "id": "67d7f7db-fd3e-4871-b305-4593db965996",
   "metadata": {},
   "outputs": [
    {
     "name": "stdout",
     "output_type": "stream",
     "text": [
      "DataScince\n"
     ]
    }
   ],
   "source": [
    "\n",
    "for elements in lst1:\n",
    "    if elements==\"DataScince\":\n",
    "        print(elements)\n",
    "        break"
   ]
  },
  {
   "cell_type": "code",
   "execution_count": 53,
   "id": "6f218be5-d8b1-4255-801e-a08c21836c32",
   "metadata": {},
   "outputs": [
    {
     "data": {
      "text/plain": [
       "['PW', 'skills', 'DataScince', 'Master', 'Series']"
      ]
     },
     "execution_count": 53,
     "metadata": {},
     "output_type": "execute_result"
    }
   ],
   "source": [
    "## check elements inside a list\n",
    "lst1"
   ]
  },
  {
   "cell_type": "code",
   "execution_count": 54,
   "id": "4f128873-bcf6-4d24-818a-cdaa17f6b20d",
   "metadata": {},
   "outputs": [
    {
     "data": {
      "text/plain": [
       "True"
      ]
     },
     "execution_count": 54,
     "metadata": {},
     "output_type": "execute_result"
    }
   ],
   "source": [
    "lst=[1,2,3,4]\n",
    "4 in lst"
   ]
  },
  {
   "cell_type": "code",
   "execution_count": 55,
   "id": "169878ad-67bf-4a1a-90e3-be2c0577c6f4",
   "metadata": {},
   "outputs": [
    {
     "data": {
      "text/plain": [
       "True"
      ]
     },
     "execution_count": 55,
     "metadata": {},
     "output_type": "execute_result"
    }
   ],
   "source": [
    "2.0 in lst"
   ]
  },
  {
   "cell_type": "code",
   "execution_count": 56,
   "id": "7c435ae6-b20e-4293-96b4-be18e0b0e95a",
   "metadata": {},
   "outputs": [],
   "source": [
    "## Applying some inbuilt functions\n",
    "list1=[\"Zebra\",\"Monkey\",\"Donkey\",\"Lion\"]\n",
    "list2=[5,6,2,9,5,8,6]"
   ]
  },
  {
   "cell_type": "code",
   "execution_count": 58,
   "id": "6eeee92d-836d-4853-8493-a3689cd681a7",
   "metadata": {},
   "outputs": [
    {
     "name": "stdout",
     "output_type": "stream",
     "text": [
      "Zebra\n"
     ]
    }
   ],
   "source": [
    "print(max(list1)) ### it will check based on ASCII code"
   ]
  },
  {
   "cell_type": "code",
   "execution_count": 59,
   "id": "134f374e-855b-4e58-8c10-0a857d8182a4",
   "metadata": {},
   "outputs": [
    {
     "name": "stdout",
     "output_type": "stream",
     "text": [
      "9\n"
     ]
    }
   ],
   "source": [
    "print(max(list2))"
   ]
  },
  {
   "cell_type": "code",
   "execution_count": 60,
   "id": "644d812b-81d4-41d1-ae43-31972bc63e33",
   "metadata": {},
   "outputs": [
    {
     "data": {
      "text/plain": [
       "'Donkey'"
      ]
     },
     "execution_count": 60,
     "metadata": {},
     "output_type": "execute_result"
    }
   ],
   "source": [
    "min(list1)"
   ]
  },
  {
   "cell_type": "code",
   "execution_count": 61,
   "id": "e18d6c80-81a7-4d01-982d-55935a1fa633",
   "metadata": {},
   "outputs": [
    {
     "data": {
      "text/plain": [
       "2"
      ]
     },
     "execution_count": 61,
     "metadata": {},
     "output_type": "execute_result"
    }
   ],
   "source": [
    "min(list2)"
   ]
  },
  {
   "cell_type": "code",
   "execution_count": 62,
   "id": "9449cb39-5cff-42f7-bfc7-1941debe0a3a",
   "metadata": {},
   "outputs": [
    {
     "data": {
      "text/plain": [
       "True"
      ]
     },
     "execution_count": 62,
     "metadata": {},
     "output_type": "execute_result"
    }
   ],
   "source": [
    "5==5.0"
   ]
  },
  {
   "cell_type": "code",
   "execution_count": 63,
   "id": "6b0b565a-5203-4e7d-a9af-3ca37aeca69c",
   "metadata": {},
   "outputs": [],
   "source": [
    "## Append \n",
    "lst=[1,2,3,4,5,6]"
   ]
  },
  {
   "cell_type": "code",
   "execution_count": 64,
   "id": "1a591553-c911-46be-96b6-ec10b21d994b",
   "metadata": {},
   "outputs": [
    {
     "data": {
      "text/plain": [
       "[1, 2, 3, 4, 5, 6]"
      ]
     },
     "execution_count": 64,
     "metadata": {},
     "output_type": "execute_result"
    }
   ],
   "source": [
    "lst"
   ]
  },
  {
   "cell_type": "code",
   "execution_count": 65,
   "id": "79b63765-0bd9-4b71-aee1-b0fe05f8d8a5",
   "metadata": {},
   "outputs": [],
   "source": [
    "lst.append(\"Hitesh\") ### it is like an inplace operation"
   ]
  },
  {
   "cell_type": "code",
   "execution_count": 66,
   "id": "7583e33f-88e4-4205-a1ee-b651bbcacb65",
   "metadata": {},
   "outputs": [
    {
     "data": {
      "text/plain": [
       "[1, 2, 3, 4, 5, 6, 'Hitesh']"
      ]
     },
     "execution_count": 66,
     "metadata": {},
     "output_type": "execute_result"
    }
   ],
   "source": [
    "lst"
   ]
  },
  {
   "cell_type": "code",
   "execution_count": 67,
   "id": "fb2ea6be-5cf6-439f-9aa0-4ed26a5bfb2a",
   "metadata": {},
   "outputs": [],
   "source": [
    "lst.append([\"Data\",\"Science\"])"
   ]
  },
  {
   "cell_type": "code",
   "execution_count": 68,
   "id": "f2166cdd-1888-4ff9-9861-9acca9cbde9a",
   "metadata": {},
   "outputs": [
    {
     "data": {
      "text/plain": [
       "[1, 2, 3, 4, 5, 6, 'Hitesh', ['Data', 'Science']]"
      ]
     },
     "execution_count": 68,
     "metadata": {},
     "output_type": "execute_result"
    }
   ],
   "source": [
    "lst"
   ]
  },
  {
   "cell_type": "code",
   "execution_count": 69,
   "id": "1f648b65-fee7-4297-8492-a0760356bdfc",
   "metadata": {},
   "outputs": [],
   "source": [
    "lst.append(7)"
   ]
  },
  {
   "cell_type": "code",
   "execution_count": 70,
   "id": "9fd1534c-980b-49cb-a7b7-e64ac75021df",
   "metadata": {},
   "outputs": [
    {
     "data": {
      "text/plain": [
       "[1, 2, 3, 4, 5, 6, 'Hitesh', ['Data', 'Science'], 7]"
      ]
     },
     "execution_count": 70,
     "metadata": {},
     "output_type": "execute_result"
    }
   ],
   "source": [
    "lst"
   ]
  },
  {
   "cell_type": "code",
   "execution_count": 79,
   "id": "5716d621-cbce-44ae-baf5-995a06e0fae7",
   "metadata": {},
   "outputs": [
    {
     "data": {
      "text/plain": [
       "['Monkey']"
      ]
     },
     "execution_count": 79,
     "metadata": {},
     "output_type": "execute_result"
    }
   ],
   "source": [
    "list1"
   ]
  },
  {
   "cell_type": "code",
   "execution_count": 73,
   "id": "66d6e327-6382-42b2-9664-29aeed803e40",
   "metadata": {},
   "outputs": [
    {
     "data": {
      "text/plain": [
       "'Lion'"
      ]
     },
     "execution_count": 73,
     "metadata": {},
     "output_type": "execute_result"
    }
   ],
   "source": [
    "list1.pop()  ## it removes the last element in the list \n",
    "              ## here no index is given "
   ]
  },
  {
   "cell_type": "code",
   "execution_count": 82,
   "id": "4c7ee3aa-3391-4686-ad87-a6cc57526a98",
   "metadata": {},
   "outputs": [
    {
     "data": {
      "text/plain": [
       "['Monkey']"
      ]
     },
     "execution_count": 82,
     "metadata": {},
     "output_type": "execute_result"
    }
   ],
   "source": [
    "list1"
   ]
  },
  {
   "cell_type": "code",
   "execution_count": 75,
   "id": "033652c1-d225-4d2c-b754-b2b166a329b1",
   "metadata": {},
   "outputs": [
    {
     "data": {
      "text/plain": [
       "'Donkey'"
      ]
     },
     "execution_count": 75,
     "metadata": {},
     "output_type": "execute_result"
    }
   ],
   "source": [
    "list1.pop(2)"
   ]
  },
  {
   "cell_type": "code",
   "execution_count": 76,
   "id": "8641f474-6dc9-4d0b-b1a3-345d1a781dca",
   "metadata": {},
   "outputs": [
    {
     "data": {
      "text/plain": [
       "['Zebra', 'Monkey']"
      ]
     },
     "execution_count": 76,
     "metadata": {},
     "output_type": "execute_result"
    }
   ],
   "source": [
    "list1"
   ]
  },
  {
   "cell_type": "code",
   "execution_count": 77,
   "id": "d8a2df89-528a-40c6-b8c9-903d8c007708",
   "metadata": {},
   "outputs": [
    {
     "data": {
      "text/plain": [
       "'Zebra'"
      ]
     },
     "execution_count": 77,
     "metadata": {},
     "output_type": "execute_result"
    }
   ],
   "source": [
    "removed_element=list1.pop(0)\n",
    "removed_element"
   ]
  },
  {
   "cell_type": "code",
   "execution_count": 80,
   "id": "ed2b6254-7b79-4a82-8d04-2d26fb49b663",
   "metadata": {},
   "outputs": [
    {
     "data": {
      "text/plain": [
       "['Monkey']"
      ]
     },
     "execution_count": 80,
     "metadata": {},
     "output_type": "execute_result"
    }
   ],
   "source": [
    "list1"
   ]
  },
  {
   "cell_type": "code",
   "execution_count": 81,
   "id": "defc183f-ce64-44e9-a2ad-73a17f30927a",
   "metadata": {},
   "outputs": [
    {
     "data": {
      "text/plain": [
       "['Monkey']"
      ]
     },
     "execution_count": 81,
     "metadata": {},
     "output_type": "execute_result"
    }
   ],
   "source": [
    "list1"
   ]
  },
  {
   "cell_type": "code",
   "execution_count": 83,
   "id": "61f33b5e-ed24-4149-9c9a-ee0d9477de53",
   "metadata": {},
   "outputs": [
    {
     "data": {
      "text/plain": [
       "['q', 'e', 'f', 's', 't', 'u']"
      ]
     },
     "execution_count": 83,
     "metadata": {},
     "output_type": "execute_result"
    }
   ],
   "source": [
    "new_list=['q','e','f','s','t','u']\n",
    "new_list"
   ]
  },
  {
   "cell_type": "code",
   "execution_count": 84,
   "id": "253993b1-3933-4979-bb40-8a21412eb839",
   "metadata": {},
   "outputs": [
    {
     "data": {
      "text/plain": [
       "['u', 't', 's', 'f', 'e', 'q']"
      ]
     },
     "execution_count": 84,
     "metadata": {},
     "output_type": "execute_result"
    }
   ],
   "source": [
    "new_list[::-1]"
   ]
  },
  {
   "cell_type": "code",
   "execution_count": 85,
   "id": "ed5ddc2d-76ae-41ac-a024-a89ee1c2c328",
   "metadata": {},
   "outputs": [],
   "source": [
    "### inplace operation\n",
    "new_list.reverse()"
   ]
  },
  {
   "cell_type": "code",
   "execution_count": 86,
   "id": "72938f80-d78f-4207-9a34-8e3d263c9e43",
   "metadata": {},
   "outputs": [
    {
     "data": {
      "text/plain": [
       "['u', 't', 's', 'f', 'e', 'q']"
      ]
     },
     "execution_count": 86,
     "metadata": {},
     "output_type": "execute_result"
    }
   ],
   "source": [
    "new_list"
   ]
  },
  {
   "cell_type": "code",
   "execution_count": 87,
   "id": "303baed8-3048-4065-8756-26815d48a582",
   "metadata": {},
   "outputs": [],
   "source": [
    "new_list.sort()"
   ]
  },
  {
   "cell_type": "code",
   "execution_count": 88,
   "id": "0756e7aa-3236-4350-9a39-1d231b44920a",
   "metadata": {},
   "outputs": [
    {
     "data": {
      "text/plain": [
       "['e', 'f', 'q', 's', 't', 'u']"
      ]
     },
     "execution_count": 88,
     "metadata": {},
     "output_type": "execute_result"
    }
   ],
   "source": [
    "new_list"
   ]
  },
  {
   "cell_type": "code",
   "execution_count": 97,
   "id": "b66d817e-f783-45f3-bfb4-4e4e3e2494a0",
   "metadata": {},
   "outputs": [],
   "source": [
    "lst=[1,2,3,4,5,6]\n",
    "lst.append(10)\n",
    "\n",
    "\n"
   ]
  },
  {
   "cell_type": "code",
   "execution_count": 98,
   "id": "50f753ad-af11-4e7e-b9a7-d91f517b208f",
   "metadata": {},
   "outputs": [
    {
     "data": {
      "text/plain": [
       "[1, 2, 3, 4, 5, 6, 10]"
      ]
     },
     "execution_count": 98,
     "metadata": {},
     "output_type": "execute_result"
    }
   ],
   "source": [
    "lst"
   ]
  },
  {
   "cell_type": "code",
   "execution_count": 92,
   "id": "b134599b-6af8-41f5-a33b-c28fdb5d1578",
   "metadata": {},
   "outputs": [],
   "source": [
    "lst.append(['Hitesh','Kumar'])"
   ]
  },
  {
   "cell_type": "code",
   "execution_count": 93,
   "id": "c304f74b-6750-473a-b572-b2126113fbae",
   "metadata": {},
   "outputs": [
    {
     "data": {
      "text/plain": [
       "[1, 2, 3, 4, 5, 6, 10, ['Hitesh', 'Kumar']]"
      ]
     },
     "execution_count": 93,
     "metadata": {},
     "output_type": "execute_result"
    }
   ],
   "source": [
    "lst"
   ]
  },
  {
   "cell_type": "code",
   "execution_count": 99,
   "id": "c7356e49-d60f-4ce8-9501-87a1871b7db3",
   "metadata": {},
   "outputs": [],
   "source": [
    "lst.extend(['Hitesh','Kumar'])"
   ]
  },
  {
   "cell_type": "code",
   "execution_count": 100,
   "id": "4cf3a2c1-f0a1-4627-9f4c-711b19d3ff3f",
   "metadata": {},
   "outputs": [
    {
     "data": {
      "text/plain": [
       "[1, 2, 3, 4, 5, 6, 10, 'Hitesh', 'Kumar']"
      ]
     },
     "execution_count": 100,
     "metadata": {},
     "output_type": "execute_result"
    }
   ],
   "source": [
    "lst"
   ]
  },
  {
   "cell_type": "code",
   "execution_count": 89,
   "id": "21f0a013-7acf-4c60-8d6b-4116244971e0",
   "metadata": {},
   "outputs": [],
   "source": [
    "#### nested list"
   ]
  },
  {
   "cell_type": "markdown",
   "id": "cbe529c9-aee6-43b2-87fe-bc9a7a730a75",
   "metadata": {},
   "source": [
    "# nested list"
   ]
  },
  {
   "cell_type": "code",
   "execution_count": 101,
   "id": "391741ca-fcdb-46d5-8cbb-a70845cfb630",
   "metadata": {},
   "outputs": [],
   "source": [
    "# lets make three lists\n",
    "l1=[1,2,3]\n",
    "l2=[4,5,6]\n",
    "l3=[7,8,9]\n",
    "\n",
    "## make a list of lists to form a matrix\n",
    "matrix=[l1,l2,l3]"
   ]
  },
  {
   "cell_type": "code",
   "execution_count": 102,
   "id": "65317da7-45cf-4079-91dd-fa624c7efecc",
   "metadata": {},
   "outputs": [
    {
     "data": {
      "text/plain": [
       "[[1, 2, 3], [4, 5, 6], [7, 8, 9]]"
      ]
     },
     "execution_count": 102,
     "metadata": {},
     "output_type": "execute_result"
    }
   ],
   "source": [
    "matrix"
   ]
  },
  {
   "cell_type": "code",
   "execution_count": 103,
   "id": "a7ec8023-3949-4db5-b0c5-0bffa3e4b2ff",
   "metadata": {},
   "outputs": [
    {
     "data": {
      "text/plain": [
       "6"
      ]
     },
     "execution_count": 103,
     "metadata": {},
     "output_type": "execute_result"
    }
   ],
   "source": [
    "## how to pick up 6\n",
    "matrix[1][2]"
   ]
  },
  {
   "cell_type": "code",
   "execution_count": 105,
   "id": "afaedcc7-ac84-4ced-9528-fbe3d2e5ed69",
   "metadata": {},
   "outputs": [
    {
     "data": {
      "text/plain": [
       "[7, 8, 9]"
      ]
     },
     "execution_count": 105,
     "metadata": {},
     "output_type": "execute_result"
    }
   ],
   "source": [
    "## pick 8,9\n",
    "matrix[2][:]"
   ]
  },
  {
   "cell_type": "code",
   "execution_count": 106,
   "id": "5e494dc2-11b7-4778-93ca-52e50432e2d7",
   "metadata": {},
   "outputs": [
    {
     "data": {
      "text/plain": [
       "[8, 9]"
      ]
     },
     "execution_count": 106,
     "metadata": {},
     "output_type": "execute_result"
    }
   ],
   "source": [
    "matrix[2][1:]"
   ]
  },
  {
   "cell_type": "code",
   "execution_count": 107,
   "id": "cc90548b-2bc6-4643-ae78-f1a7bf469ecf",
   "metadata": {},
   "outputs": [
    {
     "data": {
      "text/plain": [
       "[[1, 2, 3], [4, 5, 6], [7, 8, 9]]"
      ]
     },
     "execution_count": 107,
     "metadata": {},
     "output_type": "execute_result"
    }
   ],
   "source": [
    "#pick 1,4,7 ### we can do this in arrays\n",
    "matrix[:]"
   ]
  },
  {
   "cell_type": "markdown",
   "id": "c0f39865-41e9-4d07-91b5-6fad767fb6f4",
   "metadata": {},
   "source": [
    "\n",
    "## list comprehension"
   ]
  },
  {
   "cell_type": "code",
   "execution_count": 109,
   "id": "a6daf3af-f071-438d-a0ed-6ad93e301f0f",
   "metadata": {},
   "outputs": [
    {
     "data": {
      "text/plain": [
       "[0, 1, 2, 3, 4, 5, 6, 7, 8, 9, 10, 11, 12, 13, 14, 15, 16, 17, 18, 19]"
      ]
     },
     "execution_count": 109,
     "metadata": {},
     "output_type": "execute_result"
    }
   ],
   "source": [
    "[ i for i in range (20)]"
   ]
  },
  {
   "cell_type": "code",
   "execution_count": 112,
   "id": "ded01d5b-59cc-4fb7-a27c-c0a1f61e9f6f",
   "metadata": {},
   "outputs": [
    {
     "data": {
      "text/plain": [
       "[0,\n",
       " 'Odd',\n",
       " 2,\n",
       " 'Odd',\n",
       " 4,\n",
       " 'Odd',\n",
       " 6,\n",
       " 'Odd',\n",
       " 8,\n",
       " 'Odd',\n",
       " 10,\n",
       " 'Odd',\n",
       " 12,\n",
       " 'Odd',\n",
       " 14,\n",
       " 'Odd',\n",
       " 16,\n",
       " 'Odd',\n",
       " 18,\n",
       " 'Odd']"
      ]
     },
     "execution_count": 112,
     "metadata": {},
     "output_type": "execute_result"
    }
   ],
   "source": [
    "# even numbers\n",
    "[i if i%2==0 else \"Odd\" for i in range(20) ]"
   ]
  },
  {
   "cell_type": "code",
   "execution_count": 113,
   "id": "4caab9e1-31b5-4bb2-b439-a9861a8fd4e2",
   "metadata": {},
   "outputs": [
    {
     "data": {
      "text/plain": [
       "[0, 1, 2, 3, 4, 5, 6, 7, 8, 9, 10, 11, 12, 13, 14, 15, 16, 17, 18, 19]"
      ]
     },
     "execution_count": 113,
     "metadata": {},
     "output_type": "execute_result"
    }
   ],
   "source": [
    "[i for i in range(0,20)]"
   ]
  },
  {
   "cell_type": "code",
   "execution_count": 115,
   "id": "1f2aace0-1d5a-419d-86ce-e16540150a43",
   "metadata": {},
   "outputs": [
    {
     "data": {
      "text/plain": [
       "[0, '', 2, '', 4, '', 6, '', 8, '', 10, '', 12, '', 14, '', 16, '', 18, '']"
      ]
     },
     "execution_count": 115,
     "metadata": {},
     "output_type": "execute_result"
    }
   ],
   "source": [
    "[i if i%2==0 else \"\" for i in range(0,20)]"
   ]
  },
  {
   "cell_type": "code",
   "execution_count": 3,
   "id": "535a01be-00fd-4a6e-978d-b56b5f495206",
   "metadata": {},
   "outputs": [],
   "source": [
    "#### ASSIGNMENT\n",
    "## Sum of even numbers and odd numbers\n",
    "lst=[1,2,3,4,5,6,7,8]\n"
   ]
  },
  {
   "cell_type": "code",
   "execution_count": 4,
   "id": "df3fa846-6a11-4c04-9e81-4acf65fcd910",
   "metadata": {},
   "outputs": [
    {
     "name": "stdout",
     "output_type": "stream",
     "text": [
      "20\n",
      "16\n"
     ]
    }
   ],
   "source": [
    "lst=[1,2,3,4,5,6,7,8]\n",
    "even_sum=0\n",
    "odd_sum=0\n",
    "\n",
    "for i in lst:\n",
    "    if i%2==0:\n",
    "        even_sum += i\n",
    "    else:\n",
    "        odd_sum += i\n",
    "print(even_sum)\n",
    "print(odd_sum)"
   ]
  },
  {
   "cell_type": "code",
   "execution_count": 9,
   "id": "bb4e7e6a-586a-4ac5-8076-19a62596cfe3",
   "metadata": {},
   "outputs": [],
   "source": [
    "even_sum=sum([num for num in lst if num%2==0]) ### using list comprehension"
   ]
  },
  {
   "cell_type": "code",
   "execution_count": 10,
   "id": "95a41a5e-d7cc-4778-91dc-ae8e3d259a83",
   "metadata": {},
   "outputs": [
    {
     "data": {
      "text/plain": [
       "20"
      ]
     },
     "execution_count": 10,
     "metadata": {},
     "output_type": "execute_result"
    }
   ],
   "source": [
    "even_sum"
   ]
  },
  {
   "cell_type": "code",
   "execution_count": 11,
   "id": "b40f5c48-37a8-4f83-8d71-8447cd168624",
   "metadata": {},
   "outputs": [],
   "source": [
    "odd_sum=sum([num for num in lst if num%2==1])"
   ]
  },
  {
   "cell_type": "code",
   "execution_count": 12,
   "id": "994930fb-c2db-4ca3-82da-f4361cf16bed",
   "metadata": {},
   "outputs": [
    {
     "data": {
      "text/plain": [
       "16"
      ]
     },
     "execution_count": 12,
     "metadata": {},
     "output_type": "execute_result"
    }
   ],
   "source": [
    "odd_sum"
   ]
  },
  {
   "cell_type": "code",
   "execution_count": null,
   "id": "de89c7aa-3105-4383-82e1-06bfd68c01c3",
   "metadata": {},
   "outputs": [],
   "source": [
    "\n"
   ]
  },
  {
   "cell_type": "code",
   "execution_count": 14,
   "id": "ceb1671b-a465-4500-803e-25f3bc93e7fd",
   "metadata": {},
   "outputs": [
    {
     "data": {
      "text/plain": [
       "[1, 4, 9, 16, 25, 36, 49, 64, 81]"
      ]
     },
     "execution_count": 14,
     "metadata": {},
     "output_type": "execute_result"
    }
   ],
   "source": [
    "## suare of all the numbers using nested comprehension\n",
    "lst=[1,2,3,4,5,6,7,8,9]\n",
    "[num**2 for num in lst ]"
   ]
  },
  {
   "cell_type": "code",
   "execution_count": 18,
   "id": "dfaaff93-d7f0-46c2-a6b2-a1ce9ac6ec00",
   "metadata": {},
   "outputs": [
    {
     "name": "stdout",
     "output_type": "stream",
     "text": [
      "[1, 2, 3, 4]\n"
     ]
    }
   ],
   "source": [
    "\n",
    "## create a list of only positive numbers in a list\n",
    "numbers=[-2,-1,0,1,2,3,4]\n",
    "[i for i in numbers if i>0 ]\n"
   ]
  },
  {
   "cell_type": "code",
   "execution_count": 25,
   "id": "97a72926-2df9-4351-879c-fa80277a33c2",
   "metadata": {},
   "outputs": [
    {
     "data": {
      "text/plain": [
       "['a', 'b', 'c', 'd']"
      ]
     },
     "execution_count": 25,
     "metadata": {},
     "output_type": "execute_result"
    }
   ],
   "source": [
    "\n",
    "# create a list of only first letters of words in a list \n",
    "words=['apple','banana','cherry','date']\n",
    "[word[0] for word in words]"
   ]
  },
  {
   "cell_type": "code",
   "execution_count": null,
   "id": "f9ee4c49-2f3a-4d2c-a96b-42ae35bf91f0",
   "metadata": {},
   "outputs": [],
   "source": []
  },
  {
   "cell_type": "code",
   "execution_count": null,
   "id": "6573ee0b-2c82-43b4-9862-cf737f62858b",
   "metadata": {},
   "outputs": [],
   "source": []
  },
  {
   "cell_type": "code",
   "execution_count": 27,
   "id": "dcfada3c-9545-4389-a799-beb51502ece4",
   "metadata": {},
   "outputs": [
    {
     "ename": "NameError",
     "evalue": "name 'temp' is not defined",
     "output_type": "error",
     "traceback": [
      "\u001b[0;31m---------------------------------------------------------------------------\u001b[0m",
      "\u001b[0;31mNameError\u001b[0m                                 Traceback (most recent call last)",
      "Cell \u001b[0;32mIn[27], line 1\u001b[0m\n\u001b[0;32m----> 1\u001b[0m (\u001b[38;5;241m9\u001b[39m\u001b[38;5;241m/\u001b[39m\u001b[38;5;241m5\u001b[39m)\u001b[38;5;241m*\u001b[39m\u001b[43mtemp\u001b[49m\u001b[38;5;241m+\u001b[39m\u001b[38;5;241m32\u001b[39m\n",
      "\u001b[0;31mNameError\u001b[0m: name 'temp' is not defined"
     ]
    }
   ],
   "source": [
    "(9/5)*temp+32 ###### formula"
   ]
  },
  {
   "cell_type": "code",
   "execution_count": 28,
   "id": "a06d4504-6c90-46ad-8488-f63ea58dea9c",
   "metadata": {},
   "outputs": [
    {
     "data": {
      "text/plain": [
       "[32.0, 50.0, 68.0, 86.0, 104.0, 122.0]"
      ]
     },
     "execution_count": 28,
     "metadata": {},
     "output_type": "execute_result"
    }
   ],
   "source": [
    "## ex4: convert a list of temperatures from celsius to fahrenheit using list comp\n",
    "celsius_temperature = [0, 10, 20, 30, 40, 50]\n",
    "[((9/5)*i+32) for i in celsius_temperature ]"
   ]
  },
  {
   "cell_type": "code",
   "execution_count": null,
   "id": "0f0f72a0-840a-4aaf-addc-66069966c66a",
   "metadata": {},
   "outputs": [],
   "source": [
    "\n"
   ]
  },
  {
   "cell_type": "code",
   "execution_count": 31,
   "id": "1a00d3f8-26d9-4461-a61f-e12b8d409ff2",
   "metadata": {},
   "outputs": [
    {
     "data": {
      "text/plain": [
       "[1, 2, 3, 4, 5, 6, 7, 8, 9]"
      ]
     },
     "execution_count": 31,
     "metadata": {},
     "output_type": "execute_result"
    }
   ],
   "source": [
    "## ex5 Flatten a list of lists in to a single list \n",
    "lists= [[1,2,3],[4,5,6],[7,8,9]]\n",
    "[i for j in lists for i in j] #[num for sublist in lists for num  in sublist]"
   ]
  },
  {
   "cell_type": "code",
   "execution_count": 35,
   "id": "c679715b-558c-40fa-accc-6b7526d37ddf",
   "metadata": {},
   "outputs": [
    {
     "name": "stdout",
     "output_type": "stream",
     "text": [
      "[]\n"
     ]
    }
   ],
   "source": [
    "## ASSIGNMENT \n",
    "## USING BOTH CODE AND LIST COMPREHENSION \n",
    "# CREATE A LIST OF ONLY THE PRIME NUMBERS FROM A GIVEN LIST \n",
    "numbers=[1,2,3,4,5,6,7,8,9,10]\n"
   ]
  },
  {
   "cell_type": "code",
   "execution_count": 36,
   "id": "5de802d0-7452-45c0-818b-5251a2e9cf5a",
   "metadata": {},
   "outputs": [],
   "source": [
    "# create a list of all the possible combinations of 2 elements from a list \n",
    "numbers=[1,2,3,4,5]"
   ]
  },
  {
   "cell_type": "code",
   "execution_count": null,
   "id": "437b1af7-4204-456a-a765-c960140ec529",
   "metadata": {},
   "outputs": [],
   "source": []
  },
  {
   "cell_type": "code",
   "execution_count": 37,
   "id": "cd8d6ce8-1a1c-41ab-9029-2ca665d162e2",
   "metadata": {},
   "outputs": [
    {
     "data": {
      "text/plain": [
       "[1, 2, 3, 4, 5, 6, 7, 8, 9]"
      ]
     },
     "execution_count": 37,
     "metadata": {},
     "output_type": "execute_result"
    }
   ],
   "source": [
    "lists= [[1,2,3],[4,5,6],[7,8,9]]\n",
    "[j for i in lists for j in i]"
   ]
  },
  {
   "cell_type": "code",
   "execution_count": null,
   "id": "eaffdcb7-f9f9-4165-982d-f762667d61e6",
   "metadata": {},
   "outputs": [],
   "source": []
  }
 ],
 "metadata": {
  "kernelspec": {
   "display_name": "Python 3 (ipykernel)",
   "language": "python",
   "name": "python3"
  },
  "language_info": {
   "codemirror_mode": {
    "name": "ipython",
    "version": 3
   },
   "file_extension": ".py",
   "mimetype": "text/x-python",
   "name": "python",
   "nbconvert_exporter": "python",
   "pygments_lexer": "ipython3",
   "version": "3.10.8"
  }
 },
 "nbformat": 4,
 "nbformat_minor": 5
}
