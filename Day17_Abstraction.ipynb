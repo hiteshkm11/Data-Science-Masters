{
 "cells": [
  {
   "cell_type": "markdown",
   "id": "befa6bbd-e9e6-4d89-816d-44aef0773f14",
   "metadata": {},
   "source": [
    "# Abstraction"
   ]
  },
  {
   "cell_type": "code",
   "execution_count": 4,
   "id": "b004e074-b3f0-4080-9fa9-3d701f86f26b",
   "metadata": {},
   "outputs": [],
   "source": [
    "import abc\n",
    "\n",
    "\n",
    "class dsm :\n",
    "    \n",
    "    @abc.abstractmethod\n",
    "    def student_details (self):\n",
    "        pass\n",
    "    \n",
    "    @abc.abstractmethod\n",
    "    def student_assignment(self):\n",
    "        pass\n",
    "    \n",
    "    @abc.abstractmethod\n",
    "    def student_marks(self):\n",
    "        pass\n",
    "        "
   ]
  },
  {
   "cell_type": "code",
   "execution_count": 5,
   "id": "70d288ff-afcb-4e44-89a2-6e2458f4bf0f",
   "metadata": {},
   "outputs": [],
   "source": [
    "class data_science(dsm):\n",
    "    \n",
    "    def student_details(self):\n",
    "        return \"it will try to return a details of data science masters\"\n",
    "    \n",
    "    def student_assignment(self):\n",
    "        return \"it will return a details of student assignment for data science masters\""
   ]
  },
  {
   "cell_type": "code",
   "execution_count": 6,
   "id": "25b3f561-2221-48b4-8b68-54227c473304",
   "metadata": {},
   "outputs": [],
   "source": [
    "class python(dsm):\n",
    "    def student_details(self):\n",
    "        return \"this will return a details of python class\"\n",
    "    \n",
    "    \n",
    "    def student_marks(self):\n",
    "        return \"this will return a marks of python class\""
   ]
  },
  {
   "cell_type": "code",
   "execution_count": 9,
   "id": "00f383e2-d773-4653-a379-284b3b18dfa5",
   "metadata": {},
   "outputs": [
    {
     "data": {
      "text/plain": [
       "'it will try to return a details of data science masters'"
      ]
     },
     "execution_count": 9,
     "metadata": {},
     "output_type": "execute_result"
    }
   ],
   "source": [
    "ds = data_science()\n",
    "ds.student_details()"
   ]
  },
  {
   "cell_type": "code",
   "execution_count": 10,
   "id": "2923f83a-bf9d-4ac2-9b1a-2a19c43a1cb1",
   "metadata": {},
   "outputs": [
    {
     "data": {
      "text/plain": [
       "'this will return a details of python class'"
      ]
     },
     "execution_count": 10,
     "metadata": {},
     "output_type": "execute_result"
    }
   ],
   "source": [
    "py = python()\n",
    "py.student_details()"
   ]
  },
  {
   "cell_type": "code",
   "execution_count": null,
   "id": "e107735d-7bf0-4f35-b0ce-8e10c6de3613",
   "metadata": {},
   "outputs": [],
   "source": []
  }
 ],
 "metadata": {
  "kernelspec": {
   "display_name": "Python 3 (ipykernel)",
   "language": "python",
   "name": "python3"
  },
  "language_info": {
   "codemirror_mode": {
    "name": "ipython",
    "version": 3
   },
   "file_extension": ".py",
   "mimetype": "text/x-python",
   "name": "python",
   "nbconvert_exporter": "python",
   "pygments_lexer": "ipython3",
   "version": "3.10.8"
  }
 },
 "nbformat": 4,
 "nbformat_minor": 5
}
