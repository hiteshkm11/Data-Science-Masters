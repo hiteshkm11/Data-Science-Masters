{
 "cells": [
  {
   "cell_type": "markdown",
   "id": "2204a622-5e06-4709-9e9c-7fa8156ed69e",
   "metadata": {},
   "source": [
    "# sets"
   ]
  },
  {
   "cell_type": "code",
   "execution_count": 1,
   "id": "aae8c86a-8c72-4211-920b-1bbb586e4e03",
   "metadata": {},
   "outputs": [],
   "source": [
    "s={} ## when it was blank it is dictionary type variable"
   ]
  },
  {
   "cell_type": "code",
   "execution_count": 2,
   "id": "260366f9-fec1-435f-9c30-bed9016b0dbc",
   "metadata": {},
   "outputs": [
    {
     "data": {
      "text/plain": [
       "dict"
      ]
     },
     "execution_count": 2,
     "metadata": {},
     "output_type": "execute_result"
    }
   ],
   "source": [
    "type(s)"
   ]
  },
  {
   "cell_type": "code",
   "execution_count": 3,
   "id": "3364845f-28c6-4783-a21a-95c2d4403553",
   "metadata": {},
   "outputs": [],
   "source": [
    "s1 = {1,2,3,4} ## when it has something in {} it is set"
   ]
  },
  {
   "cell_type": "code",
   "execution_count": 4,
   "id": "5519c2bb-5efc-4326-829a-95336f59fd87",
   "metadata": {},
   "outputs": [
    {
     "data": {
      "text/plain": [
       "set"
      ]
     },
     "execution_count": 4,
     "metadata": {},
     "output_type": "execute_result"
    }
   ],
   "source": [
    "type(s1)"
   ]
  },
  {
   "cell_type": "code",
   "execution_count": 5,
   "id": "1dc63e2c-f003-489a-87e7-a622394f8851",
   "metadata": {},
   "outputs": [],
   "source": [
    "s2={1,2,1,3,4,5,33,55,64,64,6,4,35,235} ## set only takes the uniue values "
   ]
  },
  {
   "cell_type": "code",
   "execution_count": 7,
   "id": "eaf91280-4b60-480b-b051-09b757df1903",
   "metadata": {},
   "outputs": [
    {
     "data": {
      "text/plain": [
       "{1, 2, 3, 4, 5, 6, 33, 35, 55, 64, 235}"
      ]
     },
     "execution_count": 7,
     "metadata": {},
     "output_type": "execute_result"
    }
   ],
   "source": [
    "s2 ## it removes all the duplicate values"
   ]
  },
  {
   "cell_type": "markdown",
   "id": "705c71e2-bbed-4a29-a9af-acb2dd9453b4",
   "metadata": {},
   "source": [
    "### converting a set in to list"
   ]
  },
  {
   "cell_type": "code",
   "execution_count": 10,
   "id": "1b48c502-bf15-4d27-95bf-607e2adfeef6",
   "metadata": {},
   "outputs": [],
   "source": [
    "l=list(s2)"
   ]
  },
  {
   "cell_type": "markdown",
   "id": "20d13925-32af-4820-966d-11dedbf84b7b",
   "metadata": {},
   "source": [
    "### converting a set into tuple"
   ]
  },
  {
   "cell_type": "code",
   "execution_count": 9,
   "id": "639bf197-6a09-4b41-8366-c4a73d3067c9",
   "metadata": {},
   "outputs": [
    {
     "data": {
      "text/plain": [
       "(64, 1, 2, 3, 4, 5, 33, 6, 35, 235, 55)"
      ]
     },
     "execution_count": 9,
     "metadata": {},
     "output_type": "execute_result"
    }
   ],
   "source": [
    "tuple(s2)"
   ]
  },
  {
   "cell_type": "code",
   "execution_count": 11,
   "id": "e2fd1789-8e56-45e3-ad0e-22340c1a0b3f",
   "metadata": {},
   "outputs": [
    {
     "data": {
      "text/plain": [
       "[64, 1, 2, 3, 4, 5, 33, 6, 35, 235, 55]"
      ]
     },
     "execution_count": 11,
     "metadata": {},
     "output_type": "execute_result"
    }
   ],
   "source": [
    "l"
   ]
  },
  {
   "cell_type": "code",
   "execution_count": 13,
   "id": "e1feb299-e00b-4aec-9d94-9e85a1688a11",
   "metadata": {},
   "outputs": [
    {
     "data": {
      "text/plain": [
       "{1, 2, 3, 4, 5, 6, 33, 35, 55, 64, 235}"
      ]
     },
     "execution_count": 13,
     "metadata": {},
     "output_type": "execute_result"
    }
   ],
   "source": [
    "set(l)"
   ]
  },
  {
   "cell_type": "code",
   "execution_count": 14,
   "id": "a840ad5e-21a0-464e-9581-11a6e99fb078",
   "metadata": {},
   "outputs": [
    {
     "ename": "TypeError",
     "evalue": "unhashable type: 'list'",
     "output_type": "error",
     "traceback": [
      "\u001b[0;31m---------------------------------------------------------------------------\u001b[0m",
      "\u001b[0;31mTypeError\u001b[0m                                 Traceback (most recent call last)",
      "Cell \u001b[0;32mIn[14], line 1\u001b[0m\n\u001b[0;32m----> 1\u001b[0m s4\u001b[38;5;241m=\u001b[39m{\u001b[38;5;241m1\u001b[39m,\u001b[38;5;241m2\u001b[39m,\u001b[38;5;241m3\u001b[39m,\u001b[38;5;241m4\u001b[39m,[\u001b[38;5;241m1\u001b[39m,\u001b[38;5;241m2\u001b[39m,\u001b[38;5;241m3\u001b[39m,\u001b[38;5;241m4\u001b[39m,\u001b[38;5;241m5\u001b[39m]}\n",
      "\u001b[0;31mTypeError\u001b[0m: unhashable type: 'list'"
     ]
    }
   ],
   "source": [
    "s4={1,2,3,4,[1,2,3,4,5]}"
   ]
  },
  {
   "cell_type": "code",
   "execution_count": 15,
   "id": "fc37a51c-50a9-4e09-ba8a-6092a9242599",
   "metadata": {},
   "outputs": [],
   "source": [
    "s5={(1,2,3,4),1,2,3,4}"
   ]
  },
  {
   "cell_type": "code",
   "execution_count": 17,
   "id": "78a7c285-2c17-42cf-8c00-48e420dd0ce2",
   "metadata": {},
   "outputs": [
    {
     "data": {
      "text/plain": [
       "{(1, 2, 3, 4), 1, 2, 3, 4}"
      ]
     },
     "execution_count": 17,
     "metadata": {},
     "output_type": "execute_result"
    }
   ],
   "source": [
    "s5"
   ]
  },
  {
   "cell_type": "markdown",
   "id": "c984345b-218c-46f8-9fc1-091cae1c7b2b",
   "metadata": {},
   "source": [
    "set is allowing tuple inside it but it is not allowing list inside it because set takes only unique \n",
    "values , here list can be mutable \n"
   ]
  },
  {
   "cell_type": "markdown",
   "id": "4db2aa6b-6a48-4d1c-9a86-ce6b2153ef7e",
   "metadata": {},
   "source": [
    "we can mutate any index in the list"
   ]
  },
  {
   "cell_type": "code",
   "execution_count": 18,
   "id": "5cb974a3-a412-44e5-b951-e9755405b461",
   "metadata": {},
   "outputs": [],
   "source": [
    "s6={\"Hitesh\",\"hitesh\",1,2,3,4,5}"
   ]
  },
  {
   "cell_type": "code",
   "execution_count": 19,
   "id": "8d52d661-7d64-4cb4-a289-53017ff074cc",
   "metadata": {},
   "outputs": [
    {
     "data": {
      "text/plain": [
       "{1, 2, 3, 4, 5, 'Hitesh', 'hitesh'}"
      ]
     },
     "execution_count": 19,
     "metadata": {},
     "output_type": "execute_result"
    }
   ],
   "source": [
    "s6"
   ]
  },
  {
   "cell_type": "code",
   "execution_count": 20,
   "id": "8bfb43f0-d4c1-449b-ad61-40a9c7b15b4e",
   "metadata": {},
   "outputs": [],
   "source": [
    "s7 = {1,2,3,4,\"hitesh\",\"hitesh\"}"
   ]
  },
  {
   "cell_type": "code",
   "execution_count": 21,
   "id": "50e2415c-9854-4ddb-b99c-cb502389bc88",
   "metadata": {},
   "outputs": [
    {
     "data": {
      "text/plain": [
       "{1, 2, 3, 4, 'hitesh'}"
      ]
     },
     "execution_count": 21,
     "metadata": {},
     "output_type": "execute_result"
    }
   ],
   "source": [
    "s7"
   ]
  },
  {
   "cell_type": "code",
   "execution_count": 23,
   "id": "76385a34-85b5-4411-a4dd-24280f3ccd51",
   "metadata": {},
   "outputs": [
    {
     "ename": "TypeError",
     "evalue": "'set' object is not subscriptable",
     "output_type": "error",
     "traceback": [
      "\u001b[0;31m---------------------------------------------------------------------------\u001b[0m",
      "\u001b[0;31mTypeError\u001b[0m                                 Traceback (most recent call last)",
      "Cell \u001b[0;32mIn[23], line 1\u001b[0m\n\u001b[0;32m----> 1\u001b[0m \u001b[43ms7\u001b[49m\u001b[43m[\u001b[49m\u001b[38;5;241;43m1\u001b[39;49m\u001b[43m]\u001b[49m\u001b[38;5;66;03m#### indexing is not happening in case of sets\u001b[39;00m\n",
      "\u001b[0;31mTypeError\u001b[0m: 'set' object is not subscriptable"
     ]
    }
   ],
   "source": [
    "s7[1]#### indexing is not happening in case of sets"
   ]
  },
  {
   "cell_type": "code",
   "execution_count": null,
   "id": "6267f873-02ab-4645-ae57-464a7ec5e5cb",
   "metadata": {},
   "outputs": [],
   "source": [
    "\n"
   ]
  },
  {
   "cell_type": "code",
   "execution_count": 24,
   "id": "6ccc7cd6-dcd3-43ee-b6c7-6ca4d395298b",
   "metadata": {},
   "outputs": [
    {
     "ename": "TypeError",
     "evalue": "'set' object is not subscriptable",
     "output_type": "error",
     "traceback": [
      "\u001b[0;31m---------------------------------------------------------------------------\u001b[0m",
      "\u001b[0;31mTypeError\u001b[0m                                 Traceback (most recent call last)",
      "Cell \u001b[0;32mIn[24], line 1\u001b[0m\n\u001b[0;32m----> 1\u001b[0m \u001b[43ms7\u001b[49m\u001b[43m[\u001b[49m\u001b[43m:\u001b[49m\u001b[43m:\u001b[49m\u001b[38;5;241;43m-\u001b[39;49m\u001b[38;5;241;43m1\u001b[39;49m\u001b[43m]\u001b[49m\n",
      "\u001b[0;31mTypeError\u001b[0m: 'set' object is not subscriptable"
     ]
    }
   ],
   "source": [
    "s7[::-1]"
   ]
  },
  {
   "cell_type": "code",
   "execution_count": 25,
   "id": "fb001f9c-8749-4f28-88cd-12d086d82dab",
   "metadata": {},
   "outputs": [
    {
     "data": {
      "text/plain": [
       "{1, 2, 3, 4, 'hitesh'}"
      ]
     },
     "execution_count": 25,
     "metadata": {},
     "output_type": "execute_result"
    }
   ],
   "source": [
    "s7"
   ]
  },
  {
   "cell_type": "code",
   "execution_count": 26,
   "id": "c977ee26-6e6c-49aa-9c8e-bf45e0e9cc29",
   "metadata": {},
   "outputs": [
    {
     "name": "stdout",
     "output_type": "stream",
     "text": [
      "1\n",
      "2\n",
      "3\n",
      "4\n",
      "hitesh\n"
     ]
    }
   ],
   "source": [
    "for i in s7:\n",
    "    print(i)"
   ]
  },
  {
   "cell_type": "code",
   "execution_count": 28,
   "id": "28e07a19-dfd3-41be-be91-76253155c8a9",
   "metadata": {},
   "outputs": [],
   "source": [
    "s7.add(34)"
   ]
  },
  {
   "cell_type": "code",
   "execution_count": 29,
   "id": "3dde2b04-a1dd-44e2-a4db-4fa315cf65d9",
   "metadata": {},
   "outputs": [
    {
     "data": {
      "text/plain": [
       "{1, 2, 3, 34, 4, 'hitesh'}"
      ]
     },
     "execution_count": 29,
     "metadata": {},
     "output_type": "execute_result"
    }
   ],
   "source": [
    "s7"
   ]
  },
  {
   "cell_type": "code",
   "execution_count": 30,
   "id": "05479177-c09b-44a6-ae2a-1a804c77b073",
   "metadata": {},
   "outputs": [],
   "source": [
    "s7.add(\"kumar\")"
   ]
  },
  {
   "cell_type": "code",
   "execution_count": 31,
   "id": "5d6c39eb-4aa5-4b14-bf4b-0e8886e136d7",
   "metadata": {},
   "outputs": [
    {
     "data": {
      "text/plain": [
       "{1, 2, 3, 34, 4, 'hitesh', 'kumar'}"
      ]
     },
     "execution_count": 31,
     "metadata": {},
     "output_type": "execute_result"
    }
   ],
   "source": [
    "s7"
   ]
  },
  {
   "cell_type": "code",
   "execution_count": 32,
   "id": "435bb172-af6a-4e6b-86b2-b0f8832c27d6",
   "metadata": {},
   "outputs": [],
   "source": [
    "s7.add(\"hitesh\") ## it wont allow repeat value"
   ]
  },
  {
   "cell_type": "code",
   "execution_count": 33,
   "id": "18579e41-3517-4ec8-9af5-66d5af211d7d",
   "metadata": {},
   "outputs": [
    {
     "data": {
      "text/plain": [
       "{1, 2, 3, 34, 4, 'hitesh', 'kumar'}"
      ]
     },
     "execution_count": 33,
     "metadata": {},
     "output_type": "execute_result"
    }
   ],
   "source": [
    "s7"
   ]
  },
  {
   "cell_type": "code",
   "execution_count": 34,
   "id": "7f5a3992-3de8-4998-8fb4-459674338d9e",
   "metadata": {},
   "outputs": [
    {
     "data": {
      "text/plain": [
       "7"
      ]
     },
     "execution_count": 34,
     "metadata": {},
     "output_type": "execute_result"
    }
   ],
   "source": [
    "len(s7)"
   ]
  },
  {
   "cell_type": "code",
   "execution_count": 35,
   "id": "52e4fbad-9fdb-4e74-a7e5-e816aa2f7201",
   "metadata": {},
   "outputs": [
    {
     "data": {
      "text/plain": [
       "1"
      ]
     },
     "execution_count": 35,
     "metadata": {},
     "output_type": "execute_result"
    }
   ],
   "source": [
    "s7.pop()"
   ]
  },
  {
   "cell_type": "code",
   "execution_count": 36,
   "id": "57304d29-782b-420b-a7af-4ef939a4e370",
   "metadata": {},
   "outputs": [
    {
     "data": {
      "text/plain": [
       "2"
      ]
     },
     "execution_count": 36,
     "metadata": {},
     "output_type": "execute_result"
    }
   ],
   "source": [
    "s7.pop()"
   ]
  },
  {
   "cell_type": "code",
   "execution_count": 37,
   "id": "d26f3755-cab1-4e8a-9dc4-81b3a78a901f",
   "metadata": {},
   "outputs": [
    {
     "data": {
      "text/plain": [
       "{3, 34, 4, 'hitesh', 'kumar'}"
      ]
     },
     "execution_count": 37,
     "metadata": {},
     "output_type": "execute_result"
    }
   ],
   "source": [
    "s7"
   ]
  },
  {
   "cell_type": "code",
   "execution_count": 38,
   "id": "450971d0-45f8-45ed-b023-0962f9ce2678",
   "metadata": {},
   "outputs": [
    {
     "data": {
      "text/plain": [
       "3"
      ]
     },
     "execution_count": 38,
     "metadata": {},
     "output_type": "execute_result"
    }
   ],
   "source": [
    "s7.pop()"
   ]
  },
  {
   "cell_type": "code",
   "execution_count": 39,
   "id": "5d3a80e0-2d13-4c02-9b74-173748f1ef72",
   "metadata": {},
   "outputs": [
    {
     "data": {
      "text/plain": [
       "{34, 4, 'hitesh', 'kumar'}"
      ]
     },
     "execution_count": 39,
     "metadata": {},
     "output_type": "execute_result"
    }
   ],
   "source": [
    "s7"
   ]
  },
  {
   "cell_type": "code",
   "execution_count": 40,
   "id": "f8c26ebb-f5d5-478c-88b0-ef6f89f4833b",
   "metadata": {},
   "outputs": [
    {
     "data": {
      "text/plain": [
       "4"
      ]
     },
     "execution_count": 40,
     "metadata": {},
     "output_type": "execute_result"
    }
   ],
   "source": [
    "s7.pop()"
   ]
  },
  {
   "cell_type": "code",
   "execution_count": 41,
   "id": "0c1c4f09-e07e-4fd5-9933-dd929c76b545",
   "metadata": {},
   "outputs": [
    {
     "data": {
      "text/plain": [
       "{34, 'hitesh', 'kumar'}"
      ]
     },
     "execution_count": 41,
     "metadata": {},
     "output_type": "execute_result"
    }
   ],
   "source": [
    "s7"
   ]
  },
  {
   "cell_type": "markdown",
   "id": "6773d5bf-c4c6-49ea-a89e-407a03222cb3",
   "metadata": {},
   "source": [
    "Removing and adding the elemwnt in a set is possible \n",
    "and pop the eleemtn is also possible\n"
   ]
  },
  {
   "cell_type": "code",
   "execution_count": 42,
   "id": "c0ed9e3f-6937-4e72-b102-51c39efe1bd0",
   "metadata": {},
   "outputs": [
    {
     "data": {
      "text/plain": [
       "{34, 'hitesh', 'kumar'}"
      ]
     },
     "execution_count": 42,
     "metadata": {},
     "output_type": "execute_result"
    }
   ],
   "source": [
    "s7"
   ]
  },
  {
   "cell_type": "code",
   "execution_count": 45,
   "id": "f674c5cd-39a7-4194-aca2-e16e16016dd5",
   "metadata": {},
   "outputs": [],
   "source": [
    "s7.clear() ## removed all the data from a  set"
   ]
  },
  {
   "cell_type": "code",
   "execution_count": 44,
   "id": "2af4bad0-31fe-4a11-bfb0-ef666db78115",
   "metadata": {},
   "outputs": [
    {
     "data": {
      "text/plain": [
       "set()"
      ]
     },
     "execution_count": 44,
     "metadata": {},
     "output_type": "execute_result"
    }
   ],
   "source": [
    "s7"
   ]
  },
  {
   "cell_type": "code",
   "execution_count": 49,
   "id": "403f35fc-37bc-4844-ac6f-01d8329b0337",
   "metadata": {},
   "outputs": [],
   "source": [
    "s8 = {1,2,3,4}\n",
    "s9 = {1,2,3,5}"
   ]
  },
  {
   "cell_type": "code",
   "execution_count": 51,
   "id": "77a5ac7c-9ecd-4feb-b6ff-681d6bffeb3d",
   "metadata": {},
   "outputs": [
    {
     "data": {
      "text/plain": [
       "{4}"
      ]
     },
     "execution_count": 51,
     "metadata": {},
     "output_type": "execute_result"
    }
   ],
   "source": [
    "s8.difference(s9)"
   ]
  },
  {
   "cell_type": "code",
   "execution_count": 52,
   "id": "0b39ecef-b925-4d6d-a5c5-64a6360ba209",
   "metadata": {},
   "outputs": [
    {
     "data": {
      "text/plain": [
       "{5}"
      ]
     },
     "execution_count": 52,
     "metadata": {},
     "output_type": "execute_result"
    }
   ],
   "source": [
    "s9.difference(s8)"
   ]
  },
  {
   "cell_type": "code",
   "execution_count": 53,
   "id": "389c3053-1f56-49d2-b506-f040a6f44344",
   "metadata": {},
   "outputs": [
    {
     "data": {
      "text/plain": [
       "{1, 2, 3, 4, 5}"
      ]
     },
     "execution_count": 53,
     "metadata": {},
     "output_type": "execute_result"
    }
   ],
   "source": [
    "s8.union(s9)"
   ]
  },
  {
   "cell_type": "code",
   "execution_count": null,
   "id": "d58ecb5b-a132-406f-ad50-8a45f5548cf2",
   "metadata": {},
   "outputs": [],
   "source": []
  }
 ],
 "metadata": {
  "kernelspec": {
   "display_name": "Python 3 (ipykernel)",
   "language": "python",
   "name": "python3"
  },
  "language_info": {
   "codemirror_mode": {
    "name": "ipython",
    "version": 3
   },
   "file_extension": ".py",
   "mimetype": "text/x-python",
   "name": "python",
   "nbconvert_exporter": "python",
   "pygments_lexer": "ipython3",
   "version": "3.10.8"
  }
 },
 "nbformat": 4,
 "nbformat_minor": 5
}
