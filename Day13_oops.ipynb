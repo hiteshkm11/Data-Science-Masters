{
 "cells": [
  {
   "cell_type": "markdown",
   "id": "5f35228d-db02-4f5b-8f2e-f5a92403f74f",
   "metadata": {},
   "source": [
    "# OOPS\n",
    "Object Oriented Programming System"
   ]
  },
  {
   "cell_type": "code",
   "execution_count": 1,
   "id": "4a8c14c0-9ff9-48f7-8a3a-506ff3d2c7e1",
   "metadata": {},
   "outputs": [],
   "source": [
    "a = 1"
   ]
  },
  {
   "cell_type": "code",
   "execution_count": 2,
   "id": "c4596adb-cac6-45c1-88f7-f25575922ad8",
   "metadata": {},
   "outputs": [
    {
     "name": "stdout",
     "output_type": "stream",
     "text": [
      "<class 'int'>\n"
     ]
    }
   ],
   "source": [
    "print(type(a))"
   ]
  },
  {
   "cell_type": "code",
   "execution_count": 3,
   "id": "c59eb387-299c-41a4-b49d-07ec5a6ce20d",
   "metadata": {},
   "outputs": [
    {
     "name": "stdout",
     "output_type": "stream",
     "text": [
      "<class 'str'>\n"
     ]
    }
   ],
   "source": [
    "print(type(\"hitesh kumar\"))"
   ]
  },
  {
   "cell_type": "code",
   "execution_count": 4,
   "id": "67ccba7a-ba5d-4bb2-ba1d-150e7ea96691",
   "metadata": {},
   "outputs": [
    {
     "ename": "SyntaxError",
     "evalue": "incomplete input (1236307212.py, line 2)",
     "output_type": "error",
     "traceback": [
      "\u001b[0;36m  Cell \u001b[0;32mIn[4], line 2\u001b[0;36m\u001b[0m\n\u001b[0;31m    \u001b[0m\n\u001b[0m    ^\u001b[0m\n\u001b[0;31mSyntaxError\u001b[0m\u001b[0;31m:\u001b[0m incomplete input\n"
     ]
    }
   ],
   "source": [
    "class test:\n",
    "    "
   ]
  },
  {
   "cell_type": "code",
   "execution_count": 2,
   "id": "18b05ca7-c676-4ce7-af6a-fd15f59d6c5e",
   "metadata": {},
   "outputs": [],
   "source": [
    "class test:\n",
    "    pass\n",
    "    "
   ]
  },
  {
   "cell_type": "code",
   "execution_count": 3,
   "id": "e6b54fcf-d21c-434f-9ed7-b01233e3dbcd",
   "metadata": {},
   "outputs": [],
   "source": [
    "# creating a variable for this class \n",
    "a = test()"
   ]
  },
  {
   "cell_type": "code",
   "execution_count": 4,
   "id": "c320fef1-b726-4bdb-a4e9-4d52b066251c",
   "metadata": {},
   "outputs": [
    {
     "data": {
      "text/plain": [
       "__main__.test"
      ]
     },
     "execution_count": 4,
     "metadata": {},
     "output_type": "execute_result"
    }
   ],
   "source": [
    "type(a)"
   ]
  },
  {
   "cell_type": "code",
   "execution_count": 5,
   "id": "338f38df-80f0-4dc6-8bc3-d109cab7407d",
   "metadata": {},
   "outputs": [
    {
     "name": "stdout",
     "output_type": "stream",
     "text": [
      "<class '__main__.test'>\n"
     ]
    }
   ],
   "source": [
    "print(type(a))"
   ]
  },
  {
   "cell_type": "code",
   "execution_count": 8,
   "id": "395fea47-e2d3-4927-8c24-3415f93f022e",
   "metadata": {},
   "outputs": [],
   "source": [
    "class datascience:\n",
    "    \n",
    "    def welcome_msg(self):\n",
    "        print(\"welcome to datascience\")"
   ]
  },
  {
   "cell_type": "code",
   "execution_count": 9,
   "id": "ede69917-125b-4ec6-be3b-9b705376bd31",
   "metadata": {},
   "outputs": [],
   "source": [
    "rohan = datascience()"
   ]
  },
  {
   "cell_type": "code",
   "execution_count": 10,
   "id": "ef6992a1-cd61-4d57-9423-000e77971af8",
   "metadata": {},
   "outputs": [
    {
     "name": "stdout",
     "output_type": "stream",
     "text": [
      "welcome to datascience\n"
     ]
    }
   ],
   "source": [
    "rohan.welcome_msg()"
   ]
  },
  {
   "cell_type": "code",
   "execution_count": 12,
   "id": "0b452b8f-8977-487e-a7c4-e39fd915355f",
   "metadata": {},
   "outputs": [],
   "source": [
    "sohan=datascience()"
   ]
  },
  {
   "cell_type": "code",
   "execution_count": 13,
   "id": "0923add1-46ee-4f04-840e-83f4aab6e053",
   "metadata": {},
   "outputs": [
    {
     "name": "stdout",
     "output_type": "stream",
     "text": [
      "welcome to datascience\n"
     ]
    }
   ],
   "source": [
    "sohan.welcome_msg()"
   ]
  },
  {
   "cell_type": "code",
   "execution_count": 14,
   "id": "9071c26c-ae82-4a3b-b527-1f3ff986fc47",
   "metadata": {},
   "outputs": [],
   "source": [
    "a = 1"
   ]
  },
  {
   "cell_type": "code",
   "execution_count": 15,
   "id": "1ca10988-5f20-4b30-92e8-5c04c8e5dfdd",
   "metadata": {},
   "outputs": [],
   "source": [
    "b = 2 ## here a and b are belongs to int class"
   ]
  },
  {
   "cell_type": "code",
   "execution_count": 16,
   "id": "c56c8e7d-64ad-4df7-b125-90bcb79e2288",
   "metadata": {},
   "outputs": [
    {
     "data": {
      "text/plain": [
       "1"
      ]
     },
     "execution_count": 16,
     "metadata": {},
     "output_type": "execute_result"
    }
   ],
   "source": [
    "a"
   ]
  },
  {
   "cell_type": "code",
   "execution_count": 17,
   "id": "26be0367-ef4d-4b6c-85dd-f62ee7b3c2a2",
   "metadata": {},
   "outputs": [
    {
     "data": {
      "text/plain": [
       "2"
      ]
     },
     "execution_count": 17,
     "metadata": {},
     "output_type": "execute_result"
    }
   ],
   "source": [
    "b"
   ]
  },
  {
   "cell_type": "code",
   "execution_count": 42,
   "id": "514543cf-a011-4148-88cd-a12023afe4dc",
   "metadata": {},
   "outputs": [],
   "source": [
    "class dsm:\n",
    "    \n",
    "    def __init__(self , phone_number , email_id , stud_id):# defining a constructor\n",
    "        \n",
    "        self.phone_number = phone_number ## here self is reference of the class its not a key word we can take anything inplace of self for refernce perpose\n",
    "        self.email_id = email_id\n",
    "        self.stud_id = stud_id\n",
    "        \n",
    "    def return_student_details(self):\n",
    "        return self.phone_number, self.email_id, self.stud_id\n",
    "    "
   ]
  },
  {
   "cell_type": "code",
   "execution_count": 22,
   "id": "b0dba230-a364-464b-9405-35f34d0dc9b5",
   "metadata": {},
   "outputs": [
    {
     "ename": "TypeError",
     "evalue": "dsm.__init__() missing 3 required positional arguments: 'phone_number', 'email_id', and 'stud_id'",
     "output_type": "error",
     "traceback": [
      "\u001b[0;31m---------------------------------------------------------------------------\u001b[0m",
      "\u001b[0;31mTypeError\u001b[0m                                 Traceback (most recent call last)",
      "Cell \u001b[0;32mIn[22], line 1\u001b[0m\n\u001b[0;32m----> 1\u001b[0m rohan \u001b[38;5;241m=\u001b[39m \u001b[43mdsm\u001b[49m\u001b[43m(\u001b[49m\u001b[43m)\u001b[49m\n",
      "\u001b[0;31mTypeError\u001b[0m: dsm.__init__() missing 3 required positional arguments: 'phone_number', 'email_id', and 'stud_id'"
     ]
    }
   ],
   "source": [
    "rohan = dsm()"
   ]
  },
  {
   "cell_type": "code",
   "execution_count": 32,
   "id": "07c75cf8-1213-40f6-b557-a2e245fa609e",
   "metadata": {},
   "outputs": [],
   "source": [
    "rohan = dsm(12345, 'rohan12@gmail.com', 101 )"
   ]
  },
  {
   "cell_type": "code",
   "execution_count": 24,
   "id": "be720119-9679-4e16-b52d-4de2aa422be7",
   "metadata": {},
   "outputs": [
    {
     "data": {
      "text/plain": [
       "12345"
      ]
     },
     "execution_count": 24,
     "metadata": {},
     "output_type": "execute_result"
    }
   ],
   "source": [
    "rohan.phone_number"
   ]
  },
  {
   "cell_type": "code",
   "execution_count": 26,
   "id": "a36412d3-2f4d-42b2-a52b-8bdc3c971770",
   "metadata": {},
   "outputs": [
    {
     "data": {
      "text/plain": [
       "'rohan12@gmail.com'"
      ]
     },
     "execution_count": 26,
     "metadata": {},
     "output_type": "execute_result"
    }
   ],
   "source": [
    "rohan.email_id"
   ]
  },
  {
   "cell_type": "code",
   "execution_count": 34,
   "id": "6163b373-065e-4526-b1af-fe0d4b65223c",
   "metadata": {},
   "outputs": [
    {
     "data": {
      "text/plain": [
       "101"
      ]
     },
     "execution_count": 34,
     "metadata": {},
     "output_type": "execute_result"
    }
   ],
   "source": [
    "rohan.stud_id"
   ]
  },
  {
   "cell_type": "code",
   "execution_count": 36,
   "id": "5beaaad7-bf47-4c8f-bef9-a211ad793dd9",
   "metadata": {},
   "outputs": [
    {
     "data": {
      "text/plain": [
       "(12345, 'rohan12@gmail.com', 101)"
      ]
     },
     "execution_count": 36,
     "metadata": {},
     "output_type": "execute_result"
    }
   ],
   "source": [
    "rohan.return_student_details() # accessing class method"
   ]
  },
  {
   "cell_type": "code",
   "execution_count": null,
   "id": "a8318c50-3e77-4019-8502-b56d039b350f",
   "metadata": {},
   "outputs": [],
   "source": []
  },
  {
   "cell_type": "code",
   "execution_count": null,
   "id": "84979c35-22da-43f5-a121-956553f02567",
   "metadata": {},
   "outputs": [],
   "source": []
  },
  {
   "cell_type": "code",
   "execution_count": 39,
   "id": "ae3da507-2f90-4437-a26e-8e8c813e89f3",
   "metadata": {},
   "outputs": [],
   "source": [
    "sohan = dsm(78945,'sohan@gmail.com',102)"
   ]
  },
  {
   "cell_type": "code",
   "execution_count": 40,
   "id": "1eeda217-0c24-450e-8a54-d4c016a9f86d",
   "metadata": {},
   "outputs": [
    {
     "data": {
      "text/plain": [
       "78945"
      ]
     },
     "execution_count": 40,
     "metadata": {},
     "output_type": "execute_result"
    }
   ],
   "source": [
    "sohan.phone_number"
   ]
  },
  {
   "cell_type": "code",
   "execution_count": 41,
   "id": "7646b225-301f-4dae-a0f7-f848327a547a",
   "metadata": {},
   "outputs": [
    {
     "data": {
      "text/plain": [
       "(78945, 'sohan@gmail.com', 102)"
      ]
     },
     "execution_count": 41,
     "metadata": {},
     "output_type": "execute_result"
    }
   ],
   "source": [
    "sohan.return_student_details()"
   ]
  },
  {
   "cell_type": "code",
   "execution_count": null,
   "id": "ee3a375c-46db-4543-a699-c0b990fc49cd",
   "metadata": {},
   "outputs": [],
   "source": []
  }
 ],
 "metadata": {
  "kernelspec": {
   "display_name": "Python 3 (ipykernel)",
   "language": "python",
   "name": "python3"
  },
  "language_info": {
   "codemirror_mode": {
    "name": "ipython",
    "version": 3
   },
   "file_extension": ".py",
   "mimetype": "text/x-python",
   "name": "python",
   "nbconvert_exporter": "python",
   "pygments_lexer": "ipython3",
   "version": "3.10.8"
  }
 },
 "nbformat": 4,
 "nbformat_minor": 5
}
