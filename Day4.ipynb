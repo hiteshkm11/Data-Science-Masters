{
 "cells": [
  {
   "cell_type": "markdown",
   "id": "ac03138a-5072-46c7-b302-f404239bb836",
   "metadata": {},
   "source": [
    "## LOGICAL OPERATORS\n",
    "1. And\n",
    "2. Or\n",
    "3. Not\n"
   ]
  },
  {
   "cell_type": "markdown",
   "id": "c56df28d-a73c-4bcd-ad88-cad9f839ce33",
   "metadata": {},
   "source": [
    "### And"
   ]
  },
  {
   "cell_type": "code",
   "execution_count": 1,
   "id": "22c964e1-dcc3-45e6-b0e6-baa3cb50c89c",
   "metadata": {},
   "outputs": [
    {
     "data": {
      "text/plain": [
       "True"
      ]
     },
     "execution_count": 1,
     "metadata": {},
     "output_type": "execute_result"
    }
   ],
   "source": [
    "True and True"
   ]
  },
  {
   "cell_type": "code",
   "execution_count": 2,
   "id": "955eb7b1-323d-402d-a6af-340420a21734",
   "metadata": {},
   "outputs": [
    {
     "data": {
      "text/plain": [
       "False"
      ]
     },
     "execution_count": 2,
     "metadata": {},
     "output_type": "execute_result"
    }
   ],
   "source": [
    "True and False"
   ]
  },
  {
   "cell_type": "code",
   "execution_count": 3,
   "id": "9ca5e004-42e2-4b61-9950-4120adf08093",
   "metadata": {},
   "outputs": [
    {
     "data": {
      "text/plain": [
       "False"
      ]
     },
     "execution_count": 3,
     "metadata": {},
     "output_type": "execute_result"
    }
   ],
   "source": [
    "False and True"
   ]
  },
  {
   "cell_type": "code",
   "execution_count": 4,
   "id": "5cf89ed3-93e3-4bf8-9662-51b00453dc00",
   "metadata": {},
   "outputs": [
    {
     "data": {
      "text/plain": [
       "False"
      ]
     },
     "execution_count": 4,
     "metadata": {},
     "output_type": "execute_result"
    }
   ],
   "source": [
    "False and False"
   ]
  },
  {
   "cell_type": "markdown",
   "id": "77ea9b00-ca49-43de-9922-f2098a2e8035",
   "metadata": {},
   "source": [
    "### OR"
   ]
  },
  {
   "cell_type": "code",
   "execution_count": 5,
   "id": "86420289-886c-46c2-94d2-3227f91d7147",
   "metadata": {},
   "outputs": [
    {
     "data": {
      "text/plain": [
       "True"
      ]
     },
     "execution_count": 5,
     "metadata": {},
     "output_type": "execute_result"
    }
   ],
   "source": [
    "True or True"
   ]
  },
  {
   "cell_type": "code",
   "execution_count": 6,
   "id": "fe56664f-2f43-474b-8414-dd2545aea048",
   "metadata": {},
   "outputs": [
    {
     "data": {
      "text/plain": [
       "True"
      ]
     },
     "execution_count": 6,
     "metadata": {},
     "output_type": "execute_result"
    }
   ],
   "source": [
    "True or False"
   ]
  },
  {
   "cell_type": "code",
   "execution_count": 7,
   "id": "38214dd2-a26f-4b76-afbc-9e1054956103",
   "metadata": {},
   "outputs": [
    {
     "data": {
      "text/plain": [
       "True"
      ]
     },
     "execution_count": 7,
     "metadata": {},
     "output_type": "execute_result"
    }
   ],
   "source": [
    "False or True"
   ]
  },
  {
   "cell_type": "code",
   "execution_count": 8,
   "id": "aaf1a654-956c-44a4-8b7b-c01865e5f363",
   "metadata": {},
   "outputs": [
    {
     "data": {
      "text/plain": [
       "False"
      ]
     },
     "execution_count": 8,
     "metadata": {},
     "output_type": "execute_result"
    }
   ],
   "source": [
    "False or False"
   ]
  },
  {
   "cell_type": "markdown",
   "id": "116c6fb0-e349-45f9-8376-ec27ecf1e495",
   "metadata": {},
   "source": [
    "A  B   AND    OR  NotA  NotB\n",
    "0  0    0     0    1     1\n",
    "1  0    0     1    0     1\n",
    "0  1    0     1    1     0\n",
    "1  1    1     1    0     0"
   ]
  },
  {
   "cell_type": "markdown",
   "id": "7990b316-5bdf-4a75-866c-3415a582e4ee",
   "metadata": {},
   "source": [
    "### not"
   ]
  },
  {
   "cell_type": "code",
   "execution_count": 9,
   "id": "361b20a6-14f0-4eb0-bf3f-d3a480fbbf35",
   "metadata": {},
   "outputs": [
    {
     "name": "stdout",
     "output_type": "stream",
     "text": [
      "Define value of START:True\n",
      "Define the value of STOP:False\n",
      "Define value of START:True\n",
      "value of STOP by negating START =False\n",
      "\n",
      "value of START by negating STOP:True\n",
      "Define the value of STOP:False \n",
      "\n"
     ]
    }
   ],
   "source": [
    "# lets define two variables having boolean values True and False\n",
    "START = True\n",
    "STOP = False\n",
    "\n",
    "# print the value as it is \n",
    "print(f\"Define value of START:{START}\")\n",
    "print(f\"Define the value of STOP:{STOP}\")\n",
    "\n",
    "# if can also written as \n",
    "print(f\"Define value of START:{START}\")\n",
    "print(F\"value of STOP by negating START ={not START}\\n\")\n",
    "\n",
    "# alternatively\n",
    "print(f\"value of START by negating STOP:{not STOP}\")\n",
    "print(f\"Define the value of STOP:{STOP} \\n\")"
   ]
  },
  {
   "cell_type": "code",
   "execution_count": null,
   "id": "da7b0085-fd08-455a-8461-f77b329e4196",
   "metadata": {},
   "outputs": [],
   "source": []
  },
  {
   "cell_type": "code",
   "execution_count": 10,
   "id": "1968b358-073f-486d-b677-030755a7672d",
   "metadata": {},
   "outputs": [
    {
     "data": {
      "text/plain": [
       "False"
      ]
     },
     "execution_count": 10,
     "metadata": {},
     "output_type": "execute_result"
    }
   ],
   "source": [
    "not True"
   ]
  },
  {
   "cell_type": "code",
   "execution_count": 11,
   "id": "4f5ca7a3-a16d-4198-950a-b5a3a698a0d3",
   "metadata": {},
   "outputs": [
    {
     "data": {
      "text/plain": [
       "True"
      ]
     },
     "execution_count": 11,
     "metadata": {},
     "output_type": "execute_result"
    }
   ],
   "source": [
    "not int(bool(0))"
   ]
  },
  {
   "cell_type": "code",
   "execution_count": 12,
   "id": "2a112076-3e41-42d2-8641-459081bfe831",
   "metadata": {},
   "outputs": [
    {
     "data": {
      "text/plain": [
       "0"
      ]
     },
     "execution_count": 12,
     "metadata": {},
     "output_type": "execute_result"
    }
   ],
   "source": [
    "int(bool(0))"
   ]
  },
  {
   "cell_type": "code",
   "execution_count": 13,
   "id": "bcb05304-45a0-4007-bbb9-f70fefb872e1",
   "metadata": {},
   "outputs": [
    {
     "data": {
      "text/plain": [
       "True"
      ]
     },
     "execution_count": 13,
     "metadata": {},
     "output_type": "execute_result"
    }
   ],
   "source": [
    "bool(1)"
   ]
  },
  {
   "cell_type": "code",
   "execution_count": 14,
   "id": "f6b2b2db-644e-4ce3-a8d4-fefbb4ec663f",
   "metadata": {},
   "outputs": [
    {
     "data": {
      "text/plain": [
       "1"
      ]
     },
     "execution_count": 14,
     "metadata": {},
     "output_type": "execute_result"
    }
   ],
   "source": [
    "int(bool(1)) # typecasting"
   ]
  },
  {
   "cell_type": "code",
   "execution_count": 15,
   "id": "336e93b9-795c-41fa-ad91-39ab4e2176a0",
   "metadata": {},
   "outputs": [
    {
     "data": {
      "text/plain": [
       "False"
      ]
     },
     "execution_count": 15,
     "metadata": {},
     "output_type": "execute_result"
    }
   ],
   "source": [
    "not 1"
   ]
  },
  {
   "cell_type": "code",
   "execution_count": 16,
   "id": "b24070a8-cf1c-4a0b-beae-25beb3a470b8",
   "metadata": {},
   "outputs": [
    {
     "data": {
      "text/plain": [
       "True"
      ]
     },
     "execution_count": 16,
     "metadata": {},
     "output_type": "execute_result"
    }
   ],
   "source": [
    "not 0"
   ]
  },
  {
   "cell_type": "code",
   "execution_count": 17,
   "id": "1043da74-b00f-4ad6-90eb-1d1595cf1a44",
   "metadata": {},
   "outputs": [
    {
     "data": {
      "text/plain": [
       "1"
      ]
     },
     "execution_count": 17,
     "metadata": {},
     "output_type": "execute_result"
    }
   ],
   "source": [
    "int(not 0)"
   ]
  },
  {
   "cell_type": "code",
   "execution_count": 18,
   "id": "596ad95d-13c1-4b84-919f-0f730ed7492a",
   "metadata": {},
   "outputs": [
    {
     "data": {
      "text/plain": [
       "False"
      ]
     },
     "execution_count": 18,
     "metadata": {},
     "output_type": "execute_result"
    }
   ],
   "source": [
    "not 2"
   ]
  },
  {
   "cell_type": "code",
   "execution_count": 20,
   "id": "bbc4e51a-1556-4626-af4d-41781e4d1a64",
   "metadata": {},
   "outputs": [
    {
     "data": {
      "text/plain": [
       "False"
      ]
     },
     "execution_count": 20,
     "metadata": {},
     "output_type": "execute_result"
    }
   ],
   "source": [
    "not -1 ## other than zero it will give us false"
   ]
  },
  {
   "cell_type": "code",
   "execution_count": 21,
   "id": "18e7a569-d415-46b6-b293-b19278fa2dec",
   "metadata": {},
   "outputs": [
    {
     "name": "stdout",
     "output_type": "stream",
     "text": [
      "boolean value of no. 0 is False\n",
      "boolean value of no. 1is True\n",
      "negation of 0 is True and negation of 1 is False\n",
      "\n",
      "#----------------#\n",
      "\n"
     ]
    }
   ],
   "source": [
    "\n",
    "zero=0\n",
    "one=1\n",
    "\n",
    "print(f\"boolean value of no. {zero} is {bool(zero)}\")\n",
    "print(f\"boolean value of no. {one}is {bool(one)}\")\n",
    "print(f\"negation of {zero} is {not zero} and negation of {one} is {not one}\")\n",
    "print(\"\\n#----------------#\\n\")"
   ]
  },
  {
   "cell_type": "code",
   "execution_count": 23,
   "id": "7cf61cba-51a9-47c8-bf74-9f7b7091593f",
   "metadata": {},
   "outputs": [
    {
     "name": "stdout",
     "output_type": "stream",
     "text": [
      "boolean value of no. -5 is True\n",
      "boolean value of no. 5 is True\n",
      "negation of -5 is False and negation of 5 is False\n",
      "\n",
      "#----------------#\n",
      "\n"
     ]
    }
   ],
   "source": [
    "some_negative_number = -5\n",
    "some_positive_number = 5\n",
    "print(f\"boolean value of no. {some_negative_number} is {bool(some_negative_number)}\")\n",
    "print(f\"boolean value of no. {some_positive_number} is {bool(some_positive_number)}\")\n",
    "print(f\"negation of {some_negative_number} is {not some_negative_number} \\\n",
    "and negation of {some_positive_number} is {not some_positive_number}\")\n",
    "print(\"\\n#----------------#\\n\")\n",
    "\n"
   ]
  },
  {
   "cell_type": "code",
   "execution_count": 24,
   "id": "b23e7f07-183f-41c1-ac4b-0fff57185391",
   "metadata": {},
   "outputs": [
    {
     "data": {
      "text/plain": [
       "True"
      ]
     },
     "execution_count": 24,
     "metadata": {},
     "output_type": "execute_result"
    }
   ],
   "source": [
    "bool(5)"
   ]
  },
  {
   "cell_type": "code",
   "execution_count": 25,
   "id": "70ff737f-0933-49fc-86d8-375dd340c92b",
   "metadata": {},
   "outputs": [
    {
     "data": {
      "text/plain": [
       "True"
      ]
     },
     "execution_count": 25,
     "metadata": {},
     "output_type": "execute_result"
    }
   ],
   "source": [
    "bool(-5)"
   ]
  },
  {
   "cell_type": "code",
   "execution_count": 26,
   "id": "ec1e3d68-b5f7-470a-86ff-1b80057d5f08",
   "metadata": {},
   "outputs": [
    {
     "data": {
      "text/plain": [
       "True"
      ]
     },
     "execution_count": 26,
     "metadata": {},
     "output_type": "execute_result"
    }
   ],
   "source": [
    "bool(1)"
   ]
  },
  {
   "cell_type": "code",
   "execution_count": 27,
   "id": "59777c4e-529f-45c5-b634-8e12c7491059",
   "metadata": {},
   "outputs": [
    {
     "data": {
      "text/plain": [
       "False"
      ]
     },
     "execution_count": 27,
     "metadata": {},
     "output_type": "execute_result"
    }
   ],
   "source": [
    "bool(0)"
   ]
  },
  {
   "cell_type": "markdown",
   "id": "1fed4c2f-4e7a-48fe-8d59-71819c4e8baf",
   "metadata": {},
   "source": [
    "### logical And"
   ]
  },
  {
   "cell_type": "code",
   "execution_count": 28,
   "id": "39a8116d-14a0-49f4-9850-5c202e551e58",
   "metadata": {},
   "outputs": [
    {
     "name": "stdout",
     "output_type": "stream",
     "text": [
      "Dish contains VEGETABLES:True\n",
      "Dish contains SALT : False\n",
      "Hence dish prepared was good :False\n",
      "\n"
     ]
    }
   ],
   "source": [
    "VEGETABLES = True\n",
    "SALT = False\n",
    "DISH = VEGETABLES and SALT\n",
    " \n",
    "print(f\"Dish contains VEGETABLES:{VEGETABLES}\")\n",
    "print(f\"Dish contains SALT : {SALT}\")\n",
    "print(f\"Hence dish prepared was good :{DISH}\\n\")"
   ]
  },
  {
   "cell_type": "code",
   "execution_count": null,
   "id": "021c3c5e-2838-42bf-95eb-c61198992844",
   "metadata": {},
   "outputs": [],
   "source": []
  },
  {
   "cell_type": "code",
   "execution_count": 29,
   "id": "1b637a15-c6d4-48d8-9a18-ead24dfcce3b",
   "metadata": {},
   "outputs": [
    {
     "data": {
      "text/plain": [
       "0"
      ]
     },
     "execution_count": 29,
     "metadata": {},
     "output_type": "execute_result"
    }
   ],
   "source": [
    "True * False"
   ]
  },
  {
   "cell_type": "code",
   "execution_count": 30,
   "id": "d926ce95-773f-4b38-bf8c-9d8ed8217efc",
   "metadata": {},
   "outputs": [
    {
     "data": {
      "text/plain": [
       "1"
      ]
     },
     "execution_count": 30,
     "metadata": {},
     "output_type": "execute_result"
    }
   ],
   "source": [
    "True * True"
   ]
  },
  {
   "cell_type": "code",
   "execution_count": 32,
   "id": "e975aab0-9fb3-47b0-af17-3b827bd645b3",
   "metadata": {},
   "outputs": [
    {
     "data": {
      "text/plain": [
       "True"
      ]
     },
     "execution_count": 32,
     "metadata": {},
     "output_type": "execute_result"
    }
   ],
   "source": [
    "not(False)*True"
   ]
  },
  {
   "cell_type": "code",
   "execution_count": 33,
   "id": "3894e895-bd80-45d4-9c55-b771d3d82f80",
   "metadata": {},
   "outputs": [
    {
     "data": {
      "text/plain": [
       "0"
      ]
     },
     "execution_count": 33,
     "metadata": {},
     "output_type": "execute_result"
    }
   ],
   "source": [
    "False * False"
   ]
  },
  {
   "cell_type": "code",
   "execution_count": 35,
   "id": "0e68025e-598f-4d8d-93b8-5f9933543075",
   "metadata": {},
   "outputs": [
    {
     "data": {
      "text/plain": [
       "0"
      ]
     },
     "execution_count": 35,
     "metadata": {},
     "output_type": "execute_result"
    }
   ],
   "source": [
    "False * (not(False))"
   ]
  },
  {
   "cell_type": "code",
   "execution_count": 37,
   "id": "683b12df-1e51-4ba0-97d9-4b158e7b101f",
   "metadata": {},
   "outputs": [
    {
     "data": {
      "text/plain": [
       "0"
      ]
     },
     "execution_count": 37,
     "metadata": {},
     "output_type": "execute_result"
    }
   ],
   "source": [
    "(not(True))* False"
   ]
  },
  {
   "cell_type": "code",
   "execution_count": 41,
   "id": "32469aaa-7a5b-4b39-9414-7fcf7b08eaa1",
   "metadata": {},
   "outputs": [
    {
     "data": {
      "text/plain": [
       "True"
      ]
     },
     "execution_count": 41,
     "metadata": {},
     "output_type": "execute_result"
    }
   ],
   "source": [
    "not(False)"
   ]
  },
  {
   "cell_type": "code",
   "execution_count": 42,
   "id": "cc2161d5-36b1-4d49-97da-e609de9c7de8",
   "metadata": {},
   "outputs": [
    {
     "data": {
      "text/plain": [
       "0"
      ]
     },
     "execution_count": 42,
     "metadata": {},
     "output_type": "execute_result"
    }
   ],
   "source": [
    "False * False"
   ]
  },
  {
   "cell_type": "code",
   "execution_count": 43,
   "id": "e3abc681-4dd2-4088-88c4-ac978394a544",
   "metadata": {},
   "outputs": [
    {
     "data": {
      "text/plain": [
       "True"
      ]
     },
     "execution_count": 43,
     "metadata": {},
     "output_type": "execute_result"
    }
   ],
   "source": [
    "not(False)* False"
   ]
  },
  {
   "cell_type": "code",
   "execution_count": 45,
   "id": "62b490e9-52dd-4d63-be87-b00a6fa9aded",
   "metadata": {},
   "outputs": [
    {
     "data": {
      "text/plain": [
       "0"
      ]
     },
     "execution_count": 45,
     "metadata": {},
     "output_type": "execute_result"
    }
   ],
   "source": [
    "(not(False))*False ## here some bodmas rule applied"
   ]
  },
  {
   "cell_type": "code",
   "execution_count": 46,
   "id": "a2204fe8-ccab-4d2c-ba1f-daf0d1c6687f",
   "metadata": {},
   "outputs": [
    {
     "data": {
      "text/plain": [
       "9"
      ]
     },
     "execution_count": 46,
     "metadata": {},
     "output_type": "execute_result"
    }
   ],
   "source": [
    "(1+2)*3"
   ]
  },
  {
   "cell_type": "code",
   "execution_count": 47,
   "id": "127a9935-81e7-4fdf-b4a3-c7313bfdb82d",
   "metadata": {},
   "outputs": [
    {
     "data": {
      "text/plain": [
       "True"
      ]
     },
     "execution_count": 47,
     "metadata": {},
     "output_type": "execute_result"
    }
   ],
   "source": [
    "not(False)*False==True"
   ]
  },
  {
   "cell_type": "code",
   "execution_count": 49,
   "id": "b350f0e4-a58b-4a50-ac4e-77431f22acc3",
   "metadata": {},
   "outputs": [
    {
     "name": "stdout",
     "output_type": "stream",
     "text": [
      "0\n"
     ]
    }
   ],
   "source": [
    "print((not(False))*False) # bodmas rule applied and understading the precedence"
   ]
  },
  {
   "cell_type": "code",
   "execution_count": 50,
   "id": "9dc28600-8519-4e12-80e5-407e306a5469",
   "metadata": {},
   "outputs": [
    {
     "data": {
      "text/plain": [
       "14.0"
      ]
     },
     "execution_count": 50,
     "metadata": {},
     "output_type": "execute_result"
    }
   ],
   "source": [
    "2*3+40/5"
   ]
  },
  {
   "cell_type": "code",
   "execution_count": 51,
   "id": "642cd637-b3fb-4825-b948-2d77a98ae0e2",
   "metadata": {},
   "outputs": [
    {
     "data": {
      "text/plain": [
       "0"
      ]
     },
     "execution_count": 51,
     "metadata": {},
     "output_type": "execute_result"
    }
   ],
   "source": [
    "False * True"
   ]
  },
  {
   "cell_type": "code",
   "execution_count": 52,
   "id": "c6391b75-59a9-440f-855e-4421712b2fa4",
   "metadata": {},
   "outputs": [
    {
     "data": {
      "text/plain": [
       "0"
      ]
     },
     "execution_count": 52,
     "metadata": {},
     "output_type": "execute_result"
    }
   ],
   "source": [
    "0*1"
   ]
  },
  {
   "cell_type": "code",
   "execution_count": 53,
   "id": "9ff9833d-091f-4dfb-b5fb-08d7b03896cf",
   "metadata": {},
   "outputs": [
    {
     "data": {
      "text/plain": [
       "True"
      ]
     },
     "execution_count": 53,
     "metadata": {},
     "output_type": "execute_result"
    }
   ],
   "source": [
    "not(False*True) # not is a boolean operation it always gives us /true or FAlse"
   ]
  },
  {
   "cell_type": "code",
   "execution_count": 55,
   "id": "25f19a0b-b20f-47c8-9166-69e21a1ac8de",
   "metadata": {},
   "outputs": [
    {
     "data": {
      "text/plain": [
       "True"
      ]
     },
     "execution_count": 55,
     "metadata": {},
     "output_type": "execute_result"
    }
   ],
   "source": [
    "not(0)"
   ]
  },
  {
   "cell_type": "code",
   "execution_count": 56,
   "id": "51bf9b6c-110d-4d1d-8fc3-b944ba156252",
   "metadata": {},
   "outputs": [
    {
     "data": {
      "text/plain": [
       "True"
      ]
     },
     "execution_count": 56,
     "metadata": {},
     "output_type": "execute_result"
    }
   ],
   "source": [
    "not False * True ==True"
   ]
  },
  {
   "cell_type": "code",
   "execution_count": null,
   "id": "f1a4a44f-41f4-4e24-af30-61ec17cd4dcc",
   "metadata": {},
   "outputs": [],
   "source": []
  },
  {
   "cell_type": "markdown",
   "id": "adcc51b9-760b-4827-bf6e-90c10354a7b9",
   "metadata": {},
   "source": [
    "### euality operations"
   ]
  },
  {
   "cell_type": "markdown",
   "id": "83f223c5-23e6-4777-84b2-a6519eb0c1c0",
   "metadata": {},
   "source": [
    "following operations are present in python for check operations--\n",
    "\n",
    "   operators                             meaning\n",
    "______________________________________________________________________________________________________\n",
    "    is                   a is b returns true if variable/identifiers a and b points to the same object\n",
    "    is not               a is not b returns true if variable/identifiers  a and b points to the different  object\n",
    "    ==                   a==b returns true if var/identifiers a and b has same value \n",
    "    !=                   a!=b returns true if var/iden a and b  has diff value "
   ]
  },
  {
   "cell_type": "code",
   "execution_count": 60,
   "id": "717579ac-6049-417d-ad9d-aa07af26ea7a",
   "metadata": {},
   "outputs": [],
   "source": [
    "lst_a=[1,2,3,4]\n",
    "lst_b=[1,2,3,4]\n"
   ]
  },
  {
   "cell_type": "code",
   "execution_count": 63,
   "id": "ea5e1484-8a58-48ea-8fbf-275c00a78723",
   "metadata": {},
   "outputs": [
    {
     "name": "stdout",
     "output_type": "stream",
     "text": [
      "139770162717440\n",
      "139770162846848\n"
     ]
    }
   ],
   "source": [
    "print(id(lst_a))## it will give memory address\n",
    "print(id(lst_b))"
   ]
  },
  {
   "cell_type": "code",
   "execution_count": 64,
   "id": "5c05a510-5d76-4d48-bfcb-1ab2baa096a2",
   "metadata": {},
   "outputs": [
    {
     "data": {
      "text/plain": [
       "False"
      ]
     },
     "execution_count": 64,
     "metadata": {},
     "output_type": "execute_result"
    }
   ],
   "source": [
    "lst_a is lst_b"
   ]
  },
  {
   "cell_type": "code",
   "execution_count": 65,
   "id": "d3495831-4bff-4fde-863e-bf1e74d225f8",
   "metadata": {},
   "outputs": [],
   "source": [
    "lst_a=[1,2,3,4]\n",
    "lst_a=lst_b"
   ]
  },
  {
   "cell_type": "code",
   "execution_count": 66,
   "id": "95e44f87-bfaf-4957-8f1b-4c264e028e3c",
   "metadata": {},
   "outputs": [
    {
     "name": "stdout",
     "output_type": "stream",
     "text": [
      "139770162846848\n",
      "139770162846848\n"
     ]
    }
   ],
   "source": [
    "print(id(lst_a)) ## returns the identity of object\n",
    "print(id(lst_b))"
   ]
  },
  {
   "cell_type": "code",
   "execution_count": 67,
   "id": "0daec55f-85c6-419c-826b-ba50bbeccfdb",
   "metadata": {},
   "outputs": [
    {
     "data": {
      "text/plain": [
       "True"
      ]
     },
     "execution_count": 67,
     "metadata": {},
     "output_type": "execute_result"
    }
   ],
   "source": [
    "lst_a is lst_b"
   ]
  },
  {
   "cell_type": "code",
   "execution_count": null,
   "id": "875a5b55-8c4d-4599-8526-6b3103e60a25",
   "metadata": {},
   "outputs": [],
   "source": []
  },
  {
   "cell_type": "code",
   "execution_count": 69,
   "id": "72ed1413-e8f1-40a5-9182-71911af3be81",
   "metadata": {},
   "outputs": [
    {
     "data": {
      "text/plain": [
       "True"
      ]
     },
     "execution_count": 69,
     "metadata": {},
     "output_type": "execute_result"
    }
   ],
   "source": [
    "a=[1,2,3,4]\n",
    "b=[1,2,3,4]\n",
    "a is not b"
   ]
  },
  {
   "cell_type": "code",
   "execution_count": 71,
   "id": "4c852739-ca54-4771-8de7-82ab8771f7dd",
   "metadata": {},
   "outputs": [
    {
     "data": {
      "text/plain": [
       "True"
      ]
     },
     "execution_count": 71,
     "metadata": {},
     "output_type": "execute_result"
    }
   ],
   "source": [
    "a==b ## it will check the elements present i that lists"
   ]
  },
  {
   "cell_type": "code",
   "execution_count": 72,
   "id": "e42371c9-a960-47b2-8b81-d5ceb4b40f74",
   "metadata": {},
   "outputs": [],
   "source": [
    "a=2\n",
    "b=2"
   ]
  },
  {
   "cell_type": "code",
   "execution_count": 73,
   "id": "758d878d-65be-4c14-89ff-5b5f6650ac96",
   "metadata": {},
   "outputs": [
    {
     "data": {
      "text/plain": [
       "139770779877648"
      ]
     },
     "execution_count": 73,
     "metadata": {},
     "output_type": "execute_result"
    }
   ],
   "source": [
    "id(a)"
   ]
  },
  {
   "cell_type": "code",
   "execution_count": 74,
   "id": "2fdc7912-1738-4ddc-9908-5b0675aacf41",
   "metadata": {},
   "outputs": [
    {
     "data": {
      "text/plain": [
       "False"
      ]
     },
     "execution_count": 74,
     "metadata": {},
     "output_type": "execute_result"
    }
   ],
   "source": [
    "a is not b"
   ]
  },
  {
   "cell_type": "code",
   "execution_count": 75,
   "id": "6adac855-da58-4dd3-8de5-269615fa067a",
   "metadata": {},
   "outputs": [
    {
     "data": {
      "text/plain": [
       "True"
      ]
     },
     "execution_count": 75,
     "metadata": {},
     "output_type": "execute_result"
    }
   ],
   "source": [
    "a is b"
   ]
  },
  {
   "cell_type": "code",
   "execution_count": 76,
   "id": "c705da72-8005-4e3c-bd0e-dfe007050844",
   "metadata": {},
   "outputs": [
    {
     "data": {
      "text/plain": [
       "True"
      ]
     },
     "execution_count": 76,
     "metadata": {},
     "output_type": "execute_result"
    }
   ],
   "source": [
    "a==b"
   ]
  },
  {
   "cell_type": "code",
   "execution_count": 77,
   "id": "8c4a773d-cd51-48cf-9605-82330070afef",
   "metadata": {},
   "outputs": [
    {
     "name": "stdout",
     "output_type": "stream",
     "text": [
      "139770737103024\n",
      "139770737103024\n"
     ]
    }
   ],
   "source": [
    "str1=\"Hitesh\"\n",
    "str2=\"Hitesh\"\n",
    "print(id(str1))\n",
    "print(id(str2))"
   ]
  },
  {
   "cell_type": "code",
   "execution_count": 78,
   "id": "c04c8c87-18f0-4fbc-a4c9-0dd32ed348af",
   "metadata": {},
   "outputs": [
    {
     "name": "stdout",
     "output_type": "stream",
     "text": [
      "139770737103024\n",
      "139770162331504\n"
     ]
    }
   ],
   "source": [
    "str1=\"Hitesh\"\n",
    "str2=\"Hitesh Kumar\"\n",
    "print(id(str1))\n",
    "print(id(str2))"
   ]
  },
  {
   "cell_type": "code",
   "execution_count": 81,
   "id": "22e839af-756d-43ce-a30f-d748e986481d",
   "metadata": {},
   "outputs": [],
   "source": [
    "lst_a[0]=10 ## mutabolity  list is a mutable object where as str is immutable object we cant change the value "
   ]
  },
  {
   "cell_type": "code",
   "execution_count": 80,
   "id": "261cb36d-158a-44ba-a11f-e25e91d5e4b0",
   "metadata": {},
   "outputs": [
    {
     "data": {
      "text/plain": [
       "[10, 2, 3, 4]"
      ]
     },
     "execution_count": 80,
     "metadata": {},
     "output_type": "execute_result"
    }
   ],
   "source": [
    "lst_a"
   ]
  },
  {
   "cell_type": "code",
   "execution_count": 82,
   "id": "661659f9-a20f-45ff-bc3a-a411ff26fa8f",
   "metadata": {},
   "outputs": [
    {
     "data": {
      "text/plain": [
       "'Hitesh'"
      ]
     },
     "execution_count": 82,
     "metadata": {},
     "output_type": "execute_result"
    }
   ],
   "source": [
    "str1"
   ]
  },
  {
   "cell_type": "code",
   "execution_count": 83,
   "id": "d22c2781-0ddc-4b98-bd7c-ee5cef3d98b8",
   "metadata": {},
   "outputs": [
    {
     "ename": "TypeError",
     "evalue": "'str' object does not support item assignment",
     "output_type": "error",
     "traceback": [
      "\u001b[0;31m---------------------------------------------------------------------------\u001b[0m",
      "\u001b[0;31mTypeError\u001b[0m                                 Traceback (most recent call last)",
      "Cell \u001b[0;32mIn[83], line 1\u001b[0m\n\u001b[0;32m----> 1\u001b[0m \u001b[43mstr1\u001b[49m\u001b[43m[\u001b[49m\u001b[38;5;241;43m0\u001b[39;49m\u001b[43m]\u001b[49m\u001b[38;5;241m=\u001b[39m\u001b[38;5;124m'\u001b[39m\u001b[38;5;124mN\u001b[39m\u001b[38;5;124m'\u001b[39m\n",
      "\u001b[0;31mTypeError\u001b[0m: 'str' object does not support item assignment"
     ]
    }
   ],
   "source": [
    "str1[0]='N' ## string is immutable so we cant change but we can replace "
   ]
  },
  {
   "cell_type": "code",
   "execution_count": 84,
   "id": "6e5a41b4-dbf7-4918-b5a7-fb1efe385f9a",
   "metadata": {},
   "outputs": [],
   "source": [
    "str1=\"Nitesh\""
   ]
  },
  {
   "cell_type": "code",
   "execution_count": 85,
   "id": "74577e88-e487-412d-8654-8e4c6eea69e7",
   "metadata": {},
   "outputs": [
    {
     "data": {
      "text/plain": [
       "'Nitesh'"
      ]
     },
     "execution_count": 85,
     "metadata": {},
     "output_type": "execute_result"
    }
   ],
   "source": [
    "str1 ## we changed the value"
   ]
  },
  {
   "cell_type": "code",
   "execution_count": null,
   "id": "4981707d-c322-4fbd-b396-e0b51b74fe63",
   "metadata": {},
   "outputs": [],
   "source": []
  },
  {
   "cell_type": "markdown",
   "id": "472cfda0-b8e2-4f4c-80f3-896d61f5dc2d",
   "metadata": {},
   "source": [
    "### comparision operations \n",
    "\n"
   ]
  },
  {
   "cell_type": "markdown",
   "id": "b06ed027-048d-4e96-b898-b4aa49a22da6",
   "metadata": {},
   "source": [
    "operation                        meaning\n",
    "__________________________________________\n",
    "  <                        less than\n",
    "  <=                    less than or eual to \n",
    "  >                       greater than\n",
    "  >=                    greater than equal to"
   ]
  },
  {
   "cell_type": "code",
   "execution_count": null,
   "id": "91391833-43bb-4d50-83bd-3cb61d82448e",
   "metadata": {},
   "outputs": [],
   "source": []
  },
  {
   "cell_type": "code",
   "execution_count": 86,
   "id": "242433d9-791b-4291-82d5-e391fdf2607c",
   "metadata": {},
   "outputs": [
    {
     "name": "stdout",
     "output_type": "stream",
     "text": [
      "bike is faster than car : False\n"
     ]
    }
   ],
   "source": [
    "max_speed_of_bike= 150\n",
    "max_speed_of_car=200\n",
    "\n",
    "print(f\"bike is faster than car : {max_speed_of_bike > max_speed_of_car}\")"
   ]
  },
  {
   "cell_type": "code",
   "execution_count": 87,
   "id": "71f247a6-3bf1-4592-b786-1b9a393bc3a0",
   "metadata": {},
   "outputs": [
    {
     "name": "stdout",
     "output_type": "stream",
     "text": [
      "bike is faster than car : True\n"
     ]
    }
   ],
   "source": [
    "max_speed_of_bike= 150\n",
    "max_speed_of_car=200\n",
    "\n",
    "print(f\"bike is faster than car : {max_speed_of_bike < max_speed_of_car}\")"
   ]
  },
  {
   "cell_type": "code",
   "execution_count": null,
   "id": "51bc3350-33aa-4d27-81e1-5484e022860c",
   "metadata": {},
   "outputs": [],
   "source": [
    "\n"
   ]
  },
  {
   "cell_type": "markdown",
   "id": "51380862-fca9-4aef-9baa-fb0c41b485d3",
   "metadata": {},
   "source": [
    "### Arithmetic operations"
   ]
  },
  {
   "cell_type": "markdown",
   "id": "c71d1a0a-6c85-4495-a9d6-cb80fb2e8705",
   "metadata": {},
   "source": [
    "   operation                     meaning\n",
    "____________________________________________\n",
    "      +                      addition\n",
    "      -                      subtraction\n",
    "      *                      multiplication\n",
    "      /                      division\n",
    "      //                     inter division\n",
    "      %                      the modulo operator"
   ]
  },
  {
   "cell_type": "code",
   "execution_count": 88,
   "id": "c4ed3882-c3e1-498c-802d-24d24de70212",
   "metadata": {},
   "outputs": [],
   "source": [
    "a=25\n",
    "b=101"
   ]
  },
  {
   "cell_type": "code",
   "execution_count": 89,
   "id": "51ee2777-3dd1-42d8-a4f0-e6760909b436",
   "metadata": {},
   "outputs": [
    {
     "name": "stdout",
     "output_type": "stream",
     "text": [
      "126\n"
     ]
    }
   ],
   "source": [
    "print(a+b)"
   ]
  },
  {
   "cell_type": "code",
   "execution_count": 90,
   "id": "0be9e09d-b0da-4945-b110-c0229e08499f",
   "metadata": {},
   "outputs": [
    {
     "data": {
      "text/plain": [
       "-76"
      ]
     },
     "execution_count": 90,
     "metadata": {},
     "output_type": "execute_result"
    }
   ],
   "source": [
    "a-b"
   ]
  },
  {
   "cell_type": "code",
   "execution_count": 91,
   "id": "851c6643-8cc0-484b-8aae-de759da89984",
   "metadata": {},
   "outputs": [
    {
     "data": {
      "text/plain": [
       "4"
      ]
     },
     "execution_count": 91,
     "metadata": {},
     "output_type": "execute_result"
    }
   ],
   "source": [
    "b//a"
   ]
  },
  {
   "cell_type": "code",
   "execution_count": 92,
   "id": "25a981d8-b8e6-45e7-97a0-4d824766e794",
   "metadata": {},
   "outputs": [
    {
     "data": {
      "text/plain": [
       "0"
      ]
     },
     "execution_count": 92,
     "metadata": {},
     "output_type": "execute_result"
    }
   ],
   "source": [
    "a//b ## it will give use quotient"
   ]
  },
  {
   "cell_type": "code",
   "execution_count": 94,
   "id": "73c7c5d7-0150-494c-8f66-591bdf95ddca",
   "metadata": {},
   "outputs": [
    {
     "data": {
      "text/plain": [
       "1"
      ]
     },
     "execution_count": 94,
     "metadata": {},
     "output_type": "execute_result"
    }
   ],
   "source": [
    "b%a #it will give us reminder"
   ]
  },
  {
   "cell_type": "code",
   "execution_count": null,
   "id": "76b722f7-6c1e-4282-864f-450ebbe91ad6",
   "metadata": {},
   "outputs": [],
   "source": []
  },
  {
   "cell_type": "markdown",
   "id": "21cd3465-11ae-47ac-a748-febc4187dcd4",
   "metadata": {},
   "source": [
    "### Bitwise operators"
   ]
  },
  {
   "cell_type": "markdown",
   "id": "632c3662-c19e-403d-b8ca-221683eced0d",
   "metadata": {},
   "source": [
    "   operation                                meaning\n",
    "_________________________________________________________\n",
    "     ~(wave)                                   bitwise complement (prefix unary operator)\n",
    "     &                                       bitwise and\n",
    "     |                                       bitwise or \n",
    "     ^                                       bitwise exclusive or\n",
    "     <<                                      shift bits left , filling in with zeros \n",
    "     >>                                      shift bits right, filling in with sign bit"
   ]
  },
  {
   "cell_type": "code",
   "execution_count": 2,
   "id": "2f3bb0f0-8d62-4dbc-9679-905512f13a31",
   "metadata": {},
   "outputs": [
    {
     "data": {
      "text/plain": [
       "'0b1010'"
      ]
     },
     "execution_count": 2,
     "metadata": {},
     "output_type": "execute_result"
    }
   ],
   "source": [
    "var=10\n",
    "bin(var)"
   ]
  },
  {
   "cell_type": "code",
   "execution_count": 3,
   "id": "57d0f593-e473-48dd-8ce0-cdeaccc5bc46",
   "metadata": {},
   "outputs": [
    {
     "data": {
      "text/plain": [
       "-11"
      ]
     },
     "execution_count": 3,
     "metadata": {},
     "output_type": "execute_result"
    }
   ],
   "source": [
    "~var"
   ]
  },
  {
   "cell_type": "code",
   "execution_count": null,
   "id": "f5a119b0-3a06-472d-8a4f-8bd200fdd7d6",
   "metadata": {},
   "outputs": [],
   "source": []
  }
 ],
 "metadata": {
  "kernelspec": {
   "display_name": "Python 3 (ipykernel)",
   "language": "python",
   "name": "python3"
  },
  "language_info": {
   "codemirror_mode": {
    "name": "ipython",
    "version": 3
   },
   "file_extension": ".py",
   "mimetype": "text/x-python",
   "name": "python",
   "nbconvert_exporter": "python",
   "pygments_lexer": "ipython3",
   "version": "3.10.8"
  }
 },
 "nbformat": 4,
 "nbformat_minor": 5
}
