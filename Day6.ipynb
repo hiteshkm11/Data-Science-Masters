{
 "cells": [
  {
   "cell_type": "markdown",
   "id": "79e929b0-c9e1-4822-a21f-ef70b2cf32ec",
   "metadata": {},
   "source": [
    "## STRING LISTS"
   ]
  },
  {
   "cell_type": "code",
   "execution_count": 1,
   "id": "c9148192-217c-42e3-9bb8-5c1d5726cb16",
   "metadata": {},
   "outputs": [],
   "source": [
    "name=\"Data Science Masters\""
   ]
  },
  {
   "cell_type": "code",
   "execution_count": 2,
   "id": "da5e20bb-f502-44ab-bfd8-8f27b825d790",
   "metadata": {},
   "outputs": [
    {
     "data": {
      "text/plain": [
       "'dATA sCIENCE mASTERS'"
      ]
     },
     "execution_count": 2,
     "metadata": {},
     "output_type": "execute_result"
    }
   ],
   "source": [
    "name.swapcase()"
   ]
  },
  {
   "cell_type": "code",
   "execution_count": 3,
   "id": "b34deda7-2544-422a-8c53-c0b246f7043e",
   "metadata": {},
   "outputs": [
    {
     "data": {
      "text/plain": [
       "'Data Science Masters'"
      ]
     },
     "execution_count": 3,
     "metadata": {},
     "output_type": "execute_result"
    }
   ],
   "source": [
    "name.title()"
   ]
  },
  {
   "cell_type": "code",
   "execution_count": 4,
   "id": "7168fa34-18ff-4277-b685-339a79cb89d3",
   "metadata": {},
   "outputs": [
    {
     "data": {
      "text/plain": [
       "'Data science masters'"
      ]
     },
     "execution_count": 4,
     "metadata": {},
     "output_type": "execute_result"
    }
   ],
   "source": [
    "name.capitalize()"
   ]
  },
  {
   "cell_type": "markdown",
   "id": "56b4afb6-cac9-45ba-9d35-4fc0719f8e70",
   "metadata": {},
   "source": [
    "## Reversing a string"
   ]
  },
  {
   "cell_type": "code",
   "execution_count": 5,
   "id": "b4ad4d71-6f0f-4821-82ac-9b528fffd191",
   "metadata": {},
   "outputs": [
    {
     "data": {
      "text/plain": [
       "'sretsaM ecneicS ataD'"
      ]
     },
     "execution_count": 5,
     "metadata": {},
     "output_type": "execute_result"
    }
   ],
   "source": [
    "name[::-1]"
   ]
  },
  {
   "cell_type": "code",
   "execution_count": 12,
   "id": "bddd2eeb-bda9-4379-a9b0-ee74f9507094",
   "metadata": {},
   "outputs": [
    {
     "data": {
      "text/plain": [
       "'s r e t s a M   e c n e i c S   a t a D'"
      ]
     },
     "execution_count": 12,
     "metadata": {},
     "output_type": "execute_result"
    }
   ],
   "source": [
    "' '.join(reversed(name))"
   ]
  },
  {
   "cell_type": "code",
   "execution_count": 13,
   "id": "91cfad05-8987-4009-9634-709ae519da23",
   "metadata": {},
   "outputs": [
    {
     "data": {
      "text/plain": [
       "'a b c d'"
      ]
     },
     "execution_count": 13,
     "metadata": {},
     "output_type": "execute_result"
    }
   ],
   "source": [
    "\" \".join(\"abcd\")"
   ]
  },
  {
   "cell_type": "code",
   "execution_count": 14,
   "id": "5f2e0713-fe78-4289-a085-1e9f0cac594f",
   "metadata": {},
   "outputs": [
    {
     "data": {
      "text/plain": [
       "'h s e t i h'"
      ]
     },
     "execution_count": 14,
     "metadata": {},
     "output_type": "execute_result"
    }
   ],
   "source": [
    "\" \".join(reversed(\"hitesh\"))"
   ]
  },
  {
   "cell_type": "code",
   "execution_count": 15,
   "id": "e558d9b4-a0b9-4f0b-be95-7b6204db51f4",
   "metadata": {},
   "outputs": [
    {
     "data": {
      "text/plain": [
       "['h', 's', 'e', 't', 'i', 'H']"
      ]
     },
     "execution_count": 15,
     "metadata": {},
     "output_type": "execute_result"
    }
   ],
   "source": [
    "list(reversed(\"Hitesh\"))"
   ]
  },
  {
   "cell_type": "code",
   "execution_count": 16,
   "id": "ac233a09-dd18-4cbe-a0bf-bbe91b33faad",
   "metadata": {},
   "outputs": [
    {
     "data": {
      "text/plain": [
       "['H', 'i', 't', 'e', 's', 'h']"
      ]
     },
     "execution_count": 16,
     "metadata": {},
     "output_type": "execute_result"
    }
   ],
   "source": [
    "list(\"Hitesh\")"
   ]
  },
  {
   "cell_type": "code",
   "execution_count": 17,
   "id": "dd5daa4a-b043-42ce-bf6e-4306065046cc",
   "metadata": {},
   "outputs": [],
   "source": [
    "str1=\"PW is a good company\""
   ]
  },
  {
   "cell_type": "code",
   "execution_count": 18,
   "id": "af743aba-c3b1-4bdf-979f-ba2e2cb69ad2",
   "metadata": {},
   "outputs": [
    {
     "data": {
      "text/plain": [
       "'PSkillsWSkills SkillsiSkillssSkills SkillsaSkills SkillsgSkillsoSkillsoSkillsdSkills SkillscSkillsoSkillsmSkillspSkillsaSkillsnSkillsy'"
      ]
     },
     "execution_count": 18,
     "metadata": {},
     "output_type": "execute_result"
    }
   ],
   "source": [
    "\"Skills\".join(str1)"
   ]
  },
  {
   "cell_type": "code",
   "execution_count": 19,
   "id": "4f1063db-02be-4713-9eec-e88844f75f8f",
   "metadata": {},
   "outputs": [
    {
     "data": {
      "text/plain": [
       "['r', 'a', 'm', 'u', 'k', ' ', 'h', 's', 'e', 't', 'i', 'H']"
      ]
     },
     "execution_count": 19,
     "metadata": {},
     "output_type": "execute_result"
    }
   ],
   "source": [
    "## typecasting\n",
    "list(reversed(\"Hitesh kumar\"))"
   ]
  },
  {
   "cell_type": "code",
   "execution_count": 22,
   "id": "02f07e15-a4ac-47a1-9906-61ed7e34b72e",
   "metadata": {},
   "outputs": [
    {
     "name": "stdout",
     "output_type": "stream",
     "text": [
      "s\n",
      "r\n",
      "e\n",
      "t\n",
      "s\n",
      "a\n",
      "M\n",
      " \n",
      "e\n",
      "c\n",
      "n\n",
      "e\n",
      "i\n",
      "c\n",
      "S\n",
      " \n",
      "a\n",
      "t\n",
      "a\n",
      "D\n"
     ]
    }
   ],
   "source": [
    "for i in list(reversed(name)):\n",
    "    print(i,end=\"\\n\")"
   ]
  },
  {
   "cell_type": "code",
   "execution_count": 29,
   "id": "ff3efc05-3ff6-455c-994f-79a72276dd25",
   "metadata": {},
   "outputs": [],
   "source": [
    " ## Removing characters from the end of string\n",
    "str_1=\" pwskills \""
   ]
  },
  {
   "cell_type": "code",
   "execution_count": 25,
   "id": "2285cb53-71df-4823-ad64-7c0602836f77",
   "metadata": {},
   "outputs": [
    {
     "data": {
      "text/plain": [
       "'pwskills'"
      ]
     },
     "execution_count": 25,
     "metadata": {},
     "output_type": "execute_result"
    }
   ],
   "source": [
    "str_1.strip(\" \") ## white spaces removed"
   ]
  },
  {
   "cell_type": "code",
   "execution_count": 30,
   "id": "48e7efcb-78df-42c7-be36-0fbb6632f2b1",
   "metadata": {},
   "outputs": [
    {
     "data": {
      "text/plain": [
       "'pwskills '"
      ]
     },
     "execution_count": 30,
     "metadata": {},
     "output_type": "execute_result"
    }
   ],
   "source": [
    "str_1.lstrip(\" \")"
   ]
  },
  {
   "cell_type": "code",
   "execution_count": 32,
   "id": "c3db417d-7736-49e3-9f96-1c59a6b65c4f",
   "metadata": {},
   "outputs": [
    {
     "data": {
      "text/plain": [
       "' pwskills'"
      ]
     },
     "execution_count": 32,
     "metadata": {},
     "output_type": "execute_result"
    }
   ],
   "source": [
    "str_1.rstrip(\" \")  ### shift+tab for the definition"
   ]
  },
  {
   "cell_type": "code",
   "execution_count": 35,
   "id": "0b343d07-fb41-46f8-924d-2e16e0838fc0",
   "metadata": {},
   "outputs": [
    {
     "data": {
      "text/plain": [
       "'Greeting From Pwskills'"
      ]
     },
     "execution_count": 35,
     "metadata": {},
     "output_type": "execute_result"
    }
   ],
   "source": [
    "str_n=\"Greeting to Pwskills\" ## we can change the word in string by using replace function\n",
    "str_n.replace(\"to\",\"From\")"
   ]
  },
  {
   "cell_type": "code",
   "execution_count": 37,
   "id": "43deca13-f02d-48c1-bec5-69e5f587794f",
   "metadata": {},
   "outputs": [],
   "source": [
    "str_n=\"Greeting to Pwskills\" ## we can change the word in string by using replace function\n",
    "var_a=str_n.replace(\"G\",\"T\")"
   ]
  },
  {
   "cell_type": "code",
   "execution_count": 38,
   "id": "e74354e2-6b5e-49cb-b12e-e015ecee12f6",
   "metadata": {},
   "outputs": [
    {
     "name": "stdout",
     "output_type": "stream",
     "text": [
      "139870197209968\n"
     ]
    }
   ],
   "source": [
    "print(id(str_1))"
   ]
  },
  {
   "cell_type": "code",
   "execution_count": 40,
   "id": "d9bbf2ac-2ada-4c9c-844a-6e31a267d9b6",
   "metadata": {},
   "outputs": [
    {
     "name": "stdout",
     "output_type": "stream",
     "text": [
      "139870496708512\n"
     ]
    }
   ],
   "source": [
    "print(id(var_a))"
   ]
  },
  {
   "cell_type": "code",
   "execution_count": 41,
   "id": "532b9af5-81a1-4368-9032-3e68a9ab728a",
   "metadata": {},
   "outputs": [
    {
     "data": {
      "text/plain": [
       "'hello world'"
      ]
     },
     "execution_count": 41,
     "metadata": {},
     "output_type": "execute_result"
    }
   ],
   "source": [
    "\"hello world\""
   ]
  },
  {
   "cell_type": "code",
   "execution_count": 45,
   "id": "2c99aee8-9377-445b-abba-dfd55cc35e7b",
   "metadata": {},
   "outputs": [
    {
     "data": {
      "text/plain": [
       "'test$gmail.com'"
      ]
     },
     "execution_count": 45,
     "metadata": {},
     "output_type": "execute_result"
    }
   ],
   "source": [
    "str_n=\"test@gmail.com\"\n",
    "var=str_n.replace(\"@\",\"$\")\n",
    "var\n"
   ]
  },
  {
   "cell_type": "code",
   "execution_count": 48,
   "id": "8a1e5f3d-3254-43ea-aa27-cb437d9f92ef",
   "metadata": {},
   "outputs": [
    {
     "data": {
      "text/plain": [
       "'hello \\nworld'"
      ]
     },
     "execution_count": 48,
     "metadata": {},
     "output_type": "execute_result"
    }
   ],
   "source": [
    "\"hello \\nworld\""
   ]
  },
  {
   "cell_type": "code",
   "execution_count": 1,
   "id": "e1d80548-93a5-48f0-bc9e-feb100009560",
   "metadata": {},
   "outputs": [
    {
     "data": {
      "text/plain": [
       "'hello   world'"
      ]
     },
     "execution_count": 1,
     "metadata": {},
     "output_type": "execute_result"
    }
   ],
   "source": [
    "\"hello \\tworld\".expandtabs()"
   ]
  },
  {
   "cell_type": "code",
   "execution_count": 7,
   "id": "6936af06-9f55-47b1-8f29-804cc0806661",
   "metadata": {},
   "outputs": [
    {
     "data": {
      "text/plain": [
       "'welcome to pwskills.Welcome to Data cience Masters'"
      ]
     },
     "execution_count": 7,
     "metadata": {},
     "output_type": "execute_result"
    }
   ],
   "source": [
    "str1=\"welcome to pwskills.Welcome to Dat cience Masters\"\n",
    "var2=str1.replace(\"Dat\",\"Data\")\n",
    "var2"
   ]
  },
  {
   "cell_type": "code",
   "execution_count": 8,
   "id": "e40e5559-b7fe-4338-8f68-f44e824a72b4",
   "metadata": {},
   "outputs": [
    {
     "data": {
      "text/plain": [
       "'welcome to pwskills.Welcome to Data Science Masters'"
      ]
     },
     "execution_count": 8,
     "metadata": {},
     "output_type": "execute_result"
    }
   ],
   "source": [
    "var2.replace(\"cience\",\"Science\")"
   ]
  },
  {
   "cell_type": "code",
   "execution_count": 9,
   "id": "d73f3c02-9a98-4dae-9087-e39d3384de75",
   "metadata": {},
   "outputs": [],
   "source": [
    "str1=\"welcome to pwskills.Welcome to Dat cience Masters\"\n",
    "var2=str1.replace(\"Dat\",\"Data\").replace(\"cience\",\"Science\")\n"
   ]
  },
  {
   "cell_type": "code",
   "execution_count": 10,
   "id": "c38c1b73-aea3-4d9a-abda-dda0adaa31e3",
   "metadata": {},
   "outputs": [
    {
     "data": {
      "text/plain": [
       "'welcome to pwskills.Welcome to Data Science Masters'"
      ]
     },
     "execution_count": 10,
     "metadata": {},
     "output_type": "execute_result"
    }
   ],
   "source": [
    "var2"
   ]
  },
  {
   "cell_type": "code",
   "execution_count": 11,
   "id": "c6ed39fe-425a-481c-b48c-cf97902ab434",
   "metadata": {},
   "outputs": [
    {
     "data": {
      "text/plain": [
       "'welcome to pwskills.Welcome to Dat cience Masters'"
      ]
     },
     "execution_count": 11,
     "metadata": {},
     "output_type": "execute_result"
    }
   ],
   "source": [
    "str1"
   ]
  },
  {
   "cell_type": "code",
   "execution_count": 12,
   "id": "7cc69470-e418-4ec5-bd17-6d72ff346793",
   "metadata": {},
   "outputs": [
    {
     "data": {
      "text/plain": [
       "False"
      ]
     },
     "execution_count": 12,
     "metadata": {},
     "output_type": "execute_result"
    }
   ],
   "source": [
    "str1.isupper()"
   ]
  },
  {
   "cell_type": "code",
   "execution_count": 13,
   "id": "b8ca004e-d9ed-4ee1-a8f5-7e4e83089b03",
   "metadata": {},
   "outputs": [],
   "source": [
    "str1=\"HITESH\"\n"
   ]
  },
  {
   "cell_type": "code",
   "execution_count": 14,
   "id": "03d67474-1b60-4c9a-adfa-a1ed0c663b3b",
   "metadata": {},
   "outputs": [
    {
     "data": {
      "text/plain": [
       "True"
      ]
     },
     "execution_count": 14,
     "metadata": {},
     "output_type": "execute_result"
    }
   ],
   "source": [
    "str1.isupper()"
   ]
  },
  {
   "cell_type": "code",
   "execution_count": 16,
   "id": "88fe41c8-a7fd-4e2b-8fe9-4569fe7ef937",
   "metadata": {},
   "outputs": [
    {
     "data": {
      "text/plain": [
       "False"
      ]
     },
     "execution_count": 16,
     "metadata": {},
     "output_type": "execute_result"
    }
   ],
   "source": [
    "str1.islower()"
   ]
  },
  {
   "cell_type": "code",
   "execution_count": 17,
   "id": "683caefd-d6bd-49d0-89a3-cde2b1cc2df5",
   "metadata": {},
   "outputs": [
    {
     "data": {
      "text/plain": [
       "False"
      ]
     },
     "execution_count": 17,
     "metadata": {},
     "output_type": "execute_result"
    }
   ],
   "source": [
    "str1.isspace()"
   ]
  },
  {
   "cell_type": "code",
   "execution_count": 18,
   "id": "5798ada6-b19d-4733-8aee-72353e94c031",
   "metadata": {},
   "outputs": [],
   "source": [
    "str2=\" \""
   ]
  },
  {
   "cell_type": "code",
   "execution_count": 19,
   "id": "40e94e50-1d92-475b-b6ea-cdafa6bdf7a6",
   "metadata": {},
   "outputs": [
    {
     "data": {
      "text/plain": [
       "True"
      ]
     },
     "execution_count": 19,
     "metadata": {},
     "output_type": "execute_result"
    }
   ],
   "source": [
    "str2.isspace()"
   ]
  },
  {
   "cell_type": "code",
   "execution_count": 20,
   "id": "5326cb8c-1121-43d7-b7d1-c21d1b50c1ea",
   "metadata": {},
   "outputs": [
    {
     "data": {
      "text/plain": [
       "True"
      ]
     },
     "execution_count": 20,
     "metadata": {},
     "output_type": "execute_result"
    }
   ],
   "source": [
    "\" \".isspace()"
   ]
  },
  {
   "cell_type": "code",
   "execution_count": 21,
   "id": "207e4a0f-9de8-468f-ba0d-1d4ebbc293e7",
   "metadata": {},
   "outputs": [
    {
     "name": "stdout",
     "output_type": "stream",
     "text": [
      "Hello\n"
     ]
    }
   ],
   "source": [
    "if \" \".isspace():\n",
    "    print(\"Hello\")"
   ]
  },
  {
   "cell_type": "code",
   "execution_count": 22,
   "id": "bc7736b2-0123-4140-821a-478137291617",
   "metadata": {},
   "outputs": [],
   "source": [
    "str3=\"pwskills\""
   ]
  },
  {
   "cell_type": "code",
   "execution_count": 23,
   "id": "ce6b65b9-2e9c-461d-8e32-2f699bc972ac",
   "metadata": {},
   "outputs": [
    {
     "data": {
      "text/plain": [
       "True"
      ]
     },
     "execution_count": 23,
     "metadata": {},
     "output_type": "execute_result"
    }
   ],
   "source": [
    "str3.endswith('s')"
   ]
  },
  {
   "cell_type": "code",
   "execution_count": 25,
   "id": "60f89ce3-de6b-44da-92a7-d7a0a9caf1e8",
   "metadata": {},
   "outputs": [
    {
     "data": {
      "text/plain": [
       "True"
      ]
     },
     "execution_count": 25,
     "metadata": {},
     "output_type": "execute_result"
    }
   ],
   "source": [
    "str3.startswith('p')"
   ]
  },
  {
   "cell_type": "code",
   "execution_count": 26,
   "id": "9edaac42-be22-40f6-b53e-81d0d37711eb",
   "metadata": {},
   "outputs": [
    {
     "data": {
      "text/plain": [
       "False"
      ]
     },
     "execution_count": 26,
     "metadata": {},
     "output_type": "execute_result"
    }
   ],
   "source": [
    "str3.startswith('P')"
   ]
  },
  {
   "cell_type": "code",
   "execution_count": 28,
   "id": "61b6a606-4e29-4d35-a938-4952777774dd",
   "metadata": {},
   "outputs": [
    {
     "data": {
      "text/plain": [
       "True"
      ]
     },
     "execution_count": 28,
     "metadata": {},
     "output_type": "execute_result"
    }
   ],
   "source": [
    "# check if all the char in string  are alphanumeric\n",
    "a='abcd1234'\n",
    "a.isalnum()"
   ]
  },
  {
   "cell_type": "code",
   "execution_count": 29,
   "id": "c35d9337-0b4e-463c-a5fe-9241e23113f3",
   "metadata": {},
   "outputs": [],
   "source": [
    "## to count the number of characters in a strings\n"
   ]
  },
  {
   "cell_type": "code",
   "execution_count": 40,
   "id": "0a671a9d-c4ee-48db-832d-5e26e861559e",
   "metadata": {},
   "outputs": [
    {
     "name": "stdout",
     "output_type": "stream",
     "text": [
      "6\n"
     ]
    }
   ],
   "source": [
    "count=0\n",
    "for i in str1:\n",
    "    count=count+1\n",
    "print(count)"
   ]
  },
  {
   "cell_type": "code",
   "execution_count": 36,
   "id": "a2a57dc2-db50-4b02-9b8a-af0c5ce21f77",
   "metadata": {},
   "outputs": [
    {
     "data": {
      "text/plain": [
       "6"
      ]
     },
     "execution_count": 36,
     "metadata": {},
     "output_type": "execute_result"
    }
   ],
   "source": [
    "len(str1)"
   ]
  },
  {
   "cell_type": "code",
   "execution_count": 3,
   "id": "c4a992c1-3fa5-4458-84bf-2b23ec9958ae",
   "metadata": {},
   "outputs": [],
   "source": [
    "str2=\"Hitesh\""
   ]
  },
  {
   "cell_type": "code",
   "execution_count": 42,
   "id": "81084493-79e2-4219-bbf1-091e5b9409d1",
   "metadata": {},
   "outputs": [
    {
     "name": "stdout",
     "output_type": "stream",
     "text": [
      "6\n"
     ]
    }
   ],
   "source": [
    "count=0\n",
    "for i in str2:\n",
    "    count=count+1\n",
    "    \n",
    "print(count)"
   ]
  },
  {
   "cell_type": "code",
   "execution_count": 39,
   "id": "75baa20e-572e-4e5e-a03a-937a566f8366",
   "metadata": {},
   "outputs": [
    {
     "data": {
      "text/plain": [
       "6"
      ]
     },
     "execution_count": 39,
     "metadata": {},
     "output_type": "execute_result"
    }
   ],
   "source": [
    "len(str2)"
   ]
  },
  {
   "cell_type": "code",
   "execution_count": 43,
   "id": "c10a25d1-f469-4b45-9055-c855eb3565e2",
   "metadata": {},
   "outputs": [
    {
     "name": "stdout",
     "output_type": "stream",
     "text": [
      "H\n",
      "i\n",
      "t\n",
      "e\n",
      "s\n",
      "h\n"
     ]
    }
   ],
   "source": [
    "for i in str2:\n",
    "    print(i)"
   ]
  },
  {
   "cell_type": "code",
   "execution_count": 45,
   "id": "c59b46b2-15d7-4de3-b74e-23587ef9893a",
   "metadata": {},
   "outputs": [
    {
     "data": {
      "text/plain": [
       "range(0, 6)"
      ]
     },
     "execution_count": 45,
     "metadata": {},
     "output_type": "execute_result"
    }
   ],
   "source": [
    " range(len(str2))"
   ]
  },
  {
   "cell_type": "code",
   "execution_count": 47,
   "id": "e79212e5-855a-44c4-a4bd-0aec3e83737e",
   "metadata": {},
   "outputs": [
    {
     "name": "stdout",
     "output_type": "stream",
     "text": [
      "0 = H\n",
      "1 = i\n",
      "2 = t\n",
      "3 = e\n",
      "4 = s\n",
      "5 = h\n"
     ]
    }
   ],
   "source": [
    "for i in range(len(str2)):\n",
    "    print(i,\"=\",str2[i])"
   ]
  },
  {
   "cell_type": "code",
   "execution_count": 1,
   "id": "3afe973c-c886-4767-97a7-400e5d9f9787",
   "metadata": {},
   "outputs": [],
   "source": [
    "# we can use index to iterate string reverse direction"
   ]
  },
  {
   "cell_type": "code",
   "execution_count": 7,
   "id": "3cc83bbc-ff85-4b4c-a325-e9609954f7eb",
   "metadata": {},
   "outputs": [
    {
     "data": {
      "text/plain": [
       "5"
      ]
     },
     "execution_count": 7,
     "metadata": {},
     "output_type": "execute_result"
    }
   ],
   "source": [
    "len(str2)-1"
   ]
  },
  {
   "cell_type": "code",
   "execution_count": 5,
   "id": "4cc6d1c1-57ea-4709-a535-74f0ff252329",
   "metadata": {},
   "outputs": [
    {
     "name": "stdout",
     "output_type": "stream",
     "text": [
      "h\n",
      "s\n",
      "e\n",
      "t\n",
      "i\n",
      "H\n"
     ]
    }
   ],
   "source": [
    "for i in range(len(str2)-1,-1,-1):\n",
    "    print(str2[i])"
   ]
  },
  {
   "cell_type": "code",
   "execution_count": null,
   "id": "630b0411-2c0a-42d2-8a07-41070fa3469f",
   "metadata": {},
   "outputs": [],
   "source": [
    "string=\"HiteshKumar\"\n",
    "ch=len(string)-1\n",
    "while ch>=0:\n",
    "    print(string[ch])\n",
    "    ch=ch-1"
   ]
  },
  {
   "cell_type": "code",
   "execution_count": null,
   "id": "10f1606d-fb05-4e51-9fd7-abd14b45ea05",
   "metadata": {},
   "outputs": [],
   "source": []
  }
 ],
 "metadata": {
  "kernelspec": {
   "display_name": "Python 3 (ipykernel)",
   "language": "python",
   "name": "python3"
  },
  "language_info": {
   "codemirror_mode": {
    "name": "ipython",
    "version": 3
   },
   "file_extension": ".py",
   "mimetype": "text/x-python",
   "name": "python",
   "nbconvert_exporter": "python",
   "pygments_lexer": "ipython3",
   "version": "3.10.8"
  }
 },
 "nbformat": 4,
 "nbformat_minor": 5
}
