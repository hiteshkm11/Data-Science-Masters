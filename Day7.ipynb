{
 "cells": [
  {
   "cell_type": "code",
   "execution_count": 2,
   "id": "67b59f5c-6ac4-48f6-9159-f782d13f3a1c",
   "metadata": {},
   "outputs": [
    {
     "name": "stdout",
     "output_type": "stream",
     "text": [
      "r\n",
      "a\n",
      "m\n",
      "u\n",
      "K\n",
      "h\n",
      "s\n",
      "e\n",
      "t\n",
      "i\n",
      "H\n"
     ]
    }
   ],
   "source": [
    "str=\"HiteshKumar\"\n",
    "ch=len(str)-1\n",
    "while ch>=0:\n",
    "    print(str[ch])\n",
    "    ch=ch-1"
   ]
  },
  {
   "cell_type": "code",
   "execution_count": 7,
   "id": "72cfb3e0-7945-4db3-b7b2-c4119e6633a6",
   "metadata": {},
   "outputs": [
    {
     "data": {
      "text/plain": [
       "('r', 'a')"
      ]
     },
     "execution_count": 7,
     "metadata": {},
     "output_type": "execute_result"
    }
   ],
   "source": [
    "str[10],str[9]"
   ]
  },
  {
   "cell_type": "code",
   "execution_count": 9,
   "id": "baaa83c8-5dc1-4f70-83c4-7892204f6cd0",
   "metadata": {},
   "outputs": [
    {
     "name": "stdout",
     "output_type": "stream",
     "text": [
      "ramuKhsetiH"
     ]
    }
   ],
   "source": [
    "# Best solution\n",
    "\n",
    "for i in range(len(str)):\n",
    "    print(str[len(str)-(i+1)],end=\"\")"
   ]
  },
  {
   "cell_type": "code",
   "execution_count": 24,
   "id": "e286b245-e5bd-496a-ad4d-24b7cdf5a82f",
   "metadata": {},
   "outputs": [],
   "source": [
    "Name=\"HiteshKumar\"\n",
    "Vowels=\"AaEeIiOoUu\""
   ]
  },
  {
   "cell_type": "code",
   "execution_count": 20,
   "id": "5ff23be4-926c-4234-bb83-9fe80772c70d",
   "metadata": {},
   "outputs": [
    {
     "data": {
      "text/plain": [
       "'HiteshKumar'"
      ]
     },
     "execution_count": 20,
     "metadata": {},
     "output_type": "execute_result"
    }
   ],
   "source": [
    "Name"
   ]
  },
  {
   "cell_type": "code",
   "execution_count": 21,
   "id": "d6cd9303-14d7-4e20-b6d0-c1940521b871",
   "metadata": {},
   "outputs": [
    {
     "data": {
      "text/plain": [
       "'AaEeIiOoUu'"
      ]
     },
     "execution_count": 21,
     "metadata": {},
     "output_type": "execute_result"
    }
   ],
   "source": [
    "Vowel"
   ]
  },
  {
   "cell_type": "code",
   "execution_count": 27,
   "id": "cc39de8c-a33a-43f6-80d3-66e44207ac61",
   "metadata": {},
   "outputs": [
    {
     "name": "stdout",
     "output_type": "stream",
     "text": [
      "H is not a vowel\n",
      "i is a vowel\n",
      "t is not a vowel\n",
      "e is a vowel\n",
      "s is not a vowel\n",
      "h is not a vowel\n",
      "K is not a vowel\n",
      "u is a vowel\n",
      "m is not a vowel\n",
      "a is a vowel\n",
      "r is not a vowel\n"
     ]
    }
   ],
   "source": [
    "for ch in Name:\n",
    "    if ch in Vowels:\n",
    "        print(\"{} is a vowel\".format(ch))\n",
    "    else:\n",
    "        print(\"{} is not a vowel\".format(ch))\n",
    "        "
   ]
  },
  {
   "cell_type": "code",
   "execution_count": null,
   "id": "8ddf7616-dc02-45e6-a302-162b8493c914",
   "metadata": {},
   "outputs": [],
   "source": []
  }
 ],
 "metadata": {
  "kernelspec": {
   "display_name": "Python 3 (ipykernel)",
   "language": "python",
   "name": "python3"
  },
  "language_info": {
   "codemirror_mode": {
    "name": "ipython",
    "version": 3
   },
   "file_extension": ".py",
   "mimetype": "text/x-python",
   "name": "python",
   "nbconvert_exporter": "python",
   "pygments_lexer": "ipython3",
   "version": "3.10.8"
  }
 },
 "nbformat": 4,
 "nbformat_minor": 5
}
