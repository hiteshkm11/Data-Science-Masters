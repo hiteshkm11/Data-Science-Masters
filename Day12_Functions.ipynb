{
 "cells": [
  {
   "cell_type": "markdown",
   "id": "00f3c7e4-a9ce-4a1a-bfd5-6c878878a8df",
   "metadata": {},
   "source": [
    "# functions in python"
   ]
  },
  {
   "cell_type": "code",
   "execution_count": null,
   "id": "da0598d5-2b39-489f-b265-a4c6c4781ea1",
   "metadata": {},
   "outputs": [],
   "source": []
  },
  {
   "cell_type": "code",
   "execution_count": 1,
   "id": "4cb5e8fb-fc07-4b80-9b85-9c7dca6114e1",
   "metadata": {},
   "outputs": [
    {
     "name": "stdout",
     "output_type": "stream",
     "text": [
      "this is my prog\n"
     ]
    }
   ],
   "source": [
    "print('this is my prog')"
   ]
  },
  {
   "cell_type": "code",
   "execution_count": 2,
   "id": "fdf479ef-1b1c-401b-a10d-ecd574a73f7f",
   "metadata": {},
   "outputs": [],
   "source": [
    "l = [1,2,3,4,5]"
   ]
  },
  {
   "cell_type": "code",
   "execution_count": 3,
   "id": "07472e71-3b51-4b15-ad3f-1dee60a4e121",
   "metadata": {},
   "outputs": [
    {
     "data": {
      "text/plain": [
       "5"
      ]
     },
     "execution_count": 3,
     "metadata": {},
     "output_type": "execute_result"
    }
   ],
   "source": [
    "len(l)  ## this is an inbuilt function"
   ]
  },
  {
   "cell_type": "markdown",
   "id": "fc75b370-237a-4af5-a039-ae570b09a85a",
   "metadata": {},
   "source": [
    "HOW CAN WE CREATE SUCH FUNCTIONS THAT BEHAVES LIKE INBUILT FUNCTIONS ????"
   ]
  },
  {
   "cell_type": "code",
   "execution_count": null,
   "id": "57d0e1b1-87a6-42c4-910f-3b8262176c39",
   "metadata": {},
   "outputs": [],
   "source": []
  },
  {
   "cell_type": "code",
   "execution_count": 4,
   "id": "45ce1cea-c43f-40b9-821b-0514cf9e1378",
   "metadata": {},
   "outputs": [
    {
     "ename": "SyntaxError",
     "evalue": "incomplete input (129832783.py, line 2)",
     "output_type": "error",
     "traceback": [
      "\u001b[0;36m  Cell \u001b[0;32mIn[4], line 2\u001b[0;36m\u001b[0m\n\u001b[0;31m    ## defining a function\u001b[0m\n\u001b[0m                          ^\u001b[0m\n\u001b[0;31mSyntaxError\u001b[0m\u001b[0;31m:\u001b[0m incomplete input\n"
     ]
    }
   ],
   "source": [
    "def test():\n",
    " ## defining a function"
   ]
  },
  {
   "cell_type": "code",
   "execution_count": 5,
   "id": "1880b8ab-126d-439b-b378-263971ee774b",
   "metadata": {},
   "outputs": [],
   "source": [
    "def test():\n",
    "    pass"
   ]
  },
  {
   "cell_type": "code",
   "execution_count": 6,
   "id": "6808e7c3-d4a1-4524-b8f3-eee08efabe90",
   "metadata": {},
   "outputs": [],
   "source": [
    "def test1():\n",
    "    print('this is my very first function')\n",
    "    "
   ]
  },
  {
   "cell_type": "code",
   "execution_count": 7,
   "id": "cfb5fecf-0a9a-4871-80bf-6dc3ee5708e0",
   "metadata": {},
   "outputs": [
    {
     "name": "stdout",
     "output_type": "stream",
     "text": [
      "this is my very first function\n"
     ]
    }
   ],
   "source": [
    "test1()"
   ]
  },
  {
   "cell_type": "code",
   "execution_count": 8,
   "id": "b3a91b68-130d-43f3-bd56-a7fd73573ad1",
   "metadata": {},
   "outputs": [
    {
     "name": "stdout",
     "output_type": "stream",
     "text": [
      "this is my very first function\n"
     ]
    },
    {
     "ename": "TypeError",
     "evalue": "unsupported operand type(s) for +: 'NoneType' and 'str'",
     "output_type": "error",
     "traceback": [
      "\u001b[0;31m---------------------------------------------------------------------------\u001b[0m",
      "\u001b[0;31mTypeError\u001b[0m                                 Traceback (most recent call last)",
      "Cell \u001b[0;32mIn[8], line 1\u001b[0m\n\u001b[0;32m----> 1\u001b[0m \u001b[43mtest1\u001b[49m\u001b[43m(\u001b[49m\u001b[43m)\u001b[49m\u001b[43m \u001b[49m\u001b[38;5;241;43m+\u001b[39;49m\u001b[43m \u001b[49m\u001b[38;5;124;43m\"\u001b[39;49m\u001b[38;5;124;43mHitesh\u001b[39;49m\u001b[38;5;124;43m\"\u001b[39;49m \u001b[38;5;66;03m## print is like non type thats why here no concatination  is possible\u001b[39;00m\n",
      "\u001b[0;31mTypeError\u001b[0m: unsupported operand type(s) for +: 'NoneType' and 'str'"
     ]
    }
   ],
   "source": [
    "test1() + \"Hitesh\" ## print is like non type thats why here no concatination  is possible"
   ]
  },
  {
   "cell_type": "code",
   "execution_count": null,
   "id": "afbb0ee1-eeec-48b1-b021-7202c912117e",
   "metadata": {},
   "outputs": [],
   "source": [
    "def test2():\n",
    "    return \"this is my function with return\""
   ]
  },
  {
   "cell_type": "code",
   "execution_count": 9,
   "id": "76a77777-a9e9-4723-a189-52d18d3b8bc6",
   "metadata": {},
   "outputs": [
    {
     "ename": "NameError",
     "evalue": "name 'test2' is not defined",
     "output_type": "error",
     "traceback": [
      "\u001b[0;31m---------------------------------------------------------------------------\u001b[0m",
      "\u001b[0;31mNameError\u001b[0m                                 Traceback (most recent call last)",
      "Cell \u001b[0;32mIn[9], line 1\u001b[0m\n\u001b[0;32m----> 1\u001b[0m \u001b[43mtest2\u001b[49m()\n",
      "\u001b[0;31mNameError\u001b[0m: name 'test2' is not defined"
     ]
    }
   ],
   "source": [
    "test2()"
   ]
  },
  {
   "cell_type": "code",
   "execution_count": 10,
   "id": "764e7f85-bd1a-404c-a5aa-f0cb44ce5223",
   "metadata": {},
   "outputs": [
    {
     "ename": "NameError",
     "evalue": "name 'test2' is not defined",
     "output_type": "error",
     "traceback": [
      "\u001b[0;31m---------------------------------------------------------------------------\u001b[0m",
      "\u001b[0;31mNameError\u001b[0m                                 Traceback (most recent call last)",
      "Cell \u001b[0;32mIn[10], line 1\u001b[0m\n\u001b[0;32m----> 1\u001b[0m \u001b[43mtest2\u001b[49m() \u001b[38;5;241m+\u001b[39m \u001b[38;5;124m\"\u001b[39m\u001b[38;5;124mhitesh\u001b[39m\u001b[38;5;124m\"\u001b[39m \u001b[38;5;66;03m## return type \u001b[39;00m\n\u001b[1;32m      2\u001b[0m                    \u001b[38;5;66;03m## print -- nontype\u001b[39;00m\n",
      "\u001b[0;31mNameError\u001b[0m: name 'test2' is not defined"
     ]
    }
   ],
   "source": [
    "test2() + \"hitesh\" ## return type \n",
    "                   ## print -- nontype"
   ]
  },
  {
   "cell_type": "markdown",
   "id": "7910ec62-c4ce-4172-af40-15ef1da206fc",
   "metadata": {},
   "source": [
    "WE ARE SUPPOSED TO USE RETURN FUNCTION NOT PRINT "
   ]
  },
  {
   "cell_type": "code",
   "execution_count": null,
   "id": "d414c90a-5a95-451f-8b52-c11442dea82e",
   "metadata": {},
   "outputs": [],
   "source": []
  },
  {
   "cell_type": "code",
   "execution_count": 11,
   "id": "42d78fb7-ca05-4c50-a64f-b081628efafb",
   "metadata": {},
   "outputs": [],
   "source": [
    "def test3():\n",
    "    return 1,2,3,\"hitesh\",30.2"
   ]
  },
  {
   "cell_type": "code",
   "execution_count": 12,
   "id": "ee304666-8769-4cdd-bbf6-abe6242c3894",
   "metadata": {},
   "outputs": [
    {
     "data": {
      "text/plain": [
       "(1, 2, 3, 'hitesh', 30.2)"
      ]
     },
     "execution_count": 12,
     "metadata": {},
     "output_type": "execute_result"
    }
   ],
   "source": [
    "test3()"
   ]
  },
  {
   "cell_type": "code",
   "execution_count": 13,
   "id": "bcfbd20f-61f9-4221-a2cb-54415679a754",
   "metadata": {},
   "outputs": [],
   "source": [
    "\n",
    "a = 1,2,3,4,5"
   ]
  },
  {
   "cell_type": "code",
   "execution_count": 14,
   "id": "aeaa9c22-f74d-49e7-8bb9-8431050366c3",
   "metadata": {},
   "outputs": [
    {
     "data": {
      "text/plain": [
       "(1, 2, 3, 4, 5)"
      ]
     },
     "execution_count": 14,
     "metadata": {},
     "output_type": "execute_result"
    }
   ],
   "source": [
    "a"
   ]
  },
  {
   "cell_type": "code",
   "execution_count": 15,
   "id": "41dbac27-452f-4119-bbd1-d41a8d4bead1",
   "metadata": {},
   "outputs": [],
   "source": [
    "a,b,c,d = 12,14,13,True"
   ]
  },
  {
   "cell_type": "code",
   "execution_count": 16,
   "id": "24dbdc00-22be-4242-951a-3be13e873d6d",
   "metadata": {},
   "outputs": [
    {
     "data": {
      "text/plain": [
       "12"
      ]
     },
     "execution_count": 16,
     "metadata": {},
     "output_type": "execute_result"
    }
   ],
   "source": [
    "a"
   ]
  },
  {
   "cell_type": "code",
   "execution_count": 17,
   "id": "94db87dc-1871-43c5-a81c-38873ca69e3a",
   "metadata": {},
   "outputs": [
    {
     "data": {
      "text/plain": [
       "True"
      ]
     },
     "execution_count": 17,
     "metadata": {},
     "output_type": "execute_result"
    }
   ],
   "source": [
    "d"
   ]
  },
  {
   "cell_type": "code",
   "execution_count": 18,
   "id": "539fb194-d3fe-4533-88bd-3d8dc07ad450",
   "metadata": {},
   "outputs": [
    {
     "data": {
      "text/plain": [
       "(1, 2, 3, 'hitesh', 30.2)"
      ]
     },
     "execution_count": 18,
     "metadata": {},
     "output_type": "execute_result"
    }
   ],
   "source": [
    "test3() ## it will return in the form of tuple"
   ]
  },
  {
   "cell_type": "code",
   "execution_count": 19,
   "id": "992b20dc-b0ae-4624-8a66-fcdaa07d2393",
   "metadata": {},
   "outputs": [
    {
     "data": {
      "text/plain": [
       "1"
      ]
     },
     "execution_count": 19,
     "metadata": {},
     "output_type": "execute_result"
    }
   ],
   "source": [
    "## if we have to extract something use tuple rules \n",
    "test3()[0]"
   ]
  },
  {
   "cell_type": "code",
   "execution_count": 20,
   "id": "dde261d0-5337-4057-bde7-083f4c3b17c1",
   "metadata": {},
   "outputs": [
    {
     "data": {
      "text/plain": [
       "3"
      ]
     },
     "execution_count": 20,
     "metadata": {},
     "output_type": "execute_result"
    }
   ],
   "source": [
    "test3()[2]"
   ]
  },
  {
   "cell_type": "code",
   "execution_count": 21,
   "id": "7445cd6b-74ab-4567-b2e7-6dd58eb6d593",
   "metadata": {},
   "outputs": [
    {
     "data": {
      "text/plain": [
       "'hitesh'"
      ]
     },
     "execution_count": 21,
     "metadata": {},
     "output_type": "execute_result"
    }
   ],
   "source": [
    "test3()[3]"
   ]
  },
  {
   "cell_type": "code",
   "execution_count": 22,
   "id": "bf9063ce-661f-46c5-87b8-1bdaf334f5c6",
   "metadata": {},
   "outputs": [
    {
     "ename": "ValueError",
     "evalue": "too many values to unpack (expected 4)",
     "output_type": "error",
     "traceback": [
      "\u001b[0;31m---------------------------------------------------------------------------\u001b[0m",
      "\u001b[0;31mValueError\u001b[0m                                Traceback (most recent call last)",
      "Cell \u001b[0;32mIn[22], line 1\u001b[0m\n\u001b[0;32m----> 1\u001b[0m a,c,d,b\u001b[38;5;241m=\u001b[39mtest3()\n",
      "\u001b[0;31mValueError\u001b[0m: too many values to unpack (expected 4)"
     ]
    }
   ],
   "source": [
    "a,c,d,b=test3()"
   ]
  },
  {
   "cell_type": "code",
   "execution_count": 23,
   "id": "d2906b4e-c37b-4ad6-8b8a-494f326b0f14",
   "metadata": {},
   "outputs": [
    {
     "data": {
      "text/plain": [
       "12"
      ]
     },
     "execution_count": 23,
     "metadata": {},
     "output_type": "execute_result"
    }
   ],
   "source": [
    "a"
   ]
  },
  {
   "cell_type": "code",
   "execution_count": 24,
   "id": "f71db43e-b384-4072-baa6-c154a8958e5b",
   "metadata": {},
   "outputs": [
    {
     "data": {
      "text/plain": [
       "14"
      ]
     },
     "execution_count": 24,
     "metadata": {},
     "output_type": "execute_result"
    }
   ],
   "source": [
    "b"
   ]
  },
  {
   "cell_type": "code",
   "execution_count": null,
   "id": "244336a6-2815-49b9-b351-2f22c88df2c3",
   "metadata": {},
   "outputs": [],
   "source": []
  },
  {
   "cell_type": "code",
   "execution_count": 25,
   "id": "15290796-f501-478f-a455-b6f1322f7ae7",
   "metadata": {},
   "outputs": [],
   "source": [
    "def test4():\n",
    "    a = 3*4 +5\n",
    "    return a"
   ]
  },
  {
   "cell_type": "code",
   "execution_count": 26,
   "id": "46cec04a-651b-4244-89a2-4ffd229145d2",
   "metadata": {},
   "outputs": [
    {
     "data": {
      "text/plain": [
       "int"
      ]
     },
     "execution_count": 26,
     "metadata": {},
     "output_type": "execute_result"
    }
   ],
   "source": [
    "type(test4())"
   ]
  },
  {
   "cell_type": "code",
   "execution_count": 27,
   "id": "352b7e18-12f1-4648-a7af-62d258d18a5f",
   "metadata": {},
   "outputs": [
    {
     "data": {
      "text/plain": [
       "17"
      ]
     },
     "execution_count": 27,
     "metadata": {},
     "output_type": "execute_result"
    }
   ],
   "source": [
    "test4()"
   ]
  },
  {
   "cell_type": "code",
   "execution_count": 28,
   "id": "bc16dc93-436d-4348-b7dd-e622af9ebd96",
   "metadata": {},
   "outputs": [],
   "source": [
    "def test5(a,b):\n",
    "    c=a+b\n",
    "    return c\n",
    "    "
   ]
  },
  {
   "cell_type": "code",
   "execution_count": 29,
   "id": "63213b6f-0b8d-4fbd-bd11-79bef996396f",
   "metadata": {},
   "outputs": [
    {
     "ename": "TypeError",
     "evalue": "test5() missing 2 required positional arguments: 'a' and 'b'",
     "output_type": "error",
     "traceback": [
      "\u001b[0;31m---------------------------------------------------------------------------\u001b[0m",
      "\u001b[0;31mTypeError\u001b[0m                                 Traceback (most recent call last)",
      "Cell \u001b[0;32mIn[29], line 1\u001b[0m\n\u001b[0;32m----> 1\u001b[0m \u001b[43mtest5\u001b[49m\u001b[43m(\u001b[49m\u001b[43m)\u001b[49m\n",
      "\u001b[0;31mTypeError\u001b[0m: test5() missing 2 required positional arguments: 'a' and 'b'"
     ]
    }
   ],
   "source": [
    "test5()"
   ]
  },
  {
   "cell_type": "code",
   "execution_count": 30,
   "id": "dd0f16f0-0f68-405d-a764-c01eebd45ff1",
   "metadata": {},
   "outputs": [
    {
     "data": {
      "text/plain": [
       "3"
      ]
     },
     "execution_count": 30,
     "metadata": {},
     "output_type": "execute_result"
    }
   ],
   "source": [
    "test5(1,2)"
   ]
  },
  {
   "cell_type": "code",
   "execution_count": 31,
   "id": "f01895bd-26ea-42fd-939c-b25cd59e08f2",
   "metadata": {},
   "outputs": [
    {
     "data": {
      "text/plain": [
       "'hiteshkumar'"
      ]
     },
     "execution_count": 31,
     "metadata": {},
     "output_type": "execute_result"
    }
   ],
   "source": [
    "test5(\"hitesh\" , \"kumar\")"
   ]
  },
  {
   "cell_type": "code",
   "execution_count": 32,
   "id": "3a02f8b2-d776-4ae6-9c7a-63e69abb4858",
   "metadata": {},
   "outputs": [
    {
     "data": {
      "text/plain": [
       "[1, 2, 3, 4, 5, 6, 7, 8, 9, 10]"
      ]
     },
     "execution_count": 32,
     "metadata": {},
     "output_type": "execute_result"
    }
   ],
   "source": [
    "test5([1,2,3,4,5],[6,7,8,9,10])"
   ]
  },
  {
   "cell_type": "code",
   "execution_count": 33,
   "id": "7193f60c-ad0f-42d0-aeb9-424359888f4e",
   "metadata": {},
   "outputs": [
    {
     "data": {
      "text/plain": [
       "'kumarhitesh'"
      ]
     },
     "execution_count": 33,
     "metadata": {},
     "output_type": "execute_result"
    }
   ],
   "source": [
    "test5(b = 'hitesh', a= 'kumar')"
   ]
  },
  {
   "cell_type": "code",
   "execution_count": 34,
   "id": "8295faa1-83d0-4bf8-a158-5f3b3f370429",
   "metadata": {},
   "outputs": [],
   "source": [
    "l = [1,2,3,'hitesh','kumar',[1,2,3,4]]"
   ]
  },
  {
   "cell_type": "code",
   "execution_count": 35,
   "id": "e1212e36-f652-4368-bfc7-d2bb5e35a8eb",
   "metadata": {},
   "outputs": [],
   "source": [
    "# create a fun which will lis as a input and give me final list with all the numerical value"
   ]
  },
  {
   "cell_type": "code",
   "execution_count": 36,
   "id": "699d071f-0836-4c81-b420-6e50b3978619",
   "metadata": {},
   "outputs": [],
   "source": [
    "def test6(a):\n",
    "    n = [] \n",
    "    for i in a :\n",
    "        if type(i) == int or  type(i) == float :\n",
    "            n.append(i)\n",
    "    return n\n"
   ]
  },
  {
   "cell_type": "code",
   "execution_count": 37,
   "id": "85136a37-3b7c-4a25-9f93-f0f266dac2be",
   "metadata": {},
   "outputs": [
    {
     "data": {
      "text/plain": [
       "[1, 2, 3]"
      ]
     },
     "execution_count": 37,
     "metadata": {},
     "output_type": "execute_result"
    }
   ],
   "source": [
    "test6(l)"
   ]
  },
  {
   "cell_type": "code",
   "execution_count": 38,
   "id": "c1a9d1fd-788a-4150-9ac0-5c08bddd5c9e",
   "metadata": {},
   "outputs": [
    {
     "data": {
      "text/plain": [
       "[1, 2, 3, 'hitesh', 'kumar', [1, 2, 3, 4]]"
      ]
     },
     "execution_count": 38,
     "metadata": {},
     "output_type": "execute_result"
    }
   ],
   "source": [
    "l"
   ]
  },
  {
   "cell_type": "code",
   "execution_count": 39,
   "id": "1c103964-728a-42df-817e-4f3dcf8c9260",
   "metadata": {},
   "outputs": [],
   "source": [
    "def test7(a):\n",
    "    n = []\n",
    "    for i in a :\n",
    "        if type(i) == list :\n",
    "            for j in i :\n",
    "                if type(j) == int or type(j) == float :\n",
    "                    n.append(j)\n",
    "        else :\n",
    "            if type(i) == int or type(i) == float :\n",
    "                n.append(i)\n",
    "    return n\n",
    "            \n",
    "            "
   ]
  },
  {
   "cell_type": "code",
   "execution_count": 40,
   "id": "494f30b8-cfa8-4bad-9fe8-66d328b83223",
   "metadata": {},
   "outputs": [
    {
     "data": {
      "text/plain": [
       "[1, 2, 3, 1, 2, 3, 4]"
      ]
     },
     "execution_count": 40,
     "metadata": {},
     "output_type": "execute_result"
    }
   ],
   "source": [
    "test7(l)"
   ]
  },
  {
   "cell_type": "code",
   "execution_count": 41,
   "id": "6c63296e-8a6e-4d50-9a7b-b6b6e686680f",
   "metadata": {},
   "outputs": [
    {
     "data": {
      "text/plain": [
       "[1, 2, 3, 'hitesh', 'kumar', [1, 2, 3, 4]]"
      ]
     },
     "execution_count": 41,
     "metadata": {},
     "output_type": "execute_result"
    }
   ],
   "source": [
    "l"
   ]
  },
  {
   "cell_type": "code",
   "execution_count": null,
   "id": "172b93eb-5e2b-443b-b133-558e449067de",
   "metadata": {},
   "outputs": [],
   "source": []
  },
  {
   "cell_type": "code",
   "execution_count": null,
   "id": "2a414af3-9347-48be-9937-06e5ed47091e",
   "metadata": {},
   "outputs": [],
   "source": []
  },
  {
   "cell_type": "code",
   "execution_count": 42,
   "id": "5c03ffa0-757b-46de-a19a-788ae7da3538",
   "metadata": {},
   "outputs": [],
   "source": [
    "def test(a,b,c,d,e):\n",
    "    pass"
   ]
  },
  {
   "cell_type": "code",
   "execution_count": 43,
   "id": "7b80594f-1aca-4e45-91c8-f6c3b93af874",
   "metadata": {},
   "outputs": [],
   "source": [
    "test(1,2,3,4,5)"
   ]
  },
  {
   "cell_type": "code",
   "execution_count": 44,
   "id": "51190032-8ba0-4f74-9d29-937265f8ca01",
   "metadata": {},
   "outputs": [
    {
     "ename": "TypeError",
     "evalue": "test() takes 5 positional arguments but 6 were given",
     "output_type": "error",
     "traceback": [
      "\u001b[0;31m---------------------------------------------------------------------------\u001b[0m",
      "\u001b[0;31mTypeError\u001b[0m                                 Traceback (most recent call last)",
      "Cell \u001b[0;32mIn[44], line 1\u001b[0m\n\u001b[0;32m----> 1\u001b[0m \u001b[43mtest\u001b[49m\u001b[43m(\u001b[49m\u001b[38;5;241;43m1\u001b[39;49m\u001b[43m,\u001b[49m\u001b[38;5;241;43m2\u001b[39;49m\u001b[43m,\u001b[49m\u001b[38;5;241;43m3\u001b[39;49m\u001b[43m,\u001b[49m\u001b[38;5;241;43m4\u001b[39;49m\u001b[43m,\u001b[49m\u001b[38;5;241;43m5\u001b[39;49m\u001b[43m,\u001b[49m\u001b[38;5;241;43m6\u001b[39;49m\u001b[43m)\u001b[49m\n",
      "\u001b[0;31mTypeError\u001b[0m: test() takes 5 positional arguments but 6 were given"
     ]
    }
   ],
   "source": [
    "test(1,2,3,4,5,6)"
   ]
  },
  {
   "cell_type": "code",
   "execution_count": 45,
   "id": "af9ecb1e-8f4f-4249-a379-e7119f4a555a",
   "metadata": {},
   "outputs": [
    {
     "ename": "TypeError",
     "evalue": "test() missing 2 required positional arguments: 'd' and 'e'",
     "output_type": "error",
     "traceback": [
      "\u001b[0;31m---------------------------------------------------------------------------\u001b[0m",
      "\u001b[0;31mTypeError\u001b[0m                                 Traceback (most recent call last)",
      "Cell \u001b[0;32mIn[45], line 1\u001b[0m\n\u001b[0;32m----> 1\u001b[0m \u001b[43mtest\u001b[49m\u001b[43m(\u001b[49m\u001b[38;5;241;43m1\u001b[39;49m\u001b[43m,\u001b[49m\u001b[38;5;241;43m2\u001b[39;49m\u001b[43m,\u001b[49m\u001b[38;5;241;43m4\u001b[39;49m\u001b[43m)\u001b[49m\n",
      "\u001b[0;31mTypeError\u001b[0m: test() missing 2 required positional arguments: 'd' and 'e'"
     ]
    }
   ],
   "source": [
    "test(1,2,4)"
   ]
  },
  {
   "cell_type": "code",
   "execution_count": 46,
   "id": "ade46bea-0f11-4427-9afa-c8057304c7da",
   "metadata": {},
   "outputs": [],
   "source": [
    "def test11(*args):\n",
    "    return args #### instead of defining arguments like a,b,c,d,.... will go for *args\n",
    "## here args is not a key word , instead we can write any name"
   ]
  },
  {
   "cell_type": "code",
   "execution_count": 47,
   "id": "75a793ab-1d7b-4480-a69f-3dda9359c048",
   "metadata": {},
   "outputs": [
    {
     "data": {
      "text/plain": [
       "(2,)"
      ]
     },
     "execution_count": 47,
     "metadata": {},
     "output_type": "execute_result"
    }
   ],
   "source": [
    "test11(2)"
   ]
  },
  {
   "cell_type": "code",
   "execution_count": 48,
   "id": "2c79aaa2-1afb-41ae-b751-f798c8747833",
   "metadata": {},
   "outputs": [
    {
     "data": {
      "text/plain": [
       "(1, 2, 4, 5, 6, 7)"
      ]
     },
     "execution_count": 48,
     "metadata": {},
     "output_type": "execute_result"
    }
   ],
   "source": [
    "test11(1,2,4,5,6,7)"
   ]
  },
  {
   "cell_type": "code",
   "execution_count": 49,
   "id": "7416146a-331f-4bfc-aef5-e2c22be7e58b",
   "metadata": {},
   "outputs": [
    {
     "data": {
      "text/plain": [
       "(1, 2, 3, 4, 'hitesh', [1, 22, 3, 4, 5], (1, 2, 3, 4, 5))"
      ]
     },
     "execution_count": 49,
     "metadata": {},
     "output_type": "execute_result"
    }
   ],
   "source": [
    "test11(1,2,3,4,\"hitesh\",[1,22,3,4,5],(1,2,3,4,5))"
   ]
  },
  {
   "cell_type": "code",
   "execution_count": 50,
   "id": "5e68f64f-f33a-43e6-931c-0a72f9e7005b",
   "metadata": {},
   "outputs": [],
   "source": [
    " \n",
    "def test22(*hitesh):\n",
    "    return  hitesh"
   ]
  },
  {
   "cell_type": "code",
   "execution_count": 51,
   "id": "0308caa9-d565-427c-a5e6-0ae75b936598",
   "metadata": {},
   "outputs": [
    {
     "data": {
      "text/plain": [
       "(1, 2, [1, 2], (1, 2), 'a', 'b')"
      ]
     },
     "execution_count": 51,
     "metadata": {},
     "output_type": "execute_result"
    }
   ],
   "source": [
    "test22(1,2,[1,2],(1,2),'a','b')"
   ]
  },
  {
   "cell_type": "code",
   "execution_count": 52,
   "id": "6443b5a7-16db-4937-bf42-39c8e511d92d",
   "metadata": {},
   "outputs": [],
   "source": [
    "def test33(*args , a):\n",
    "    return args , a"
   ]
  },
  {
   "cell_type": "code",
   "execution_count": 53,
   "id": "a7c4b039-03b4-40e2-9f4e-a8ecedd61aa1",
   "metadata": {},
   "outputs": [
    {
     "ename": "TypeError",
     "evalue": "test33() missing 1 required keyword-only argument: 'a'",
     "output_type": "error",
     "traceback": [
      "\u001b[0;31m---------------------------------------------------------------------------\u001b[0m",
      "\u001b[0;31mTypeError\u001b[0m                                 Traceback (most recent call last)",
      "Cell \u001b[0;32mIn[53], line 1\u001b[0m\n\u001b[0;32m----> 1\u001b[0m \u001b[43mtest33\u001b[49m\u001b[43m(\u001b[49m\u001b[38;5;241;43m3\u001b[39;49m\u001b[43m)\u001b[49m\n",
      "\u001b[0;31mTypeError\u001b[0m: test33() missing 1 required keyword-only argument: 'a'"
     ]
    }
   ],
   "source": [
    "test33(3)"
   ]
  },
  {
   "cell_type": "code",
   "execution_count": 54,
   "id": "69fdc2cb-6fad-4020-af61-049c112fdabb",
   "metadata": {},
   "outputs": [
    {
     "data": {
      "text/plain": [
       "((1, 2, 3, 4), 'hitesh')"
      ]
     },
     "execution_count": 54,
     "metadata": {},
     "output_type": "execute_result"
    }
   ],
   "source": [
    "test33(1,2,3,4,a='hitesh')"
   ]
  },
  {
   "cell_type": "code",
   "execution_count": 55,
   "id": "ec0cb735-4952-4a22-b694-9c5b5d8e6a38",
   "metadata": {},
   "outputs": [],
   "source": [
    "def test44(*args):\n",
    "    l = []\n",
    "    for i in args:\n",
    "        if type(i) == list :\n",
    "            l.append(i)\n",
    "    return l"
   ]
  },
  {
   "cell_type": "code",
   "execution_count": 56,
   "id": "380f6ed0-dc46-4f08-840e-758a4086914f",
   "metadata": {},
   "outputs": [
    {
     "data": {
      "text/plain": [
       "[[1, 2, 3, 4, 44], ['a', 'b']]"
      ]
     },
     "execution_count": 56,
     "metadata": {},
     "output_type": "execute_result"
    }
   ],
   "source": [
    "test44(1,2,3,[1,2,3,4,44],(1,2,3,4,5),\"hitesh\",['a','b'])"
   ]
  },
  {
   "cell_type": "code",
   "execution_count": 57,
   "id": "09aab9de-1949-49f5-b622-dfd3fe5aae05",
   "metadata": {},
   "outputs": [],
   "source": [
    "def test55(**kwargs):\n",
    "    return kwargs\n",
    "    "
   ]
  },
  {
   "cell_type": "code",
   "execution_count": 58,
   "id": "ec1405b3-d113-4f4b-bc45-3159db9be039",
   "metadata": {},
   "outputs": [
    {
     "data": {
      "text/plain": [
       "{}"
      ]
     },
     "execution_count": 58,
     "metadata": {},
     "output_type": "execute_result"
    }
   ],
   "source": [
    "test55()\n"
   ]
  },
  {
   "cell_type": "code",
   "execution_count": 59,
   "id": "6c3477b8-7a68-4489-84fd-b83382c9a9ee",
   "metadata": {},
   "outputs": [
    {
     "data": {
      "text/plain": [
       "dict"
      ]
     },
     "execution_count": 59,
     "metadata": {},
     "output_type": "execute_result"
    }
   ],
   "source": [
    "type(test55())"
   ]
  },
  {
   "cell_type": "code",
   "execution_count": 60,
   "id": "27c110ef-3933-4019-9b0f-10386e08d693",
   "metadata": {},
   "outputs": [
    {
     "data": {
      "text/plain": [
       "{'a': 1, 'b': 3, 'c': 4, 'd': 'hitesh', 'e': [1, 2], 'f': ('a', 'b')}"
      ]
     },
     "execution_count": 60,
     "metadata": {},
     "output_type": "execute_result"
    }
   ],
   "source": [
    "test55(a = 1,b=3,c=4,d='hitesh',e=[1,2],f=('a','b'))"
   ]
  },
  {
   "cell_type": "code",
   "execution_count": null,
   "id": "2c3778c4-2d51-4acf-830e-08ce8ce4ab66",
   "metadata": {},
   "outputs": [],
   "source": []
  },
  {
   "cell_type": "code",
   "execution_count": 61,
   "id": "477021f5-6d75-4693-b91c-41d7b6a6d0ae",
   "metadata": {},
   "outputs": [],
   "source": [
    "def test66(**kwargs):\n",
    "    for i in kwargs.keys():\n",
    "        if type(kwargs[i])== list:\n",
    "            return i , kwargs[i]"
   ]
  },
  {
   "cell_type": "code",
   "execution_count": 62,
   "id": "dd902105-3352-4ac4-af5d-927c94e1e444",
   "metadata": {},
   "outputs": [
    {
     "data": {
      "text/plain": [
       "('e', [1, 2])"
      ]
     },
     "execution_count": 62,
     "metadata": {},
     "output_type": "execute_result"
    }
   ],
   "source": [
    "test66(a = 1,b=3,c=4,d='hitesh',e=[1,2],f=('a','b'))"
   ]
  },
  {
   "cell_type": "code",
   "execution_count": 63,
   "id": "4781736e-102b-418c-85bf-3df2c300970d",
   "metadata": {},
   "outputs": [],
   "source": [
    "def test77(*args , **kwargs):\n",
    "    return args , kwargs"
   ]
  },
  {
   "cell_type": "code",
   "execution_count": 64,
   "id": "232ce916-1da7-43a0-81e0-c924cd570b7d",
   "metadata": {},
   "outputs": [
    {
     "data": {
      "text/plain": [
       "((), {})"
      ]
     },
     "execution_count": 64,
     "metadata": {},
     "output_type": "execute_result"
    }
   ],
   "source": [
    "test77()"
   ]
  },
  {
   "cell_type": "code",
   "execution_count": 65,
   "id": "83bb7f25-3e60-4c90-9ce4-184131ae99db",
   "metadata": {},
   "outputs": [
    {
     "data": {
      "text/plain": [
       "((1, 2, 3, 4), {'a': 32, 'b': 43})"
      ]
     },
     "execution_count": 65,
     "metadata": {},
     "output_type": "execute_result"
    }
   ],
   "source": [
    "test77(1,2,3,4,a=32,b=43)"
   ]
  },
  {
   "cell_type": "code",
   "execution_count": null,
   "id": "c6a2eec7-2442-4b22-a7e7-dad548bdf036",
   "metadata": {},
   "outputs": [],
   "source": []
  },
  {
   "cell_type": "code",
   "execution_count": null,
   "id": "5d452dc6-e94f-439d-9335-52ec9e06d8c3",
   "metadata": {},
   "outputs": [],
   "source": []
  },
  {
   "cell_type": "markdown",
   "id": "84ac314e-f173-4921-9774-3b12358f2b22",
   "metadata": {},
   "source": [
    "# GENERATOR FUNCTIONS"
   ]
  },
  {
   "cell_type": "code",
   "execution_count": 66,
   "id": "5120e185-a575-4aa7-bfe1-d2ddcf3a78e3",
   "metadata": {},
   "outputs": [
    {
     "data": {
      "text/plain": [
       "range(1, 11)"
      ]
     },
     "execution_count": 66,
     "metadata": {},
     "output_type": "execute_result"
    }
   ],
   "source": [
    "range(1,11)"
   ]
  },
  {
   "cell_type": "code",
   "execution_count": 67,
   "id": "2c96d26b-354e-4e1e-b209-1b011ef11d92",
   "metadata": {},
   "outputs": [
    {
     "name": "stdout",
     "output_type": "stream",
     "text": [
      "1\n",
      "2\n",
      "3\n",
      "4\n",
      "5\n",
      "6\n",
      "7\n",
      "8\n",
      "9\n",
      "10\n"
     ]
    }
   ],
   "source": [
    "for i in range(1,11):\n",
    "    print(i)"
   ]
  },
  {
   "cell_type": "code",
   "execution_count": 68,
   "id": "573d2625-e3de-4dbe-934c-6dffc3414830",
   "metadata": {},
   "outputs": [],
   "source": [
    "l = [1,2,3,4,4,5,5,6,'hitesh']"
   ]
  },
  {
   "cell_type": "code",
   "execution_count": 69,
   "id": "991aa87b-2660-4b1b-b92c-1ad4ef4b0943",
   "metadata": {},
   "outputs": [],
   "source": [
    "def test1(a):\n",
    "    n = []\n",
    "    for i in a :\n",
    "        if type(i)==int:\n",
    "            n.append(i)\n",
    "    return n\n",
    "        "
   ]
  },
  {
   "cell_type": "code",
   "execution_count": 70,
   "id": "6142fb68-6d00-4e41-8e32-9b417983c415",
   "metadata": {},
   "outputs": [
    {
     "data": {
      "text/plain": [
       "[1, 2, 3, 4, 4, 5, 5, 6]"
      ]
     },
     "execution_count": 70,
     "metadata": {},
     "output_type": "execute_result"
    }
   ],
   "source": [
    "test1(l)"
   ]
  },
  {
   "cell_type": "code",
   "execution_count": 71,
   "id": "0229944d-0904-4363-8e91-07b010d60cc8",
   "metadata": {},
   "outputs": [],
   "source": [
    "## if i want to extract stirng typed data\n",
    "def test1(a):\n",
    "    n = []\n",
    "    for i in a :\n",
    "        if type(i)==str:\n",
    "            n.append(i)\n",
    "    return n\n",
    "        "
   ]
  },
  {
   "cell_type": "code",
   "execution_count": 72,
   "id": "4e895393-4e51-44bd-8f45-3779f0bb4438",
   "metadata": {},
   "outputs": [
    {
     "data": {
      "text/plain": [
       "['hitesh']"
      ]
     },
     "execution_count": 72,
     "metadata": {},
     "output_type": "execute_result"
    }
   ],
   "source": [
    "test1(l)"
   ]
  },
  {
   "cell_type": "code",
   "execution_count": 73,
   "id": "d7e4d15c-a669-4597-ba6e-72a52b00f324",
   "metadata": {},
   "outputs": [],
   "source": [
    "### how to create a range() like functions that do not remember all just ren=minds previous and according to it generates"
   ]
  },
  {
   "cell_type": "code",
   "execution_count": null,
   "id": "e4eb36f9-a446-466c-91d2-1c5d103f3574",
   "metadata": {},
   "outputs": [],
   "source": []
  },
  {
   "cell_type": "markdown",
   "id": "d0f5a325-07b2-4510-bcc2-caed221aaebe",
   "metadata": {},
   "source": [
    "Fibonacci series\n",
    "\n",
    "    0,1,1,2,3,5,8,13,21,34....."
   ]
  },
  {
   "cell_type": "code",
   "execution_count": 74,
   "id": "8e80038c-ed45-4ad7-a60e-af1611b56b42",
   "metadata": {},
   "outputs": [],
   "source": [
    "# here i am trying to generate the data by usng fibonacci range \n",
    "# and logic"
   ]
  },
  {
   "cell_type": "code",
   "execution_count": 75,
   "id": "9453f6aa-bc6a-4a25-923b-512a05954ce4",
   "metadata": {},
   "outputs": [],
   "source": [
    "def test_fib(n):\n",
    "    a,b = 0,1\n",
    "    for i in range(n):\n",
    "        yield a\n",
    "        a,b = b, a+b\n",
    "    \n",
    "    "
   ]
  },
  {
   "cell_type": "code",
   "execution_count": 76,
   "id": "0e378004-b04d-4ce5-ab99-d73c1db367c5",
   "metadata": {},
   "outputs": [
    {
     "data": {
      "text/plain": [
       "<generator object test_fib at 0x7f959cb474c0>"
      ]
     },
     "execution_count": 76,
     "metadata": {},
     "output_type": "execute_result"
    }
   ],
   "source": [
    "test_fib(10)"
   ]
  },
  {
   "cell_type": "code",
   "execution_count": 77,
   "id": "3eea30aa-fa80-4b07-b93e-6e7107cba1ca",
   "metadata": {},
   "outputs": [
    {
     "name": "stdout",
     "output_type": "stream",
     "text": [
      "0\n",
      "1\n",
      "1\n",
      "2\n",
      "3\n",
      "5\n",
      "8\n",
      "13\n",
      "21\n",
      "34\n"
     ]
    }
   ],
   "source": [
    "for i in test_fib(10):\n",
    "    print(i)"
   ]
  },
  {
   "cell_type": "code",
   "execution_count": null,
   "id": "ce04bb62-1b91-4eee-b8ba-31feb3cbccb7",
   "metadata": {},
   "outputs": [],
   "source": []
  },
  {
   "cell_type": "markdown",
   "id": "a5eecffe-1e4e-4ad4-9338-056f4de4fd66",
   "metadata": {},
   "source": [
    "# Lambda Functions"
   ]
  },
  {
   "cell_type": "code",
   "execution_count": 78,
   "id": "c88d2f25-8d76-466d-8350-8a4859abb030",
   "metadata": {},
   "outputs": [],
   "source": [
    "n = 3\n",
    "p = 2\n"
   ]
  },
  {
   "cell_type": "code",
   "execution_count": 79,
   "id": "3ec691de-ee3e-432e-b456-ba92cd436a3a",
   "metadata": {},
   "outputs": [],
   "source": [
    "def test(n,p):\n",
    "    return n**p"
   ]
  },
  {
   "cell_type": "code",
   "execution_count": 80,
   "id": "7b67f188-4dd6-4763-962d-88ea6743e96c",
   "metadata": {},
   "outputs": [
    {
     "data": {
      "text/plain": [
       "81"
      ]
     },
     "execution_count": 80,
     "metadata": {},
     "output_type": "execute_result"
    }
   ],
   "source": [
    "test(3,4)"
   ]
  },
  {
   "cell_type": "code",
   "execution_count": 81,
   "id": "b5738451-6985-4305-ac74-8a3b3a7cf652",
   "metadata": {},
   "outputs": [
    {
     "data": {
      "text/plain": [
       "8"
      ]
     },
     "execution_count": 81,
     "metadata": {},
     "output_type": "execute_result"
    }
   ],
   "source": [
    "test(2,3)"
   ]
  },
  {
   "cell_type": "code",
   "execution_count": 82,
   "id": "b8648683-47d2-4342-adc8-f790596bb848",
   "metadata": {},
   "outputs": [],
   "source": [
    "a = lambda n,p : n**p"
   ]
  },
  {
   "cell_type": "code",
   "execution_count": 83,
   "id": "8f2a9059-8f3a-453a-bd1a-ad60a485e80b",
   "metadata": {},
   "outputs": [
    {
     "data": {
      "text/plain": [
       "8"
      ]
     },
     "execution_count": 83,
     "metadata": {},
     "output_type": "execute_result"
    }
   ],
   "source": [
    "a(2,3)"
   ]
  },
  {
   "cell_type": "code",
   "execution_count": 84,
   "id": "b6ac816a-1ee5-41b6-8fcc-51aea81e0cc0",
   "metadata": {},
   "outputs": [
    {
     "data": {
      "text/plain": [
       "81"
      ]
     },
     "execution_count": 84,
     "metadata": {},
     "output_type": "execute_result"
    }
   ],
   "source": [
    "a(3,4)"
   ]
  },
  {
   "cell_type": "code",
   "execution_count": 85,
   "id": "ea833d4f-b894-40d3-965f-06aa442ce7da",
   "metadata": {},
   "outputs": [],
   "source": [
    "add = lambda x,y : x+y"
   ]
  },
  {
   "cell_type": "code",
   "execution_count": 86,
   "id": "e56b7de3-b72e-4d43-a4c1-8ca77acdb112",
   "metadata": {},
   "outputs": [
    {
     "data": {
      "text/plain": [
       "5"
      ]
     },
     "execution_count": 86,
     "metadata": {},
     "output_type": "execute_result"
    }
   ],
   "source": [
    "add(2,3)"
   ]
  },
  {
   "cell_type": "code",
   "execution_count": 87,
   "id": "04227341-75b9-4ef4-b234-0291072f9a40",
   "metadata": {},
   "outputs": [],
   "source": [
    "### celcious to forenhiet \n",
    "c_to_f = lambda c : (9/5)*c+32"
   ]
  },
  {
   "cell_type": "code",
   "execution_count": 88,
   "id": "b5d91ba1-e4f7-43a9-bb78-434ae657a6d9",
   "metadata": {},
   "outputs": [
    {
     "data": {
      "text/plain": [
       "93.2"
      ]
     },
     "execution_count": 88,
     "metadata": {},
     "output_type": "execute_result"
    }
   ],
   "source": [
    "c_to_f(34)"
   ]
  },
  {
   "cell_type": "code",
   "execution_count": 89,
   "id": "78a34c68-3333-4b53-b7db-090f9c301dac",
   "metadata": {},
   "outputs": [],
   "source": [
    "max_two = lambda x,y : x if x>y else y "
   ]
  },
  {
   "cell_type": "code",
   "execution_count": 90,
   "id": "0c3c1431-04c2-4d4a-88e4-1ab68410773e",
   "metadata": {},
   "outputs": [
    {
     "data": {
      "text/plain": [
       "56"
      ]
     },
     "execution_count": 90,
     "metadata": {},
     "output_type": "execute_result"
    }
   ],
   "source": [
    "max_two(4,56)"
   ]
  },
  {
   "cell_type": "code",
   "execution_count": 91,
   "id": "a50dde2b-0390-4c2f-a66e-87c1a5a9b19b",
   "metadata": {},
   "outputs": [],
   "source": [
    "s = \"hitesh\""
   ]
  },
  {
   "cell_type": "code",
   "execution_count": 92,
   "id": "90cfa718-b5d8-4f24-93e2-8b0a2707f13f",
   "metadata": {},
   "outputs": [],
   "source": [
    "len_str = lambda s : len(s)"
   ]
  },
  {
   "cell_type": "code",
   "execution_count": 93,
   "id": "7a266b78-c59e-4ba8-8979-fe322dc899c8",
   "metadata": {},
   "outputs": [
    {
     "data": {
      "text/plain": [
       "6"
      ]
     },
     "execution_count": 93,
     "metadata": {},
     "output_type": "execute_result"
    }
   ],
   "source": [
    "len_str(s)"
   ]
  },
  {
   "cell_type": "code",
   "execution_count": null,
   "id": "d7d2e99d-2c40-4715-86bd-d7b629061593",
   "metadata": {},
   "outputs": [],
   "source": []
  },
  {
   "cell_type": "markdown",
   "id": "1072152d-b1d4-4121-bb55-062ee2156509",
   "metadata": {},
   "source": [
    "\n",
    "# map ,reduce and filter functions"
   ]
  },
  {
   "cell_type": "code",
   "execution_count": 94,
   "id": "f0597029-dd06-4403-b5e2-2c5e2f2453cb",
   "metadata": {},
   "outputs": [],
   "source": [
    "l = [1,2,3,4,5]"
   ]
  },
  {
   "cell_type": "code",
   "execution_count": 98,
   "id": "c08beae6-6730-48f9-8086-8dfb4e624672",
   "metadata": {},
   "outputs": [],
   "source": [
    "def test(l):\n",
    "    l1 = []\n",
    "    for i in l:\n",
    "        l1.append(i**2)\n",
    "    return l1\n",
    "    "
   ]
  },
  {
   "cell_type": "code",
   "execution_count": 99,
   "id": "37e0ea18-9b9d-48db-9307-9e99b1ab8964",
   "metadata": {},
   "outputs": [
    {
     "data": {
      "text/plain": [
       "[1, 4, 9, 16, 25]"
      ]
     },
     "execution_count": 99,
     "metadata": {},
     "output_type": "execute_result"
    }
   ],
   "source": [
    "test(l)"
   ]
  },
  {
   "cell_type": "code",
   "execution_count": 100,
   "id": "ed2cef46-1d9c-4dfa-a06b-ce4a001dc6a7",
   "metadata": {},
   "outputs": [],
   "source": [
    "### what if this whole action is to be done in a single function that is map reduce filter functions"
   ]
  },
  {
   "cell_type": "code",
   "execution_count": 101,
   "id": "428a0c83-664b-4b45-b432-e9b81fa7cd9e",
   "metadata": {},
   "outputs": [],
   "source": [
    "def sq(x):\n",
    "    return x**2"
   ]
  },
  {
   "cell_type": "code",
   "execution_count": 103,
   "id": "44af958f-480f-405f-b7ad-79d013ff1c45",
   "metadata": {},
   "outputs": [
    {
     "data": {
      "text/plain": [
       "<map at 0x7f959d6fee90>"
      ]
     },
     "execution_count": 103,
     "metadata": {},
     "output_type": "execute_result"
    }
   ],
   "source": [
    "map(sq , l)"
   ]
  },
  {
   "cell_type": "code",
   "execution_count": 104,
   "id": "31a0432d-9c6d-4b9a-8288-d28b28fc4aa8",
   "metadata": {},
   "outputs": [
    {
     "data": {
      "text/plain": [
       "[1, 4, 9, 16, 25]"
      ]
     },
     "execution_count": 104,
     "metadata": {},
     "output_type": "execute_result"
    }
   ],
   "source": [
    "list(map(sq , l))"
   ]
  },
  {
   "cell_type": "code",
   "execution_count": 106,
   "id": "5204b816-be1a-474e-8c5f-dcdd91c7c545",
   "metadata": {},
   "outputs": [
    {
     "data": {
      "text/plain": [
       "[1, 4, 9, 16, 25]"
      ]
     },
     "execution_count": 106,
     "metadata": {},
     "output_type": "execute_result"
    }
   ],
   "source": [
    "list(map(lambda x:x**2 , l))"
   ]
  },
  {
   "cell_type": "code",
   "execution_count": 107,
   "id": "3fbbeb93-506a-433d-a081-ccbe885b4b39",
   "metadata": {},
   "outputs": [
    {
     "data": {
      "text/plain": [
       "[3, 4, 5, 6, 7]"
      ]
     },
     "execution_count": 107,
     "metadata": {},
     "output_type": "execute_result"
    }
   ],
   "source": [
    "list(map(lambda x:x+2 , l))"
   ]
  },
  {
   "cell_type": "code",
   "execution_count": 108,
   "id": "353880fc-b005-4897-9a9d-90243f4125dc",
   "metadata": {},
   "outputs": [
    {
     "data": {
      "text/plain": [
       "['1', '2', '3', '4', '5']"
      ]
     },
     "execution_count": 108,
     "metadata": {},
     "output_type": "execute_result"
    }
   ],
   "source": [
    "list(map(lambda x : str(x), l)) ## converting in to strings "
   ]
  },
  {
   "cell_type": "code",
   "execution_count": 109,
   "id": "cc9e89b1-6f83-4d6b-b3b9-c6cff11f3bd0",
   "metadata": {},
   "outputs": [],
   "source": [
    "l1=[1,2,3,4,5]\n",
    "l2=[6,7,8,9,10]\n",
    "    "
   ]
  },
  {
   "cell_type": "code",
   "execution_count": 110,
   "id": "039780d4-e76e-4590-bd6d-d5cbb9049c9d",
   "metadata": {},
   "outputs": [
    {
     "data": {
      "text/plain": [
       "[7, 9, 11, 13, 15]"
      ]
     },
     "execution_count": 110,
     "metadata": {},
     "output_type": "execute_result"
    }
   ],
   "source": [
    "list(map(lambda x,y : x+y , l1,l2))"
   ]
  },
  {
   "cell_type": "code",
   "execution_count": 111,
   "id": "49226500-e2ed-441c-93b0-8774021c6228",
   "metadata": {},
   "outputs": [],
   "source": [
    "f=lambda x,y : x+y"
   ]
  },
  {
   "cell_type": "code",
   "execution_count": 112,
   "id": "b156d42f-fa94-4d73-883c-b4cc1640313e",
   "metadata": {},
   "outputs": [
    {
     "data": {
      "text/plain": [
       "[7, 9, 11, 13, 15]"
      ]
     },
     "execution_count": 112,
     "metadata": {},
     "output_type": "execute_result"
    }
   ],
   "source": [
    "list(map(f , l1,l2))"
   ]
  },
  {
   "cell_type": "code",
   "execution_count": 113,
   "id": "da0eeca8-361c-44b7-9648-30c4cc0784c4",
   "metadata": {},
   "outputs": [],
   "source": [
    "s = \"hiteshkumar\""
   ]
  },
  {
   "cell_type": "code",
   "execution_count": 114,
   "id": "6b1a8712-d0a0-4fae-a498-837c28bd4fb2",
   "metadata": {},
   "outputs": [
    {
     "data": {
      "text/plain": [
       "['H', 'I', 'T', 'E', 'S', 'H', 'K', 'U', 'M', 'A', 'R']"
      ]
     },
     "execution_count": 114,
     "metadata": {},
     "output_type": "execute_result"
    }
   ],
   "source": [
    "list(map(lambda x : x.upper() , s))"
   ]
  },
  {
   "cell_type": "code",
   "execution_count": null,
   "id": "2291150b-ecaa-4a23-9c12-a09de547f588",
   "metadata": {},
   "outputs": [],
   "source": []
  },
  {
   "cell_type": "markdown",
   "id": "420a8e15-1aaa-4465-9c91-dfb4e365e5f5",
   "metadata": {},
   "source": [
    "# Reduce"
   ]
  },
  {
   "cell_type": "code",
   "execution_count": 115,
   "id": "be22a469-f0c3-4a4f-a800-3c144532387b",
   "metadata": {},
   "outputs": [],
   "source": [
    "from functools import reduce"
   ]
  },
  {
   "cell_type": "code",
   "execution_count": 116,
   "id": "ef7a4775-932c-4f22-8a1b-231226a6f385",
   "metadata": {},
   "outputs": [],
   "source": [
    "l = [1,2,3,4,5]\n"
   ]
  },
  {
   "cell_type": "code",
   "execution_count": 117,
   "id": "e62027ad-db5e-446e-91b5-a1c0079ba179",
   "metadata": {},
   "outputs": [
    {
     "data": {
      "text/plain": [
       "15"
      ]
     },
     "execution_count": 117,
     "metadata": {},
     "output_type": "execute_result"
    }
   ],
   "source": [
    "reduce(lambda x,y : x+y , l)"
   ]
  },
  {
   "cell_type": "code",
   "execution_count": 118,
   "id": "4302a4d8-54b6-4f74-a546-5ac4f72a7d51",
   "metadata": {},
   "outputs": [],
   "source": [
    "def add(x,y):\n",
    "    return x+y"
   ]
  },
  {
   "cell_type": "code",
   "execution_count": 119,
   "id": "a3b98d14-31cd-4717-a08e-f853e27ea422",
   "metadata": {},
   "outputs": [
    {
     "data": {
      "text/plain": [
       "15"
      ]
     },
     "execution_count": 119,
     "metadata": {},
     "output_type": "execute_result"
    }
   ],
   "source": [
    "reduce(add , l)"
   ]
  },
  {
   "cell_type": "code",
   "execution_count": 121,
   "id": "3148f354-6243-44be-82f6-79c1b65726c9",
   "metadata": {},
   "outputs": [
    {
     "ename": "TypeError",
     "evalue": "<lambda>() missing 1 required positional argument: 'z'",
     "output_type": "error",
     "traceback": [
      "\u001b[0;31m---------------------------------------------------------------------------\u001b[0m",
      "\u001b[0;31mTypeError\u001b[0m                                 Traceback (most recent call last)",
      "Cell \u001b[0;32mIn[121], line 1\u001b[0m\n\u001b[0;32m----> 1\u001b[0m \u001b[43mreduce\u001b[49m\u001b[43m(\u001b[49m\u001b[38;5;28;43;01mlambda\u001b[39;49;00m\u001b[43m \u001b[49m\u001b[43mx\u001b[49m\u001b[43m,\u001b[49m\u001b[43my\u001b[49m\u001b[43m,\u001b[49m\u001b[43mz\u001b[49m\u001b[43m \u001b[49m\u001b[43m:\u001b[49m\u001b[43m \u001b[49m\u001b[43mx\u001b[49m\u001b[38;5;241;43m+\u001b[39;49m\u001b[43my\u001b[49m\u001b[38;5;241;43m+\u001b[39;49m\u001b[43mz\u001b[49m\u001b[43m \u001b[49m\u001b[43m,\u001b[49m\u001b[43m \u001b[49m\u001b[43ml\u001b[49m\u001b[43m)\u001b[49m \u001b[38;5;66;03m### always better to take 2 variables bcz reduce function is designed for 2 variables\u001b[39;00m\n",
      "\u001b[0;31mTypeError\u001b[0m: <lambda>() missing 1 required positional argument: 'z'"
     ]
    }
   ],
   "source": [
    "reduce(lambda x,y,z : x+y+z , l) ### always better to take 2 variables bcz reduce function is designed for 2 variables"
   ]
  },
  {
   "cell_type": "code",
   "execution_count": 122,
   "id": "414461ce-9c35-4e64-86a3-2c1255057f6d",
   "metadata": {},
   "outputs": [
    {
     "data": {
      "text/plain": [
       "120"
      ]
     },
     "execution_count": 122,
     "metadata": {},
     "output_type": "execute_result"
    }
   ],
   "source": [
    "reduce(lambda x,y : x*y , l)"
   ]
  },
  {
   "cell_type": "code",
   "execution_count": 123,
   "id": "d48b8320-b30a-4363-a39c-d583fd46fb67",
   "metadata": {},
   "outputs": [
    {
     "data": {
      "text/plain": [
       "[1, 2, 3, 4, 5]"
      ]
     },
     "execution_count": 123,
     "metadata": {},
     "output_type": "execute_result"
    }
   ],
   "source": [
    "l"
   ]
  },
  {
   "cell_type": "code",
   "execution_count": 125,
   "id": "c729e28e-993f-485b-8ccf-d9cfa627fdd0",
   "metadata": {},
   "outputs": [
    {
     "data": {
      "text/plain": [
       "5"
      ]
     },
     "execution_count": 125,
     "metadata": {},
     "output_type": "execute_result"
    }
   ],
   "source": [
    "reduce(lambda x,y : x if x>y else y,l)"
   ]
  },
  {
   "cell_type": "code",
   "execution_count": null,
   "id": "58e3e15c-8a30-4138-ad78-e6dc95476177",
   "metadata": {},
   "outputs": [],
   "source": []
  },
  {
   "cell_type": "markdown",
   "id": "f6781589-f34d-47db-be81-428d5e0562a6",
   "metadata": {},
   "source": [
    "# Filter"
   ]
  },
  {
   "cell_type": "code",
   "execution_count": 126,
   "id": "8a79bdf3-211d-4e8f-9933-b3976f2a9ca2",
   "metadata": {},
   "outputs": [
    {
     "data": {
      "text/plain": [
       "[1, 2, 3, 4, 5]"
      ]
     },
     "execution_count": 126,
     "metadata": {},
     "output_type": "execute_result"
    }
   ],
   "source": [
    "l"
   ]
  },
  {
   "cell_type": "code",
   "execution_count": 127,
   "id": "86f396a7-eb1f-409e-8cc0-3e8f324d4304",
   "metadata": {},
   "outputs": [],
   "source": [
    "# if i want only even from it "
   ]
  },
  {
   "cell_type": "code",
   "execution_count": 128,
   "id": "d94cbad3-6a98-4619-bcae-735184f9e485",
   "metadata": {},
   "outputs": [
    {
     "data": {
      "text/plain": [
       "<filter at 0x7f9587f79de0>"
      ]
     },
     "execution_count": 128,
     "metadata": {},
     "output_type": "execute_result"
    }
   ],
   "source": [
    "filter(lambda x : x%2==0 ,l)"
   ]
  },
  {
   "cell_type": "code",
   "execution_count": 129,
   "id": "e9bdeb1e-0305-4bb2-9121-a2f267ad2569",
   "metadata": {},
   "outputs": [
    {
     "data": {
      "text/plain": [
       "[2, 4]"
      ]
     },
     "execution_count": 129,
     "metadata": {},
     "output_type": "execute_result"
    }
   ],
   "source": [
    "list(filter(lambda x : x%2==0 ,l))"
   ]
  },
  {
   "cell_type": "code",
   "execution_count": 131,
   "id": "2a504e36-3de0-4476-81e6-6bc1450ca34d",
   "metadata": {},
   "outputs": [
    {
     "data": {
      "text/plain": [
       "[1, 3, 5]"
      ]
     },
     "execution_count": 131,
     "metadata": {},
     "output_type": "execute_result"
    }
   ],
   "source": [
    "list(filter(lambda x : x%2!=0 ,l))"
   ]
  },
  {
   "cell_type": "code",
   "execution_count": 132,
   "id": "f6025c99-dcf2-4783-a4f1-bf30fea9c7ef",
   "metadata": {},
   "outputs": [],
   "source": [
    "l11=[-1,-2,-3,-4,0,1,2,3,4]"
   ]
  },
  {
   "cell_type": "code",
   "execution_count": 134,
   "id": "32c2c511-462c-4423-9c87-1c4731948f78",
   "metadata": {},
   "outputs": [
    {
     "data": {
      "text/plain": [
       "[1, 2, 3, 4]"
      ]
     },
     "execution_count": 134,
     "metadata": {},
     "output_type": "execute_result"
    }
   ],
   "source": [
    "list(filter(lambda x : x>0 , l11))"
   ]
  },
  {
   "cell_type": "code",
   "execution_count": 135,
   "id": "d8132adb-3303-4230-adee-d064623cefd8",
   "metadata": {},
   "outputs": [
    {
     "data": {
      "text/plain": [
       "[-1, -2, -3, -4]"
      ]
     },
     "execution_count": 135,
     "metadata": {},
     "output_type": "execute_result"
    }
   ],
   "source": [
    "list(filter(lambda x : x<0 , l11))"
   ]
  },
  {
   "cell_type": "code",
   "execution_count": 136,
   "id": "f8aeed23-c45c-4acd-b596-73551d9a54ae",
   "metadata": {},
   "outputs": [
    {
     "data": {
      "text/plain": [
       "[0]"
      ]
     },
     "execution_count": 136,
     "metadata": {},
     "output_type": "execute_result"
    }
   ],
   "source": [
    "list(filter(lambda x : x==0 , l11))"
   ]
  },
  {
   "cell_type": "code",
   "execution_count": null,
   "id": "92e4f114-a9d2-45cf-a09a-98c89c5e55ab",
   "metadata": {},
   "outputs": [],
   "source": []
  }
 ],
 "metadata": {
  "kernelspec": {
   "display_name": "Python 3 (ipykernel)",
   "language": "python",
   "name": "python3"
  },
  "language_info": {
   "codemirror_mode": {
    "name": "ipython",
    "version": 3
   },
   "file_extension": ".py",
   "mimetype": "text/x-python",
   "name": "python",
   "nbconvert_exporter": "python",
   "pygments_lexer": "ipython3",
   "version": "3.10.8"
  }
 },
 "nbformat": 4,
 "nbformat_minor": 5
}
