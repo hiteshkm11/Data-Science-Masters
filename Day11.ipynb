{
 "cells": [
  {
   "cell_type": "markdown",
   "id": "37db7cb8-57e0-49ca-b4d8-528ec17fc872",
   "metadata": {},
   "source": [
    "# Dictionary"
   ]
  },
  {
   "cell_type": "code",
   "execution_count": 3,
   "id": "8b4a9d78-df4a-401a-beb2-e29c92baa19f",
   "metadata": {},
   "outputs": [],
   "source": [
    "d = {}"
   ]
  },
  {
   "cell_type": "code",
   "execution_count": 4,
   "id": "075f2fb2-9007-4cef-a0a9-b24be5d651e6",
   "metadata": {},
   "outputs": [
    {
     "data": {
      "text/plain": [
       "dict"
      ]
     },
     "execution_count": 4,
     "metadata": {},
     "output_type": "execute_result"
    }
   ],
   "source": [
    "type(d)"
   ]
  },
  {
   "cell_type": "code",
   "execution_count": 5,
   "id": "959a691f-177e-4046-9f3f-fafb83734fa0",
   "metadata": {},
   "outputs": [],
   "source": [
    "#    d1 = {\"key\":\"value\", \"key\":\"value\".....}"
   ]
  },
  {
   "cell_type": "code",
   "execution_count": 6,
   "id": "98b6f326-f97f-44a0-9759-107080d73579",
   "metadata": {},
   "outputs": [],
   "source": [
    "d1 = {\"name\":\"hitesh\" , \"age\":\"27\" , \"number\":\"12345789\"}"
   ]
  },
  {
   "cell_type": "code",
   "execution_count": 7,
   "id": "8718f6b2-6ef8-44f3-90eb-1059ed2cdd72",
   "metadata": {},
   "outputs": [
    {
     "data": {
      "text/plain": [
       "dict"
      ]
     },
     "execution_count": 7,
     "metadata": {},
     "output_type": "execute_result"
    }
   ],
   "source": [
    "type(d1)"
   ]
  },
  {
   "cell_type": "code",
   "execution_count": 8,
   "id": "2eda1e37-19e5-4944-a315-734c0077e5d9",
   "metadata": {},
   "outputs": [
    {
     "data": {
      "text/plain": [
       "{'name': 'hitesh', 'age': '27', 'number': '12345789'}"
      ]
     },
     "execution_count": 8,
     "metadata": {},
     "output_type": "execute_result"
    }
   ],
   "source": [
    "d1"
   ]
  },
  {
   "cell_type": "code",
   "execution_count": 9,
   "id": "13abc37f-3a2c-4f8e-a722-d0ea759fa455",
   "metadata": {},
   "outputs": [],
   "source": [
    "d2 = {\"name\" : \"hitesh\" , \"name\" : \"hitesh kumar\"}"
   ]
  },
  {
   "cell_type": "code",
   "execution_count": 10,
   "id": "af09b17b-7a81-4a1b-9001-2b7c79bb77c2",
   "metadata": {},
   "outputs": [
    {
     "data": {
      "text/plain": [
       "{'name': 'hitesh kumar'}"
      ]
     },
     "execution_count": 10,
     "metadata": {},
     "output_type": "execute_result"
    }
   ],
   "source": [
    "d2  ### why it is showing the 2nd name !!!!!"
   ]
  },
  {
   "cell_type": "markdown",
   "id": "13a3183a-b572-4bbc-9f3f-88b3c59b2d65",
   "metadata": {},
   "source": [
    "in dictionary key should be always be unique.."
   ]
  },
  {
   "cell_type": "code",
   "execution_count": 11,
   "id": "f7e6678c-8c87-4df6-b161-ef50515ae3e7",
   "metadata": {},
   "outputs": [],
   "source": [
    "d3 = {12345 : \"abcde\"}"
   ]
  },
  {
   "cell_type": "code",
   "execution_count": 12,
   "id": "1b759443-ee8a-453c-b9ce-f9d79e826d99",
   "metadata": {},
   "outputs": [
    {
     "data": {
      "text/plain": [
       "{12345: 'abcde'}"
      ]
     },
     "execution_count": 12,
     "metadata": {},
     "output_type": "execute_result"
    }
   ],
   "source": [
    "d3"
   ]
  },
  {
   "cell_type": "markdown",
   "id": "a0a990ca-d93c-4e20-8fda-5119349a224e",
   "metadata": {},
   "source": [
    " a key can be string in a single quote or double quotes and number"
   ]
  },
  {
   "cell_type": "code",
   "execution_count": 13,
   "id": "8140828d-4f9b-48e2-ac23-d3fb97e3b55e",
   "metadata": {},
   "outputs": [],
   "source": [
    "d4 = {264.2 : \"abc\"}"
   ]
  },
  {
   "cell_type": "code",
   "execution_count": 14,
   "id": "ff1efb26-f274-4f20-92e4-1e3c072616bf",
   "metadata": {},
   "outputs": [
    {
     "data": {
      "text/plain": [
       "{264.2: 'abc'}"
      ]
     },
     "execution_count": 14,
     "metadata": {},
     "output_type": "execute_result"
    }
   ],
   "source": [
    "d4"
   ]
  },
  {
   "cell_type": "code",
   "execution_count": 15,
   "id": "bd910eeb-7182-4805-b4e9-98ae990f35a7",
   "metadata": {},
   "outputs": [],
   "source": [
    "d5 = {True : \"abcd\"}"
   ]
  },
  {
   "cell_type": "code",
   "execution_count": 16,
   "id": "47cdb896-b539-4ebd-9d15-e0e2b6a144b4",
   "metadata": {},
   "outputs": [
    {
     "data": {
      "text/plain": [
       "{True: 'abcd'}"
      ]
     },
     "execution_count": 16,
     "metadata": {},
     "output_type": "execute_result"
    }
   ],
   "source": [
    "d5"
   ]
  },
  {
   "cell_type": "code",
   "execution_count": 17,
   "id": "6d4b3d40-af38-4a97-9467-9ec226e235d5",
   "metadata": {},
   "outputs": [
    {
     "ename": "SyntaxError",
     "evalue": "incomplete input (36680248.py, line 1)",
     "output_type": "error",
     "traceback": [
      "\u001b[0;36m  Cell \u001b[0;32mIn[17], line 1\u001b[0;36m\u001b[0m\n\u001b[0;31m    d6 = {# : \"abc\"}\u001b[0m\n\u001b[0m                    ^\u001b[0m\n\u001b[0;31mSyntaxError\u001b[0m\u001b[0;31m:\u001b[0m incomplete input\n"
     ]
    }
   ],
   "source": [
    "d6 = {# : \"abc\"}"
   ]
  },
  {
   "cell_type": "markdown",
   "id": "12b86147-a966-42d2-824f-65059be6053b",
   "metadata": {},
   "source": [
    " a key cannot be a special characters"
   ]
  },
  {
   "cell_type": "markdown",
   "id": "dfdedaa0-24c6-424e-880b-6628022cdba9",
   "metadata": {},
   "source": [
    "if we write special cases inside the uotes it is considered as string"
   ]
  },
  {
   "cell_type": "code",
   "execution_count": 18,
   "id": "79041586-04fb-417e-a9d5-dc4080c02248",
   "metadata": {},
   "outputs": [
    {
     "ename": "SyntaxError",
     "evalue": "invalid syntax (630726308.py, line 1)",
     "output_type": "error",
     "traceback": [
      "\u001b[0;36m  Cell \u001b[0;32mIn[18], line 1\u001b[0;36m\u001b[0m\n\u001b[0;31m    d7 = {@ : \"abc\"}\u001b[0m\n\u001b[0m          ^\u001b[0m\n\u001b[0;31mSyntaxError\u001b[0m\u001b[0;31m:\u001b[0m invalid syntax\n"
     ]
    }
   ],
   "source": [
    "d7 = {@ : \"abc\"}"
   ]
  },
  {
   "cell_type": "code",
   "execution_count": 19,
   "id": "a0ed5f01-9972-4c53-9977-a49c83c211c1",
   "metadata": {},
   "outputs": [
    {
     "ename": "TypeError",
     "evalue": "unhashable type: 'list'",
     "output_type": "error",
     "traceback": [
      "\u001b[0;31m---------------------------------------------------------------------------\u001b[0m",
      "\u001b[0;31mTypeError\u001b[0m                                 Traceback (most recent call last)",
      "Cell \u001b[0;32mIn[19], line 1\u001b[0m\n\u001b[0;32m----> 1\u001b[0m d8 \u001b[38;5;241m=\u001b[39m {[\u001b[38;5;241m1\u001b[39m,\u001b[38;5;241m2\u001b[39m,\u001b[38;5;241m3\u001b[39m] : \u001b[38;5;124m\"\u001b[39m\u001b[38;5;124mabc\u001b[39m\u001b[38;5;124m\"\u001b[39m}\n",
      "\u001b[0;31mTypeError\u001b[0m: unhashable type: 'list'"
     ]
    }
   ],
   "source": [
    "\n",
    "\n",
    "d8 = {[1,2,3] : \"abc\"}"
   ]
  },
  {
   "cell_type": "code",
   "execution_count": 20,
   "id": "0fc22a7b-e3c4-4447-8785-ed942274df4f",
   "metadata": {},
   "outputs": [],
   "source": [
    "d9 = {(1,2,3) : \"abc\"}"
   ]
  },
  {
   "cell_type": "code",
   "execution_count": 21,
   "id": "385502d6-68c1-4d87-b793-4d180ddf5341",
   "metadata": {},
   "outputs": [
    {
     "data": {
      "text/plain": [
       "{(1, 2, 3): 'abc'}"
      ]
     },
     "execution_count": 21,
     "metadata": {},
     "output_type": "execute_result"
    }
   ],
   "source": [
    "d9"
   ]
  },
  {
   "cell_type": "markdown",
   "id": "6d9750da-f835-4c69-941b-3e0ad655edc7",
   "metadata": {},
   "source": [
    "list is not working inside the dictionary whereas tuples are working inside it as a key"
   ]
  },
  {
   "cell_type": "code",
   "execution_count": 22,
   "id": "e54b7a43-52ee-4fda-81fa-33dd30244ac3",
   "metadata": {},
   "outputs": [
    {
     "ename": "TypeError",
     "evalue": "unhashable type: 'set'",
     "output_type": "error",
     "traceback": [
      "\u001b[0;31m---------------------------------------------------------------------------\u001b[0m",
      "\u001b[0;31mTypeError\u001b[0m                                 Traceback (most recent call last)",
      "Cell \u001b[0;32mIn[22], line 1\u001b[0m\n\u001b[0;32m----> 1\u001b[0m d10 \u001b[38;5;241m=\u001b[39m {{\u001b[38;5;241m1\u001b[39m,\u001b[38;5;241m2\u001b[39m,\u001b[38;5;241m3\u001b[39m} : \u001b[38;5;124m\"\u001b[39m\u001b[38;5;124mabc\u001b[39m\u001b[38;5;124m\"\u001b[39m}\n",
      "\u001b[0;31mTypeError\u001b[0m: unhashable type: 'set'"
     ]
    }
   ],
   "source": [
    "d10 = {{1,2,3} : \"abc\"}"
   ]
  },
  {
   "cell_type": "code",
   "execution_count": 23,
   "id": "5dae96a2-d20b-460d-a3e1-36ba92e580e9",
   "metadata": {},
   "outputs": [
    {
     "ename": "TypeError",
     "evalue": "unhashable type: 'dict'",
     "output_type": "error",
     "traceback": [
      "\u001b[0;31m---------------------------------------------------------------------------\u001b[0m",
      "\u001b[0;31mTypeError\u001b[0m                                 Traceback (most recent call last)",
      "Cell \u001b[0;32mIn[23], line 1\u001b[0m\n\u001b[0;32m----> 1\u001b[0m d11 \u001b[38;5;241m=\u001b[39m {{\u001b[38;5;124m\"\u001b[39m\u001b[38;5;124mkey\u001b[39m\u001b[38;5;124m\"\u001b[39m:\u001b[38;5;241m123\u001b[39m} : \u001b[38;5;124m\"\u001b[39m\u001b[38;5;124mabc\u001b[39m\u001b[38;5;124m\"\u001b[39m}\n",
      "\u001b[0;31mTypeError\u001b[0m: unhashable type: 'dict'"
     ]
    }
   ],
   "source": [
    "d11 = {{\"key\":123} : \"abc\"}"
   ]
  },
  {
   "cell_type": "code",
   "execution_count": 24,
   "id": "f9e08849-36b7-4fb1-87a2-22b0b97f2f4c",
   "metadata": {},
   "outputs": [],
   "source": [
    "d12 = {\"course_name\": [\"data science masters\",'web dev','java with dsa and system design']}"
   ]
  },
  {
   "cell_type": "code",
   "execution_count": 25,
   "id": "d2e1e0c7-da6d-4fd9-9117-a3ad997863c5",
   "metadata": {},
   "outputs": [
    {
     "data": {
      "text/plain": [
       "{'course_name': ['data science masters',\n",
       "  'web dev',\n",
       "  'java with dsa and system design']}"
      ]
     },
     "execution_count": 25,
     "metadata": {},
     "output_type": "execute_result"
    }
   ],
   "source": [
    "d12"
   ]
  },
  {
   "cell_type": "code",
   "execution_count": 26,
   "id": "c7f59414-18bf-4fe5-96d6-ce0c57c57cae",
   "metadata": {},
   "outputs": [],
   "source": [
    "d13 = {\"key\" : (1,2,3,4,5)}"
   ]
  },
  {
   "cell_type": "code",
   "execution_count": 27,
   "id": "b68bd863-97d0-4ce7-af35-7ae94be2ba0c",
   "metadata": {},
   "outputs": [
    {
     "data": {
      "text/plain": [
       "{'key': (1, 2, 3, 4, 5)}"
      ]
     },
     "execution_count": 27,
     "metadata": {},
     "output_type": "execute_result"
    }
   ],
   "source": [
    "d13"
   ]
  },
  {
   "cell_type": "code",
   "execution_count": 28,
   "id": "a873d701-6961-4fed-a907-04ab572b6581",
   "metadata": {},
   "outputs": [],
   "source": [
    "d14 = {\"key\" : {1,2,3,4}}"
   ]
  },
  {
   "cell_type": "code",
   "execution_count": 29,
   "id": "9484d088-841d-4a30-b8f5-cc5a18a402cf",
   "metadata": {},
   "outputs": [],
   "source": [
    "d15 = {\"key\" : {\"name\" : \"hitesh\", \"age\" : \"27\"} }"
   ]
  },
  {
   "cell_type": "markdown",
   "id": "27a90bf4-9345-439e-a5e4-376392c25229",
   "metadata": {},
   "source": [
    "we can able to create dictionary iside the dictionary that is nested dictionary"
   ]
  },
  {
   "cell_type": "code",
   "execution_count": 30,
   "id": "7d12c0d0-1d6e-46cb-a427-e6729729ce61",
   "metadata": {},
   "outputs": [
    {
     "data": {
      "text/plain": [
       "{'key': {'name': 'hitesh', 'age': '27'}}"
      ]
     },
     "execution_count": 30,
     "metadata": {},
     "output_type": "execute_result"
    }
   ],
   "source": [
    "d15\n"
   ]
  },
  {
   "cell_type": "code",
   "execution_count": 31,
   "id": "21f9d7a6-270f-41ee-b352-30e89240df55",
   "metadata": {},
   "outputs": [],
   "source": [
    "d16 = {\"batch_name\" : [\"data science masters\" , \"web dev\", \"jds\"] , \"start_date\" : (12,4,25), \"mentor_name\" : {\"krish\", \"sudh\" , \"hitesh\" ,\"rolex\"} }"
   ]
  },
  {
   "cell_type": "code",
   "execution_count": 32,
   "id": "4df1f3f3-5270-4f34-b2a0-ae04f26d7b79",
   "metadata": {},
   "outputs": [
    {
     "data": {
      "text/plain": [
       "{'batch_name': ['data science masters', 'web dev', 'jds'],\n",
       " 'start_date': (12, 4, 25),\n",
       " 'mentor_name': {'hitesh', 'krish', 'rolex', 'sudh'}}"
      ]
     },
     "execution_count": 32,
     "metadata": {},
     "output_type": "execute_result"
    }
   ],
   "source": [
    "d16"
   ]
  },
  {
   "cell_type": "markdown",
   "id": "375c1ef7-8462-4810-aaa6-00313e7dc5c5",
   "metadata": {},
   "source": [
    "can we add any new key to the existing dictionary ????"
   ]
  },
  {
   "cell_type": "code",
   "execution_count": 33,
   "id": "2b991b53-e295-4a03-bfa0-187b20d2e315",
   "metadata": {},
   "outputs": [],
   "source": [
    "d16[\"Timing\"] = (8 , 8 , 8) ### adding a new key to the dictionary that is updating"
   ]
  },
  {
   "cell_type": "code",
   "execution_count": 34,
   "id": "e0696689-a387-4e2c-b9ee-1a6143a2a546",
   "metadata": {},
   "outputs": [
    {
     "data": {
      "text/plain": [
       "{'batch_name': ['data science masters', 'web dev', 'jds'],\n",
       " 'start_date': (12, 4, 25),\n",
       " 'mentor_name': {'hitesh', 'krish', 'rolex', 'sudh'},\n",
       " 'Timing': (8, 8, 8)}"
      ]
     },
     "execution_count": 34,
     "metadata": {},
     "output_type": "execute_result"
    }
   ],
   "source": [
    "d16"
   ]
  },
  {
   "cell_type": "code",
   "execution_count": null,
   "id": "dfc9161b-950c-4166-bfa6-991697686648",
   "metadata": {},
   "outputs": [],
   "source": []
  },
  {
   "cell_type": "markdown",
   "id": "7855c42b-99ed-4a80-925f-bc9c3eb15c4d",
   "metadata": {},
   "source": [
    "if we have to extract the particular data then keys are acts as a indexes"
   ]
  },
  {
   "cell_type": "code",
   "execution_count": 35,
   "id": "60ea1611-53d7-4327-94e9-58666e404d64",
   "metadata": {},
   "outputs": [
    {
     "data": {
      "text/plain": [
       "['data science masters', 'web dev', 'jds']"
      ]
     },
     "execution_count": 35,
     "metadata": {},
     "output_type": "execute_result"
    }
   ],
   "source": [
    "d16[\"batch_name\"] # extracting particular data"
   ]
  },
  {
   "cell_type": "code",
   "execution_count": 36,
   "id": "16a8b6ca-73da-4850-a54e-0425186b1aa2",
   "metadata": {},
   "outputs": [
    {
     "data": {
      "text/plain": [
       "(8, 8, 8)"
      ]
     },
     "execution_count": 36,
     "metadata": {},
     "output_type": "execute_result"
    }
   ],
   "source": [
    "d16[\"Timing\"]"
   ]
  },
  {
   "cell_type": "code",
   "execution_count": 37,
   "id": "f16db97e-085d-4f31-8c12-1c29494ded98",
   "metadata": {},
   "outputs": [
    {
     "data": {
      "text/plain": [
       "tuple"
      ]
     },
     "execution_count": 37,
     "metadata": {},
     "output_type": "execute_result"
    }
   ],
   "source": [
    "type(d16[\"Timing\"])"
   ]
  },
  {
   "cell_type": "code",
   "execution_count": 38,
   "id": "584c579e-20dc-4807-88c6-8cc4397f52c9",
   "metadata": {},
   "outputs": [
    {
     "data": {
      "text/plain": [
       "list"
      ]
     },
     "execution_count": 38,
     "metadata": {},
     "output_type": "execute_result"
    }
   ],
   "source": [
    "type(d16[\"batch_name\"])"
   ]
  },
  {
   "cell_type": "code",
   "execution_count": 39,
   "id": "06f898de-90f0-40c6-bbfc-333785ff4cf0",
   "metadata": {},
   "outputs": [
    {
     "data": {
      "text/plain": [
       "{'hitesh', 'krish', 'rolex', 'sudh'}"
      ]
     },
     "execution_count": 39,
     "metadata": {},
     "output_type": "execute_result"
    }
   ],
   "source": [
    "d16['mentor_name']"
   ]
  },
  {
   "cell_type": "code",
   "execution_count": 40,
   "id": "f6b0ed6f-afea-44a5-8c46-70b58e3c52b8",
   "metadata": {},
   "outputs": [
    {
     "data": {
      "text/plain": [
       "set"
      ]
     },
     "execution_count": 40,
     "metadata": {},
     "output_type": "execute_result"
    }
   ],
   "source": [
    "type(d16['mentor_name'])"
   ]
  },
  {
   "cell_type": "markdown",
   "id": "86b374c3-2d85-4d52-aa8e-e8241ccad056",
   "metadata": {},
   "source": [
    "dictionary is all about accessing the data sets"
   ]
  },
  {
   "cell_type": "code",
   "execution_count": null,
   "id": "c816e0ba-adfd-4653-af0f-64b5e0eee7d7",
   "metadata": {},
   "outputs": [],
   "source": []
  },
  {
   "cell_type": "code",
   "execution_count": 41,
   "id": "2fedcd14-1ee3-463e-ad3b-bf3cc222304c",
   "metadata": {},
   "outputs": [],
   "source": [
    "d16[\"name\"] = \"hitesh\""
   ]
  },
  {
   "cell_type": "code",
   "execution_count": 42,
   "id": "792c244f-d57e-40a5-a62e-be62395fc50c",
   "metadata": {},
   "outputs": [
    {
     "data": {
      "text/plain": [
       "{'batch_name': ['data science masters', 'web dev', 'jds'],\n",
       " 'start_date': (12, 4, 25),\n",
       " 'mentor_name': {'hitesh', 'krish', 'rolex', 'sudh'},\n",
       " 'Timing': (8, 8, 8),\n",
       " 'name': 'hitesh'}"
      ]
     },
     "execution_count": 42,
     "metadata": {},
     "output_type": "execute_result"
    }
   ],
   "source": [
    "d16"
   ]
  },
  {
   "cell_type": "code",
   "execution_count": 43,
   "id": "4d745e85-4992-4d2c-a1ec-468e19fb29c2",
   "metadata": {},
   "outputs": [
    {
     "data": {
      "text/plain": [
       "'hitesh'"
      ]
     },
     "execution_count": 43,
     "metadata": {},
     "output_type": "execute_result"
    }
   ],
   "source": [
    "d16[\"name\"]"
   ]
  },
  {
   "cell_type": "markdown",
   "id": "0bb37ce1-ac40-4b24-9d62-5e76306c5af7",
   "metadata": {},
   "source": [
    "we can manipulate the data also"
   ]
  },
  {
   "cell_type": "code",
   "execution_count": 44,
   "id": "612052c0-fcaf-4d34-84ca-4b83118a49fc",
   "metadata": {},
   "outputs": [
    {
     "data": {
      "text/plain": [
       "'HITESH'"
      ]
     },
     "execution_count": 44,
     "metadata": {},
     "output_type": "execute_result"
    }
   ],
   "source": [
    "d16['name'].upper()"
   ]
  },
  {
   "cell_type": "code",
   "execution_count": null,
   "id": "3e2fefc6-4a65-4d9c-8c05-7144f219a857",
   "metadata": {},
   "outputs": [],
   "source": []
  },
  {
   "cell_type": "code",
   "execution_count": 45,
   "id": "350206bf-9122-4052-9545-252c5f6d336b",
   "metadata": {},
   "outputs": [
    {
     "data": {
      "text/plain": [
       "{'key': {'name': 'hitesh', 'age': '27'}}"
      ]
     },
     "execution_count": 45,
     "metadata": {},
     "output_type": "execute_result"
    }
   ],
   "source": [
    "d15"
   ]
  },
  {
   "cell_type": "code",
   "execution_count": 46,
   "id": "356e1479-663d-48e3-94a1-e14ccd28d12b",
   "metadata": {},
   "outputs": [
    {
     "data": {
      "text/plain": [
       "{'name': 'hitesh', 'age': '27'}"
      ]
     },
     "execution_count": 46,
     "metadata": {},
     "output_type": "execute_result"
    }
   ],
   "source": [
    "\n",
    "\n",
    "\n",
    "d15['key']"
   ]
  },
  {
   "cell_type": "code",
   "execution_count": 47,
   "id": "8d7689e5-f169-464d-84b7-0d724dc32faa",
   "metadata": {},
   "outputs": [
    {
     "data": {
      "text/plain": [
       "'27'"
      ]
     },
     "execution_count": 47,
     "metadata": {},
     "output_type": "execute_result"
    }
   ],
   "source": [
    "d15['key']['age']"
   ]
  },
  {
   "cell_type": "code",
   "execution_count": 48,
   "id": "fc163d3d-ef25-4a21-871d-0ac74ee7b95b",
   "metadata": {},
   "outputs": [],
   "source": [
    "d15[\"class\"]=\"DSM\""
   ]
  },
  {
   "cell_type": "code",
   "execution_count": 49,
   "id": "d95c3d19-b49e-4aed-bcda-ec61b2dcef4d",
   "metadata": {},
   "outputs": [
    {
     "data": {
      "text/plain": [
       "{'key': {'name': 'hitesh', 'age': '27'}, 'class': 'DSM'}"
      ]
     },
     "execution_count": 49,
     "metadata": {},
     "output_type": "execute_result"
    }
   ],
   "source": [
    "d15"
   ]
  },
  {
   "cell_type": "code",
   "execution_count": 50,
   "id": "126ae2d8-21f9-4241-bdc8-ad8488c05633",
   "metadata": {},
   "outputs": [],
   "source": [
    "del d15['class']"
   ]
  },
  {
   "cell_type": "code",
   "execution_count": 51,
   "id": "1d19895e-6696-4819-bb31-4c38124159aa",
   "metadata": {},
   "outputs": [
    {
     "data": {
      "text/plain": [
       "{'key': {'name': 'hitesh', 'age': '27'}}"
      ]
     },
     "execution_count": 51,
     "metadata": {},
     "output_type": "execute_result"
    }
   ],
   "source": [
    "d15\n"
   ]
  },
  {
   "cell_type": "code",
   "execution_count": 52,
   "id": "2783d150-f2a4-4437-93a4-15c7dd22dc50",
   "metadata": {},
   "outputs": [],
   "source": [
    "d15.clear()"
   ]
  },
  {
   "cell_type": "code",
   "execution_count": 53,
   "id": "e8d442c6-1a77-4101-84c2-0a054e3ddfb0",
   "metadata": {},
   "outputs": [
    {
     "data": {
      "text/plain": [
       "{}"
      ]
     },
     "execution_count": 53,
     "metadata": {},
     "output_type": "execute_result"
    }
   ],
   "source": [
    "d15"
   ]
  },
  {
   "cell_type": "code",
   "execution_count": 54,
   "id": "2975551c-cb4d-48ee-9849-54a19ff063b5",
   "metadata": {},
   "outputs": [
    {
     "data": {
      "text/plain": [
       "5"
      ]
     },
     "execution_count": 54,
     "metadata": {},
     "output_type": "execute_result"
    }
   ],
   "source": [
    "len(d16)"
   ]
  },
  {
   "cell_type": "code",
   "execution_count": 83,
   "id": "20544d21-5ec4-4025-bc14-50351dfe759f",
   "metadata": {},
   "outputs": [
    {
     "data": {
      "text/plain": [
       "{'batch_name': ['data science masters', 'web dev', 'jds'],\n",
       " 'start_date': (12, 4, 25),\n",
       " 'mentor_name': {'hitesh', 'krish', 'rolex', 'sudh'}}"
      ]
     },
     "execution_count": 83,
     "metadata": {},
     "output_type": "execute_result"
    }
   ],
   "source": [
    "d16"
   ]
  },
  {
   "cell_type": "code",
   "execution_count": 56,
   "id": "2377a20d-1cb0-48ed-a3c9-61b69ca16fe6",
   "metadata": {},
   "outputs": [
    {
     "data": {
      "text/plain": [
       "dict_keys(['batch_name', 'start_date', 'mentor_name', 'Timing', 'name'])"
      ]
     },
     "execution_count": 56,
     "metadata": {},
     "output_type": "execute_result"
    }
   ],
   "source": [
    "d16.keys()"
   ]
  },
  {
   "cell_type": "code",
   "execution_count": 57,
   "id": "08e5bf8f-a99d-4e7c-9749-6ef7c283eefe",
   "metadata": {},
   "outputs": [
    {
     "data": {
      "text/plain": [
       "dict_values([['data science masters', 'web dev', 'jds'], (12, 4, 25), {'sudh', 'hitesh', 'rolex', 'krish'}, (8, 8, 8), 'hitesh'])"
      ]
     },
     "execution_count": 57,
     "metadata": {},
     "output_type": "execute_result"
    }
   ],
   "source": [
    "d16.values()"
   ]
  },
  {
   "cell_type": "code",
   "execution_count": 58,
   "id": "a452719d-5c89-448d-b4f7-2c647dcc4535",
   "metadata": {},
   "outputs": [
    {
     "data": {
      "text/plain": [
       "[['data science masters', 'web dev', 'jds'],\n",
       " (12, 4, 25),\n",
       " {'hitesh', 'krish', 'rolex', 'sudh'},\n",
       " (8, 8, 8),\n",
       " 'hitesh']"
      ]
     },
     "execution_count": 58,
     "metadata": {},
     "output_type": "execute_result"
    }
   ],
   "source": [
    "\n",
    "\n",
    "list(d16.values())"
   ]
  },
  {
   "cell_type": "code",
   "execution_count": 59,
   "id": "a35acebf-172d-4ee2-a58f-4d4073d2edab",
   "metadata": {},
   "outputs": [
    {
     "data": {
      "text/plain": [
       "['batch_name', 'start_date', 'mentor_name', 'Timing', 'name']"
      ]
     },
     "execution_count": 59,
     "metadata": {},
     "output_type": "execute_result"
    }
   ],
   "source": [
    "\n",
    "\n",
    "\n",
    "\n",
    "\n",
    "list(d16.keys())"
   ]
  },
  {
   "cell_type": "code",
   "execution_count": 60,
   "id": "a46fa772-1c13-438c-b7c3-f721aaf97528",
   "metadata": {},
   "outputs": [
    {
     "data": {
      "text/plain": [
       "[('batch_name', ['data science masters', 'web dev', 'jds']),\n",
       " ('start_date', (12, 4, 25)),\n",
       " ('mentor_name', {'hitesh', 'krish', 'rolex', 'sudh'}),\n",
       " ('Timing', (8, 8, 8)),\n",
       " ('name', 'hitesh')]"
      ]
     },
     "execution_count": 60,
     "metadata": {},
     "output_type": "execute_result"
    }
   ],
   "source": [
    "\n",
    "list(d16.items())"
   ]
  },
  {
   "cell_type": "code",
   "execution_count": 61,
   "id": "438a16cd-6a8c-48f9-b4a5-61c353b5622a",
   "metadata": {},
   "outputs": [
    {
     "data": {
      "text/plain": [
       "{'batch_name': ['data science masters', 'web dev', 'jds'],\n",
       " 'start_date': (12, 4, 25),\n",
       " 'mentor_name': {'hitesh', 'krish', 'rolex', 'sudh'},\n",
       " 'Timing': (8, 8, 8),\n",
       " 'name': 'hitesh'}"
      ]
     },
     "execution_count": 61,
     "metadata": {},
     "output_type": "execute_result"
    }
   ],
   "source": [
    "d16"
   ]
  },
  {
   "cell_type": "code",
   "execution_count": 69,
   "id": "986b4145-7315-4341-842a-f2fa18244142",
   "metadata": {},
   "outputs": [],
   "source": [
    "d17 = d16.copy() ## replica"
   ]
  },
  {
   "cell_type": "code",
   "execution_count": 84,
   "id": "f7247747-e9b3-4179-82b6-1728981e8fa8",
   "metadata": {},
   "outputs": [
    {
     "data": {
      "text/plain": [
       "{'batch_name': ['data science masters', 'web dev', 'jds'],\n",
       " 'start_date': (12, 4, 25),\n",
       " 'mentor_name': {'hitesh', 'krish', 'rolex', 'sudh'},\n",
       " 'Timing': (8, 8, 8)}"
      ]
     },
     "execution_count": 84,
     "metadata": {},
     "output_type": "execute_result"
    }
   ],
   "source": [
    "d17"
   ]
  },
  {
   "cell_type": "code",
   "execution_count": 68,
   "id": "6e900e5b-bc7a-4300-af5c-237230daeebe",
   "metadata": {},
   "outputs": [],
   "source": [
    "\n",
    "\n",
    "\n",
    "d18 = d16 ## replica"
   ]
  },
  {
   "cell_type": "code",
   "execution_count": 66,
   "id": "e18d2909-b19b-4c1a-be6e-3ec49e754301",
   "metadata": {},
   "outputs": [
    {
     "data": {
      "text/plain": [
       "{'batch_name': ['data science masters', 'web dev', 'jds'],\n",
       " 'start_date': (12, 4, 25),\n",
       " 'mentor_name': {'hitesh', 'krish', 'rolex', 'sudh'},\n",
       " 'Timing': (8, 8, 8)}"
      ]
     },
     "execution_count": 66,
     "metadata": {},
     "output_type": "execute_result"
    }
   ],
   "source": [
    "d18"
   ]
  },
  {
   "cell_type": "code",
   "execution_count": null,
   "id": "0e69491a-c36c-41a4-8248-f54635520e0b",
   "metadata": {},
   "outputs": [],
   "source": []
  },
  {
   "cell_type": "code",
   "execution_count": 73,
   "id": "3f15d2fa-c4f3-4306-9e8d-ffb8ff012da4",
   "metadata": {},
   "outputs": [
    {
     "data": {
      "text/plain": [
       "{'batch_name': ['data science masters', 'web dev', 'jds'],\n",
       " 'start_date': (12, 4, 25),\n",
       " 'mentor_name': {'hitesh', 'krish', 'rolex', 'sudh'},\n",
       " 'Timing': (8, 8, 8)}"
      ]
     },
     "execution_count": 73,
     "metadata": {},
     "output_type": "execute_result"
    }
   ],
   "source": [
    "d16"
   ]
  },
  {
   "cell_type": "code",
   "execution_count": 75,
   "id": "7758ceee-d36a-49fa-872a-47576301eac7",
   "metadata": {},
   "outputs": [],
   "source": [
    "d17 = d16.copy()"
   ]
  },
  {
   "cell_type": "code",
   "execution_count": 76,
   "id": "4e6126e4-26b4-4bc7-a691-95b448723098",
   "metadata": {},
   "outputs": [
    {
     "data": {
      "text/plain": [
       "{'batch_name': ['data science masters', 'web dev', 'jds'],\n",
       " 'start_date': (12, 4, 25),\n",
       " 'mentor_name': {'hitesh', 'krish', 'rolex', 'sudh'},\n",
       " 'Timing': (8, 8, 8)}"
      ]
     },
     "execution_count": 76,
     "metadata": {},
     "output_type": "execute_result"
    }
   ],
   "source": [
    "d17"
   ]
  },
  {
   "cell_type": "code",
   "execution_count": 77,
   "id": "353c355a-2c75-4921-b50b-ab2b30b60f3b",
   "metadata": {},
   "outputs": [],
   "source": [
    "del d16['Timing']"
   ]
  },
  {
   "cell_type": "code",
   "execution_count": 78,
   "id": "c2b30cb3-f321-4169-af98-cb71e54a525e",
   "metadata": {},
   "outputs": [
    {
     "data": {
      "text/plain": [
       "{'batch_name': ['data science masters', 'web dev', 'jds'],\n",
       " 'start_date': (12, 4, 25),\n",
       " 'mentor_name': {'hitesh', 'krish', 'rolex', 'sudh'}}"
      ]
     },
     "execution_count": 78,
     "metadata": {},
     "output_type": "execute_result"
    }
   ],
   "source": [
    "d16"
   ]
  },
  {
   "cell_type": "code",
   "execution_count": 79,
   "id": "3d9c010f-9ef1-433b-8629-f13bf031e4f2",
   "metadata": {},
   "outputs": [
    {
     "data": {
      "text/plain": [
       "{'batch_name': ['data science masters', 'web dev', 'jds'],\n",
       " 'start_date': (12, 4, 25),\n",
       " 'mentor_name': {'hitesh', 'krish', 'rolex', 'sudh'},\n",
       " 'Timing': (8, 8, 8)}"
      ]
     },
     "execution_count": 79,
     "metadata": {},
     "output_type": "execute_result"
    }
   ],
   "source": [
    "d17"
   ]
  },
  {
   "cell_type": "markdown",
   "id": "bf88c834-b5e2-4d5f-a111-ba816265d471",
   "metadata": {},
   "source": []
  },
  {
   "cell_type": "markdown",
   "id": "66efccc9-fb8b-44bb-96c1-e256a6a1d122",
   "metadata": {},
   "source": [
    "if we use copy() then we del some key in d16 it wont affect in d17"
   ]
  },
  {
   "cell_type": "code",
   "execution_count": null,
   "id": "8bc27fb2-64cf-47fc-aa5d-f4b08990ba16",
   "metadata": {},
   "outputs": [],
   "source": []
  },
  {
   "cell_type": "code",
   "execution_count": 80,
   "id": "0bf67178-4b1a-4ce6-a0c3-96eba90ea90a",
   "metadata": {},
   "outputs": [
    {
     "data": {
      "text/plain": [
       "{'batch_name': ['data science masters', 'web dev', 'jds'],\n",
       " 'start_date': (12, 4, 25),\n",
       " 'mentor_name': {'hitesh', 'krish', 'rolex', 'sudh'}}"
      ]
     },
     "execution_count": 80,
     "metadata": {},
     "output_type": "execute_result"
    }
   ],
   "source": [
    "d18"
   ]
  },
  {
   "cell_type": "code",
   "execution_count": 81,
   "id": "b26aa8d8-6779-4e5b-b8b2-0b22f71d1a14",
   "metadata": {},
   "outputs": [],
   "source": [
    "## in d18 Timing key has gone why because we used = sybol for copy"
   ]
  },
  {
   "cell_type": "code",
   "execution_count": null,
   "id": "3b8324c4-c738-4692-8a50-e163e2877c80",
   "metadata": {},
   "outputs": [],
   "source": []
  },
  {
   "cell_type": "code",
   "execution_count": 82,
   "id": "9a6d209b-4dbd-46b0-9677-0d3810425ec0",
   "metadata": {},
   "outputs": [
    {
     "data": {
      "text/plain": [
       "{'batch_name': ['data science masters', 'web dev', 'jds'],\n",
       " 'start_date': (12, 4, 25),\n",
       " 'mentor_name': {'hitesh', 'krish', 'rolex', 'sudh'}}"
      ]
     },
     "execution_count": 82,
     "metadata": {},
     "output_type": "execute_result"
    }
   ],
   "source": [
    "d16"
   ]
  },
  {
   "cell_type": "code",
   "execution_count": 85,
   "id": "33e7a3d6-2585-44d5-b5cd-efa57093a3b6",
   "metadata": {},
   "outputs": [
    {
     "data": {
      "text/plain": [
       "{'batch_name': ['data science masters', 'web dev', 'jds'],\n",
       " 'start_date': (12, 4, 25),\n",
       " 'mentor_name': {'hitesh', 'krish', 'rolex', 'sudh'},\n",
       " 'Timing': (8, 8, 8)}"
      ]
     },
     "execution_count": 85,
     "metadata": {},
     "output_type": "execute_result"
    }
   ],
   "source": [
    "d17"
   ]
  },
  {
   "cell_type": "code",
   "execution_count": 86,
   "id": "41bf536d-f87c-458d-97ac-6cf2d3fceed5",
   "metadata": {},
   "outputs": [
    {
     "ename": "TypeError",
     "evalue": "pop expected at least 1 argument, got 0",
     "output_type": "error",
     "traceback": [
      "\u001b[0;31m---------------------------------------------------------------------------\u001b[0m",
      "\u001b[0;31mTypeError\u001b[0m                                 Traceback (most recent call last)",
      "Cell \u001b[0;32mIn[86], line 1\u001b[0m\n\u001b[0;32m----> 1\u001b[0m \u001b[43md17\u001b[49m\u001b[38;5;241;43m.\u001b[39;49m\u001b[43mpop\u001b[49m\u001b[43m(\u001b[49m\u001b[43m)\u001b[49m\n",
      "\u001b[0;31mTypeError\u001b[0m: pop expected at least 1 argument, got 0"
     ]
    }
   ],
   "source": [
    "d17.pop()"
   ]
  },
  {
   "cell_type": "code",
   "execution_count": 87,
   "id": "f07ef761-702f-41ad-b6ae-d86ce268d5ad",
   "metadata": {},
   "outputs": [
    {
     "data": {
      "text/plain": [
       "(8, 8, 8)"
      ]
     },
     "execution_count": 87,
     "metadata": {},
     "output_type": "execute_result"
    }
   ],
   "source": [
    "d17.pop('Timing')"
   ]
  },
  {
   "cell_type": "code",
   "execution_count": 89,
   "id": "cb4f45bb-e93d-4f60-8d18-a82763b70cb7",
   "metadata": {},
   "outputs": [
    {
     "data": {
      "text/plain": [
       "{'batch_name': ['data science masters', 'web dev', 'jds'],\n",
       " 'start_date': (12, 4, 25),\n",
       " 'mentor_name': {'hitesh', 'krish', 'rolex', 'sudh'}}"
      ]
     },
     "execution_count": 89,
     "metadata": {},
     "output_type": "execute_result"
    }
   ],
   "source": [
    "d17 ## it deleting the key"
   ]
  },
  {
   "cell_type": "code",
   "execution_count": null,
   "id": "3e879b61-21af-43e6-8cfb-58b360844504",
   "metadata": {},
   "outputs": [],
   "source": []
  },
  {
   "cell_type": "code",
   "execution_count": 90,
   "id": "a6777bd7-9fd6-4b79-a529-87335415f4fd",
   "metadata": {},
   "outputs": [
    {
     "data": {
      "text/plain": [
       "{1: ('a', 'b', 'c'), 2: ('a', 'b', 'c'), 3: ('a', 'b', 'c')}"
      ]
     },
     "execution_count": 90,
     "metadata": {},
     "output_type": "execute_result"
    }
   ],
   "source": [
    "d.fromkeys((1,2,3),('a','b','c'))"
   ]
  },
  {
   "cell_type": "code",
   "execution_count": null,
   "id": "9729470d-0f73-403a-b775-5b10f5cc205f",
   "metadata": {},
   "outputs": [],
   "source": []
  },
  {
   "cell_type": "code",
   "execution_count": 98,
   "id": "74637321-f023-45f7-9acd-e6847bc50cd2",
   "metadata": {},
   "outputs": [],
   "source": [
    "d19 = {\"key1\" : \"value1\" , \"key2\" : \"value2\" }\n",
    "d20 = {\"key3\" : \"value3\" , \"key4\" : \"value4\"}"
   ]
  },
  {
   "cell_type": "code",
   "execution_count": 99,
   "id": "f2a25779-fe4e-4e0f-999d-9b90c2310a1f",
   "metadata": {},
   "outputs": [
    {
     "data": {
      "text/plain": [
       "({'key1': 'value1', 'key2': 'value2'}, {'key3': 'value3', 'key4': 'value4'})"
      ]
     },
     "execution_count": 99,
     "metadata": {},
     "output_type": "execute_result"
    }
   ],
   "source": [
    "(d19,d20) ## 2 dictionaries inside the tuple"
   ]
  },
  {
   "cell_type": "code",
   "execution_count": 100,
   "id": "d8926600-1fc1-4cf8-8e96-4551dac7cdaa",
   "metadata": {},
   "outputs": [],
   "source": [
    "d19.update(d20)"
   ]
  },
  {
   "cell_type": "code",
   "execution_count": 101,
   "id": "0aac3769-9727-4e97-9631-01a5c8867d69",
   "metadata": {},
   "outputs": [
    {
     "data": {
      "text/plain": [
       "{'key1': 'value1', 'key2': 'value2', 'key3': 'value3', 'key4': 'value4'}"
      ]
     },
     "execution_count": 101,
     "metadata": {},
     "output_type": "execute_result"
    }
   ],
   "source": [
    "d19"
   ]
  },
  {
   "cell_type": "code",
   "execution_count": 102,
   "id": "e6c2ec65-a46a-4ec1-b327-6ee877339818",
   "metadata": {},
   "outputs": [
    {
     "data": {
      "text/plain": [
       "{'key3': 'value3', 'key4': 'value4'}"
      ]
     },
     "execution_count": 102,
     "metadata": {},
     "output_type": "execute_result"
    }
   ],
   "source": [
    "d20"
   ]
  },
  {
   "cell_type": "code",
   "execution_count": 103,
   "id": "204cd1f9-d073-4d3b-9f7f-2138f36d5106",
   "metadata": {},
   "outputs": [],
   "source": [
    "d20.update(d19)"
   ]
  },
  {
   "cell_type": "code",
   "execution_count": 104,
   "id": "48cfde52-92b4-4f7f-90ab-7406c0c71057",
   "metadata": {},
   "outputs": [
    {
     "data": {
      "text/plain": [
       "{'key3': 'value3', 'key4': 'value4', 'key1': 'value1', 'key2': 'value2'}"
      ]
     },
     "execution_count": 104,
     "metadata": {},
     "output_type": "execute_result"
    }
   ],
   "source": [
    "d20"
   ]
  },
  {
   "cell_type": "code",
   "execution_count": 106,
   "id": "d975472c-3c4d-40f7-9b4e-8282bbf82f81",
   "metadata": {},
   "outputs": [],
   "source": [
    "d20.get(\"hitesh\")"
   ]
  },
  {
   "cell_type": "code",
   "execution_count": 107,
   "id": "50cf1045-da25-4e7d-89f2-297ce0dd5041",
   "metadata": {},
   "outputs": [
    {
     "data": {
      "text/plain": [
       "'value3'"
      ]
     },
     "execution_count": 107,
     "metadata": {},
     "output_type": "execute_result"
    }
   ],
   "source": [
    "d20.get(\"key3\")"
   ]
  },
  {
   "cell_type": "code",
   "execution_count": 108,
   "id": "aa3b1d7b-8aed-4a23-bd23-227b886c1de0",
   "metadata": {},
   "outputs": [
    {
     "data": {
      "text/plain": [
       "'value3'"
      ]
     },
     "execution_count": 108,
     "metadata": {},
     "output_type": "execute_result"
    }
   ],
   "source": [
    "d20[\"key3\"]"
   ]
  },
  {
   "cell_type": "code",
   "execution_count": 110,
   "id": "19fedf1c-ca3b-4fc0-bdb0-fd8e6d68fcd2",
   "metadata": {},
   "outputs": [
    {
     "ename": "KeyError",
     "evalue": "'hitesh'",
     "output_type": "error",
     "traceback": [
      "\u001b[0;31m---------------------------------------------------------------------------\u001b[0m",
      "\u001b[0;31mKeyError\u001b[0m                                  Traceback (most recent call last)",
      "Cell \u001b[0;32mIn[110], line 1\u001b[0m\n\u001b[0;32m----> 1\u001b[0m \u001b[43md20\u001b[49m\u001b[43m[\u001b[49m\u001b[38;5;124;43m\"\u001b[39;49m\u001b[38;5;124;43mhitesh\u001b[39;49m\u001b[38;5;124;43m\"\u001b[39;49m\u001b[43m]\u001b[49m \u001b[38;5;66;03m## get fuction never gives an error \u001b[39;00m\n",
      "\u001b[0;31mKeyError\u001b[0m: 'hitesh'"
     ]
    }
   ],
   "source": [
    "d20[\"hitesh\"] ## get fuction never gives an error "
   ]
  },
  {
   "cell_type": "code",
   "execution_count": null,
   "id": "30245d29-2cc1-4c5a-a174-d3b0c21d2751",
   "metadata": {},
   "outputs": [],
   "source": []
  },
  {
   "cell_type": "markdown",
   "id": "4693107a-2b66-43f8-a85d-7a2c0c2744f6",
   "metadata": {},
   "source": [
    "### dictionary comprehesion}\n"
   ]
  },
  {
   "cell_type": "code",
   "execution_count": null,
   "id": "ec9a8e36-60e3-4d1a-9b15-142735285f5c",
   "metadata": {},
   "outputs": [],
   "source": []
  },
  {
   "cell_type": "code",
   "execution_count": 116,
   "id": "1d699054-4d63-4000-91fb-f0d1336d3128",
   "metadata": {},
   "outputs": [
    {
     "ename": "SyntaxError",
     "evalue": "invalid syntax (814236266.py, line 1)",
     "output_type": "error",
     "traceback": [
      "\u001b[0;36m  Cell \u001b[0;32mIn[116], line 1\u001b[0;36m\u001b[0m\n\u001b[0;31m    {for i in range(1,11)}\u001b[0m\n\u001b[0m     ^\u001b[0m\n\u001b[0;31mSyntaxError\u001b[0m\u001b[0;31m:\u001b[0m invalid syntax\n"
     ]
    }
   ],
   "source": [
    "{for i in range(1,11)}"
   ]
  },
  {
   "cell_type": "code",
   "execution_count": 117,
   "id": "c495d317-7e26-420e-a6bf-4ea2cc1d408f",
   "metadata": {},
   "outputs": [
    {
     "data": {
      "text/plain": [
       "{1: 1, 2: 4, 3: 9, 4: 16, 5: 25, 6: 36, 7: 49, 8: 64, 9: 81, 10: 100}"
      ]
     },
     "execution_count": 117,
     "metadata": {},
     "output_type": "execute_result"
    }
   ],
   "source": [
    "{i : i*i for i in range(1,11)}"
   ]
  },
  {
   "cell_type": "code",
   "execution_count": 118,
   "id": "4dfa5ee7-5009-42b1-8cc9-dbadc6ab2d8a",
   "metadata": {},
   "outputs": [
    {
     "data": {
      "text/plain": [
       "{1: 11, 2: 12, 3: 13, 4: 14, 5: 15, 6: 16, 7: 17, 8: 18, 9: 19, 10: 20}"
      ]
     },
     "execution_count": 118,
     "metadata": {},
     "output_type": "execute_result"
    }
   ],
   "source": [
    "{i: i+10 for i in range (1,11)}"
   ]
  },
  {
   "cell_type": "code",
   "execution_count": 124,
   "id": "960c575a-7eac-4519-9482-18805f930bf0",
   "metadata": {},
   "outputs": [],
   "source": [
    "import math\n",
    "d21 = {i :math.log10(i) for i in range(1,11)}"
   ]
  },
  {
   "cell_type": "code",
   "execution_count": 122,
   "id": "19684c3e-2df8-435b-b617-1498105edeee",
   "metadata": {},
   "outputs": [
    {
     "data": {
      "text/plain": [
       "{'batch_name': ['data science masters', 'web dev', 'jds'],\n",
       " 'start_date': (12, 4, 25),\n",
       " 'mentor_name': {'hitesh', 'krish', 'rolex', 'sudh'}}"
      ]
     },
     "execution_count": 122,
     "metadata": {},
     "output_type": "execute_result"
    }
   ],
   "source": [
    "d16"
   ]
  },
  {
   "cell_type": "code",
   "execution_count": 123,
   "id": "91136333-ffcd-4bd5-8257-3d6173dcaf9c",
   "metadata": {},
   "outputs": [
    {
     "data": {
      "text/plain": [
       "True"
      ]
     },
     "execution_count": 123,
     "metadata": {},
     "output_type": "execute_result"
    }
   ],
   "source": [
    "'batch_name' in d16"
   ]
  },
  {
   "cell_type": "code",
   "execution_count": 125,
   "id": "45d8355c-a99a-4ed5-b9b3-b236ce0e0bea",
   "metadata": {},
   "outputs": [
    {
     "data": {
      "text/plain": [
       "{1: 0.0,\n",
       " 2: 0.3010299956639812,\n",
       " 3: 0.47712125471966244,\n",
       " 4: 0.6020599913279624,\n",
       " 5: 0.6989700043360189,\n",
       " 6: 0.7781512503836436,\n",
       " 7: 0.8450980400142568,\n",
       " 8: 0.9030899869919435,\n",
       " 9: 0.9542425094393249,\n",
       " 10: 1.0}"
      ]
     },
     "execution_count": 125,
     "metadata": {},
     "output_type": "execute_result"
    }
   ],
   "source": [
    "d21"
   ]
  },
  {
   "cell_type": "code",
   "execution_count": 126,
   "id": "a1c9db23-9048-40dc-b822-812f3d15319f",
   "metadata": {},
   "outputs": [],
   "source": [
    "### extract even keys"
   ]
  },
  {
   "cell_type": "code",
   "execution_count": 129,
   "id": "c80ab171-0ea5-4d9c-a8ac-146098a8c598",
   "metadata": {},
   "outputs": [
    {
     "data": {
      "text/plain": [
       "dict_keys([1, 2, 3, 4, 5, 6, 7, 8, 9, 10])"
      ]
     },
     "execution_count": 129,
     "metadata": {},
     "output_type": "execute_result"
    }
   ],
   "source": [
    "d21.keys()"
   ]
  },
  {
   "cell_type": "code",
   "execution_count": 132,
   "id": "7297d827-a767-4665-a28b-2e12020d18ab",
   "metadata": {},
   "outputs": [
    {
     "name": "stdout",
     "output_type": "stream",
     "text": [
      "0.3010299956639812\n",
      "0.6020599913279624\n",
      "0.7781512503836436\n",
      "0.9030899869919435\n",
      "1.0\n"
     ]
    }
   ],
   "source": [
    "for i in d21.keys():\n",
    "    if i%2==0:\n",
    "        print(d21[i])"
   ]
  },
  {
   "cell_type": "code",
   "execution_count": null,
   "id": "7a1869b0-0e64-46ff-9247-06d683f89e35",
   "metadata": {},
   "outputs": [],
   "source": []
  }
 ],
 "metadata": {
  "kernelspec": {
   "display_name": "Python 3 (ipykernel)",
   "language": "python",
   "name": "python3"
  },
  "language_info": {
   "codemirror_mode": {
    "name": "ipython",
    "version": 3
   },
   "file_extension": ".py",
   "mimetype": "text/x-python",
   "name": "python",
   "nbconvert_exporter": "python",
   "pygments_lexer": "ipython3",
   "version": "3.10.8"
  }
 },
 "nbformat": 4,
 "nbformat_minor": 5
}
