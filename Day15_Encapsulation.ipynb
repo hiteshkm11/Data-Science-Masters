{
 "cells": [
  {
   "cell_type": "markdown",
   "id": "4c501105-8ec5-4270-9ccf-d0c2586e3bae",
   "metadata": {},
   "source": [
    "# Encapsulation"
   ]
  },
  {
   "cell_type": "markdown",
   "id": "7cb2157b-106f-4c1a-a562-631355771de9",
   "metadata": {},
   "source": [
    "hiding the entire variables that i have created"
   ]
  },
  {
   "cell_type": "code",
   "execution_count": 33,
   "id": "e724c523-4f22-4058-ac63-c19e12a2cd20",
   "metadata": {},
   "outputs": [],
   "source": [
    "class test:\n",
    "    def __init__(self , a,b):\n",
    "        self.a = a\n",
    "        self.b = b\n",
    "        \n",
    "        "
   ]
  },
  {
   "cell_type": "code",
   "execution_count": 3,
   "id": "b0b25f2a-2a97-4d51-ac11-3cb10a33868f",
   "metadata": {},
   "outputs": [],
   "source": [
    "t = test(43,45)"
   ]
  },
  {
   "cell_type": "code",
   "execution_count": 4,
   "id": "a8c10d6f-2988-4d5f-a646-ec3767ed7033",
   "metadata": {},
   "outputs": [
    {
     "data": {
      "text/plain": [
       "43"
      ]
     },
     "execution_count": 4,
     "metadata": {},
     "output_type": "execute_result"
    }
   ],
   "source": [
    "t.a"
   ]
  },
  {
   "cell_type": "code",
   "execution_count": 5,
   "id": "2cf56b0f-e9e7-45b0-8194-f6cabc9ff9b5",
   "metadata": {},
   "outputs": [
    {
     "data": {
      "text/plain": [
       "45"
      ]
     },
     "execution_count": 5,
     "metadata": {},
     "output_type": "execute_result"
    }
   ],
   "source": [
    "t.b"
   ]
  },
  {
   "cell_type": "code",
   "execution_count": 6,
   "id": "b0382468-7ff5-45f1-a04e-71cfbdf8eaaf",
   "metadata": {},
   "outputs": [],
   "source": [
    "t.a = 3344"
   ]
  },
  {
   "cell_type": "code",
   "execution_count": 7,
   "id": "fdfc182e-3cfa-4bf7-947a-31456cb4c227",
   "metadata": {},
   "outputs": [
    {
     "data": {
      "text/plain": [
       "3344"
      ]
     },
     "execution_count": 7,
     "metadata": {},
     "output_type": "execute_result"
    }
   ],
   "source": [
    "t.a"
   ]
  },
  {
   "cell_type": "code",
   "execution_count": 28,
   "id": "1f58ebd2-30a9-4319-a7f9-0fd0ba8fdcae",
   "metadata": {},
   "outputs": [],
   "source": [
    "class car :\n",
    "    \n",
    "    def __init__(self, year, make, model, speed):\n",
    "        self.__year = year\n",
    "        self.__make = make\n",
    "        self.__model = model    #### __ means private\n",
    "        self.__speed = 0\n",
    "        \n",
    "    def set_speed(self, speed):\n",
    "            self.__speed = 0 if speed >0 else speed\n",
    "            \n",
    "    def get_speed(self):\n",
    "        return self.__speed\n",
    "        \n",
    "        "
   ]
  },
  {
   "cell_type": "code",
   "execution_count": 25,
   "id": "c67a2ec2-a657-4e0e-ac10-9198b1f2334b",
   "metadata": {},
   "outputs": [],
   "source": [
    "obj_car.set_speed(-200)"
   ]
  },
  {
   "cell_type": "code",
   "execution_count": 26,
   "id": "6a02ad44-e1c6-41bd-ab8d-9f661febfdef",
   "metadata": {},
   "outputs": [],
   "source": [
    "obj_car.set_speed(200)"
   ]
  },
  {
   "cell_type": "code",
   "execution_count": 31,
   "id": "e663d189-214f-43a6-b2dc-844487bc5f88",
   "metadata": {},
   "outputs": [],
   "source": [
    "obj_car = car(2021, 'toyota', 'innova', 12)"
   ]
  },
  {
   "cell_type": "code",
   "execution_count": 19,
   "id": "b129b606-20b3-42aa-91db-560968038b35",
   "metadata": {},
   "outputs": [
    {
     "data": {
      "text/plain": [
       "2021"
      ]
     },
     "execution_count": 19,
     "metadata": {},
     "output_type": "execute_result"
    }
   ],
   "source": [
    "obj_car._car__year"
   ]
  },
  {
   "cell_type": "code",
   "execution_count": 20,
   "id": "e81a80cf-74f6-44eb-b4bf-59f61f689bc4",
   "metadata": {},
   "outputs": [],
   "source": [
    "obj_car._car__year = 2023  ## this is how we can change the data in our class object"
   ]
  },
  {
   "cell_type": "code",
   "execution_count": 21,
   "id": "02e291b2-964e-4f9f-a6a6-3d53ff10ccc1",
   "metadata": {},
   "outputs": [
    {
     "data": {
      "text/plain": [
       "2023"
      ]
     },
     "execution_count": 21,
     "metadata": {},
     "output_type": "execute_result"
    }
   ],
   "source": [
    "obj_car._car__year"
   ]
  },
  {
   "cell_type": "code",
   "execution_count": 27,
   "id": "0c8314f7-732c-45d9-9c88-f17aaffdb524",
   "metadata": {},
   "outputs": [
    {
     "data": {
      "text/plain": [
       "200"
      ]
     },
     "execution_count": 27,
     "metadata": {},
     "output_type": "execute_result"
    }
   ],
   "source": [
    "obj_car._car__speed"
   ]
  },
  {
   "cell_type": "code",
   "execution_count": 32,
   "id": "156adfac-e1fe-44f7-baff-ead34ee6e04b",
   "metadata": {},
   "outputs": [
    {
     "data": {
      "text/plain": [
       "0"
      ]
     },
     "execution_count": 32,
     "metadata": {},
     "output_type": "execute_result"
    }
   ],
   "source": [
    "obj_car.get_speed()\n"
   ]
  },
  {
   "cell_type": "code",
   "execution_count": null,
   "id": "f0d437f5-3cd2-4ed3-b923-5c2f530b0ff9",
   "metadata": {},
   "outputs": [],
   "source": []
  },
  {
   "cell_type": "code",
   "execution_count": 45,
   "id": "1cbd9485-0e3c-4144-ab55-815a0146ebc6",
   "metadata": {},
   "outputs": [],
   "source": [
    "class bank_account:\n",
    "    \n",
    "    def __init__(self, balance):\n",
    "        self.__balance = balance\n",
    "    \n",
    "    def deposit(self, amount):\n",
    "        self.__balance = self.__balance + amount\n",
    "    \n",
    "    def withdraw(self, amount):\n",
    "        \n",
    "        if self.__balance >= amount :\n",
    "            self.__balance = self.__balance - amount\n",
    "            \n",
    "            return True\n",
    "        else :\n",
    "            return False\n",
    "        \n",
    "        \n",
    "    def get_balance(self):\n",
    "        return self.__balance\n",
    "    \n",
    "        "
   ]
  },
  {
   "cell_type": "code",
   "execution_count": 46,
   "id": "845268f2-3249-4f23-80ce-b608db9a0b2b",
   "metadata": {},
   "outputs": [],
   "source": [
    "obj_bank_account = bank_account (1000)"
   ]
  },
  {
   "cell_type": "code",
   "execution_count": 47,
   "id": "66eef7c7-19fc-4420-98fc-4f4cce182ed3",
   "metadata": {},
   "outputs": [
    {
     "data": {
      "text/plain": [
       "1000"
      ]
     },
     "execution_count": 47,
     "metadata": {},
     "output_type": "execute_result"
    }
   ],
   "source": [
    "obj_bank_account.get_balance()"
   ]
  },
  {
   "cell_type": "code",
   "execution_count": 48,
   "id": "4334c105-7682-4008-a208-40a7115ba577",
   "metadata": {},
   "outputs": [],
   "source": [
    "obj_bank_account.deposit(3000)"
   ]
  },
  {
   "cell_type": "code",
   "execution_count": 49,
   "id": "50849529-3d1a-4b5e-84c9-01a0821af17f",
   "metadata": {},
   "outputs": [
    {
     "data": {
      "text/plain": [
       "4000"
      ]
     },
     "execution_count": 49,
     "metadata": {},
     "output_type": "execute_result"
    }
   ],
   "source": [
    "obj_bank_account.get_balance()"
   ]
  },
  {
   "cell_type": "code",
   "execution_count": 50,
   "id": "260b2cc2-5c07-47b3-bc20-832041953c59",
   "metadata": {},
   "outputs": [
    {
     "data": {
      "text/plain": [
       "False"
      ]
     },
     "execution_count": 50,
     "metadata": {},
     "output_type": "execute_result"
    }
   ],
   "source": [
    "obj_bank_account.withdraw(10000)"
   ]
  },
  {
   "cell_type": "code",
   "execution_count": 51,
   "id": "e286cbf1-6acb-4bc6-837e-61c352caba53",
   "metadata": {},
   "outputs": [
    {
     "data": {
      "text/plain": [
       "True"
      ]
     },
     "execution_count": 51,
     "metadata": {},
     "output_type": "execute_result"
    }
   ],
   "source": [
    "obj_bank_account.withdraw(200)"
   ]
  },
  {
   "cell_type": "code",
   "execution_count": 52,
   "id": "3737e4c0-7c32-4f42-8c17-4b39645354a9",
   "metadata": {},
   "outputs": [
    {
     "data": {
      "text/plain": [
       "3800"
      ]
     },
     "execution_count": 52,
     "metadata": {},
     "output_type": "execute_result"
    }
   ],
   "source": [
    "obj_bank_account.get_balance()"
   ]
  },
  {
   "cell_type": "code",
   "execution_count": null,
   "id": "d758cde2-3a2a-495a-b8d8-083381bb7ee1",
   "metadata": {},
   "outputs": [],
   "source": []
  }
 ],
 "metadata": {
  "kernelspec": {
   "display_name": "Python 3 (ipykernel)",
   "language": "python",
   "name": "python3"
  },
  "language_info": {
   "codemirror_mode": {
    "name": "ipython",
    "version": 3
   },
   "file_extension": ".py",
   "mimetype": "text/x-python",
   "name": "python",
   "nbconvert_exporter": "python",
   "pygments_lexer": "ipython3",
   "version": "3.10.8"
  }
 },
 "nbformat": 4,
 "nbformat_minor": 5
}
