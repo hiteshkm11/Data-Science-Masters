{
 "cells": [
  {
   "cell_type": "markdown",
   "id": "e82dca6b-991c-499a-a53b-dfd9287ad846",
   "metadata": {},
   "source": [
    "## Tuples"
   ]
  },
  {
   "cell_type": "code",
   "execution_count": 1,
   "id": "4ddfe269-41af-40af-93c1-9cbedf8213e5",
   "metadata": {},
   "outputs": [],
   "source": [
    "t=()"
   ]
  },
  {
   "cell_type": "code",
   "execution_count": 2,
   "id": "1824dbe6-2498-40ec-9514-e4b3b2a9e4f2",
   "metadata": {},
   "outputs": [
    {
     "data": {
      "text/plain": [
       "tuple"
      ]
     },
     "execution_count": 2,
     "metadata": {},
     "output_type": "execute_result"
    }
   ],
   "source": [
    "type(t)"
   ]
  },
  {
   "cell_type": "code",
   "execution_count": 3,
   "id": "fbc38dcf-62ae-4429-88fe-1e6f4e5820a4",
   "metadata": {},
   "outputs": [],
   "source": [
    "t1=(1,2,3,4,5.0,(5+6j),\"Hitesh\",True)"
   ]
  },
  {
   "cell_type": "code",
   "execution_count": 4,
   "id": "27ea41dc-4d51-41a1-afb2-13abd83d3c1d",
   "metadata": {},
   "outputs": [
    {
     "data": {
      "text/plain": [
       "tuple"
      ]
     },
     "execution_count": 4,
     "metadata": {},
     "output_type": "execute_result"
    }
   ],
   "source": [
    "type(t1)"
   ]
  },
  {
   "cell_type": "code",
   "execution_count": 6,
   "id": "1b017c97-fca9-4ecd-a0cf-797821c7ac0f",
   "metadata": {},
   "outputs": [],
   "source": [
    "l=[1,2,3,4]"
   ]
  },
  {
   "cell_type": "code",
   "execution_count": 7,
   "id": "0e08faf2-a354-4eaf-88e7-74b7f1211864",
   "metadata": {},
   "outputs": [
    {
     "data": {
      "text/plain": [
       "list"
      ]
     },
     "execution_count": 7,
     "metadata": {},
     "output_type": "execute_result"
    }
   ],
   "source": [
    "type(l)"
   ]
  },
  {
   "cell_type": "code",
   "execution_count": 9,
   "id": "406512a8-be9e-4d5b-a99d-df061b4a8eef",
   "metadata": {},
   "outputs": [
    {
     "data": {
      "text/plain": [
       "(1, 2, 3, 4, 5.0, (5+6j), 'Hitesh', True)"
      ]
     },
     "execution_count": 9,
     "metadata": {},
     "output_type": "execute_result"
    }
   ],
   "source": [
    "t1"
   ]
  },
  {
   "cell_type": "code",
   "execution_count": 10,
   "id": "e866b302-5c3a-4bb3-a5fe-08c5b3bf9e2f",
   "metadata": {},
   "outputs": [
    {
     "data": {
      "text/plain": [
       "1"
      ]
     },
     "execution_count": 10,
     "metadata": {},
     "output_type": "execute_result"
    }
   ],
   "source": [
    "t1[0]"
   ]
  },
  {
   "cell_type": "code",
   "execution_count": 12,
   "id": "7a1e3c72-200c-43f6-a646-08fd57e0fc49",
   "metadata": {},
   "outputs": [
    {
     "data": {
      "text/plain": [
       "'Hitesh'"
      ]
     },
     "execution_count": 12,
     "metadata": {},
     "output_type": "execute_result"
    }
   ],
   "source": [
    "t1[6]"
   ]
  },
  {
   "cell_type": "code",
   "execution_count": 13,
   "id": "d2b6484b-c4d7-4211-960d-255d51baaac4",
   "metadata": {},
   "outputs": [
    {
     "data": {
      "text/plain": [
       "(True, 'Hitesh', (5+6j), 5.0, 4, 3, 2, 1)"
      ]
     },
     "execution_count": 13,
     "metadata": {},
     "output_type": "execute_result"
    }
   ],
   "source": [
    "t1[::-1]"
   ]
  },
  {
   "cell_type": "code",
   "execution_count": 14,
   "id": "6bb0ecd5-3e8c-4a58-b039-6c4689015b09",
   "metadata": {},
   "outputs": [],
   "source": [
    "## t1=t1[::-1] item assignment "
   ]
  },
  {
   "cell_type": "code",
   "execution_count": 15,
   "id": "de318837-e3c6-4bca-9163-0f51b5cbb238",
   "metadata": {},
   "outputs": [
    {
     "data": {
      "text/plain": [
       "(3, 4, 5.0, (5+6j), 'Hitesh', True)"
      ]
     },
     "execution_count": 15,
     "metadata": {},
     "output_type": "execute_result"
    }
   ],
   "source": [
    "t1[2:] ### slicing operations"
   ]
  },
  {
   "cell_type": "code",
   "execution_count": 16,
   "id": "2880d54b-99e2-4834-84f4-7333eba1c8a7",
   "metadata": {},
   "outputs": [
    {
     "data": {
      "text/plain": [
       "(1, 2, 3, 4, 5.0)"
      ]
     },
     "execution_count": 16,
     "metadata": {},
     "output_type": "execute_result"
    }
   ],
   "source": [
    "t1[:5]"
   ]
  },
  {
   "cell_type": "code",
   "execution_count": 18,
   "id": "180ff5e7-758b-4754-8a83-1c730a025f52",
   "metadata": {},
   "outputs": [
    {
     "data": {
      "text/plain": [
       "((5+6j), 'Hitesh')"
      ]
     },
     "execution_count": 18,
     "metadata": {},
     "output_type": "execute_result"
    }
   ],
   "source": [
    "t1[5:7]"
   ]
  },
  {
   "cell_type": "code",
   "execution_count": 19,
   "id": "f1926216-c428-4236-bf63-61b85446a0b8",
   "metadata": {},
   "outputs": [
    {
     "data": {
      "text/plain": [
       "(1, 3, 5.0, 'Hitesh')"
      ]
     },
     "execution_count": 19,
     "metadata": {},
     "output_type": "execute_result"
    }
   ],
   "source": [
    "t1[::2]"
   ]
  },
  {
   "cell_type": "code",
   "execution_count": 22,
   "id": "f5036520-8d61-488a-af6f-6e000e335d2c",
   "metadata": {},
   "outputs": [
    {
     "data": {
      "text/plain": [
       "(1, 3)"
      ]
     },
     "execution_count": 22,
     "metadata": {},
     "output_type": "execute_result"
    }
   ],
   "source": [
    "t1[0:3:2]"
   ]
  },
  {
   "cell_type": "code",
   "execution_count": 23,
   "id": "b53614a6-762c-4f67-9c31-c0d43ce5e489",
   "metadata": {},
   "outputs": [],
   "source": [
    "## tupple.press tab key"
   ]
  },
  {
   "cell_type": "code",
   "execution_count": 25,
   "id": "3a79c20b-72a7-4a68-b46f-e6523d085978",
   "metadata": {},
   "outputs": [
    {
     "data": {
      "text/plain": [
       "1"
      ]
     },
     "execution_count": 25,
     "metadata": {},
     "output_type": "execute_result"
    }
   ],
   "source": [
    "t1.count(4) # it will give the result as how many number 4 are there in the tuple"
   ]
  },
  {
   "cell_type": "code",
   "execution_count": 26,
   "id": "11c4e248-25e3-45e5-92e9-3c12bfb09d82",
   "metadata": {},
   "outputs": [
    {
     "data": {
      "text/plain": [
       "0"
      ]
     },
     "execution_count": 26,
     "metadata": {},
     "output_type": "execute_result"
    }
   ],
   "source": [
    "t1.count(\"abc\")"
   ]
  },
  {
   "cell_type": "code",
   "execution_count": 28,
   "id": "af8f31f6-b15b-4ac4-bdd8-05cf16c7562b",
   "metadata": {},
   "outputs": [
    {
     "data": {
      "text/plain": [
       "0"
      ]
     },
     "execution_count": 28,
     "metadata": {},
     "output_type": "execute_result"
    }
   ],
   "source": [
    "t1.index(1)"
   ]
  },
  {
   "cell_type": "code",
   "execution_count": 29,
   "id": "abadd7a5-4c4f-4c43-a4e6-08b376101d0f",
   "metadata": {},
   "outputs": [
    {
     "data": {
      "text/plain": [
       "6"
      ]
     },
     "execution_count": 29,
     "metadata": {},
     "output_type": "execute_result"
    }
   ],
   "source": [
    "t1.index(\"Hitesh\")"
   ]
  },
  {
   "cell_type": "code",
   "execution_count": 31,
   "id": "5665393a-f3bc-4241-910e-246ce6371c6c",
   "metadata": {},
   "outputs": [
    {
     "data": {
      "text/plain": [
       "(1, 2, 3, 4, 5.0, (5+6j), 'Hitesh', True)"
      ]
     },
     "execution_count": 31,
     "metadata": {},
     "output_type": "execute_result"
    }
   ],
   "source": [
    "t1"
   ]
  },
  {
   "cell_type": "code",
   "execution_count": 32,
   "id": "9dd5f90c-2c25-4565-86fd-eedbd858c1fc",
   "metadata": {},
   "outputs": [
    {
     "data": {
      "text/plain": [
       "2"
      ]
     },
     "execution_count": 32,
     "metadata": {},
     "output_type": "execute_result"
    }
   ],
   "source": [
    "t1.count(True) ## because internally system stores true as 1 and false as 0 so here we have one true and one 1"
   ]
  },
  {
   "cell_type": "code",
   "execution_count": 33,
   "id": "caeaeeb7-cf8f-4e34-9f6f-f6748ae31bfb",
   "metadata": {},
   "outputs": [
    {
     "data": {
      "text/plain": [
       "2"
      ]
     },
     "execution_count": 33,
     "metadata": {},
     "output_type": "execute_result"
    }
   ],
   "source": [
    "t1.count(1)"
   ]
  },
  {
   "cell_type": "markdown",
   "id": "5120f51d-30c3-489c-b83b-090e98b23fbf",
   "metadata": {},
   "source": [
    "### major difference between tuple and list is mutability and immutability"
   ]
  },
  {
   "cell_type": "code",
   "execution_count": 4,
   "id": "af32c2ba-f5cb-4cc6-977a-f15a004f6d9c",
   "metadata": {},
   "outputs": [
    {
     "data": {
      "text/plain": [
       "(1, 2, 3, 4, 5.0, (5+6j), 'Hitesh', True)"
      ]
     },
     "execution_count": 4,
     "metadata": {},
     "output_type": "execute_result"
    }
   ],
   "source": [
    "t1"
   ]
  },
  {
   "cell_type": "code",
   "execution_count": 7,
   "id": "e58da16e-3e20-4dd8-aa90-f1463b66d103",
   "metadata": {},
   "outputs": [
    {
     "data": {
      "text/plain": [
       "[1, 2, 3, 4]"
      ]
     },
     "execution_count": 7,
     "metadata": {},
     "output_type": "execute_result"
    }
   ],
   "source": [
    "l"
   ]
  },
  {
   "cell_type": "code",
   "execution_count": 8,
   "id": "f2315a9c-35d9-4420-b3bd-a8efffca06d6",
   "metadata": {},
   "outputs": [
    {
     "data": {
      "text/plain": [
       "1"
      ]
     },
     "execution_count": 8,
     "metadata": {},
     "output_type": "execute_result"
    }
   ],
   "source": [
    "t1[0]"
   ]
  },
  {
   "cell_type": "code",
   "execution_count": 10,
   "id": "029a94f8-829e-4276-88dd-7cd3a181ba98",
   "metadata": {},
   "outputs": [
    {
     "ename": "TypeError",
     "evalue": "'tuple' object does not support item assignment",
     "output_type": "error",
     "traceback": [
      "\u001b[0;31m---------------------------------------------------------------------------\u001b[0m",
      "\u001b[0;31mTypeError\u001b[0m                                 Traceback (most recent call last)",
      "Cell \u001b[0;32mIn[10], line 1\u001b[0m\n\u001b[0;32m----> 1\u001b[0m \u001b[43mt1\u001b[49m\u001b[43m[\u001b[49m\u001b[38;5;241;43m0\u001b[39;49m\u001b[43m]\u001b[49m\u001b[38;5;241m=\u001b[39m\u001b[38;5;241m23\u001b[39m \u001b[38;5;66;03m## in tupple concept we cannt reassign the values where as in list we can assign or change the value of a perticular index\u001b[39;00m\n",
      "\u001b[0;31mTypeError\u001b[0m: 'tuple' object does not support item assignment"
     ]
    }
   ],
   "source": [
    "t1[0]=23 ## in tupple concept we cannt reassign the values where as in list we can assign or change the value of a perticular index"
   ]
  },
  {
   "cell_type": "code",
   "execution_count": 11,
   "id": "520c44f9-f636-4723-a3dc-7a7127a816ec",
   "metadata": {},
   "outputs": [
    {
     "data": {
      "text/plain": [
       "1"
      ]
     },
     "execution_count": 11,
     "metadata": {},
     "output_type": "execute_result"
    }
   ],
   "source": [
    "l[0]"
   ]
  },
  {
   "cell_type": "code",
   "execution_count": 12,
   "id": "678f3baf-ee00-4d80-9d94-9786e4755cbb",
   "metadata": {},
   "outputs": [],
   "source": [
    "l[0]=23"
   ]
  },
  {
   "cell_type": "code",
   "execution_count": 14,
   "id": "961b03eb-016a-48cd-8958-ad9776ef01ac",
   "metadata": {},
   "outputs": [
    {
     "data": {
      "text/plain": [
       "[23, 2, 3, 4]"
      ]
     },
     "execution_count": 14,
     "metadata": {},
     "output_type": "execute_result"
    }
   ],
   "source": [
    "l ## here we can see the change"
   ]
  },
  {
   "cell_type": "markdown",
   "id": "7ce4d2e9-61dd-4597-819f-18d8ea29a0c3",
   "metadata": {},
   "source": [
    "list --------> mutable \n",
    "\n",
    "tuple---------> immutable"
   ]
  },
  {
   "cell_type": "code",
   "execution_count": 15,
   "id": "60f28acf-a1fa-445e-acf5-35359a246f33",
   "metadata": {},
   "outputs": [],
   "source": [
    "## we can iterate the values through tuple"
   ]
  },
  {
   "cell_type": "code",
   "execution_count": 16,
   "id": "20d1b494-d0d9-405a-8d2f-ca7365a65827",
   "metadata": {},
   "outputs": [
    {
     "data": {
      "text/plain": [
       "(1, 2, 3, 4, 5.0, (5+6j), 'Hitesh', True)"
      ]
     },
     "execution_count": 16,
     "metadata": {},
     "output_type": "execute_result"
    }
   ],
   "source": [
    "t1"
   ]
  },
  {
   "cell_type": "code",
   "execution_count": 20,
   "id": "7fc685d4-68c0-4e13-ad7b-f94343842699",
   "metadata": {},
   "outputs": [
    {
     "name": "stdout",
     "output_type": "stream",
     "text": [
      "1 <class 'int'>\n",
      "2 <class 'int'>\n",
      "3 <class 'int'>\n",
      "4 <class 'int'>\n",
      "5.0 <class 'float'>\n",
      "(5+6j) <class 'complex'>\n",
      "Hitesh <class 'str'>\n",
      "True <class 'bool'>\n"
     ]
    }
   ],
   "source": [
    "for i in t1:\n",
    "    print(i, type(i))"
   ]
  },
  {
   "cell_type": "code",
   "execution_count": 18,
   "id": "ee9fbca3-b7e5-4e41-9c12-2066b031143f",
   "metadata": {},
   "outputs": [
    {
     "data": {
      "text/plain": [
       "[1, 2, 3, 4, 5.0, (5+6j), 'Hitesh', True]"
      ]
     },
     "execution_count": 18,
     "metadata": {},
     "output_type": "execute_result"
    }
   ],
   "source": [
    "[i for i in t1]"
   ]
  },
  {
   "cell_type": "code",
   "execution_count": 21,
   "id": "d454e228-0559-4595-8a4d-9b590c1343f0",
   "metadata": {},
   "outputs": [],
   "source": [
    "t2 = (1,2,3,4,5)"
   ]
  },
  {
   "cell_type": "code",
   "execution_count": 22,
   "id": "610e6aeb-9e95-499d-8073-5ee5d43fa6d7",
   "metadata": {},
   "outputs": [
    {
     "data": {
      "text/plain": [
       "(1, 2, 3, 4, 5)"
      ]
     },
     "execution_count": 22,
     "metadata": {},
     "output_type": "execute_result"
    }
   ],
   "source": [
    "t2"
   ]
  },
  {
   "cell_type": "code",
   "execution_count": 24,
   "id": "d3b3d106-9301-4385-a6ea-201e65868637",
   "metadata": {},
   "outputs": [
    {
     "data": {
      "text/plain": [
       "(1, 2, 3, 4, 5, 1, 2, 3, 4, 5, 1, 2, 3, 4, 5)"
      ]
     },
     "execution_count": 24,
     "metadata": {},
     "output_type": "execute_result"
    }
   ],
   "source": [
    "t2 * 3"
   ]
  },
  {
   "cell_type": "code",
   "execution_count": 25,
   "id": "da978ead-8ba7-4f95-ad46-247c92e8c68b",
   "metadata": {},
   "outputs": [
    {
     "data": {
      "text/plain": [
       "5"
      ]
     },
     "execution_count": 25,
     "metadata": {},
     "output_type": "execute_result"
    }
   ],
   "source": [
    "max(t2)"
   ]
  },
  {
   "cell_type": "code",
   "execution_count": 26,
   "id": "98c02477-491d-4256-a022-29a03d98c8b2",
   "metadata": {},
   "outputs": [
    {
     "data": {
      "text/plain": [
       "1"
      ]
     },
     "execution_count": 26,
     "metadata": {},
     "output_type": "execute_result"
    }
   ],
   "source": [
    "min(t2)"
   ]
  },
  {
   "cell_type": "code",
   "execution_count": 28,
   "id": "35198d20-a7a1-4432-afe3-228d949ff78a",
   "metadata": {},
   "outputs": [],
   "source": [
    "t11=(1,2,3,4,5)\n",
    "t22=(6,7,8,9,10)"
   ]
  },
  {
   "cell_type": "code",
   "execution_count": 29,
   "id": "335889c5-2123-48a3-b8d4-74cee246c78c",
   "metadata": {},
   "outputs": [],
   "source": [
    "t33=(t11,t22)"
   ]
  },
  {
   "cell_type": "code",
   "execution_count": 31,
   "id": "094f364c-376a-4623-b37a-977ef2b6c290",
   "metadata": {},
   "outputs": [
    {
     "data": {
      "text/plain": [
       "((1, 2, 3, 4, 5), (6, 7, 8, 9, 10))"
      ]
     },
     "execution_count": 31,
     "metadata": {},
     "output_type": "execute_result"
    }
   ],
   "source": [
    "t33 ## tuple inside the tuple"
   ]
  },
  {
   "cell_type": "markdown",
   "id": "5339f9c9-e814-4f45-935c-3de97e71e794",
   "metadata": {},
   "source": [
    "### inside the tuple we can put the list also "
   ]
  },
  {
   "cell_type": "code",
   "execution_count": 32,
   "id": "6ce92f3f-0fc5-4c36-bbb5-977f1d4c50b4",
   "metadata": {},
   "outputs": [],
   "source": [
    "t4=((1,2,3),[1,2,3,4])"
   ]
  },
  {
   "cell_type": "code",
   "execution_count": 33,
   "id": "54039cec-3b67-4a6b-94ea-48991f6fd458",
   "metadata": {},
   "outputs": [
    {
     "data": {
      "text/plain": [
       "((1, 2, 3), [1, 2, 3, 4])"
      ]
     },
     "execution_count": 33,
     "metadata": {},
     "output_type": "execute_result"
    }
   ],
   "source": [
    "t4"
   ]
  },
  {
   "cell_type": "code",
   "execution_count": 34,
   "id": "8ab64f2e-091e-47e0-ab08-6cfbf6f2d7d3",
   "metadata": {},
   "outputs": [],
   "source": [
    "## delete the tuple is possible \n",
    "# where as update is "
   ]
  },
  {
   "cell_type": "code",
   "execution_count": 35,
   "id": "55ff1801-830b-49da-9f52-88df8e3b359e",
   "metadata": {},
   "outputs": [],
   "source": [
    "del t4"
   ]
  },
  {
   "cell_type": "code",
   "execution_count": 36,
   "id": "290e5744-9eaa-4e32-bf37-cda9770f90f2",
   "metadata": {},
   "outputs": [
    {
     "ename": "NameError",
     "evalue": "name 't4' is not defined",
     "output_type": "error",
     "traceback": [
      "\u001b[0;31m---------------------------------------------------------------------------\u001b[0m",
      "\u001b[0;31mNameError\u001b[0m                                 Traceback (most recent call last)",
      "Cell \u001b[0;32mIn[36], line 1\u001b[0m\n\u001b[0;32m----> 1\u001b[0m \u001b[43mt4\u001b[49m\n",
      "\u001b[0;31mNameError\u001b[0m: name 't4' is not defined"
     ]
    }
   ],
   "source": [
    "t4"
   ]
  },
  {
   "cell_type": "code",
   "execution_count": 38,
   "id": "dabd72c8-fbb2-4b86-83bb-c2716093355e",
   "metadata": {},
   "outputs": [
    {
     "data": {
      "text/plain": [
       "8"
      ]
     },
     "execution_count": 38,
     "metadata": {},
     "output_type": "execute_result"
    }
   ],
   "source": [
    "len(t1) ## length of the tuple t1"
   ]
  },
  {
   "cell_type": "code",
   "execution_count": 39,
   "id": "2caccc81-01e0-4543-84ed-a34d84edb671",
   "metadata": {},
   "outputs": [
    {
     "data": {
      "text/plain": [
       "(1, 2, 3, 4, 5)"
      ]
     },
     "execution_count": 39,
     "metadata": {},
     "output_type": "execute_result"
    }
   ],
   "source": [
    "t11"
   ]
  },
  {
   "cell_type": "code",
   "execution_count": 43,
   "id": "3166a1b3-588c-43d6-9a65-5e186337f894",
   "metadata": {},
   "outputs": [
    {
     "data": {
      "text/plain": [
       "False"
      ]
     },
     "execution_count": 43,
     "metadata": {},
     "output_type": "execute_result"
    }
   ],
   "source": [
    "\"Hitesh\" in t11 ### finding particular item in tuple"
   ]
  },
  {
   "cell_type": "code",
   "execution_count": 41,
   "id": "fd7f7d5a-b371-4727-b905-ccdcf64f638d",
   "metadata": {},
   "outputs": [
    {
     "data": {
      "text/plain": [
       "(1, 2, 3, 4, 5.0, (5+6j), 'Hitesh', True)"
      ]
     },
     "execution_count": 41,
     "metadata": {},
     "output_type": "execute_result"
    }
   ],
   "source": [
    "t1"
   ]
  },
  {
   "cell_type": "code",
   "execution_count": 42,
   "id": "57b4d4f5-8e21-4d13-9072-4290a57b05f0",
   "metadata": {},
   "outputs": [
    {
     "data": {
      "text/plain": [
       "True"
      ]
     },
     "execution_count": 42,
     "metadata": {},
     "output_type": "execute_result"
    }
   ],
   "source": [
    "\"Hitesh\" in t1"
   ]
  },
  {
   "cell_type": "code",
   "execution_count": null,
   "id": "95d1efa0-6bfe-4c10-8b78-b82663cb68d3",
   "metadata": {},
   "outputs": [],
   "source": []
  }
 ],
 "metadata": {
  "kernelspec": {
   "display_name": "Python 3 (ipykernel)",
   "language": "python",
   "name": "python3"
  },
  "language_info": {
   "codemirror_mode": {
    "name": "ipython",
    "version": 3
   },
   "file_extension": ".py",
   "mimetype": "text/x-python",
   "name": "python",
   "nbconvert_exporter": "python",
   "pygments_lexer": "ipython3",
   "version": "3.10.8"
  }
 },
 "nbformat": 4,
 "nbformat_minor": 5
}
