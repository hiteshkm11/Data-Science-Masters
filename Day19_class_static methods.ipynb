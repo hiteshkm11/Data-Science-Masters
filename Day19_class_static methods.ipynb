{
 "cells": [
  {
   "cell_type": "markdown",
   "id": "cb38a858-5eac-489a-8b26-a32f11676fb0",
   "metadata": {},
   "source": [
    "# Class Methods and Static methods"
   ]
  },
  {
   "cell_type": "code",
   "execution_count": null,
   "id": "d97e6b9d-ddc7-4623-b0ca-3a03a36b89f5",
   "metadata": {},
   "outputs": [],
   "source": []
  },
  {
   "cell_type": "markdown",
   "id": "268fbbc2-f8dc-4100-b60b-ec7fdd248016",
   "metadata": {},
   "source": [
    "# Class Methods"
   ]
  },
  {
   "cell_type": "code",
   "execution_count": 2,
   "id": "56084b4d-1a92-4c7c-aee8-02d08a4eb568",
   "metadata": {},
   "outputs": [],
   "source": [
    "class dsm:\n",
    "    def  __init__(self , name , email):\n",
    "        \n",
    "        self.name = name\n",
    "        self.email = email\n",
    "        \n",
    "    def student_details(self):\n",
    "        print(self.name , self.email)\n",
    "        "
   ]
  },
  {
   "cell_type": "code",
   "execution_count": 3,
   "id": "f3b60f6e-4403-48c0-b6f0-361db9141124",
   "metadata": {},
   "outputs": [],
   "source": [
    "ds = dsm('hitesh','hitesh1@gmail.com')"
   ]
  },
  {
   "cell_type": "code",
   "execution_count": 4,
   "id": "a85f4263-bf00-4166-aaab-cdbc81c940df",
   "metadata": {},
   "outputs": [
    {
     "data": {
      "text/plain": [
       "<__main__.dsm at 0x7f43ba450f40>"
      ]
     },
     "execution_count": 4,
     "metadata": {},
     "output_type": "execute_result"
    }
   ],
   "source": [
    "ds"
   ]
  },
  {
   "cell_type": "code",
   "execution_count": 5,
   "id": "a5bf4a11-8e5b-498d-aca4-ec942f9eb11d",
   "metadata": {},
   "outputs": [
    {
     "data": {
      "text/plain": [
       "'hitesh'"
      ]
     },
     "execution_count": 5,
     "metadata": {},
     "output_type": "execute_result"
    }
   ],
   "source": [
    "ds.name"
   ]
  },
  {
   "cell_type": "code",
   "execution_count": 6,
   "id": "a578ebb4-cf09-4563-91ff-686afbe8b272",
   "metadata": {},
   "outputs": [
    {
     "data": {
      "text/plain": [
       "'hitesh1@gmail.com'"
      ]
     },
     "execution_count": 6,
     "metadata": {},
     "output_type": "execute_result"
    }
   ],
   "source": [
    "ds.email"
   ]
  },
  {
   "cell_type": "code",
   "execution_count": 7,
   "id": "00c5535d-c8e9-4649-971e-88785f782e93",
   "metadata": {},
   "outputs": [
    {
     "name": "stdout",
     "output_type": "stream",
     "text": [
      "hitesh hitesh1@gmail.com\n"
     ]
    }
   ],
   "source": [
    "ds.student_details()"
   ]
  },
  {
   "cell_type": "code",
   "execution_count": null,
   "id": "d7ce184c-3a8b-465c-b264-644def94a7bc",
   "metadata": {},
   "outputs": [],
   "source": []
  },
  {
   "cell_type": "code",
   "execution_count": 25,
   "id": "2f472cba-0fea-45f7-99ca-782ef08a2a48",
   "metadata": {},
   "outputs": [],
   "source": [
    "class dsm1:\n",
    "    def  __init__(self , name , email):\n",
    "        \n",
    "        self.name = name\n",
    "        self.email = email\n",
    "        \n",
    "    @classmethod\n",
    "    def details(cls, name1, email1):\n",
    "        return cls(name1 , email1)\n",
    "    \n",
    "    def student_details(self):\n",
    "        print(self.name , self.email)\n",
    "        "
   ]
  },
  {
   "cell_type": "code",
   "execution_count": 26,
   "id": "76b39835-7bcf-484f-b32b-06b0d36e31a0",
   "metadata": {},
   "outputs": [],
   "source": [
    " ds1 = dsm1.details('mohan','mohan@gmail.com')"
   ]
  },
  {
   "cell_type": "code",
   "execution_count": 28,
   "id": "b1f7c561-3239-478a-9464-c720ec7dc4dd",
   "metadata": {},
   "outputs": [
    {
     "data": {
      "text/plain": [
       "'mohan'"
      ]
     },
     "execution_count": 28,
     "metadata": {},
     "output_type": "execute_result"
    }
   ],
   "source": [
    "ds1.name"
   ]
  },
  {
   "cell_type": "code",
   "execution_count": 30,
   "id": "47a723e7-8b75-43bc-b278-bc33ca09b758",
   "metadata": {},
   "outputs": [
    {
     "data": {
      "text/plain": [
       "'mohan@gmail.com'"
      ]
     },
     "execution_count": 30,
     "metadata": {},
     "output_type": "execute_result"
    }
   ],
   "source": [
    "ds1.email"
   ]
  },
  {
   "cell_type": "code",
   "execution_count": 31,
   "id": "a9d96e72-0153-44d4-b738-136d3f2e8617",
   "metadata": {},
   "outputs": [
    {
     "name": "stdout",
     "output_type": "stream",
     "text": [
      "mohan mohan@gmail.com\n"
     ]
    }
   ],
   "source": [
    "ds1.student_details()"
   ]
  },
  {
   "cell_type": "code",
   "execution_count": null,
   "id": "afec22cc-8cae-4ba7-b475-4178de9194c8",
   "metadata": {},
   "outputs": [],
   "source": []
  },
  {
   "cell_type": "code",
   "execution_count": 40,
   "id": "a84a69e8-3408-4090-b3db-61146904e1f2",
   "metadata": {},
   "outputs": [],
   "source": [
    "class dsm2:\n",
    "    \n",
    "    mobile_number = 9876543210\n",
    "    \n",
    "    def  __init__(self , name , email):\n",
    "        \n",
    "        self.name = name\n",
    "        self.email = email\n",
    "        \n",
    "        \n",
    "        \n",
    "    @classmethod\n",
    "    def change_number(cls , mobile):\n",
    "        dsm2.mobile_number = mobile\n",
    "    \n",
    "        \n",
    "    @classmethod\n",
    "    def details(cls, name1, email1):\n",
    "        return cls(name1 , email1)\n",
    "    \n",
    "    def student_details(self):\n",
    "        print(self.name , self.email , dsm2.mobile_number)\n",
    "        "
   ]
  },
  {
   "cell_type": "code",
   "execution_count": null,
   "id": "35cf10b3-8e5d-445a-8a1b-558454042f1c",
   "metadata": {},
   "outputs": [],
   "source": []
  },
  {
   "cell_type": "code",
   "execution_count": 33,
   "id": "d88a79e1-0682-466d-b4c9-8bdaae7d6622",
   "metadata": {},
   "outputs": [
    {
     "data": {
      "text/plain": [
       "9876543210"
      ]
     },
     "execution_count": 33,
     "metadata": {},
     "output_type": "execute_result"
    }
   ],
   "source": [
    "dsm2.mobile_number"
   ]
  },
  {
   "cell_type": "code",
   "execution_count": 36,
   "id": "059a0376-2cf5-406b-8307-5026ac4a679c",
   "metadata": {},
   "outputs": [],
   "source": [
    "ds2 = dsm2.details('sohan' , 'sohan@gmail.com')"
   ]
  },
  {
   "cell_type": "code",
   "execution_count": 37,
   "id": "0a40e344-8193-4ff8-839a-a8edc081fff6",
   "metadata": {},
   "outputs": [
    {
     "name": "stdout",
     "output_type": "stream",
     "text": [
      "sohan sohan@gmail.com 9876543210\n"
     ]
    }
   ],
   "source": [
    "ds2.student_details()"
   ]
  },
  {
   "cell_type": "code",
   "execution_count": 38,
   "id": "31cb5960-1b7e-4a73-b55a-bffe8ed88b63",
   "metadata": {},
   "outputs": [],
   "source": [
    "ds2_obj = dsm2('rohan', 'rohan@gmail.com')"
   ]
  },
  {
   "cell_type": "code",
   "execution_count": 39,
   "id": "ba982e51-b2c9-4aff-a5d6-8f156a6c091a",
   "metadata": {},
   "outputs": [
    {
     "name": "stdout",
     "output_type": "stream",
     "text": [
      "rohan rohan@gmail.com 9876543210\n"
     ]
    }
   ],
   "source": [
    "ds2_obj.student_details()"
   ]
  },
  {
   "cell_type": "code",
   "execution_count": null,
   "id": "0b4ab58e-3d72-46be-815c-af2de578cd9b",
   "metadata": {},
   "outputs": [],
   "source": []
  },
  {
   "cell_type": "code",
   "execution_count": 41,
   "id": "089db446-5ada-423b-87a2-2065d276e885",
   "metadata": {},
   "outputs": [
    {
     "data": {
      "text/plain": [
       "9876543210"
      ]
     },
     "execution_count": 41,
     "metadata": {},
     "output_type": "execute_result"
    }
   ],
   "source": [
    "dsm2.mobile_number"
   ]
  },
  {
   "cell_type": "code",
   "execution_count": 42,
   "id": "b94be9bc-7ac2-4aad-bd73-2d550edcf516",
   "metadata": {},
   "outputs": [],
   "source": [
    "dsm2.change_number(1234567890)"
   ]
  },
  {
   "cell_type": "code",
   "execution_count": 43,
   "id": "ad29f923-61f1-464b-8d55-f3dba083e907",
   "metadata": {},
   "outputs": [
    {
     "data": {
      "text/plain": [
       "1234567890"
      ]
     },
     "execution_count": 43,
     "metadata": {},
     "output_type": "execute_result"
    }
   ],
   "source": [
    "dsm2.mobile_number"
   ]
  },
  {
   "cell_type": "code",
   "execution_count": 45,
   "id": "fe779ac2-5a18-4f47-88a4-02ef1d49c953",
   "metadata": {},
   "outputs": [],
   "source": [
    "ds2_obj = dsm2('sohel','sohel@gmail.com')"
   ]
  },
  {
   "cell_type": "code",
   "execution_count": 48,
   "id": "4eee2be0-ff24-4f53-bab8-b43ab55a26fe",
   "metadata": {},
   "outputs": [
    {
     "data": {
      "text/plain": [
       "<__main__.dsm2 at 0x7f4393d2d390>"
      ]
     },
     "execution_count": 48,
     "metadata": {},
     "output_type": "execute_result"
    }
   ],
   "source": [
    "ds2_obj.details('hit','hit@gmail.com')"
   ]
  },
  {
   "cell_type": "code",
   "execution_count": 49,
   "id": "5ae652da-3386-4abc-92fd-60dd9662d25a",
   "metadata": {},
   "outputs": [
    {
     "data": {
      "text/plain": [
       "'sohan'"
      ]
     },
     "execution_count": 49,
     "metadata": {},
     "output_type": "execute_result"
    }
   ],
   "source": [
    "ds2.name"
   ]
  },
  {
   "cell_type": "code",
   "execution_count": 51,
   "id": "353de1c8-a189-47ef-8c3e-6f061d876574",
   "metadata": {},
   "outputs": [],
   "source": [
    "ds2_obj.change_number(456123789)"
   ]
  },
  {
   "cell_type": "code",
   "execution_count": 53,
   "id": "a0c792fc-a211-4c9a-b1aa-59eed88226f8",
   "metadata": {},
   "outputs": [
    {
     "data": {
      "text/plain": [
       "456123789"
      ]
     },
     "execution_count": 53,
     "metadata": {},
     "output_type": "execute_result"
    }
   ],
   "source": [
    "dsm2.mobile_number"
   ]
  },
  {
   "cell_type": "code",
   "execution_count": null,
   "id": "48e944ef-d30c-458a-90e8-457e98f81f8c",
   "metadata": {},
   "outputs": [],
   "source": []
  },
  {
   "cell_type": "code",
   "execution_count": null,
   "id": "f5768710-5529-4f93-a195-0860872c9789",
   "metadata": {},
   "outputs": [],
   "source": []
  },
  {
   "cell_type": "code",
   "execution_count": null,
   "id": "2347588c-383f-4c5e-8668-46a495202770",
   "metadata": {},
   "outputs": [],
   "source": []
  },
  {
   "cell_type": "code",
   "execution_count": 54,
   "id": "53c341ae-f8c1-4fd3-9c22-42532262ed0e",
   "metadata": {},
   "outputs": [],
   "source": [
    "class dsm3:\n",
    "    \n",
    "    mobile_number = 9876543210\n",
    "    \n",
    "    def  __init__(self , name , email):\n",
    "        \n",
    "        self.name = name\n",
    "        self.email = email\n",
    "        \n",
    "        \n",
    "        \n",
    "    @classmethod\n",
    "    def change_number(cls , mobile):\n",
    "        dsm2.mobile_number = mobile\n",
    "    \n",
    "        \n",
    "    @classmethod\n",
    "    def details(cls, name1, email1):\n",
    "        return cls(name1 , email1)\n",
    "    \n",
    "    def student_details(self):\n",
    "        print(self.name , self.email , dsm2.mobile_number)\n",
    "        "
   ]
  },
  {
   "cell_type": "code",
   "execution_count": 55,
   "id": "24281302-7c7d-413e-add6-4209fd5c3fba",
   "metadata": {},
   "outputs": [],
   "source": [
    "def course_details(cls , course_name):\n",
    "    print('course_details', course_name)\n",
    "    "
   ]
  },
  {
   "cell_type": "code",
   "execution_count": 56,
   "id": "79715106-7005-42a5-bd44-00191e70e06b",
   "metadata": {},
   "outputs": [],
   "source": [
    "dsm3.course_details = classmethod(course_details)"
   ]
  },
  {
   "cell_type": "code",
   "execution_count": 57,
   "id": "880e91cc-686a-443f-82dc-c32c2bdd5c3b",
   "metadata": {},
   "outputs": [
    {
     "name": "stdout",
     "output_type": "stream",
     "text": [
      "course_details data science masters\n"
     ]
    }
   ],
   "source": [
    "dsm3.course_details('data science masters')"
   ]
  },
  {
   "cell_type": "code",
   "execution_count": 58,
   "id": "9e22b1d8-6084-430d-a550-38930469ea4a",
   "metadata": {},
   "outputs": [],
   "source": [
    "ds3 = dsm3('hite','hite@gmail.com')"
   ]
  },
  {
   "cell_type": "code",
   "execution_count": 59,
   "id": "c9f47828-c344-4442-9bb9-11c9ac369539",
   "metadata": {},
   "outputs": [
    {
     "name": "stdout",
     "output_type": "stream",
     "text": [
      "course_details web dev\n"
     ]
    }
   ],
   "source": [
    "ds3.course_details('web dev')"
   ]
  },
  {
   "cell_type": "code",
   "execution_count": null,
   "id": "55f2d568-6321-4d09-92ad-e02d4ddc7821",
   "metadata": {},
   "outputs": [],
   "source": []
  },
  {
   "cell_type": "code",
   "execution_count": 60,
   "id": "d4d788f6-bcb1-44dc-baaa-267c7e992e03",
   "metadata": {},
   "outputs": [],
   "source": [
    "class dsm4:\n",
    "    \n",
    "    mobile_number = 9876543210\n",
    "    \n",
    "    def  __init__(self , name , email):\n",
    "        \n",
    "        self.name = name\n",
    "        self.email = email\n",
    "        \n",
    "        \n",
    "        \n",
    "    @classmethod\n",
    "    def change_number(cls , mobile):\n",
    "        dsm2.mobile_number = mobile\n",
    "    \n",
    "        \n",
    "    @classmethod\n",
    "    def details(cls, name1, email1):\n",
    "        return cls(name1 , email1)\n",
    "    \n",
    "    def student_details(self):\n",
    "        print(self.name , self.email , dsm2.mobile_number)\n",
    "        "
   ]
  },
  {
   "cell_type": "code",
   "execution_count": 61,
   "id": "494a8caf-e2db-442c-939a-98abcdf14884",
   "metadata": {},
   "outputs": [],
   "source": [
    " del dsm4.change_number"
   ]
  },
  {
   "cell_type": "code",
   "execution_count": 63,
   "id": "88d3d666-d0fb-4c07-a6c1-01b4c6ead14b",
   "metadata": {},
   "outputs": [
    {
     "ename": "AttributeError",
     "evalue": "type object 'dsm4' has no attribute 'change_number'",
     "output_type": "error",
     "traceback": [
      "\u001b[0;31m---------------------------------------------------------------------------\u001b[0m",
      "\u001b[0;31mAttributeError\u001b[0m                            Traceback (most recent call last)",
      "Cell \u001b[0;32mIn[63], line 1\u001b[0m\n\u001b[0;32m----> 1\u001b[0m \u001b[43mdsm4\u001b[49m\u001b[38;5;241;43m.\u001b[39;49m\u001b[43mchange_number\u001b[49m(\u001b[38;5;241m54544545646\u001b[39m)\n",
      "\u001b[0;31mAttributeError\u001b[0m: type object 'dsm4' has no attribute 'change_number'"
     ]
    }
   ],
   "source": [
    "dsm4.change_number(54544545646)"
   ]
  },
  {
   "cell_type": "code",
   "execution_count": 64,
   "id": "f41732e8-d265-4c9e-99ad-6491278f1ed9",
   "metadata": {},
   "outputs": [],
   "source": [
    "delattr(dsm4 , 'details')"
   ]
  },
  {
   "cell_type": "code",
   "execution_count": 65,
   "id": "d5e6cd10-379b-4d33-b398-79f4c1f1dd72",
   "metadata": {},
   "outputs": [
    {
     "ename": "AttributeError",
     "evalue": "type object 'dsm4' has no attribute 'details'",
     "output_type": "error",
     "traceback": [
      "\u001b[0;31m---------------------------------------------------------------------------\u001b[0m",
      "\u001b[0;31mAttributeError\u001b[0m                            Traceback (most recent call last)",
      "Cell \u001b[0;32mIn[65], line 1\u001b[0m\n\u001b[0;32m----> 1\u001b[0m \u001b[43mdsm4\u001b[49m\u001b[38;5;241;43m.\u001b[39;49m\u001b[43mdetails\u001b[49m()\n",
      "\u001b[0;31mAttributeError\u001b[0m: type object 'dsm4' has no attribute 'details'"
     ]
    }
   ],
   "source": [
    "dsm4.details()"
   ]
  },
  {
   "cell_type": "code",
   "execution_count": 66,
   "id": "f4394111-5cdb-4cfd-ac46-b19259cb69b6",
   "metadata": {},
   "outputs": [
    {
     "data": {
      "text/plain": [
       "9876543210"
      ]
     },
     "execution_count": 66,
     "metadata": {},
     "output_type": "execute_result"
    }
   ],
   "source": [
    "dsm4.mobile_number"
   ]
  },
  {
   "cell_type": "code",
   "execution_count": 67,
   "id": "7410f647-8cf1-4474-90c1-673a2f9de361",
   "metadata": {},
   "outputs": [],
   "source": [
    "delattr(dsm4 , 'mobile_number')"
   ]
  },
  {
   "cell_type": "code",
   "execution_count": 68,
   "id": "31d01797-b5e8-43ac-94a5-80a2a7703cb8",
   "metadata": {},
   "outputs": [
    {
     "ename": "AttributeError",
     "evalue": "type object 'dsm4' has no attribute 'mobile_number'",
     "output_type": "error",
     "traceback": [
      "\u001b[0;31m---------------------------------------------------------------------------\u001b[0m",
      "\u001b[0;31mAttributeError\u001b[0m                            Traceback (most recent call last)",
      "Cell \u001b[0;32mIn[68], line 1\u001b[0m\n\u001b[0;32m----> 1\u001b[0m \u001b[43mdsm4\u001b[49m\u001b[38;5;241;43m.\u001b[39;49m\u001b[43mmobile_number\u001b[49m\n",
      "\u001b[0;31mAttributeError\u001b[0m: type object 'dsm4' has no attribute 'mobile_number'"
     ]
    }
   ],
   "source": [
    "dsm4.mobile_number"
   ]
  },
  {
   "cell_type": "code",
   "execution_count": null,
   "id": "503495bd-8637-4e91-abc0-607ebfed3abb",
   "metadata": {},
   "outputs": [],
   "source": [
    "    \n",
    "    "
   ]
  },
  {
   "cell_type": "markdown",
   "id": "06f247e6-8dae-432e-b9f5-e0ffeaf7d754",
   "metadata": {},
   "source": [
    "# Static method"
   ]
  },
  {
   "cell_type": "code",
   "execution_count": 1,
   "id": "c767cf45-58de-47af-8f0e-baa237875384",
   "metadata": {},
   "outputs": [],
   "source": [
    "class pwskills:\n",
    "    def student_details(self , name , mail_id , number):\n",
    "        print(name , mail_id , number)\n",
    "        "
   ]
  },
  {
   "cell_type": "code",
   "execution_count": 2,
   "id": "3c0472d9-6bf1-4896-8dc1-c014f9de60c1",
   "metadata": {},
   "outputs": [],
   "source": [
    "pw = pwskills()"
   ]
  },
  {
   "cell_type": "code",
   "execution_count": 3,
   "id": "98c81c62-b6aa-45f3-9c00-f9c06b1462d6",
   "metadata": {},
   "outputs": [
    {
     "name": "stdout",
     "output_type": "stream",
     "text": [
      "sudh sudh@gmail.com 7894561230\n"
     ]
    }
   ],
   "source": [
    "pw.student_details(\"sudh\" , \"sudh@gmail.com\" , 7894561230)"
   ]
  },
  {
   "cell_type": "code",
   "execution_count": 4,
   "id": "457110c4-c990-42d5-8081-6b8caed14c90",
   "metadata": {},
   "outputs": [],
   "source": [
    "class pwskills1 :\n",
    "    \n",
    "    def student_details(self , name , mail_id , number):\n",
    "        print(name , mail_id , number)\n",
    "    \n",
    "    \n",
    "    @staticmethod\n",
    "    def mentor_class(list_mentor):\n",
    "        print(list_mentor)\n",
    "        \n",
    "    "
   ]
  },
  {
   "cell_type": "code",
   "execution_count": 5,
   "id": "57f56fef-cd4d-4b1a-8571-196558de3db1",
   "metadata": {},
   "outputs": [
    {
     "name": "stdout",
     "output_type": "stream",
     "text": [
      "['sudh', 'krish']\n"
     ]
    }
   ],
   "source": [
    "pwskills1.mentor_class([\"sudh\",'krish'])"
   ]
  },
  {
   "cell_type": "code",
   "execution_count": 6,
   "id": "bb64cb9d-e46f-4049-856b-945216ae0bda",
   "metadata": {},
   "outputs": [],
   "source": [
    "class pwskills1 :\n",
    "    \n",
    "    def student_details(self , name , mail_id , number):\n",
    "        print(name , mail_id , number)\n",
    "    \n",
    "    \n",
    "    @staticmethod\n",
    "    def mentor_class(list_mentor):\n",
    "        print(list_mentor)\n",
    "        \n",
    "    def mentor(self , mentor_list):\n",
    "        print(mentor_list)"
   ]
  },
  {
   "cell_type": "code",
   "execution_count": 7,
   "id": "22a17a2f-4cf6-4f67-8f60-f531880a5040",
   "metadata": {},
   "outputs": [],
   "source": [
    "pw1 = pwskills1()"
   ]
  },
  {
   "cell_type": "code",
   "execution_count": 10,
   "id": "a3451111-7526-45b7-a177-d880b97b3ba0",
   "metadata": {},
   "outputs": [
    {
     "name": "stdout",
     "output_type": "stream",
     "text": [
      "['sudh', 'krish']\n"
     ]
    }
   ],
   "source": [
    "pw1.mentor([\"sudh\",\"krish\"])"
   ]
  },
  {
   "cell_type": "code",
   "execution_count": 11,
   "id": "68831d10-7aa9-4951-98d2-8c5e63869592",
   "metadata": {},
   "outputs": [
    {
     "name": "stdout",
     "output_type": "stream",
     "text": [
      "['sudh', 'naik']\n"
     ]
    }
   ],
   "source": [
    "pw1.mentor_class(['sudh','naik'])"
   ]
  },
  {
   "cell_type": "code",
   "execution_count": null,
   "id": "e8959fdc-e03d-4f58-b549-5ffd4747c00d",
   "metadata": {},
   "outputs": [],
   "source": []
  },
  {
   "cell_type": "code",
   "execution_count": null,
   "id": "7d838312-1a43-4c58-87b1-47a5a4496b7f",
   "metadata": {},
   "outputs": [],
   "source": []
  },
  {
   "cell_type": "code",
   "execution_count": 15,
   "id": "dd71bd73-48e8-4bba-b912-0f41cbf730c5",
   "metadata": {},
   "outputs": [],
   "source": [
    "class pwskills1 :\n",
    "    \n",
    "    def student_details(self , name , mail_id , number):\n",
    "        print(name , mail_id , number)\n",
    "   \n",
    "\n",
    "    @staticmethod\n",
    "    def mentor_mail_id(mail_id):\n",
    "        print(mail_id)\n",
    "    \n",
    "    @staticmethod\n",
    "    def mentor_class(list_mentor):\n",
    "        print(list_mentor)\n",
    "        pwskills1.mentor_mail_id([\"krish@gmail.com\",\"sudh@gmail.com\"])\n",
    "   \n",
    "    @classmethod\n",
    "    def class_name(cls , class_name):\n",
    "        cls.mentor_class([\"sudh\",'krish'])\n",
    "        \n",
    "    def mentor(self , mentor_list):\n",
    "        print(mentor_list)\n",
    "        self.mentor_class(['krish','sudh'])"
   ]
  },
  {
   "cell_type": "code",
   "execution_count": 16,
   "id": "6dc2730d-5fd7-4a4b-9ac3-8755e9ecd928",
   "metadata": {},
   "outputs": [],
   "source": [
    "pw1 = pwskills1()"
   ]
  },
  {
   "cell_type": "code",
   "execution_count": 17,
   "id": "b40cd1e9-53b2-4a8e-b4e2-dc16411e127d",
   "metadata": {},
   "outputs": [
    {
     "name": "stdout",
     "output_type": "stream",
     "text": [
      "mohan mohan@GMAIL.COM 7894561230\n"
     ]
    }
   ],
   "source": [
    "pw1.student_details('mohan','mohan@GMAIL.COM',7894561230)"
   ]
  },
  {
   "cell_type": "code",
   "execution_count": 18,
   "id": "9a71d684-db07-4428-8e0a-128dfb145d6f",
   "metadata": {},
   "outputs": [
    {
     "name": "stdout",
     "output_type": "stream",
     "text": [
      "['krish@gmail.com', 'sudh@gmail.com']\n"
     ]
    }
   ],
   "source": [
    "pw1.mentor_mail_id(['krish@gmail.com','sudh@gmail.com'])"
   ]
  },
  {
   "cell_type": "code",
   "execution_count": 19,
   "id": "e5880423-6cf1-439a-8996-698bcfc26bb7",
   "metadata": {},
   "outputs": [
    {
     "name": "stdout",
     "output_type": "stream",
     "text": [
      "['sudh', 'krish']\n",
      "['krish@gmail.com', 'sudh@gmail.com']\n"
     ]
    }
   ],
   "source": [
    "pw1.class_name('data science masters')"
   ]
  },
  {
   "cell_type": "code",
   "execution_count": 20,
   "id": "b4424029-acb1-4d11-a587-3644d8ddc0cb",
   "metadata": {},
   "outputs": [
    {
     "name": "stdout",
     "output_type": "stream",
     "text": [
      "['krish@gmail.com', 'sudh@gmail.com']\n"
     ]
    }
   ],
   "source": [
    "pwskills1.mentor_mail_id(['krish@gmail.com','sudh@gmail.com'])"
   ]
  },
  {
   "cell_type": "code",
   "execution_count": null,
   "id": "a6dbca6b-0a75-453a-9acf-95996b127ce3",
   "metadata": {},
   "outputs": [],
   "source": []
  },
  {
   "cell_type": "code",
   "execution_count": null,
   "id": "df69d5f0-4d82-43a7-875c-87d436952ea5",
   "metadata": {},
   "outputs": [],
   "source": []
  },
  {
   "cell_type": "markdown",
   "id": "96dfc798-723f-44ca-b396-eae4c7589493",
   "metadata": {},
   "source": [
    "class method can overload init() at anytime \n",
    "static method is reduce memory utilisation at any point of time"
   ]
  },
  {
   "cell_type": "code",
   "execution_count": null,
   "id": "0938c7e9-410b-4926-b8db-f4795efebe6b",
   "metadata": {},
   "outputs": [],
   "source": []
  }
 ],
 "metadata": {
  "kernelspec": {
   "display_name": "Python 3 (ipykernel)",
   "language": "python",
   "name": "python3"
  },
  "language_info": {
   "codemirror_mode": {
    "name": "ipython",
    "version": 3
   },
   "file_extension": ".py",
   "mimetype": "text/x-python",
   "name": "python",
   "nbconvert_exporter": "python",
   "pygments_lexer": "ipython3",
   "version": "3.10.8"
  }
 },
 "nbformat": 4,
 "nbformat_minor": 5
}
