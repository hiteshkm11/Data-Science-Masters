{
 "cells": [
  {
   "cell_type": "code",
   "execution_count": 7,
   "id": "412eb1fb-2f90-4c7f-8e45-8d7e8ba0d530",
   "metadata": {},
   "outputs": [
    {
     "name": "stdin",
     "output_type": "stream",
     "text": [
      "enter the price  2999\n"
     ]
    },
    {
     "name": "stdout",
     "output_type": "stream",
     "text": [
      "you will get an extra bag\n",
      "the price of the product is 2099.2999999999997:\n"
     ]
    }
   ],
   "source": [
    "## NESTED IF STATEMENT \n",
    "price=int(input(\"enter the price \"))\n",
    "if price >3000:\n",
    "    print(f\"the price of the product is{price*0.8}\")\n",
    "elif price >= 2000 and price <=3000:\n",
    "    if price==2999:\n",
    "        print(\"you will get an extra bag\")\n",
    "    print(\"the price of the product is {}:\".format(price*0.7))\n",
    "elif price >=1000 and price<=2000:\n",
    "    print(f\"the price of the product is :{price*0.6}\")\n",
    "else:\n",
    "    print(\"no discout\")"
   ]
  },
  {
   "cell_type": "code",
   "execution_count": 3,
   "id": "c131f503-b2fa-4f8f-9fb6-de059ca24280",
   "metadata": {},
   "outputs": [
    {
     "data": {
      "text/plain": [
       "True"
      ]
     },
     "execution_count": 3,
     "metadata": {},
     "output_type": "execute_result"
    }
   ],
   "source": [
    "# comparision operator \n",
    "True == True"
   ]
  },
  {
   "cell_type": "code",
   "execution_count": 4,
   "id": "81cdd494-08f6-45f4-9e6e-68b13165c947",
   "metadata": {},
   "outputs": [],
   "source": [
    "# SINGLE STATEMENT suites"
   ]
  },
  {
   "cell_type": "code",
   "execution_count": 6,
   "id": "5fdabbed-2808-494e-b95c-c71b8bff35c9",
   "metadata": {},
   "outputs": [
    {
     "name": "stdin",
     "output_type": "stream",
     "text": [
      "enter the value: 1000\n"
     ]
    },
    {
     "name": "stdout",
     "output_type": "stream",
     "text": [
      "go home\n"
     ]
    }
   ],
   "source": [
    "val = int(input(\"enter the value:\"))\n",
    "if val <= 999: print(\"value is less than equal to 999\")\n",
    "else:\n",
    "    print(\"go home\")"
   ]
  },
  {
   "cell_type": "markdown",
   "id": "16f996df-09f4-4616-95c1-4450010fec25",
   "metadata": {},
   "source": [
    "## LOOP STATEMENTS"
   ]
  },
  {
   "cell_type": "markdown",
   "id": "6130ee5d-f3d7-4c08-bf14-ac5d0f335976",
   "metadata": {},
   "source": [
    "1. while loop \n",
    "2. for loop\n",
    "3. Loop control (break, continue, pass)"
   ]
  },
  {
   "cell_type": "code",
   "execution_count": 14,
   "id": "b30e0e89-e44c-4734-a2ea-32c011b6433a",
   "metadata": {},
   "outputs": [
    {
     "name": "stdout",
     "output_type": "stream",
     "text": [
      "26\n",
      "27\n",
      "28\n",
      "29\n",
      "30\n",
      "31\n",
      "32\n",
      "33\n",
      "34\n",
      "35\n",
      "36\n",
      "37\n",
      "38\n",
      "39\n",
      "40\n",
      "41\n",
      "42\n",
      "43\n",
      "44\n",
      "45\n",
      "46\n",
      "47\n",
      "48\n",
      "49\n",
      "50\n",
      "51\n",
      "52\n",
      "53\n",
      "54\n",
      "55\n",
      "56\n",
      "57\n",
      "58\n",
      "59\n",
      "60\n",
      "61\n",
      "its time for retirement\n"
     ]
    }
   ],
   "source": [
    "# WHILE LOOP\n",
    "joining_age=25\n",
    "while joining_age<=60:\n",
    "    joining_age = joining_age + 1\n",
    "    print(joining_age)\n",
    "else:\n",
    "    print(\"its time for retirement\")"
   ]
  },
  {
   "cell_type": "code",
   "execution_count": 15,
   "id": "c04c3c89-6342-4c38-98a2-e06734e3c864",
   "metadata": {},
   "outputs": [
    {
     "name": "stdout",
     "output_type": "stream",
     "text": [
      "1000\n",
      "900\n",
      "800\n",
      "700\n",
      "600\n",
      "500\n",
      "400\n",
      "300\n",
      "200\n",
      "100\n",
      "put more money bank people\n"
     ]
    }
   ],
   "source": [
    "## task1\n",
    "### consider there is an atm machine with 1000 rs\n",
    "\n",
    "total_amt=1000\n",
    "while total_amt!=0:\n",
    "    print(total_amt)\n",
    "    total_amt=total_amt-100\n",
    "else:\n",
    "    print(\"put more money bank people\")\n",
    "    "
   ]
  },
  {
   "cell_type": "code",
   "execution_count": 17,
   "id": "64ee9b85-0b29-4e6d-9970-f52e3e591bd7",
   "metadata": {},
   "outputs": [],
   "source": [
    "###"
   ]
  },
  {
   "cell_type": "markdown",
   "id": "0cb4167e-bc0f-45e1-8677-00901f557d06",
   "metadata": {},
   "source": [
    "## FOR LOOP"
   ]
  },
  {
   "cell_type": "code",
   "execution_count": 18,
   "id": "85bbcb62-90f3-4bdf-a6fc-d559b4266576",
   "metadata": {},
   "outputs": [],
   "source": [
    "lst=['hitesh',1,2,3,4,\"apple\",\"banana\"] ## list of elements"
   ]
  },
  {
   "cell_type": "code",
   "execution_count": 19,
   "id": "666de028-bd5e-4429-a5b9-89ad1bfe78ed",
   "metadata": {},
   "outputs": [
    {
     "data": {
      "text/plain": [
       "list"
      ]
     },
     "execution_count": 19,
     "metadata": {},
     "output_type": "execute_result"
    }
   ],
   "source": [
    "type(lst)"
   ]
  },
  {
   "cell_type": "code",
   "execution_count": 20,
   "id": "ac81494b-3e36-4743-8f23-ceff750e417a",
   "metadata": {},
   "outputs": [
    {
     "data": {
      "text/plain": [
       "'hitesh'"
      ]
     },
     "execution_count": 20,
     "metadata": {},
     "output_type": "execute_result"
    }
   ],
   "source": [
    "lst[0]"
   ]
  },
  {
   "cell_type": "code",
   "execution_count": 22,
   "id": "dff61e26-83eb-4ea0-a571-4a9867d2c755",
   "metadata": {},
   "outputs": [
    {
     "data": {
      "text/plain": [
       "'apple'"
      ]
     },
     "execution_count": 22,
     "metadata": {},
     "output_type": "execute_result"
    }
   ],
   "source": [
    "lst[5]"
   ]
  },
  {
   "cell_type": "code",
   "execution_count": 23,
   "id": "d9cfa6a5-532e-4c48-88c6-083c9a2b88e8",
   "metadata": {},
   "outputs": [
    {
     "name": "stdout",
     "output_type": "stream",
     "text": [
      "hitesh\n",
      "1\n",
      "2\n",
      "3\n",
      "4\n",
      "apple\n",
      "banana\n"
     ]
    }
   ],
   "source": [
    "for x in lst:\n",
    "    print(x) ### it will just iterate collection of list"
   ]
  },
  {
   "cell_type": "code",
   "execution_count": 24,
   "id": "197c623b-6855-4ef3-a1fe-03a06ad977df",
   "metadata": {},
   "outputs": [],
   "source": [
    "#EX 2\n",
    "fruit_list = ['apple','banana','cherry','dragon fruit','grapes','mango']\n"
   ]
  },
  {
   "cell_type": "code",
   "execution_count": 26,
   "id": "3b924998-9aca-4640-a5a6-deb7d24f12d1",
   "metadata": {},
   "outputs": [
    {
     "name": "stdout",
     "output_type": "stream",
     "text": [
      "apple\n",
      "banana\n",
      "cherry\n",
      "The fruit is cherry\n"
     ]
    }
   ],
   "source": [
    "for a in fruit_list:\n",
    "    print(a)\n",
    "    if a==\"cherry\":\n",
    "        print(\"The fruit is cherry\")\n",
    "        break"
   ]
  },
  {
   "cell_type": "markdown",
   "id": "80bb2c9f-8255-4788-becc-4e23fb587b6a",
   "metadata": {},
   "source": [
    "for ;loop is just iterate through the elements in the list"
   ]
  },
  {
   "cell_type": "code",
   "execution_count": 27,
   "id": "1b9d4335-cb89-4bc9-8bc5-56d8bdcf21cc",
   "metadata": {},
   "outputs": [
    {
     "name": "stdout",
     "output_type": "stream",
     "text": [
      "m\n",
      "a\n",
      "n\n",
      "g\n",
      "o\n"
     ]
    }
   ],
   "source": [
    "fruit='mango'\n",
    "for x in fruit:   ### STRING IS ALSO A COLLECTION OF ELEMENTS WE CAN INDEXING THE STRING\n",
    "    print(x)  ## it is printing line by line because print has end \\n"
   ]
  },
  {
   "cell_type": "code",
   "execution_count": 28,
   "id": "37d03ba6-4291-4d0b-a9b5-fc1ece53655b",
   "metadata": {},
   "outputs": [
    {
     "data": {
      "text/plain": [
       "'n'"
      ]
     },
     "execution_count": 28,
     "metadata": {},
     "output_type": "execute_result"
    }
   ],
   "source": [
    "fruit[2]"
   ]
  },
  {
   "cell_type": "code",
   "execution_count": 29,
   "id": "509abd8b-7b68-4e6b-98c5-61efa7acbc8f",
   "metadata": {},
   "outputs": [
    {
     "data": {
      "text/plain": [
       "'m'"
      ]
     },
     "execution_count": 29,
     "metadata": {},
     "output_type": "execute_result"
    }
   ],
   "source": [
    "fruit[0]"
   ]
  },
  {
   "cell_type": "code",
   "execution_count": 31,
   "id": "675f5fa7-7060-49fd-bbd5-f070f25354d2",
   "metadata": {},
   "outputs": [
    {
     "name": "stdout",
     "output_type": "stream",
     "text": [
      "mango"
     ]
    }
   ],
   "source": [
    "fruit='mango'\n",
    "for x in fruit: \n",
    "    print(x,end='') "
   ]
  },
  {
   "cell_type": "code",
   "execution_count": 32,
   "id": "1c5f1159-75e9-4886-bb1e-6a62bfa730a4",
   "metadata": {},
   "outputs": [],
   "source": [
    "## NESTED LOOPS\n",
    "n=7\n",
    "\n",
    "\n",
    "\n"
   ]
  },
  {
   "cell_type": "code",
   "execution_count": 35,
   "id": "ceec8266-64ed-4396-b2d2-2a2496ebdcad",
   "metadata": {},
   "outputs": [
    {
     "data": {
      "text/plain": [
       "range(1, 6)"
      ]
     },
     "execution_count": 35,
     "metadata": {},
     "output_type": "execute_result"
    }
   ],
   "source": [
    "range(1,6)"
   ]
  },
  {
   "cell_type": "code",
   "execution_count": 36,
   "id": "17e701bb-6f81-4caf-8cad-9cb46a019877",
   "metadata": {},
   "outputs": [
    {
     "name": "stdout",
     "output_type": "stream",
     "text": [
      "1\n",
      "2\n",
      "3\n",
      "4\n",
      "5\n",
      "6\n",
      "7\n",
      "8\n"
     ]
    }
   ],
   "source": [
    "for i in range(1,9):\n",
    "    print(i)\n"
   ]
  },
  {
   "cell_type": "code",
   "execution_count": 38,
   "id": "6839cd84-d5ad-4024-9ce7-41364bc2abe8",
   "metadata": {},
   "outputs": [
    {
     "name": "stdout",
     "output_type": "stream",
     "text": [
      "2\n",
      "4\n",
      "6\n",
      "8\n",
      "10\n",
      "12\n",
      "14\n",
      "16\n",
      "18\n",
      "20\n"
     ]
    }
   ],
   "source": [
    "### printing 2 table \n",
    "for i in range(2,22,2):\n",
    "    print(i)"
   ]
  },
  {
   "cell_type": "code",
   "execution_count": 39,
   "id": "a229bba9-9863-47d2-bd5d-01e6cb2f5a79",
   "metadata": {},
   "outputs": [
    {
     "name": "stdout",
     "output_type": "stream",
     "text": [
      "5\n",
      "10\n",
      "15\n",
      "20\n",
      "25\n",
      "30\n",
      "35\n",
      "40\n",
      "45\n",
      "50\n"
     ]
    }
   ],
   "source": [
    "## PRINTING 5 TABLE \n",
    "for i in range(5,55,5):\n",
    "    print(i)"
   ]
  },
  {
   "cell_type": "code",
   "execution_count": 48,
   "id": "03c187fc-6aae-4b0f-8719-be8b36e67012",
   "metadata": {},
   "outputs": [
    {
     "name": "stdout",
     "output_type": "stream",
     "text": [
      "*\n",
      "**\n",
      "***\n",
      "****\n",
      "*****\n",
      "******\n",
      "*******\n"
     ]
    }
   ],
   "source": [
    "## nested loop\n",
    "n=7\n",
    "\n",
    "\n",
    "for i in range(0,n):\n",
    "    for j in range(0,i+1):\n",
    "        print(\"*\",end=\"\")\n",
    "    print(\"\\r\")\n",
    "        "
   ]
  },
  {
   "cell_type": "code",
   "execution_count": 47,
   "id": "3a6df9fb-f0e8-4c8e-9e11-3a8f7d4dd73b",
   "metadata": {},
   "outputs": [
    {
     "name": "stdout",
     "output_type": "stream",
     "text": [
      "*\n",
      "\n",
      "*\n",
      "*\n",
      "\n",
      "*\n",
      "*\n",
      "*\n",
      "\n",
      "*\n",
      "*\n",
      "*\n",
      "*\n",
      "\n",
      "*\n",
      "*\n",
      "*\n",
      "*\n",
      "*\n",
      "\n",
      "*\n",
      "*\n",
      "*\n",
      "*\n",
      "*\n",
      "*\n",
      "\n",
      "*\n",
      "*\n",
      "*\n",
      "*\n",
      "*\n",
      "*\n",
      "*\n",
      "\n"
     ]
    }
   ],
   "source": [
    "## nested loop\n",
    "n=7\n",
    "\n",
    "\n",
    "for i in range(0,n):\n",
    "    for j in range(0,i+1):\n",
    "        print(\"*\")\n",
    "    print(\"\\r\")\n",
    "        "
   ]
  },
  {
   "cell_type": "code",
   "execution_count": 49,
   "id": "1efa299e-ff84-411e-a1a8-0c8ca6cdbbfc",
   "metadata": {},
   "outputs": [
    {
     "name": "stdout",
     "output_type": "stream",
     "text": [
      "#\n",
      "##\n",
      "###\n",
      "####\n",
      "#####\n",
      "######\n",
      "#######\n"
     ]
    }
   ],
   "source": [
    "for i in range(0,n):\n",
    "    for j in range(0,i+1):\n",
    "        print(\"#\",end=\"\")\n",
    "    print(\"\\r\")"
   ]
  },
  {
   "cell_type": "code",
   "execution_count": null,
   "id": "2ee69eb0-81b9-42b4-adf0-dc07d4297fbd",
   "metadata": {},
   "outputs": [],
   "source": [
    "### if i want to print like euilateral trianle"
   ]
  },
  {
   "cell_type": "markdown",
   "id": "a6f5add2-cf31-48c6-9b01-3652713a6623",
   "metadata": {},
   "source": [
    "\n",
    "### break and continue\n",
    "\n"
   ]
  },
  {
   "cell_type": "code",
   "execution_count": 59,
   "id": "b93e7208-98ca-45a2-94d8-615b3091f6e9",
   "metadata": {},
   "outputs": [],
   "source": [
    "\n",
    "fruit_list = ['apple','banana','cherry','dragon fruit','grapes','mango']\n"
   ]
  },
  {
   "cell_type": "code",
   "execution_count": 60,
   "id": "c29d3b7a-7c87-43fb-9e5c-23373b67cc36",
   "metadata": {},
   "outputs": [
    {
     "data": {
      "text/plain": [
       "['apple', 'banana', 'cherry', 'dragon fruit', 'grapes', 'mango']"
      ]
     },
     "execution_count": 60,
     "metadata": {},
     "output_type": "execute_result"
    }
   ],
   "source": [
    "fruit_list"
   ]
  },
  {
   "cell_type": "code",
   "execution_count": 61,
   "id": "9e5f083e-3326-4903-a56c-e0676de9143a",
   "metadata": {},
   "outputs": [
    {
     "name": "stdout",
     "output_type": "stream",
     "text": [
      "apple\n",
      "banana\n",
      "cherry\n",
      "dragon fruit\n",
      "grapes\n",
      "mango\n"
     ]
    }
   ],
   "source": [
    "for i in fruit_list:\n",
    "    print(i)"
   ]
  },
  {
   "cell_type": "markdown",
   "id": "006375bb-2b95-4d21-9528-191939dcf98c",
   "metadata": {},
   "source": [
    "### break    break will stop the loop"
   ]
  },
  {
   "cell_type": "code",
   "execution_count": 65,
   "id": "8aad63e5-b43f-47fc-ac5e-8127a0a59a57",
   "metadata": {},
   "outputs": [
    {
     "name": "stdout",
     "output_type": "stream",
     "text": [
      "apple\n",
      "banana\n",
      "cherry\n",
      "dragon fruit\n",
      "the fruit is grapes\n"
     ]
    }
   ],
   "source": [
    "for i in fruit_list:\n",
    "    if i=='grapes':\n",
    "        print('the fruit is grapes')\n",
    "        break\n",
    "    print(i)"
   ]
  },
  {
   "cell_type": "code",
   "execution_count": 66,
   "id": "4e7086f6-7ed8-4399-bcee-4f748a70006a",
   "metadata": {},
   "outputs": [],
   "source": [
    "#\n",
    "\n"
   ]
  },
  {
   "cell_type": "markdown",
   "id": "d45041e3-bb97-4389-b274-1c39d764cd40",
   "metadata": {},
   "source": [
    "### continue\n",
    "continue will skip the loop"
   ]
  },
  {
   "cell_type": "code",
   "execution_count": 71,
   "id": "71da4424-b374-4be1-8dcf-9bb64ecaae4d",
   "metadata": {},
   "outputs": [
    {
     "name": "stdout",
     "output_type": "stream",
     "text": [
      "apple\n",
      "banana\n",
      "cherry\n",
      "dragon fruit\n",
      "the fruit is grapes\n",
      "mango\n"
     ]
    }
   ],
   "source": [
    "for i in fruit_list:\n",
    "    if i=='grapes':\n",
    "        print('the fruit is grapes')\n",
    "        continue\n",
    "    print(i)"
   ]
  },
  {
   "cell_type": "code",
   "execution_count": 72,
   "id": "63389227-ec7c-49d5-9975-46715a4a239a",
   "metadata": {},
   "outputs": [],
   "source": [
    "#\n"
   ]
  },
  {
   "cell_type": "markdown",
   "id": "d346f5b6-d043-4cfd-95d1-0cb267f91a09",
   "metadata": {},
   "source": [
    "### pass\n",
    "pass will not do anythig"
   ]
  },
  {
   "cell_type": "code",
   "execution_count": 73,
   "id": "a498f5eb-32e1-43c6-a540-ecbd9764bc7b",
   "metadata": {},
   "outputs": [
    {
     "name": "stdout",
     "output_type": "stream",
     "text": [
      "apple\n",
      "banana\n",
      "cherry\n",
      "dragon fruit\n",
      "the fruit is grapes\n",
      "grapes\n",
      "mango\n"
     ]
    }
   ],
   "source": [
    "for i in fruit_list:\n",
    "    if i=='grapes':\n",
    "        print('the fruit is grapes')\n",
    "        pass\n",
    "    print(i)"
   ]
  },
  {
   "cell_type": "code",
   "execution_count": null,
   "id": "bc10167a-2d8e-4016-8529-c85ad18462a9",
   "metadata": {},
   "outputs": [],
   "source": []
  }
 ],
 "metadata": {
  "kernelspec": {
   "display_name": "Python 3 (ipykernel)",
   "language": "python",
   "name": "python3"
  },
  "language_info": {
   "codemirror_mode": {
    "name": "ipython",
    "version": 3
   },
   "file_extension": ".py",
   "mimetype": "text/x-python",
   "name": "python",
   "nbconvert_exporter": "python",
   "pygments_lexer": "ipython3",
   "version": "3.10.8"
  }
 },
 "nbformat": 4,
 "nbformat_minor": 5
}
