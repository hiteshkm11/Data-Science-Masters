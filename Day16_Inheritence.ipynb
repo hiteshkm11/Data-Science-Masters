{
 "cells": [
  {
   "cell_type": "markdown",
   "id": "734ed30b-a757-4c25-87b3-d733538702d3",
   "metadata": {},
   "source": [
    "# Inheritence"
   ]
  },
  {
   "cell_type": "code",
   "execution_count": 1,
   "id": "51318421-2169-41ae-b1a0-8b61e4ce5e53",
   "metadata": {},
   "outputs": [],
   "source": [
    "class parent :\n",
    "    \n",
    "    def test_parent(self):\n",
    "        print('this is my parent class')"
   ]
  },
  {
   "cell_type": "code",
   "execution_count": 2,
   "id": "71bb7aba-3517-41f8-8fcf-e122d72d3c03",
   "metadata": {},
   "outputs": [],
   "source": [
    "class child(parent) :\n",
    "    pass"
   ]
  },
  {
   "cell_type": "code",
   "execution_count": 3,
   "id": "cf6d8dd8-c656-44dc-bcb8-304f3c4b614b",
   "metadata": {},
   "outputs": [],
   "source": [
    "child_obj = child()"
   ]
  },
  {
   "cell_type": "code",
   "execution_count": 5,
   "id": "4c76a14d-7faa-423d-b3a9-9b8718034060",
   "metadata": {},
   "outputs": [
    {
     "name": "stdout",
     "output_type": "stream",
     "text": [
      "this is my parent class\n"
     ]
    }
   ],
   "source": [
    "child_obj.test_parent()"
   ]
  },
  {
   "cell_type": "markdown",
   "id": "75effed2-4e95-4e7d-b97b-cff6e85048ae",
   "metadata": {},
   "source": [
    "  # multilabel inheritence"
   ]
  },
  {
   "cell_type": "code",
   "execution_count": 7,
   "id": "095856d8-9bfb-472f-8482-b1fbdb682b03",
   "metadata": {},
   "outputs": [],
   "source": [
    "class class1 :\n",
    "    def test_class1(self) :\n",
    "        print('this is my class1')"
   ]
  },
  {
   "cell_type": "code",
   "execution_count": 8,
   "id": "18924235-fa9e-4cb6-8350-14f1587c5253",
   "metadata": {},
   "outputs": [],
   "source": [
    "class class2(class1) :\n",
    "    def test_class2(self) :\n",
    "        print('this is my class2')\n",
    "    "
   ]
  },
  {
   "cell_type": "code",
   "execution_count": 9,
   "id": "f80e47c1-0b3b-4816-ad8a-53ff865845ef",
   "metadata": {},
   "outputs": [],
   "source": [
    "class class3(class2) :\n",
    "    def test_class3(self):\n",
    "        print('this is my class3')"
   ]
  },
  {
   "cell_type": "code",
   "execution_count": 10,
   "id": "6b8a1612-c43f-4fb2-bfe3-f1b48d9b9e22",
   "metadata": {},
   "outputs": [],
   "source": [
    "obj_class3 = class3()"
   ]
  },
  {
   "cell_type": "code",
   "execution_count": 11,
   "id": "2ede5534-71ae-41a6-acd4-db347c3f715f",
   "metadata": {},
   "outputs": [
    {
     "name": "stdout",
     "output_type": "stream",
     "text": [
      "this is my class1\n"
     ]
    }
   ],
   "source": [
    "obj_class3.test_class1()"
   ]
  },
  {
   "cell_type": "code",
   "execution_count": 12,
   "id": "36e267a7-51a4-4ded-b2a2-ca8384978a65",
   "metadata": {},
   "outputs": [
    {
     "name": "stdout",
     "output_type": "stream",
     "text": [
      "this is my class2\n"
     ]
    }
   ],
   "source": [
    "obj_class3.test_class2()"
   ]
  },
  {
   "cell_type": "code",
   "execution_count": 13,
   "id": "bf9883ee-f166-44f0-864a-f2fdb06a45fb",
   "metadata": {},
   "outputs": [
    {
     "name": "stdout",
     "output_type": "stream",
     "text": [
      "this is my class3\n"
     ]
    }
   ],
   "source": [
    "obj_class3.test_class3()"
   ]
  },
  {
   "cell_type": "code",
   "execution_count": null,
   "id": "d49025e7-b2d4-4643-b4ab-7f220809448c",
   "metadata": {},
   "outputs": [],
   "source": []
  },
  {
   "cell_type": "markdown",
   "id": "9689bff3-da23-4150-9d35-3a92fdbfa994",
   "metadata": {},
   "source": [
    "# Multiple inheritence"
   ]
  },
  {
   "cell_type": "code",
   "execution_count": 14,
   "id": "f92c982a-4cf1-4aaa-afa4-861adc942049",
   "metadata": {},
   "outputs": [],
   "source": [
    "class class1:\n",
    "    def test_class1(self):\n",
    "        print('this is my class1')"
   ]
  },
  {
   "cell_type": "code",
   "execution_count": 15,
   "id": "967a959c-87c7-4bcb-a249-ba1616c2a3ef",
   "metadata": {},
   "outputs": [],
   "source": [
    "class class2 :\n",
    "    def test_class2(self):\n",
    "        print('this is my class2')"
   ]
  },
  {
   "cell_type": "code",
   "execution_count": 16,
   "id": "68034647-89ea-4918-9839-f05f906616a5",
   "metadata": {},
   "outputs": [],
   "source": [
    "class class3(class1 , class2):\n",
    "    pass"
   ]
  },
  {
   "cell_type": "code",
   "execution_count": 17,
   "id": "0bb63a8c-f47f-49bb-8729-2161ca37c1e4",
   "metadata": {},
   "outputs": [],
   "source": [
    "obj_class3 = class3()"
   ]
  },
  {
   "cell_type": "code",
   "execution_count": 18,
   "id": "3e4ec62a-7dbf-4924-9434-f96c7ea3d8e9",
   "metadata": {},
   "outputs": [
    {
     "name": "stdout",
     "output_type": "stream",
     "text": [
      "this is my class1\n"
     ]
    }
   ],
   "source": [
    "obj_class3.test_class1()"
   ]
  },
  {
   "cell_type": "code",
   "execution_count": 19,
   "id": "6aa9a685-3acf-4a61-b5fa-b2de2cc3f99d",
   "metadata": {},
   "outputs": [
    {
     "name": "stdout",
     "output_type": "stream",
     "text": [
      "this is my class2\n"
     ]
    }
   ],
   "source": [
    "obj_class3.test_class2()"
   ]
  },
  {
   "cell_type": "code",
   "execution_count": null,
   "id": "c695e7ee-6344-461e-a701-f0ae951074f9",
   "metadata": {},
   "outputs": [],
   "source": []
  }
 ],
 "metadata": {
  "kernelspec": {
   "display_name": "Python 3 (ipykernel)",
   "language": "python",
   "name": "python3"
  },
  "language_info": {
   "codemirror_mode": {
    "name": "ipython",
    "version": 3
   },
   "file_extension": ".py",
   "mimetype": "text/x-python",
   "name": "python",
   "nbconvert_exporter": "python",
   "pygments_lexer": "ipython3",
   "version": "3.10.8"
  }
 },
 "nbformat": 4,
 "nbformat_minor": 5
}
