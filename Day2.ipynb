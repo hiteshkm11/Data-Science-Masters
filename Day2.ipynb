{
 "cells": [
  {
   "cell_type": "code",
   "execution_count": 1,
   "id": "c1552b13-b19e-4f51-a5aa-4e7b87448d79",
   "metadata": {},
   "outputs": [
    {
     "name": "stdout",
     "output_type": "stream",
     "text": [
      "Hello World\n"
     ]
    }
   ],
   "source": [
    "print(\"Hello World\")"
   ]
  },
  {
   "cell_type": "code",
   "execution_count": 3,
   "id": "6aef9c6c-c2fb-4e63-800e-af7cecc22a11",
   "metadata": {},
   "outputs": [
    {
     "name": "stdout",
     "output_type": "stream",
     "text": [
      "My age is : 27\n"
     ]
    }
   ],
   "source": [
    "age=27\n",
    "print(\"My age is :\",age)"
   ]
  },
  {
   "cell_type": "code",
   "execution_count": 6,
   "id": "effbb727-884b-4001-8d86-32853dbd0b5d",
   "metadata": {},
   "outputs": [
    {
     "name": "stdout",
     "output_type": "stream",
     "text": [
      "My age is: 27 \n"
     ]
    }
   ],
   "source": [
    "print(f\"My age is: {age} \")# f string in python"
   ]
  },
  {
   "cell_type": "code",
   "execution_count": 8,
   "id": "79790c41-ef4e-4fd4-830a-32f713235ca2",
   "metadata": {},
   "outputs": [
    {
     "name": "stdout",
     "output_type": "stream",
     "text": [
      "My name is Hitesh and age is 28\n"
     ]
    }
   ],
   "source": [
    "## .format()\n",
    "name=\"Hitesh\"\n",
    "age=28\n",
    "print(\"My name is {} and age is {}\".format(name,age))\n"
   ]
  },
  {
   "cell_type": "code",
   "execution_count": 10,
   "id": "4eac8451-1e33-445f-af84-e5a35e967dfe",
   "metadata": {},
   "outputs": [
    {
     "name": "stdout",
     "output_type": "stream",
     "text": [
      "My name is Hitesh and age is 28\n"
     ]
    }
   ],
   "source": [
    "## placeholder\n",
    "print(\"My name is {firstname} and age is {firstage}\".format(firstname=name,firstage=age))"
   ]
  },
  {
   "cell_type": "code",
   "execution_count": 11,
   "id": "45e61ffc-0c56-404d-8951-8524a1fe1491",
   "metadata": {},
   "outputs": [
    {
     "name": "stdout",
     "output_type": "stream",
     "text": [
      "my name is Hitesh Kumar and my age is27 and i completed my MSc\n"
     ]
    }
   ],
   "source": [
    "name=\"Hitesh Kumar\"\n",
    "age=27\n",
    "degree=\"MSc\"\n",
    "print(\"my name is {} and my age is{} and i completed my {}\".format(name,age,degree))"
   ]
  },
  {
   "cell_type": "code",
   "execution_count": 12,
   "id": "7639ba35-43e3-4265-a606-423ec736af64",
   "metadata": {},
   "outputs": [
    {
     "name": "stdout",
     "output_type": "stream",
     "text": [
      "my name is:Hitesh Kumar, my age is :27, i completed :MSc\n"
     ]
    }
   ],
   "source": [
    "name=\"Hitesh Kumar\"\n",
    "age=27\n",
    "degree=\"MSc\"\n",
    "print(f\"my name is:{name}, my age is :{age}, i completed :{degree}\")"
   ]
  },
  {
   "cell_type": "markdown",
   "id": "1fd7d1dc-9584-4991-86e6-17a83cc6fbb0",
   "metadata": {},
   "source": [
    "## CONTROL FLOW\n",
    "### DECISION MAKING STATEMENTS"
   ]
  },
  {
   "cell_type": "markdown",
   "id": "89f78e29-3d43-414a-a56f-d2677b99bed6",
   "metadata": {},
   "source": [
    "* It is kind of making decision during occurred situation of program execution and action can be taken according to specified condition.\n",
    "    * structure of decision making evaluate several expressions that provide True or False as a result.\n",
    "    * it is up to you to decide which type of acion want to take and execute the statements  based up on True of False.\n",
    "    \n",
    "**These are several topica of decision making which going to be descussed:\n",
    "   1. if\n",
    "   2. if else\n",
    "   3. if elif else \n",
    "   4. nested if \n",
    "   5. single statement suites\n",
    "   "
   ]
  },
  {
   "cell_type": "code",
   "execution_count": 9,
   "id": "ae34790d-5325-4c58-8e86-202325e6bc6f",
   "metadata": {},
   "outputs": [
    {
     "name": "stdout",
     "output_type": "stream",
     "text": [
      "you are eligible to vote\n"
     ]
    }
   ],
   "source": [
    "## if statement\n",
    "age = 18\n",
    "if age>=18 :\n",
    "    print(\"you are eligible to vote\")"
   ]
  },
  {
   "cell_type": "code",
   "execution_count": 11,
   "id": "2b4b59b1-76f3-44e2-bf16-06bb1e662a7b",
   "metadata": {},
   "outputs": [],
   "source": [
    "if age < 18 :\n",
    "    print(\"not eligible to vote\") ## no output because it wiont go to if sstatement"
   ]
  },
  {
   "cell_type": "code",
   "execution_count": 12,
   "id": "4380c714-26ee-45c2-a3de-4d3a3f399db4",
   "metadata": {},
   "outputs": [
    {
     "name": "stdout",
     "output_type": "stream",
     "text": [
      "not eligible to vote\n"
     ]
    }
   ],
   "source": [
    "age = 17\n",
    "if age < 18 :\n",
    "    print(\"not eligible to vote\") "
   ]
  },
  {
   "cell_type": "markdown",
   "id": "ad7445db-7a36-44a9-aadb-ebd67f25b941",
   "metadata": {},
   "source": [
    "if we use direct input() this will take as a string type data so we need to write int infront of inpt whenever we need to give int values "
   ]
  },
  {
   "cell_type": "code",
   "execution_count": 14,
   "id": "4d367fca-0fa6-44b0-8764-14f824ca7352",
   "metadata": {},
   "outputs": [
    {
     "name": "stdin",
     "output_type": "stream",
     "text": [
      "Enter your age 19\n"
     ]
    },
    {
     "name": "stdout",
     "output_type": "stream",
     "text": [
      "eligible\n"
     ]
    }
   ],
   "source": [
    "age = int(input(\"Enter your age\")) ## using input statement to give a value of a variable \n",
    "if age>=18:\n",
    "    print(\"eligible\") #### this is typecasting"
   ]
  },
  {
   "cell_type": "code",
   "execution_count": 15,
   "id": "da32b8d8-484a-44b2-9f7e-7c3d738a68cc",
   "metadata": {},
   "outputs": [
    {
     "name": "stdin",
     "output_type": "stream",
     "text": [
      "Enter your age : 42\n"
     ]
    },
    {
     "name": "stdout",
     "output_type": "stream",
     "text": [
      "you are a young blood\n"
     ]
    }
   ],
   "source": [
    "# TASK 1\n",
    "## TAKE A INPUT OF AGE \n",
    "## CHECK WHETHER AGE>18 AND AGE<=45\n",
    "## DISPLAY A MESSEGE YOU ARE A YOUNG BLOOD\n",
    "age = int(input(\"Enter your age :\"))\n",
    "if age >=18 and age<=45:\n",
    "    print(\"you are a young blood\")"
   ]
  },
  {
   "cell_type": "code",
   "execution_count": 16,
   "id": "85621a7b-4703-4452-9417-9e554ac15439",
   "metadata": {},
   "outputs": [
    {
     "data": {
      "text/plain": [
       "False"
      ]
     },
     "execution_count": 16,
     "metadata": {},
     "output_type": "execute_result"
    }
   ],
   "source": [
    "True and False"
   ]
  },
  {
   "cell_type": "code",
   "execution_count": 19,
   "id": "bdf7ecbb-f5cd-4ddb-9b45-2e1f6066a2da",
   "metadata": {},
   "outputs": [
    {
     "data": {
      "text/plain": [
       "True"
      ]
     },
     "execution_count": 19,
     "metadata": {},
     "output_type": "execute_result"
    }
   ],
   "source": [
    "42>=18 and 42<=45"
   ]
  },
  {
   "cell_type": "code",
   "execution_count": 21,
   "id": "7c317930-dbdd-4f4e-9aa6-b4a6359acdee",
   "metadata": {},
   "outputs": [
    {
     "name": "stdin",
     "output_type": "stream",
     "text": [
      "Enter your age : 54\n"
     ]
    },
    {
     "name": "stdout",
     "output_type": "stream",
     "text": [
      "Thank you we will let you know\n"
     ]
    }
   ],
   "source": [
    "## if else statement \n",
    "age = int(input(\"Enter your age :\"))\n",
    "if age >=18 and age<=45:\n",
    "    print(\"you are a young blood\")\n",
    "else:\n",
    "    print(\"Thank you we will let you know\")"
   ]
  },
  {
   "cell_type": "code",
   "execution_count": 32,
   "id": "b61adbcc-ea15-436a-a1e2-d13bfb07aa6b",
   "metadata": {},
   "outputs": [
    {
     "name": "stdin",
     "output_type": "stream",
     "text": [
      "enter the price: 5000\n"
     ]
    },
    {
     "name": "stdout",
     "output_type": "stream",
     "text": [
      "the price of the product is4000.0\n"
     ]
    }
   ],
   "source": [
    "## TASK 2\n",
    "##PRODUCT >1000 RS 20% OFF\n",
    "##PRODTCT <=1000 RS 30% OFF\n",
    "## print the product price after discount\n",
    "\n",
    "product_price=int(input(\"enter the price:\"))\n",
    "if product_price >1000:\n",
    "    print(f\"the price of the product is{product_price*0.8}\") ### f string\n",
    "else:\n",
    "    print(\"the price of the product is {}:\".format(product_price*0.7)) ### .format()\n"
   ]
  },
  {
   "cell_type": "code",
   "execution_count": 31,
   "id": "1fa49739-a7fa-4fb3-9f3c-5fdaa19f830a",
   "metadata": {},
   "outputs": [
    {
     "data": {
      "text/plain": [
       "1000.0"
      ]
     },
     "execution_count": 31,
     "metadata": {},
     "output_type": "execute_result"
    }
   ],
   "source": [
    "(20/100)*5000"
   ]
  },
  {
   "cell_type": "code",
   "execution_count": 33,
   "id": "6cc5a25c-495d-4971-a684-cc366f31e257",
   "metadata": {},
   "outputs": [],
   "source": [
    "# TASK3\n",
    "## MALL -INPUT PRODUCT PRICE \n",
    "## PRODTCT>3000 --- 20% OFF\n",
    "## PRINT THE PRODTCT PROCE AFTER REMOVING THE DISCOUNT \n",
    "## PRODUCT >=2000 RS AND <= 3000 --- 30% OFF\n",
    "## PRINT THE PRICE AFTER DISCOUNT \n",
    "## PRODUCT <=1000 AND <=2000 ---40% OFF\n",
    "## PRINT THE PRICE AFTER DISCOUNT\n"
   ]
  },
  {
   "cell_type": "code",
   "execution_count": null,
   "id": "9bb11f9e-205a-413d-8963-19504e08b2d4",
   "metadata": {},
   "outputs": [],
   "source": [
    "price=int(input(\"enter the price \"))\n",
    "if price >3000:\n",
    "    print(f\"the price of the product is{price*0.8}\")\n",
    "elif price >= 2000 and price <=3000:\n",
    "    print(\"the price of the product is {}:\".format(price*0.7))\n",
    "elif price >=1000 and price<=2000:\n",
    "    print(f\"the price of the product is :{price*0.6}\")\n",
    "else:\n",
    "    print(\"no discout\")"
   ]
  },
  {
   "cell_type": "code",
   "execution_count": null,
   "id": "ecb881b6-f799-4b49-a34a-96272e7926dc",
   "metadata": {},
   "outputs": [],
   "source": []
  },
  {
   "cell_type": "code",
   "execution_count": null,
   "id": "a531c2c4-8ac9-4657-96a6-9edfb884d6f4",
   "metadata": {},
   "outputs": [],
   "source": []
  }
 ],
 "metadata": {
  "kernelspec": {
   "display_name": "Python 3 (ipykernel)",
   "language": "python",
   "name": "python3"
  },
  "language_info": {
   "codemirror_mode": {
    "name": "ipython",
    "version": 3
   },
   "file_extension": ".py",
   "mimetype": "text/x-python",
   "name": "python",
   "nbconvert_exporter": "python",
   "pygments_lexer": "ipython3",
   "version": "3.10.8"
  }
 },
 "nbformat": 4,
 "nbformat_minor": 5
}
