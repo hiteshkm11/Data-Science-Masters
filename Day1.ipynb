{
 "cells": [
  {
   "cell_type": "code",
   "execution_count": 1,
   "id": "36bf14b5-81c1-4c2d-8f55-a966e51b363c",
   "metadata": {},
   "outputs": [],
   "source": [
    "a=10"
   ]
  },
  {
   "cell_type": "code",
   "execution_count": 2,
   "id": "0bfe3ce1-cc60-43ce-9b47-e1b76ca37784",
   "metadata": {},
   "outputs": [
    {
     "data": {
      "text/plain": [
       "10"
      ]
     },
     "execution_count": 2,
     "metadata": {},
     "output_type": "execute_result"
    }
   ],
   "source": [
    "a"
   ]
  },
  {
   "cell_type": "markdown",
   "id": "301a45f4-213e-413a-b559-f4fb7580a724",
   "metadata": {},
   "source": [
    "## this is introduction of python \n",
    "by krish naik "
   ]
  },
  {
   "cell_type": "code",
   "execution_count": 3,
   "id": "d01526c6-6983-4891-8842-00123fbd13e9",
   "metadata": {},
   "outputs": [
    {
     "name": "stdout",
     "output_type": "stream",
     "text": [
      "10\n"
     ]
    }
   ],
   "source": [
    "print(a)"
   ]
  },
  {
   "cell_type": "code",
   "execution_count": null,
   "id": "44d02995-c3ef-4f84-bb4d-2a52cb5279e8",
   "metadata": {},
   "outputs": [],
   "source": [
    "## single line comment \n",
    "\n",
    "\"\"\"multiline comment \"\"\" "
   ]
  },
  {
   "cell_type": "markdown",
   "id": "5b666177-3fc2-43b4-9ca1-0418d99fae3d",
   "metadata": {},
   "source": [
    "## what is RAW ??\n",
    "\n"
   ]
  },
  {
   "cell_type": "markdown",
   "id": "cd7f58b8-16fe-4082-a886-a54c70850239",
   "metadata": {},
   "source": [
    "# NUMBERS"
   ]
  },
  {
   "cell_type": "code",
   "execution_count": 2,
   "id": "45ac8d98-262b-4bba-8645-2790a60f0776",
   "metadata": {},
   "outputs": [
    {
     "data": {
      "text/plain": [
       "4"
      ]
     },
     "execution_count": 2,
     "metadata": {},
     "output_type": "execute_result"
    }
   ],
   "source": [
    "1+3 # this will not give the outut terminal"
   ]
  },
  {
   "cell_type": "code",
   "execution_count": 4,
   "id": "6792c425-7f75-4861-a12a-950e39e3bfe6",
   "metadata": {},
   "outputs": [
    {
     "name": "stdout",
     "output_type": "stream",
     "text": [
      "4\n"
     ]
    }
   ],
   "source": [
    "print(1+3)   # THIS will give us output terminal\n",
    "# it is an output function"
   ]
  },
  {
   "cell_type": "markdown",
   "id": "19fea170-f588-4f70-b66c-9627fdfa8ce0",
   "metadata": {},
   "source": [
    "ex:2"
   ]
  },
  {
   "cell_type": "code",
   "execution_count": 5,
   "id": "ecf50c36-7574-4e6c-ac83-50cf24d66251",
   "metadata": {},
   "outputs": [
    {
     "data": {
      "text/plain": [
       "2"
      ]
     },
     "execution_count": 5,
     "metadata": {},
     "output_type": "execute_result"
    }
   ],
   "source": [
    "a=2\n",
    "a"
   ]
  },
  {
   "cell_type": "code",
   "execution_count": 6,
   "id": "f6db99f6-7b55-4d62-a116-2d1866b469cc",
   "metadata": {},
   "outputs": [
    {
     "name": "stdout",
     "output_type": "stream",
     "text": [
      "2\n"
     ]
    }
   ],
   "source": [
    "a=2\n",
    "print(a)"
   ]
  },
  {
   "cell_type": "code",
   "execution_count": 10,
   "id": "7ae254ad-b383-4970-aa63-4b4692161611",
   "metadata": {},
   "outputs": [
    {
     "name": "stdout",
     "output_type": "stream",
     "text": [
      "hello world i am hitesh kumar \n",
      " persuing data scince in pwskills\n"
     ]
    }
   ],
   "source": [
    "print(\"hello world i am hitesh kumar \\n persuing data scince in pwskills\")"
   ]
  },
  {
   "cell_type": "markdown",
   "id": "a542e338-71fc-49cf-8955-1c80e206a067",
   "metadata": {},
   "source": [
    "## variable assigning"
   ]
  },
  {
   "cell_type": "code",
   "execution_count": 11,
   "id": "4f835180-e11f-4131-9617-3cadd4447f54",
   "metadata": {},
   "outputs": [],
   "source": [
    "name=\"hitesh\"\n",
    "company=\"pwskills\""
   ]
  },
  {
   "cell_type": "code",
   "execution_count": 17,
   "id": "500c6631-6100-433a-97fa-d123b489f019",
   "metadata": {},
   "outputs": [],
   "source": [
    "name = \"bala \" ## it will overwritten the previous variable name"
   ]
  },
  {
   "cell_type": "code",
   "execution_count": 16,
   "id": "7dec0fd9-d425-412d-b884-cc08f67a3f72",
   "metadata": {},
   "outputs": [
    {
     "data": {
      "text/plain": [
       "'bala '"
      ]
     },
     "execution_count": 16,
     "metadata": {},
     "output_type": "execute_result"
    }
   ],
   "source": [
    "name"
   ]
  },
  {
   "cell_type": "code",
   "execution_count": 12,
   "id": "fd366105-ca33-4ca8-a2df-bcb6f7de0b19",
   "metadata": {},
   "outputs": [
    {
     "data": {
      "text/plain": [
       "'pwskills'"
      ]
     },
     "execution_count": 12,
     "metadata": {},
     "output_type": "execute_result"
    }
   ],
   "source": [
    "company"
   ]
  },
  {
   "cell_type": "code",
   "execution_count": 13,
   "id": "1712e027-755b-4639-afb8-fbde3b9b3b65",
   "metadata": {},
   "outputs": [],
   "source": [
    "number=10"
   ]
  },
  {
   "cell_type": "code",
   "execution_count": 14,
   "id": "323c0a54-38ff-411b-b778-8941ca3c69e8",
   "metadata": {},
   "outputs": [
    {
     "data": {
      "text/plain": [
       "10"
      ]
     },
     "execution_count": 14,
     "metadata": {},
     "output_type": "execute_result"
    }
   ],
   "source": [
    "number"
   ]
  },
  {
   "cell_type": "code",
   "execution_count": 18,
   "id": "2c6c763c-9486-43f6-ac99-ab7e402e6260",
   "metadata": {},
   "outputs": [],
   "source": [
    "number=20"
   ]
  },
  {
   "cell_type": "code",
   "execution_count": 19,
   "id": "cfb93b0d-480a-4260-b706-9e565499082a",
   "metadata": {},
   "outputs": [
    {
     "data": {
      "text/plain": [
       "20"
      ]
     },
     "execution_count": 19,
     "metadata": {},
     "output_type": "execute_result"
    }
   ],
   "source": [
    "number"
   ]
  },
  {
   "cell_type": "code",
   "execution_count": 20,
   "id": "30b7bb36-4120-4d27-afbf-8b179c70e380",
   "metadata": {},
   "outputs": [
    {
     "data": {
      "text/plain": [
       "str"
      ]
     },
     "execution_count": 20,
     "metadata": {},
     "output_type": "execute_result"
    }
   ],
   "source": [
    "type(company)"
   ]
  },
  {
   "cell_type": "code",
   "execution_count": 21,
   "id": "b268862c-f1ea-45b9-b429-e1dd8fcd58e1",
   "metadata": {},
   "outputs": [
    {
     "data": {
      "text/plain": [
       "int"
      ]
     },
     "execution_count": 21,
     "metadata": {},
     "output_type": "execute_result"
    }
   ],
   "source": [
    "type(number)"
   ]
  },
  {
   "cell_type": "code",
   "execution_count": 22,
   "id": "11488c55-bee2-4ff5-8720-4f24aa587a98",
   "metadata": {},
   "outputs": [
    {
     "data": {
      "text/plain": [
       "str"
      ]
     },
     "execution_count": 22,
     "metadata": {},
     "output_type": "execute_result"
    }
   ],
   "source": [
    "type(\"\")"
   ]
  },
  {
   "cell_type": "code",
   "execution_count": 23,
   "id": "70febaee-4a91-4aee-8d31-09cee7d99f14",
   "metadata": {},
   "outputs": [],
   "source": [
    "decimal_number=2.6"
   ]
  },
  {
   "cell_type": "code",
   "execution_count": 24,
   "id": "d33680cd-0eec-4c52-b193-e8b0e76b5231",
   "metadata": {},
   "outputs": [
    {
     "data": {
      "text/plain": [
       "float"
      ]
     },
     "execution_count": 24,
     "metadata": {},
     "output_type": "execute_result"
    }
   ],
   "source": [
    "type(decimal_number)"
   ]
  },
  {
   "cell_type": "code",
   "execution_count": 25,
   "id": "2e5fe934-f88c-4490-adb2-beb6ad8c868e",
   "metadata": {},
   "outputs": [
    {
     "data": {
      "text/plain": [
       "complex"
      ]
     },
     "execution_count": 25,
     "metadata": {},
     "output_type": "execute_result"
    }
   ],
   "source": [
    "type(1+2j)"
   ]
  },
  {
   "cell_type": "code",
   "execution_count": 26,
   "id": "0d222099-e902-4a9d-99c4-b14131d068ff",
   "metadata": {},
   "outputs": [
    {
     "name": "stdout",
     "output_type": "stream",
     "text": [
      "hello\n",
      "hello\n"
     ]
    }
   ],
   "source": [
    "print(\"hello\")\n",
    "print('hello')"
   ]
  },
  {
   "cell_type": "markdown",
   "id": "8806b02e-351d-4ba9-8051-6291edd47ff8",
   "metadata": {},
   "source": [
    "### badway to declare a variables\n",
    "1a\n",
    "\n",
    "3answer"
   ]
  },
  {
   "cell_type": "code",
   "execution_count": 32,
   "id": "44e0bd21-5e7e-4901-962c-e370d51b5c86",
   "metadata": {},
   "outputs": [],
   "source": [
    "## variable names are case sensitive\n",
    "company=\"ineuron\"\n",
    "Company=\"PW\""
   ]
  },
  {
   "cell_type": "code",
   "execution_count": 33,
   "id": "40d756dd-b768-4b7b-be99-c36556210ae7",
   "metadata": {},
   "outputs": [
    {
     "name": "stdout",
     "output_type": "stream",
     "text": [
      "ineuron\n",
      "PW\n"
     ]
    }
   ],
   "source": [
    "print(company)\n",
    "print(Company)"
   ]
  },
  {
   "cell_type": "code",
   "execution_count": 35,
   "id": "6fa32364-eaac-40d2-ba13-b7df2c060b54",
   "metadata": {},
   "outputs": [
    {
     "data": {
      "text/plain": [
       "'\\nint,float,len,complex,bool,str,return,yield\\n'"
      ]
     },
     "execution_count": 35,
     "metadata": {},
     "output_type": "execute_result"
    }
   ],
   "source": [
    "## RESWERVED KEYWORDS\n",
    "'''\n",
    "int,float,len,complex,bool,str,return,yield\n",
    "'''"
   ]
  },
  {
   "cell_type": "code",
   "execution_count": 36,
   "id": "e39f06a7-8242-401b-bf26-ced5a3ea8b3c",
   "metadata": {},
   "outputs": [],
   "source": [
    "float=32"
   ]
  },
  {
   "cell_type": "code",
   "execution_count": 38,
   "id": "c67fc30c-bef2-4c87-b32e-db703c751da4",
   "metadata": {},
   "outputs": [
    {
     "data": {
      "text/plain": [
       "True"
      ]
     },
     "execution_count": 38,
     "metadata": {},
     "output_type": "execute_result"
    }
   ],
   "source": [
    "# boolean\n",
    "True"
   ]
  },
  {
   "cell_type": "code",
   "execution_count": 39,
   "id": "98ce4429-6306-4bbd-b5fa-663c74f3daa5",
   "metadata": {},
   "outputs": [
    {
     "data": {
      "text/plain": [
       "False"
      ]
     },
     "execution_count": 39,
     "metadata": {},
     "output_type": "execute_result"
    }
   ],
   "source": [
    "True and False"
   ]
  },
  {
   "cell_type": "code",
   "execution_count": 40,
   "id": "bf30c0ef-4365-40ba-8512-9095c66572f2",
   "metadata": {},
   "outputs": [
    {
     "data": {
      "text/plain": [
       "True"
      ]
     },
     "execution_count": 40,
     "metadata": {},
     "output_type": "execute_result"
    }
   ],
   "source": [
    "True or False"
   ]
  },
  {
   "cell_type": "code",
   "execution_count": 41,
   "id": "145d73aa-c4a2-44c9-9028-b5e70f09df38",
   "metadata": {},
   "outputs": [
    {
     "data": {
      "text/plain": [
       "False"
      ]
     },
     "execution_count": 41,
     "metadata": {},
     "output_type": "execute_result"
    }
   ],
   "source": [
    "not True"
   ]
  },
  {
   "cell_type": "code",
   "execution_count": 43,
   "id": "a1b2434f-3b13-45ef-b45d-d105e0215bda",
   "metadata": {},
   "outputs": [
    {
     "data": {
      "text/plain": [
       "bool"
      ]
     },
     "execution_count": 43,
     "metadata": {},
     "output_type": "execute_result"
    }
   ],
   "source": [
    "type(not False)"
   ]
  },
  {
   "cell_type": "code",
   "execution_count": 46,
   "id": "52c1981c-043f-4def-bfcb-6da831722733",
   "metadata": {},
   "outputs": [
    {
     "data": {
      "text/plain": [
       "False"
      ]
     },
     "execution_count": 46,
     "metadata": {},
     "output_type": "execute_result"
    }
   ],
   "source": [
    "## TYPE CASTING CONVERTING A NUMBER TO BOOLEAN VALUE\n",
    "bool(0)"
   ]
  },
  {
   "cell_type": "code",
   "execution_count": 45,
   "id": "65e7cde2-be8f-4413-a969-ca1932ab73e5",
   "metadata": {},
   "outputs": [
    {
     "data": {
      "text/plain": [
       "True"
      ]
     },
     "execution_count": 45,
     "metadata": {},
     "output_type": "execute_result"
    }
   ],
   "source": [
    "bool(1)"
   ]
  },
  {
   "cell_type": "code",
   "execution_count": 47,
   "id": "d553e412-3010-4f9d-8477-941d058f6191",
   "metadata": {},
   "outputs": [
    {
     "name": "stdout",
     "output_type": "stream",
     "text": [
      "1\n"
     ]
    }
   ],
   "source": [
    "a=1\n",
    "if bool(a)==True:\n",
    "    print(a)"
   ]
  },
  {
   "cell_type": "code",
   "execution_count": 49,
   "id": "4949f764-2731-4e90-a5f5-5043447638e6",
   "metadata": {},
   "outputs": [
    {
     "data": {
      "text/plain": [
       "'23'"
      ]
     },
     "execution_count": 49,
     "metadata": {},
     "output_type": "execute_result"
    }
   ],
   "source": [
    "str(23) ## this is not a number it is a string "
   ]
  },
  {
   "cell_type": "code",
   "execution_count": 50,
   "id": "d33ce3d9-84b2-42b8-bc2c-4d871a61bf5f",
   "metadata": {},
   "outputs": [
    {
     "data": {
      "text/plain": [
       "23"
      ]
     },
     "execution_count": 50,
     "metadata": {},
     "output_type": "execute_result"
    }
   ],
   "source": [
    "int('23')"
   ]
  },
  {
   "cell_type": "code",
   "execution_count": 51,
   "id": "9689ecbc-4861-4710-89c3-efa45f1af107",
   "metadata": {},
   "outputs": [
    {
     "data": {
      "text/plain": [
       "int"
      ]
     },
     "execution_count": 51,
     "metadata": {},
     "output_type": "execute_result"
    }
   ],
   "source": [
    "type(int('23'))"
   ]
  },
  {
   "cell_type": "markdown",
   "id": "039b012a-796e-4d40-8e9c-47e785ef7858",
   "metadata": {},
   "source": [
    "# Dynamic Typing"
   ]
  },
  {
   "cell_type": "markdown",
   "id": "5d90242f-6b42-4760-99a1-168960823b28",
   "metadata": {},
   "source": [
    "in c language or java we need to type the variable as int a char name but here in python compiler directly understand what it is "
   ]
  },
  {
   "cell_type": "code",
   "execution_count": 52,
   "id": "c9ac037e-3a0f-47ec-906b-dc785e2b0539",
   "metadata": {},
   "outputs": [
    {
     "data": {
      "text/plain": [
       "int"
      ]
     },
     "execution_count": 52,
     "metadata": {},
     "output_type": "execute_result"
    }
   ],
   "source": [
    "# ex\n",
    "a=29\n",
    "type(a)"
   ]
  },
  {
   "cell_type": "code",
   "execution_count": 53,
   "id": "745d403f-e55c-40d7-9936-9fcb9f182ac4",
   "metadata": {},
   "outputs": [],
   "source": [
    "b=\"pwskills\""
   ]
  },
  {
   "cell_type": "code",
   "execution_count": 54,
   "id": "6661ce67-61be-427e-9c5f-6d90a7b6b60c",
   "metadata": {},
   "outputs": [
    {
     "data": {
      "text/plain": [
       "str"
      ]
     },
     "execution_count": 54,
     "metadata": {},
     "output_type": "execute_result"
    }
   ],
   "source": [
    "type(b)"
   ]
  },
  {
   "cell_type": "code",
   "execution_count": 55,
   "id": "2f6b47be-b183-42b0-be23-9f0d977bf410",
   "metadata": {},
   "outputs": [
    {
     "data": {
      "text/plain": [
       "'11'"
      ]
     },
     "execution_count": 55,
     "metadata": {},
     "output_type": "execute_result"
    }
   ],
   "source": [
    "## concatination between different types\n",
    "\"1\"+\"1\""
   ]
  },
  {
   "cell_type": "code",
   "execution_count": 56,
   "id": "86a31854-3d53-4845-927b-96d9301351e8",
   "metadata": {},
   "outputs": [
    {
     "data": {
      "text/plain": [
       "4"
      ]
     },
     "execution_count": 56,
     "metadata": {},
     "output_type": "execute_result"
    }
   ],
   "source": [
    "int('2')+int('2')"
   ]
  },
  {
   "cell_type": "code",
   "execution_count": 57,
   "id": "21b31fce-c6e8-4d4d-b96d-68ab61bced8c",
   "metadata": {},
   "outputs": [
    {
     "ename": "TypeError",
     "evalue": "unsupported operand type(s) for +: 'int' and 'str'",
     "output_type": "error",
     "traceback": [
      "\u001b[0;31m---------------------------------------------------------------------------\u001b[0m",
      "\u001b[0;31mTypeError\u001b[0m                                 Traceback (most recent call last)",
      "Cell \u001b[0;32mIn[57], line 1\u001b[0m\n\u001b[0;32m----> 1\u001b[0m \u001b[38;5;28;43mint\u001b[39;49m\u001b[43m(\u001b[49m\u001b[38;5;124;43m'\u001b[39;49m\u001b[38;5;124;43m2\u001b[39;49m\u001b[38;5;124;43m'\u001b[39;49m\u001b[43m)\u001b[49m\u001b[38;5;241;43m+\u001b[39;49m\u001b[38;5;124;43m'\u001b[39;49m\u001b[38;5;124;43m2\u001b[39;49m\u001b[38;5;124;43m'\u001b[39;49m\n",
      "\u001b[0;31mTypeError\u001b[0m: unsupported operand type(s) for +: 'int' and 'str'"
     ]
    }
   ],
   "source": [
    "int('2')+'2'"
   ]
  },
  {
   "cell_type": "code",
   "execution_count": 58,
   "id": "59a8b6bc-7a13-4453-b370-6cc361296623",
   "metadata": {},
   "outputs": [
    {
     "ename": "TypeError",
     "evalue": "can't multiply sequence by non-int of type 'str'",
     "output_type": "error",
     "traceback": [
      "\u001b[0;31m---------------------------------------------------------------------------\u001b[0m",
      "\u001b[0;31mTypeError\u001b[0m                                 Traceback (most recent call last)",
      "Cell \u001b[0;32mIn[58], line 1\u001b[0m\n\u001b[0;32m----> 1\u001b[0m \u001b[38;5;124;43m\"\u001b[39;49m\u001b[38;5;124;43m1\u001b[39;49m\u001b[38;5;124;43m\"\u001b[39;49m\u001b[38;5;241;43m*\u001b[39;49m\u001b[38;5;124;43m\"\u001b[39;49m\u001b[38;5;124;43m1\u001b[39;49m\u001b[38;5;124;43m\"\u001b[39;49m\n",
      "\u001b[0;31mTypeError\u001b[0m: can't multiply sequence by non-int of type 'str'"
     ]
    }
   ],
   "source": [
    "\"1\"*\"1\""
   ]
  },
  {
   "cell_type": "code",
   "execution_count": 59,
   "id": "071e794e-8ff8-45be-b532-1be240a8f691",
   "metadata": {},
   "outputs": [
    {
     "data": {
      "text/plain": [
       "'1111111111111111111111111111111111111111111111111111111111111111111111111111111111111111111111111111'"
      ]
     },
     "execution_count": 59,
     "metadata": {},
     "output_type": "execute_result"
    }
   ],
   "source": [
    "\"1\"*100"
   ]
  },
  {
   "cell_type": "code",
   "execution_count": null,
   "id": "8da69013-09d6-4c97-84bb-5654683b9a56",
   "metadata": {},
   "outputs": [],
   "source": []
  }
 ],
 "metadata": {
  "kernelspec": {
   "display_name": "Python 3 (ipykernel)",
   "language": "python",
   "name": "python3"
  },
  "language_info": {
   "codemirror_mode": {
    "name": "ipython",
    "version": 3
   },
   "file_extension": ".py",
   "mimetype": "text/x-python",
   "name": "python",
   "nbconvert_exporter": "python",
   "pygments_lexer": "ipython3",
   "version": "3.10.8"
  }
 },
 "nbformat": 4,
 "nbformat_minor": 5
}
